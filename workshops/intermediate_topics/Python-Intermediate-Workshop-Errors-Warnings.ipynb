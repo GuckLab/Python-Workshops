{
 "cells": [
  {
   "cell_type": "markdown",
   "id": "floating-terrorist",
   "metadata": {
    "pycharm": {
     "name": "#%% md\n"
    }
   },
   "source": [
    "# Welcome to the Intermediate Python Workshop\n",
    "\n",
    "## Errors and Warnings\n",
    "\n",
    "This notebooks will give you an intermediate introduction to Errors and Warnings Python.\n",
    "Here is the [Exceptions docs](https://docs.python.org/3/library/exceptions.html).\n",
    "[Advanced Error Handling video](https://www.youtube.com/watch?v=ZsvftkbbrR0).\n",
    "\n",
    "Eoghan O'Connell, Guck Division, MPL, 2023"
   ]
  },
  {
   "cell_type": "code",
   "execution_count": null,
   "id": "young-conjunction",
   "metadata": {
    "pycharm": {
     "name": "#%%\n"
    }
   },
   "outputs": [],
   "source": [
    "# notebook metadata you can ignore!\n",
    "info = {\"topic\": [\"errors\", \"warnings\"],\n",
    "        \"version\" : \"0.0.3\"}"
   ]
  },
  {
   "cell_type": "markdown",
   "id": "enabling-madrid",
   "metadata": {
    "pycharm": {
     "name": "#%% md\n"
    }
   },
   "source": [
    "### How to use this notebook\n",
    "\n",
    "- Click on a cell (each box is called a cell). Hit \"shift+enter\", this will run the cell!\n",
    "- You can run the cells in any order!\n",
    "- The output of runnable code is printed below the cell.\n",
    "- Check out this [Jupyter Notebook Tutorial video](https://www.youtube.com/watch?v=HW29067qVWk).\n",
    "\n",
    "See the help tab above for more information!\n"
   ]
  },
  {
   "cell_type": "markdown",
   "id": "ahead-adventure",
   "metadata": {
    "pycharm": {
     "name": "#%% md\n"
    }
   },
   "source": [
    "# What is in this Workshop?\n",
    "In this notebook we cover:\n",
    "\n",
    "- What is an Error and what is a Warning (Exceptions)\n",
    "   - Different types of Errors\n",
    "- I got an Error, what do I do?!?\n",
    "- How to raise an Error by yourself\n",
    "- Custom Errors (it isn't very difficult!)\n",
    "- How to catch Errors using Try-Except clauses"
   ]
  },
  {
   "cell_type": "markdown",
   "id": "funded-workshop",
   "metadata": {
    "pycharm": {
     "name": "#%% md\n"
    }
   },
   "source": [
    "-----------\n",
    "## What is an Error and what is a Warning\n",
    "\n",
    "In programming things can go wrong! There are [countless ways](https://xkcd.com/2303/) in which things can go wrong.\n",
    "\n",
    "Luckily, there is a way to tell the user (you) what went wrong! We use Errors and Warnings. In general, they are called \"Exceptions\" in Python.\n",
    "\n",
    "- An Error is \"raised\" by the program if something critical doesn't work correctly.\n",
    "  - Example: A user tried to add the word \"tree\" to the number 5. That might raise a \"TypeError\".\n",
    "- A Warning is raised when the user should be notified that something non-critical isn't working correctly\n",
    "  - Example: A user's experimental data file doesn't have the correct metadata.\n",
    "\n",
    "Errors and Warnings all inherit from the class \"**Exception**\".\n",
    "\n",
    "### Example Error\n",
    "We will focus on Errors for now. Let's use the Error example from above..."
   ]
  },
  {
   "cell_type": "code",
   "execution_count": null,
   "id": "enclosed-wrapping",
   "metadata": {
    "pycharm": {
     "name": "#%%\n"
    }
   },
   "outputs": [],
   "source": [
    "# example multiplication error\n",
    "\n",
    "number_a = 5\n",
    "number_b = \"tree\"\n",
    "\n",
    "# this will raise a \"TypeError\"\n",
    "number_a + number_b\n"
   ]
  },
  {
   "cell_type": "markdown",
   "id": "f6c15822",
   "metadata": {
    "pycharm": {
     "name": "#%% raw\n"
    }
   },
   "source": [
    "The Error raised here is a `TypeError` because you have tried to add the type `int` (integer) to the type `str` (string), which doesn't make sense!\n",
    "\n",
    "You might need to click the **Traceback**, you will see where this Error occured in your code.\n",
    "\n",
    "The Error **Traceback** shows us where the Error comes from. The Traceback can be very long for complex code!\n",
    "In Python 3.11, this Traceback is getting even better and clearer!"
   ]
  },
  {
   "cell_type": "markdown",
   "id": "920f2b40",
   "metadata": {
    "pycharm": {
     "name": "#%% md\n"
    }
   },
   "source": [
    "### Different types of Errors\n",
    "\n",
    "There are many types of Errors in Python. Some common ones are:\n",
    "- TypeError\n",
    "- ValueError\n",
    "- AssertionError\n",
    "- SyntaxError\n",
    "- ImportError\n",
    "- IndexError\n",
    "- KeyError\n",
    "- OSError\n",
    "\n",
    "and many more ...\n",
    "But you don't need to remember them, just know they have a specific purpose and over time you will get to know what they mean.\n",
    "\n",
    "For example (see below cell for code):\n",
    "- we saw the TypeError above, which was raised because we did something incorrectly with Python types.\n",
    "- An IndexError might mean you have tried to index a list with a number higher than the length of the list!\n",
    "- A ValueError might mean that you have provided the wrong value to a function.\n",
    "- A SyntaxError where you forgot a parenthesis!"
   ]
  },
  {
   "cell_type": "code",
   "execution_count": null,
   "id": "cb56ec5c",
   "metadata": {
    "pycharm": {
     "name": "#%%\n"
    }
   },
   "outputs": [],
   "source": [
    "# Let's look at the above examples\n",
    "\n",
    "# An IndexError might mean you have tried to index a list with a number higher than the length of the list!\n",
    "\n",
    "my_lst = [7, 5, 3]  # has length 3\n",
    "print(f\"{len(my_lst)=}\")\n",
    "\n",
    "# this will produce an IndexError\n",
    "print(f\"{my_lst[3]}\")"
   ]
  },
  {
   "cell_type": "code",
   "execution_count": null,
   "id": "4e0ef844",
   "metadata": {
    "pycharm": {
     "name": "#%%\n"
    }
   },
   "outputs": [],
   "source": [
    "# A ValueError might mean that you have provided the wrong value to a function.\n",
    "\n",
    "my_lst = []\n",
    "\n",
    "# this will produce a ValueError because the number 7 could be in the list (therefore not a TypeError) but it isn't in the list\n",
    "my_lst.remove(7)"
   ]
  },
  {
   "cell_type": "code",
   "execution_count": null,
   "id": "a0ad6e05",
   "metadata": {},
   "outputs": [],
   "source": [
    "# A SyntaxError where you forgot a parenthesis!\n",
    "\n",
    "print(42, \"answer\""
   ]
  },
  {
   "cell_type": "markdown",
   "id": "48e38fe3",
   "metadata": {
    "pycharm": {
     "name": "#%% md\n"
    }
   },
   "source": [
    "## I got this Error, what do I do!?\n",
    "\n",
    "*Don't Panic, there will be plenty of time for that!*\n",
    "\n",
    "There are several options:\n",
    "1. Read the Error description. They are *usually* quite clear. Read the Traceback.\n",
    "2. Copy the Error description and paste it in your search engine! Usually a stack-overflow answer exists that explains what you did wrong.\n",
    "3. If your program is simple, use simple print statements and run your code line-by-line.\n",
    "4. Use Debug mode in PyCharm/Spyder etc. It is an awesome tool to run your code line-by-line or by breakpoints."
   ]
  },
  {
   "cell_type": "markdown",
   "id": "a12abd91",
   "metadata": {
    "pycharm": {
     "name": "#%% md\n"
    }
   },
   "source": [
    "## How to raise Errors\n",
    "\n",
    "We can raise an Error, or any Exception with the `raise` statement..."
   ]
  },
  {
   "cell_type": "code",
   "execution_count": null,
   "id": "4adac21c",
   "metadata": {
    "pycharm": {
     "name": "#%%\n"
    }
   },
   "outputs": [],
   "source": [
    "raise TypeError"
   ]
  },
  {
   "cell_type": "code",
   "execution_count": null,
   "id": "3f13493b",
   "metadata": {
    "pycharm": {
     "name": "#%%\n"
    }
   },
   "outputs": [],
   "source": [
    "raise Exception"
   ]
  },
  {
   "cell_type": "code",
   "execution_count": null,
   "id": "d6f703d9",
   "metadata": {
    "pycharm": {
     "name": "#%%\n"
    }
   },
   "outputs": [],
   "source": [
    "# but maybe we should be more descriptive\n",
    "\n",
    "raise TypeError(\"Hey buddy, it looks like the type you used is not correct!\")"
   ]
  },
  {
   "cell_type": "markdown",
   "id": "2b7be60c",
   "metadata": {
    "pycharm": {
     "name": "#%% md\n"
    }
   },
   "source": [
    "What does a Warning look like?"
   ]
  },
  {
   "cell_type": "code",
   "execution_count": null,
   "id": "thick-browse",
   "metadata": {
    "pycharm": {
     "name": "#%%\n"
    }
   },
   "outputs": [],
   "source": [
    "raise UserWarning(\"BeepBopBoop here is a UserWarning\")"
   ]
  },
  {
   "cell_type": "markdown",
   "id": "582cdef6",
   "metadata": {
    "pycharm": {
     "name": "#%% md\n"
    }
   },
   "source": [
    "That looks the *same* as the above Errors. Let's investigate the difference!"
   ]
  },
  {
   "cell_type": "code",
   "execution_count": null,
   "id": "2a5c7d19",
   "metadata": {
    "pycharm": {
     "name": "#%%\n"
    }
   },
   "outputs": [],
   "source": [
    "# Errors will stop the next code from executing\n",
    "\n",
    "print(\"Code run before Error\")\n",
    "raise Exception(\"Here is the Error!\")\n",
    "print(\"Code run after Error\")  # this line just won't run!"
   ]
  },
  {
   "cell_type": "code",
   "execution_count": null,
   "id": "3d6c624d",
   "metadata": {
    "pycharm": {
     "name": "#%%\n"
    }
   },
   "outputs": [],
   "source": [
    "# Warnings raised directly will ALSO stop the next code from executing\n",
    "\n",
    "print(\"Code run before Warning\")\n",
    "raise Warning(\"Here is the Warning!\")\n",
    "print(\"Code run after Warning\")"
   ]
  },
  {
   "cell_type": "markdown",
   "id": "7fa761ef",
   "metadata": {
    "pycharm": {
     "name": "#%% md\n"
    }
   },
   "source": [
    "**WAIT A SECOND**, Eoghan you said Warnings and Errors were different...\n",
    "\n",
    "We need to use the `warnings` module to **show the warning** instead of raising the warning"
   ]
  },
  {
   "cell_type": "code",
   "execution_count": null,
   "id": "30559959",
   "metadata": {
    "pycharm": {
     "name": "#%%\n"
    }
   },
   "outputs": [],
   "source": [
    "# Warnings used through the `warnings` module will NOT stop the next code from executing\n",
    "import warnings\n",
    "\n",
    "print(\"Code run before Warning\")\n",
    "warnings.warn(\"Here is the Warning!\", DeprecationWarning)\n",
    "print(\"Code run after Warning\")"
   ]
  },
  {
   "cell_type": "markdown",
   "id": "a4dff606",
   "metadata": {
    "pycharm": {
     "name": "#%% md\n"
    }
   },
   "source": [
    "### Using Errors in your code\n",
    "\n",
    "Create a function that raises an error..."
   ]
  },
  {
   "cell_type": "code",
   "execution_count": null,
   "id": "956a833e",
   "metadata": {
    "pycharm": {
     "name": "#%%\n"
    }
   },
   "outputs": [],
   "source": [
    "def add_numbers(number_a, number_b):\n",
    "    if not isinstance(number_a, (int, float)) or not isinstance(number_b, (int, float)):\n",
    "        raise TypeError(f\"The input numbers must be of type int or float. Got {type(number_a)=} and {type(number_b)=}\")\n",
    "    return number_a + number_b\n",
    "\n",
    "print(add_numbers(2, 3))\n",
    "\n",
    "# this will raise our error!\n",
    "print(add_numbers(5, \"tree\"))"
   ]
  },
  {
   "cell_type": "markdown",
   "id": "6fbdcb77",
   "metadata": {
    "pycharm": {
     "name": "#%% md\n"
    }
   },
   "source": [
    "What about documentation, you can add your errors to the docstring description!"
   ]
  },
  {
   "cell_type": "code",
   "execution_count": null,
   "id": "bd1b60ac",
   "metadata": {},
   "outputs": [],
   "source": [
    "def add_numbers(number_a, number_b):\n",
    "    \"\"\"Add two numbers together.\n",
    "    \n",
    "    Parameters\n",
    "    ----------\n",
    "    number_a, number_b : int or float\n",
    "        The numbers to add together.\n",
    "    \n",
    "    Returns\n",
    "    -------\n",
    "    int or float\n",
    "        The numbers added together\n",
    "    \n",
    "    Raises\n",
    "    ------\n",
    "    TypeError\n",
    "        If the numbers are not integers or floats\n",
    "\n",
    "    \"\"\"\n",
    "    if not isinstance(number_a, (int, float)) or not isinstance(number_b, (int, float)):\n",
    "        raise TypeError(f\"The input numbers must be of type int or float. Got {type(number_a)=} and {type(number_b)=}\")\n",
    "    return number_a + number_b"
   ]
  },
  {
   "cell_type": "markdown",
   "id": "bdf489b9",
   "metadata": {
    "pycharm": {
     "name": "#%% md\n"
    }
   },
   "source": [
    "## Custom Errors (it isn't very difficult!)\n",
    "\n",
    "You can create your own Errors as well!\n",
    "\n",
    "Which exception should you inherit from, and why (numbers output after script runs)\n"
   ]
  },
  {
   "cell_type": "code",
   "execution_count": null,
   "id": "9fbd05f9",
   "metadata": {
    "pycharm": {
     "name": "#%%\n"
    }
   },
   "outputs": [],
   "source": [
    "class PythonWorkshopError(Exception):\n",
    "    pass\n",
    "\n",
    "raise PythonWorkshopError(\"BeepBopBoop Error! Error! Need more Coffee...\")"
   ]
  },
  {
   "cell_type": "markdown",
   "id": "7e15f7b6",
   "metadata": {},
   "source": [
    "You can inherit from any Error or Warning. Which one do you choose? In short, don't worry about it too much.\n",
    "\n",
    "*Longer version:*\n",
    "However, if you are writing a program that uses a CLI or the exit status code should be clear, you should look into which errors produce which exit statuses. This is briefly described here: https://docs.python.org/2/library/sys.html#sys.exit. This is relevant: \"Unix programs generally use 2 for command line syntax errors and 1 for all other kind of errors.\""
   ]
  },
  {
   "cell_type": "code",
   "execution_count": null,
   "id": "d0af5b91",
   "metadata": {},
   "outputs": [],
   "source": [
    "# inherit from TypeError instead!\n",
    "\n",
    "class NotANumberError(TypeError):\n",
    "    pass\n"
   ]
  },
  {
   "cell_type": "markdown",
   "id": "7c9f18d6",
   "metadata": {},
   "source": [
    "We can use a custom error in a function easily..."
   ]
  },
  {
   "cell_type": "code",
   "execution_count": null,
   "id": "d7d0782e",
   "metadata": {},
   "outputs": [],
   "source": [
    "\n",
    "class NotANumberError(TypeError):  # notice how I inherited from TypeError!\n",
    "    pass\n",
    "\n",
    "\n",
    "def add_numbers(number_a, number_b):\n",
    "    if not isinstance(number_a, (int, float)) or not isinstance(number_b, (int, float)):\n",
    "        raise NotANumberError(f\"The input numbers must be of type int or float. Got {type(number_a)=} and {type(number_b)=}\")\n",
    "    return number_a + number_b\n",
    "\n",
    "print(add_numbers(42, \"answer\"))"
   ]
  },
  {
   "cell_type": "markdown",
   "id": "9c976759",
   "metadata": {},
   "source": [
    "If you would like to have the error message built into the class or customisable, you can do that!"
   ]
  },
  {
   "cell_type": "code",
   "execution_count": null,
   "id": "b41ea1be",
   "metadata": {},
   "outputs": [],
   "source": [
    "\n",
    "class NotANumberError(TypeError):\n",
    "    def __init__(self, numbers=[], message=None):\n",
    "        if message is None:\n",
    "            message = (f\"The number provided was not a number, got instead the following types: \"\n",
    "                       f\"{[type(i) for i in numbers]=}\")\n",
    "        super().__init__(message)\n",
    "\n",
    "\n",
    "def add_numbers(number_a, number_b):\n",
    "    if not isinstance(number_a, (int, float)) or not isinstance(number_b, (int, float)):\n",
    "        raise NotANumberError(numbers=[number_a, number_b])\n",
    "    return number_a + number_b\n",
    "\n",
    "\n",
    "print(add_numbers(42, \"answer\"))"
   ]
  },
  {
   "cell_type": "markdown",
   "id": "7ccb403b",
   "metadata": {
    "pycharm": {
     "name": "#%% md\n"
    }
   },
   "source": [
    "## How to catch Errors - Try-Except clauses\n",
    "\n",
    "Imagine you are opening 100 files. It takes a long time. Opening some of these files might result in some error (e.g. `OSError`) because you know some of the files are corrupt. How do you \"catch\" these errors so that they don't stop your program?\n",
    "\n",
    "Use a `try`-`except` clause.\n",
    "\n",
    "First you `try` your code as normal. Then, you catch the Error in the `except` clause.\n",
    "\n",
    "There is also the `else` and `finally` statements that can be used here, but we won't go into that now!"
   ]
  },
  {
   "cell_type": "code",
   "execution_count": null,
   "id": "2b71294a",
   "metadata": {
    "pycharm": {
     "name": "#%%\n"
    }
   },
   "outputs": [],
   "source": [
    "# example using try-except\n",
    "\n",
    "files = [\"file1\", \"file2\", \"file3\", \"file4\", \"file5\"]\n",
    "\n",
    "def load_files(filename):\n",
    "    \"\"\"Fake load a file to show how try-except works\"\"\"\n",
    "    if filename == \"file4\":\n",
    "        # pretend that this is due to the file!\n",
    "        raise OSError(\"Could not load 'file4'.\")\n",
    "    return f\"Loaded {filename} ...\"\n",
    "\n",
    "# the code where we load our files\n",
    "for filename in files:\n",
    "    print(load_files(filename))\n",
    "    "
   ]
  },
  {
   "cell_type": "markdown",
   "id": "e189ed61",
   "metadata": {
    "pycharm": {
     "name": "#%%\n"
    }
   },
   "source": [
    "Now let's catch this Error so that it doesn't stop our program"
   ]
  },
  {
   "cell_type": "code",
   "execution_count": null,
   "id": "4db9357c",
   "metadata": {
    "pycharm": {
     "name": "#%%\n"
    }
   },
   "outputs": [],
   "source": [
    "\n",
    "# the code where we load our files\n",
    "for filename in files:\n",
    "    try:\n",
    "        # try to run the code as normal\n",
    "        print(load_files(filename))\n",
    "    except OSError:\n",
    "        # catch any OSError due to loading the file\n",
    "        print(f\"Problem with {filename}, continuing...\")\n",
    "    "
   ]
  },
  {
   "cell_type": "markdown",
   "id": "8078d3c0",
   "metadata": {
    "pycharm": {
     "name": "#%%\n"
    }
   },
   "source": [
    "We can also catch many errors, and the error (`err`) here is an instance of the Error class!"
   ]
  },
  {
   "cell_type": "code",
   "execution_count": null,
   "id": "1afc4d3a",
   "metadata": {
    "pycharm": {
     "name": "#%%\n"
    }
   },
   "outputs": [],
   "source": [
    "\n",
    "for filename in files:\n",
    "    try:\n",
    "        # try to run the code as normal\n",
    "        print(load_files(filename))\n",
    "    except (OSError, PermissionError, KeyError) as err:\n",
    "        \n",
    "        print(f\"Problem! Got the following error: '{err}'. \"\n",
    "              f\"The error type is {type(err)}. continuing... \\n\"\n",
    "             f\"You get the instance of the class!: {err.__repr__=}\")\n",
    "    "
   ]
  },
  {
   "cell_type": "code",
   "execution_count": null,
   "id": "438029a0",
   "metadata": {},
   "outputs": [],
   "source": []
  }
 ],
 "metadata": {
  "kernelspec": {
   "display_name": "Python 3 (ipykernel)",
   "language": "python",
   "name": "python3"
  },
  "language_info": {
   "codemirror_mode": {
    "name": "ipython",
    "version": 3
   },
   "file_extension": ".py",
   "mimetype": "text/x-python",
   "name": "python",
   "nbconvert_exporter": "python",
   "pygments_lexer": "ipython3",
   "version": "3.9.13"
  }
 },
 "nbformat": 4,
 "nbformat_minor": 5
}
