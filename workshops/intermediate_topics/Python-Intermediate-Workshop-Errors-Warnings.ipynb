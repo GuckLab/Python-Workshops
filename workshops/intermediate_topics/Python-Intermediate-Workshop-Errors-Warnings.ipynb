{
 "cells": [
  {
   "cell_type": "markdown",
   "id": "floating-terrorist",
   "metadata": {
    "pycharm": {
     "name": "#%% md\n"
    }
   },
   "source": [
    "# Welcome to the Intermediate Python Workshop\n",
    "\n",
    "## Errors and Warnings\n",
    "\n",
    "This notebooks will give you an intermediate introduction to Errors and Warnings Python.\n",
    "Here is the [Exceptions docs](https://docs.python.org/3/library/exceptions.html).\n",
    "[Advanced Error Handling video](https://www.youtube.com/watch?v=ZsvftkbbrR0).\n",
    "\n",
    "Eoghan O'Connell, Guck Division, MPL, 2023"
   ]
  },
  {
   "cell_type": "code",
   "execution_count": 33,
   "id": "young-conjunction",
   "metadata": {
    "pycharm": {
     "name": "#%%\n"
    }
   },
   "outputs": [],
   "source": [
    "# notebook metadata you can ignore!\n",
    "info = {\"topic\": [\"errors\", \"warnings\"],\n",
    "        \"version\" : \"0.0.1\"}"
   ]
  },
  {
   "cell_type": "markdown",
   "id": "enabling-madrid",
   "metadata": {
    "pycharm": {
     "name": "#%% md\n"
    }
   },
   "source": [
    "### How to use this notebook\n",
    "\n",
    "- Click on a cell (each box is called a cell). Hit \"shift+enter\", this will run the cell!\n",
    "- You can run the cells in any order!\n",
    "- The output of runnable code is printed below the cell.\n",
    "- Check out this [Jupyter Notebook Tutorial video](https://www.youtube.com/watch?v=HW29067qVWk).\n",
    "\n",
    "See the help tab above for more information!\n"
   ]
  },
  {
   "cell_type": "markdown",
   "id": "ahead-adventure",
   "metadata": {
    "pycharm": {
     "name": "#%% md\n"
    }
   },
   "source": [
    "# What is in this Workshop?\n",
    "In this notebook we cover:\n",
    "\n",
    "- What is an Error and what is a Warning (Exceptions)\n",
    "   - Different types of Errors\n",
    "- I got this Error, what do I do!?\n",
    "- How to raise Errors\n",
    "- Custom Errors (it isn't very difficult!)\n",
    "- How to catch Errors - Try-Except clauses"
   ]
  },
  {
   "cell_type": "markdown",
   "id": "funded-workshop",
   "metadata": {
    "pycharm": {
     "name": "#%% md\n"
    }
   },
   "source": [
    "-----------\n",
    "## What is an Error and what is a Warning\n",
    "\n",
    "In programming things can go wrong! There are countless ways in which things can go wrong.\n",
    "\n",
    "Luckily, there is a way to tell the user (you) what went wrong! We use Errors and Warnings.\n",
    "\n",
    "- An Error is \"raised\" by the program if something critical doesn't work correctly. The word\n",
    "  - Example: A user tried to add the word \"tree\" to the number 5. That might raise a \"MultipicationError\".\n",
    "- A Warning is raised when the user should be notified that something non-critical isn't working correctly\n",
    "  - Example: A user's experimental data file doesn't have the correct metadata.\n",
    "\n",
    "Errors and Warnings all inherit from the class \"**Exception**\".\n",
    "\n",
    "### Example Error\n",
    "We will focus on Errors for now. Let's use the Error example from above..."
   ]
  },
  {
   "cell_type": "code",
   "execution_count": 15,
   "id": "enclosed-wrapping",
   "metadata": {
    "pycharm": {
     "name": "#%%\n"
    }
   },
   "outputs": [
    {
     "ename": "TypeError",
     "evalue": "unsupported operand type(s) for +: 'int' and 'str'",
     "output_type": "error",
     "traceback": [
      "\u001B[1;31m---------------------------------------------------------------------------\u001B[0m",
      "\u001B[1;31mTypeError\u001B[0m                                 Traceback (most recent call last)",
      "Cell \u001B[1;32mIn[15], line 7\u001B[0m\n\u001B[0;32m      4\u001B[0m number_b \u001B[38;5;241m=\u001B[39m \u001B[38;5;124m\"\u001B[39m\u001B[38;5;124mtree\u001B[39m\u001B[38;5;124m\"\u001B[39m\n\u001B[0;32m      6\u001B[0m \u001B[38;5;66;03m# this will raise a \"TypeError\"\u001B[39;00m\n\u001B[1;32m----> 7\u001B[0m \u001B[43mnumber_a\u001B[49m\u001B[43m \u001B[49m\u001B[38;5;241;43m+\u001B[39;49m\u001B[43m \u001B[49m\u001B[43mnumber_b\u001B[49m\n",
      "\u001B[1;31mTypeError\u001B[0m: unsupported operand type(s) for +: 'int' and 'str'"
     ]
    }
   ],
   "source": [
    "# example multiplication error\n",
    "\n",
    "number_a = 5\n",
    "number_b = \"tree\"\n",
    "\n",
    "# this will raise a \"TypeError\"\n",
    "number_a + number_b\n"
   ]
  },
  {
   "cell_type": "raw",
   "id": "395367a0",
   "metadata": {
    "pycharm": {
     "name": "#%% raw\n"
    }
   },
   "source": [
    "The \"TypeError\" here is the Error raised because you have tried to add the type 'int' (integer) to the type 'str' (string), which doesn't make sense!\n",
    "\n",
    "If you click the \"Traceback\", you will see where this Error occured in your code.\n",
    "\n",
    "The Error Traceback shows us where the Error comes from. The Traceback can be very long for complex code!\n",
    "In Python 3.11, this Traceback is even better!"
   ]
  },
  {
   "cell_type": "markdown",
   "source": [
    "### Different types of Errors\n",
    "\n",
    "There are many types of Errors in Python. Some common ones are:\n",
    "- TypeError\n",
    "- ValueError\n",
    "- AssertionError\n",
    "- ImportError\n",
    "- IndexError\n",
    "- KeyError\n",
    "- OSError\n",
    "\n",
    "and many more ...\n",
    "But you don't need to remember them, just know they have a specific purpose and over time you will get to know what they mean.\n",
    "\n",
    "For example (see below cell for code):\n",
    "- we saw the TypeError above, which was raised because we did something incorrectly with Python types.\n",
    "- An IndexError might mean you have tried to index a list with a number higher than the length of the list!\n",
    "- A ValueError might mean that you have provided the wrong value to a function."
   ],
   "metadata": {
    "collapsed": false,
    "pycharm": {
     "name": "#%% md\n"
    }
   }
  },
  {
   "cell_type": "code",
   "execution_count": 16,
   "id": "cb56ec5c",
   "metadata": {
    "pycharm": {
     "name": "#%%\n"
    }
   },
   "outputs": [
    {
     "name": "stdout",
     "output_type": "stream",
     "text": [
      "len(my_lst)=3\n"
     ]
    },
    {
     "ename": "IndexError",
     "evalue": "list index out of range",
     "output_type": "error",
     "traceback": [
      "\u001B[1;31m---------------------------------------------------------------------------\u001B[0m",
      "\u001B[1;31mIndexError\u001B[0m                                Traceback (most recent call last)",
      "Cell \u001B[1;32mIn[16], line 7\u001B[0m\n\u001B[0;32m      4\u001B[0m \u001B[38;5;28mprint\u001B[39m(\u001B[38;5;124mf\u001B[39m\u001B[38;5;124m\"\u001B[39m\u001B[38;5;132;01m{\u001B[39;00m\u001B[38;5;28mlen\u001B[39m(my_lst)\u001B[38;5;132;01m=}\u001B[39;00m\u001B[38;5;124m\"\u001B[39m)\n\u001B[0;32m      6\u001B[0m \u001B[38;5;66;03m# this will produce an IndexError, because indexing starts at 0\u001B[39;00m\n\u001B[1;32m----> 7\u001B[0m \u001B[38;5;28mprint\u001B[39m(\u001B[38;5;124mf\u001B[39m\u001B[38;5;124m\"\u001B[39m\u001B[38;5;132;01m{\u001B[39;00m\u001B[43mmy_lst\u001B[49m\u001B[43m[\u001B[49m\u001B[38;5;241;43m3\u001B[39;49m\u001B[43m]\u001B[49m\u001B[38;5;132;01m}\u001B[39;00m\u001B[38;5;124m\"\u001B[39m)\n",
      "\u001B[1;31mIndexError\u001B[0m: list index out of range"
     ]
    }
   ],
   "source": [
    "# Let's look at the above examples\n",
    "\n",
    "my_lst = [7, 5, 3]  # has length 3\n",
    "print(f\"{len(my_lst)=}\")\n",
    "\n",
    "# this will produce an IndexError, because indexing starts at 0\n",
    "print(f\"{my_lst[3]}\")"
   ]
  },
  {
   "cell_type": "code",
   "execution_count": 18,
   "outputs": [
    {
     "ename": "ValueError",
     "evalue": "list.remove(x): x not in list",
     "output_type": "error",
     "traceback": [
      "\u001B[1;31m---------------------------------------------------------------------------\u001B[0m",
      "\u001B[1;31mValueError\u001B[0m                                Traceback (most recent call last)",
      "Cell \u001B[1;32mIn[18], line 6\u001B[0m\n\u001B[0;32m      3\u001B[0m my_lst \u001B[38;5;241m=\u001B[39m []\n\u001B[0;32m      5\u001B[0m \u001B[38;5;66;03m# this will produce a ValeError because the number 7 could be in the list (therefore not a TypeError) but it isn't in the list\u001B[39;00m\n\u001B[1;32m----> 6\u001B[0m \u001B[43mmy_lst\u001B[49m\u001B[38;5;241;43m.\u001B[39;49m\u001B[43mremove\u001B[49m\u001B[43m(\u001B[49m\u001B[38;5;241;43m7\u001B[39;49m\u001B[43m)\u001B[49m\n",
      "\u001B[1;31mValueError\u001B[0m: list.remove(x): x not in list"
     ]
    }
   ],
   "source": [
    "import numpy as np\n",
    "\n",
    "my_lst = []\n",
    "\n",
    "# this will produce a ValeError because the number 7 could be in the list (therefore not a TypeError) but it isn't in the list\n",
    "my_lst.remove(7)"
   ],
   "metadata": {
    "collapsed": false,
    "pycharm": {
     "name": "#%%\n"
    }
   }
  },
  {
   "cell_type": "markdown",
   "source": [
    "## I got this Error, what do I do!?\n",
    "\n",
    "Don't Panic, there will be plenty of time for that!\n",
    "\n",
    "There are several options:\n",
    "1. Read the Error description. They are *usually* quite clear. Read the Traceback.\n",
    "2. Copy the Error description and paste it in your search engine! Usually a stack-overflow answer exists that explains what you did wrong.\n",
    "3. If your program is simple, use simple print statements and run your code line-by-line.\n",
    "4. Use Debug mode in PyCharm/Spyder etc. It is an awesome tool to run your code systematically line-by-line or by breakpoints."
   ],
   "metadata": {
    "collapsed": false,
    "pycharm": {
     "name": "#%% md\n"
    }
   }
  },
  {
   "cell_type": "markdown",
   "source": [
    "## How to raise Errors\n",
    "\n",
    "We can raise an Error, or any Exception with the `raise` statement..."
   ],
   "metadata": {
    "collapsed": false,
    "pycharm": {
     "name": "#%% md\n"
    }
   }
  },
  {
   "cell_type": "code",
   "execution_count": 20,
   "outputs": [
    {
     "ename": "TypeError",
     "evalue": "",
     "output_type": "error",
     "traceback": [
      "\u001B[1;31m---------------------------------------------------------------------------\u001B[0m",
      "\u001B[1;31mTypeError\u001B[0m                                 Traceback (most recent call last)",
      "Cell \u001B[1;32mIn[20], line 1\u001B[0m\n\u001B[1;32m----> 1\u001B[0m \u001B[38;5;28;01mraise\u001B[39;00m \u001B[38;5;167;01mTypeError\u001B[39;00m\n\u001B[0;32m      2\u001B[0m \u001B[38;5;28;01mraise\u001B[39;00m \u001B[38;5;167;01mException\u001B[39;00m\n",
      "\u001B[1;31mTypeError\u001B[0m: "
     ]
    }
   ],
   "source": [
    "raise TypeError"
   ],
   "metadata": {
    "collapsed": false,
    "pycharm": {
     "name": "#%%\n"
    }
   }
  },
  {
   "cell_type": "code",
   "execution_count": 21,
   "outputs": [
    {
     "ename": "Exception",
     "evalue": "",
     "output_type": "error",
     "traceback": [
      "\u001B[1;31m---------------------------------------------------------------------------\u001B[0m",
      "\u001B[1;31mException\u001B[0m                                 Traceback (most recent call last)",
      "Cell \u001B[1;32mIn[21], line 1\u001B[0m\n\u001B[1;32m----> 1\u001B[0m \u001B[38;5;28;01mraise\u001B[39;00m \u001B[38;5;167;01mException\u001B[39;00m\n",
      "\u001B[1;31mException\u001B[0m: "
     ]
    }
   ],
   "source": [
    "raise Exception"
   ],
   "metadata": {
    "collapsed": false,
    "pycharm": {
     "name": "#%%\n"
    }
   }
  },
  {
   "cell_type": "code",
   "execution_count": 22,
   "outputs": [
    {
     "ename": "TypeError",
     "evalue": "Hey buddy, it looks like the type you used is not correct!",
     "output_type": "error",
     "traceback": [
      "\u001B[1;31m---------------------------------------------------------------------------\u001B[0m",
      "\u001B[1;31mTypeError\u001B[0m                                 Traceback (most recent call last)",
      "Cell \u001B[1;32mIn[22], line 3\u001B[0m\n\u001B[0;32m      1\u001B[0m \u001B[38;5;66;03m# but maybe we should be more descriptive\u001B[39;00m\n\u001B[1;32m----> 3\u001B[0m \u001B[38;5;28;01mraise\u001B[39;00m \u001B[38;5;167;01mTypeError\u001B[39;00m(\u001B[38;5;124m\"\u001B[39m\u001B[38;5;124mHey buddy, it looks like the type you used is not correct!\u001B[39m\u001B[38;5;124m\"\u001B[39m)\n",
      "\u001B[1;31mTypeError\u001B[0m: Hey buddy, it looks like the type you used is not correct!"
     ]
    }
   ],
   "source": [
    "# but maybe we should be more descriptive\n",
    "\n",
    "raise TypeError(\"Hey buddy, it looks like the type you used is not correct!\")"
   ],
   "metadata": {
    "collapsed": false,
    "pycharm": {
     "name": "#%%\n"
    }
   }
  },
  {
   "cell_type": "markdown",
   "source": [
    "What does a Warning look like?"
   ],
   "metadata": {
    "collapsed": false,
    "pycharm": {
     "name": "#%% md\n"
    }
   }
  },
  {
   "cell_type": "code",
   "execution_count": 23,
   "id": "thick-browse",
   "metadata": {
    "pycharm": {
     "name": "#%%\n"
    }
   },
   "outputs": [
    {
     "ename": "UserWarning",
     "evalue": "BeepBopBoop here is a UserWarning",
     "output_type": "error",
     "traceback": [
      "\u001B[1;31m---------------------------------------------------------------------------\u001B[0m",
      "\u001B[1;31mUserWarning\u001B[0m                               Traceback (most recent call last)",
      "Cell \u001B[1;32mIn[23], line 1\u001B[0m\n\u001B[1;32m----> 1\u001B[0m \u001B[38;5;28;01mraise\u001B[39;00m \u001B[38;5;167;01mUserWarning\u001B[39;00m(\u001B[38;5;124m\"\u001B[39m\u001B[38;5;124mBeepBopBoop here is a UserWarning\u001B[39m\u001B[38;5;124m\"\u001B[39m)\n",
      "\u001B[1;31mUserWarning\u001B[0m: BeepBopBoop here is a UserWarning"
     ]
    }
   ],
   "source": [
    "raise UserWarning(\"BeepBopBoop here is a UserWarning\")"
   ]
  },
  {
   "cell_type": "markdown",
   "id": "582cdef6",
   "metadata": {
    "pycharm": {
     "name": "#%% md\n"
    }
   },
   "source": [
    "Doesn't that look the *same* as the above Errors. What is the difference!?"
   ]
  },
  {
   "cell_type": "code",
   "execution_count": 25,
   "id": "2a5c7d19",
   "metadata": {
    "pycharm": {
     "name": "#%%\n"
    }
   },
   "outputs": [
    {
     "name": "stdout",
     "output_type": "stream",
     "text": [
      "Code run before Error\n"
     ]
    },
    {
     "ename": "Exception",
     "evalue": "Here is the Error!",
     "output_type": "error",
     "traceback": [
      "\u001B[1;31m---------------------------------------------------------------------------\u001B[0m",
      "\u001B[1;31mException\u001B[0m                                 Traceback (most recent call last)",
      "Cell \u001B[1;32mIn[25], line 4\u001B[0m\n\u001B[0;32m      1\u001B[0m \u001B[38;5;66;03m# Errors will stop the next code from executing\u001B[39;00m\n\u001B[0;32m      3\u001B[0m \u001B[38;5;28mprint\u001B[39m(\u001B[38;5;124m\"\u001B[39m\u001B[38;5;124mCode run before Error\u001B[39m\u001B[38;5;124m\"\u001B[39m)\n\u001B[1;32m----> 4\u001B[0m \u001B[38;5;28;01mraise\u001B[39;00m \u001B[38;5;167;01mException\u001B[39;00m(\u001B[38;5;124m\"\u001B[39m\u001B[38;5;124mHere is the Error!\u001B[39m\u001B[38;5;124m\"\u001B[39m)\n\u001B[0;32m      5\u001B[0m \u001B[38;5;28mprint\u001B[39m(\u001B[38;5;124m\"\u001B[39m\u001B[38;5;124mCode run after Error\u001B[39m\u001B[38;5;124m\"\u001B[39m)  \u001B[38;5;66;03m# this line just won't run!\u001B[39;00m\n",
      "\u001B[1;31mException\u001B[0m: Here is the Error!"
     ]
    }
   ],
   "source": [
    "# Errors will stop the next code from executing\n",
    "\n",
    "print(\"Code run before Error\")\n",
    "raise Exception(\"Here is the Error!\")\n",
    "print(\"Code run after Error\")  # this line just won't run!"
   ]
  },
  {
   "cell_type": "code",
   "execution_count": 28,
   "outputs": [
    {
     "name": "stdout",
     "output_type": "stream",
     "text": [
      "Code run before Warning\n"
     ]
    },
    {
     "ename": "Warning",
     "evalue": "Here is the Warning!",
     "output_type": "error",
     "traceback": [
      "\u001B[1;31m---------------------------------------------------------------------------\u001B[0m",
      "\u001B[1;31mWarning\u001B[0m                                   Traceback (most recent call last)",
      "Cell \u001B[1;32mIn[28], line 4\u001B[0m\n\u001B[0;32m      1\u001B[0m \u001B[38;5;66;03m# Warnings raised directly will ALSO stop the next code from executing\u001B[39;00m\n\u001B[0;32m      3\u001B[0m \u001B[38;5;28mprint\u001B[39m(\u001B[38;5;124m\"\u001B[39m\u001B[38;5;124mCode run before Warning\u001B[39m\u001B[38;5;124m\"\u001B[39m)\n\u001B[1;32m----> 4\u001B[0m \u001B[38;5;28;01mraise\u001B[39;00m \u001B[38;5;167;01mWarning\u001B[39;00m(\u001B[38;5;124m\"\u001B[39m\u001B[38;5;124mHere is the Warning!\u001B[39m\u001B[38;5;124m\"\u001B[39m)\n\u001B[0;32m      5\u001B[0m \u001B[38;5;28mprint\u001B[39m(\u001B[38;5;124m\"\u001B[39m\u001B[38;5;124mCode run after Warning\u001B[39m\u001B[38;5;124m\"\u001B[39m)\n",
      "\u001B[1;31mWarning\u001B[0m: Here is the Warning!"
     ]
    }
   ],
   "source": [
    "# Warnings raised directly will ALSO stop the next code from executing\n",
    "\n",
    "print(\"Code run before Warning\")\n",
    "raise Warning(\"Here is the Warning!\")\n",
    "print(\"Code run after Warning\")"
   ],
   "metadata": {
    "collapsed": false,
    "pycharm": {
     "name": "#%%\n"
    }
   }
  },
  {
   "cell_type": "markdown",
   "source": [
    "WAIT A SECOND, Eoghan you said Warnings and Errors were different...\n",
    "\n",
    "We need to use the `warnings` module to show the warning but doesn't stop the program!"
   ],
   "metadata": {
    "collapsed": false,
    "pycharm": {
     "name": "#%% md\n"
    }
   }
  },
  {
   "cell_type": "code",
   "execution_count": 32,
   "outputs": [
    {
     "name": "stdout",
     "output_type": "stream",
     "text": [
      "Code run before Warning\n",
      "Code run after Warning\n"
     ]
    },
    {
     "name": "stderr",
     "output_type": "stream",
     "text": [
      "C:\\Users\\eoconne\\AppData\\Local\\Temp\\ipykernel_2848\\2031722829.py:5: DeprecationWarning: Here is the Warning!\n",
      "  warnings.warn(\"Here is the Warning!\", DeprecationWarning)\n"
     ]
    }
   ],
   "source": [
    "# Warnings used through the `warnings` module will NOT stop the next code from executing\n",
    "import warnings\n",
    "\n",
    "print(\"Code run before Warning\")\n",
    "warnings.warn(\"Here is the Warning!\", DeprecationWarning)\n",
    "print(\"Code run after Warning\")"
   ],
   "metadata": {
    "collapsed": false,
    "pycharm": {
     "name": "#%%\n"
    }
   }
  },
  {
   "cell_type": "markdown",
   "source": [
    "Let's see how to use Errors in anger..."
   ],
   "metadata": {
    "collapsed": false,
    "pycharm": {
     "name": "#%% md\n"
    }
   }
  },
  {
   "cell_type": "code",
   "execution_count": 36,
   "outputs": [
    {
     "ename": "TypeError",
     "evalue": "The input numbers must be of type int or float. Got type(number_a)=<class 'int'> and type(number_b)=<class 'str'>",
     "output_type": "error",
     "traceback": [
      "\u001B[1;31m---------------------------------------------------------------------------\u001B[0m",
      "\u001B[1;31mTypeError\u001B[0m                                 Traceback (most recent call last)",
      "Cell \u001B[1;32mIn[36], line 8\u001B[0m\n\u001B[0;32m      4\u001B[0m     \u001B[38;5;28;01mreturn\u001B[39;00m number_a \u001B[38;5;241m+\u001B[39m number_b\n\u001B[0;32m      6\u001B[0m add_numbers(\u001B[38;5;241m2\u001B[39m, \u001B[38;5;241m3\u001B[39m)\n\u001B[1;32m----> 8\u001B[0m \u001B[43madd_numbers\u001B[49m\u001B[43m(\u001B[49m\u001B[38;5;241;43m5\u001B[39;49m\u001B[43m,\u001B[49m\u001B[43m \u001B[49m\u001B[38;5;124;43m\"\u001B[39;49m\u001B[38;5;124;43mtree\u001B[39;49m\u001B[38;5;124;43m\"\u001B[39;49m\u001B[43m)\u001B[49m\n",
      "Cell \u001B[1;32mIn[36], line 3\u001B[0m, in \u001B[0;36madd_numbers\u001B[1;34m(number_a, number_b)\u001B[0m\n\u001B[0;32m      1\u001B[0m \u001B[38;5;28;01mdef\u001B[39;00m \u001B[38;5;21madd_numbers\u001B[39m(number_a, number_b):\n\u001B[0;32m      2\u001B[0m     \u001B[38;5;28;01mif\u001B[39;00m \u001B[38;5;129;01mnot\u001B[39;00m \u001B[38;5;28misinstance\u001B[39m(number_a, (\u001B[38;5;28mint\u001B[39m, \u001B[38;5;28mfloat\u001B[39m)) \u001B[38;5;129;01mor\u001B[39;00m \u001B[38;5;129;01mnot\u001B[39;00m \u001B[38;5;28misinstance\u001B[39m(number_b, (\u001B[38;5;28mint\u001B[39m, \u001B[38;5;28mfloat\u001B[39m)):\n\u001B[1;32m----> 3\u001B[0m         \u001B[38;5;28;01mraise\u001B[39;00m \u001B[38;5;167;01mTypeError\u001B[39;00m(\u001B[38;5;124mf\u001B[39m\u001B[38;5;124m\"\u001B[39m\u001B[38;5;124mThe input numbers must be of type int or float. Got \u001B[39m\u001B[38;5;132;01m{\u001B[39;00m\u001B[38;5;28mtype\u001B[39m(number_a)\u001B[38;5;132;01m=}\u001B[39;00m\u001B[38;5;124m and \u001B[39m\u001B[38;5;132;01m{\u001B[39;00m\u001B[38;5;28mtype\u001B[39m(number_b)\u001B[38;5;132;01m=}\u001B[39;00m\u001B[38;5;124m\"\u001B[39m)\n\u001B[0;32m      4\u001B[0m     \u001B[38;5;28;01mreturn\u001B[39;00m number_a \u001B[38;5;241m+\u001B[39m number_b\n",
      "\u001B[1;31mTypeError\u001B[0m: The input numbers must be of type int or float. Got type(number_a)=<class 'int'> and type(number_b)=<class 'str'>"
     ]
    }
   ],
   "source": [
    "def add_numbers(number_a, number_b):\n",
    "    if not isinstance(number_a, (int, float)) or not isinstance(number_b, (int, float)):\n",
    "        raise TypeError(f\"The input numbers must be of type int or float. Got {type(number_a)=} and {type(number_b)=}\")\n",
    "    return number_a + number_b\n",
    "\n",
    "add_numbers(2, 3)\n",
    "\n",
    "# this will raise our error!\n",
    "add_numbers(5, \"tree\")"
   ],
   "metadata": {
    "collapsed": false,
    "pycharm": {
     "name": "#%%\n"
    }
   }
  },
  {
   "cell_type": "markdown",
   "source": [
    "What about documentation, you can add your errors to the docstring\n",
    "\n",
    "# docstring thing"
   ],
   "metadata": {
    "collapsed": false,
    "pycharm": {
     "name": "#%% md\n"
    }
   }
  },
  {
   "cell_type": "markdown",
   "source": [
    "## Custom Errors (it isn't very difficult!)\n",
    "\n",
    "You can create your own Errors as well!\n"
   ],
   "metadata": {
    "collapsed": false,
    "pycharm": {
     "name": "#%% md\n"
    }
   }
  },
  {
   "cell_type": "code",
   "execution_count": 33,
   "outputs": [
    {
     "ename": "PythonWorkshopError",
     "evalue": "",
     "output_type": "error",
     "traceback": [
      "\u001B[1;31m---------------------------------------------------------------------------\u001B[0m",
      "\u001B[1;31mPythonWorkshopError\u001B[0m                       Traceback (most recent call last)",
      "Cell \u001B[1;32mIn[33], line 4\u001B[0m\n\u001B[0;32m      1\u001B[0m \u001B[38;5;28;01mclass\u001B[39;00m \u001B[38;5;21;01mPythonWorkshopError\u001B[39;00m(\u001B[38;5;167;01mException\u001B[39;00m):\n\u001B[0;32m      2\u001B[0m         \u001B[38;5;28;01mpass\u001B[39;00m\n\u001B[1;32m----> 4\u001B[0m \u001B[38;5;28;01mraise\u001B[39;00m PythonWorkshopError\n",
      "\u001B[1;31mPythonWorkshopError\u001B[0m: "
     ]
    }
   ],
   "source": [
    "class PythonWorkshopError(Exception):\n",
    "        pass  # how to do this with print text cleanly\n",
    "\n",
    "raise PythonWorkshopError"
   ],
   "metadata": {
    "collapsed": false,
    "pycharm": {
     "name": "#%%\n"
    }
   }
  },
  {
   "cell_type": "markdown",
   "source": [
    "## How to catch Errors - Try-Except clauses"
   ],
   "metadata": {
    "collapsed": false,
    "pycharm": {
     "name": "#%% md\n"
    }
   }
  },
  {
   "cell_type": "code",
   "execution_count": null,
   "outputs": [],
   "source": [],
   "metadata": {
    "collapsed": false,
    "pycharm": {
     "name": "#%%\n"
    }
   }
  },
  {
   "cell_type": "code",
   "execution_count": null,
   "outputs": [],
   "source": [],
   "metadata": {
    "collapsed": false,
    "pycharm": {
     "name": "#%%\n"
    }
   }
  },
  {
   "cell_type": "code",
   "execution_count": null,
   "outputs": [],
   "source": [],
   "metadata": {
    "collapsed": false,
    "pycharm": {
     "name": "#%%\n"
    }
   }
  }
 ],
 "metadata": {
  "kernelspec": {
   "display_name": "Python 3 (ipykernel)",
   "language": "python",
   "name": "python3"
  },
  "language_info": {
   "codemirror_mode": {
    "name": "ipython",
    "version": 3
   },
   "file_extension": ".py",
   "mimetype": "text/x-python",
   "name": "python",
   "nbconvert_exporter": "python",
   "pygments_lexer": "ipython3",
   "version": "3.9.13"
  }
 },
 "nbformat": 4,
 "nbformat_minor": 5
}