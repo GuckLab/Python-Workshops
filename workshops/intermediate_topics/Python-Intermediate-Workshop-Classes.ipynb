{
 "cells": [
  {
   "cell_type": "markdown",
   "id": "floating-terrorist",
   "metadata": {
    "pycharm": {
     "name": "#%% md\n"
    }
   },
   "source": [
    "# Welcome to the Intermediate Python Workshops\n",
    "\n",
    "## Classes\n",
    "\n",
    "This notebooks will give you an intermediate introduction to Python classes.\n",
    "Corey Schafer has a nice series aimed at beginners/intermediate-level programmers [here](https://www.youtube.com/watch?v=ZDa-Z5JzLYM&list=PL-osiE80TeTsqhIuOqKhwlXsIBIdSeYtc).\n",
    "\n",
    "Eoghan O'Connell, Guck Division, MPL, 2023"
   ]
  },
  {
   "cell_type": "code",
   "execution_count": 1,
   "id": "young-conjunction",
   "metadata": {
    "pycharm": {
     "name": "#%%\n"
    }
   },
   "outputs": [],
   "source": [
    "# notebook metadata you can ignore!\n",
    "info = {\"topic\": [\"classes\"],\n",
    "        \"version\" : \"0.0.1\"}"
   ]
  },
  {
   "cell_type": "markdown",
   "id": "enabling-madrid",
   "metadata": {
    "pycharm": {
     "name": "#%% md\n"
    }
   },
   "source": [
    "### How to use this notebook\n",
    "\n",
    "- Click on a cell (each box is called a cell). Hit \"shift+enter\", this will run the cell!\n",
    "- You can run the cells in any order!\n",
    "- The output of runnable code is printed below the cell.\n",
    "- Check out this [Jupyter Notebook Tutorial video](https://www.youtube.com/watch?v=HW29067qVWk).\n",
    "\n",
    "See the help tab above for more information!\n"
   ]
  },
  {
   "cell_type": "markdown",
   "id": "ahead-adventure",
   "metadata": {
    "pycharm": {
     "name": "#%% md\n"
    }
   },
   "source": [
    "# What is in this Workshop?\n",
    "In this notebook we cover:\n",
    "- What is a Class\n",
    "  - why/when to use it (DRY, remove interdependence)\n",
    "- Object oriented programming. Classes as objects (__name___ etc.)\n",
    "- Creating a class\n",
    "  - Instantiation\n",
    "  - The init method\n",
    "- Methods, instance, class and static\n",
    "  - “private”, dunder,\n",
    "  - Decorators: getter, setter, property\n",
    "- Attributes\n",
    "- Inheritance\n",
    "  - Abstract classes\n"
   ]
  },
  {
   "cell_type": "markdown",
   "source": [
    "-----------\n",
    "## What is a Class\n",
    "  - Logically group related data and functions as objects\n",
    "       - Example: A Door is an object with:\n",
    "          - Data (attributes): colour, height, width\n",
    "          - Functions (methods): open, close, lock\n",
    "\n",
    "## Why do we use class?\n",
    "  - Allows us to group code relating to a specific object – clean OOP\n",
    "  - Changing the code only has to be done in one place!\n",
    "\n",
    "## When to use a class?\n",
    "  - Anytime you have code that:\n",
    "      - Does one thing that is too complicated for a single function\n",
    "      - Will be reused\n",
    "      - You need to “store” or change information about an object during the code\n",
    "\n",
    "\n",
    "\n",
    "### Example:\n",
    "Create a simple class: the **Door** object (yes, really, we are going to talk about doors!)\n",
    "\n",
    "This is specific, describes one object, the object has attributes and methods, and there can be many instances of doors!\n",
    "Let's see how it looks on its own...\n"
   ],
   "metadata": {
    "collapsed": false,
    "pycharm": {
     "name": "#%% md\n"
    }
   }
  },
  {
   "cell_type": "code",
   "execution_count": null,
   "outputs": [],
   "source": [
    "# the door class\n",
    "\n",
    "class Door:\n",
    "    # this is the class! Simple!\n",
    "    pass\n",
    "\n",
    "# instanciate an instance of the class i.e. \"use\" the class\n",
    "\n",
    "my_door = Door()\n",
    "print(my_door)\n",
    "\n",
    "# has the word door started to look weird by now ;) "
   ],
   "metadata": {
    "collapsed": false,
    "pycharm": {
     "name": "#%%\n"
    }
   }
  },
  {
   "cell_type": "raw",
   "source": [
    "You can imagine that you might need to create another door object:"
   ],
   "metadata": {
    "collapsed": false,
    "pycharm": {
     "name": "#%% raw\n"
    }
   }
  },
  {
   "cell_type": "code",
   "execution_count": null,
   "outputs": [],
   "source": [
    "kitchen_door = Door()\n",
    "print(kitchen_door)\n",
    "\n",
    "# notice how the memory locations are different! These are different instances (versions) of the Door class"
   ],
   "metadata": {
    "collapsed": false,
    "pycharm": {
     "name": "#%%\n"
    }
   }
  },
  {
   "cell_type": "markdown",
   "source": [
    "Let's give our Door class some functionality!"
   ],
   "metadata": {
    "collapsed": false,
    "pycharm": {
     "name": "#%% md\n"
    }
   }
  },
  {
   "cell_type": "code",
   "execution_count": null,
   "outputs": [],
   "source": [
    "class Door:\n",
    "    def __init__(self):\n",
    "        self.colour = 'red'"
   ],
   "metadata": {
    "collapsed": false,
    "pycharm": {
     "name": "#%%\n"
    }
   }
  },
  {
   "cell_type": "markdown",
   "source": [
    "We just added lots of things to the class. Let's go through them one-by-one:\n",
    "\n",
    "- `def __init__(self):`\n",
    "  - The `__init__` method is used during instantiation of the class. It is the first thing that will be run!\n",
    "    - a method is just a function that belongs to a class\n",
    "  - `self` just refers to the class instance (\"itself\"), and is required by all instance methods\n",
    "    - an instance method is the normal method you will use for classes\n",
    "  - `self.colour` is an attribute of the class. It stores some data within the class. You can access this data easily!\n"
   ],
   "metadata": {
    "collapsed": false,
    "pycharm": {
     "name": "#%% md\n"
    }
   }
  },
  {
   "cell_type": "code",
   "execution_count": null,
   "outputs": [],
   "source": [
    "# let's access the colour attribute (data) of the class\n",
    "bathroom_door = Door()\n",
    "\n",
    "print(bathroom_door.colour)\n"
   ],
   "metadata": {
    "collapsed": false,
    "pycharm": {
     "name": "#%%\n"
    }
   }
  },
  {
   "cell_type": "markdown",
   "source": [
    "This is **Object Oriented Programming**! Using the objects (class) to operate (method) on data (attribute).\n",
    "\n",
    "I mention using methods, let's create our own method for our Door class:"
   ],
   "metadata": {
    "collapsed": false,
    "pycharm": {
     "name": "#%% md\n"
    }
   }
  },
  {
   "cell_type": "code",
   "execution_count": null,
   "outputs": [],
   "source": [
    "class Door:\n",
    "    def __init__(self):\n",
    "        self.colour = 'red'\n",
    "        self.door_is_open = 'unknown'\n",
    "    \n",
    "    def open_door(self):\n",
    "        self.door_is_open = True"
   ],
   "metadata": {
    "collapsed": false,
    "pycharm": {
     "name": "#%%\n"
    }
   }
  },
  {
   "cell_type": "markdown",
   "source": [
    "Now we can use the `open_door` method! "
   ],
   "metadata": {
    "collapsed": false,
    "pycharm": {
     "name": "#%% md\n"
    }
   }
  },
  {
   "cell_type": "code",
   "execution_count": null,
   "outputs": [],
   "source": [
    "kitchen_door = Door()\n",
    "\n",
    "print(f'Class attribute before using method: {kitchen_door.door_is_open}')\n",
    "\n",
    "# use the method to change an attribute\n",
    "kitchen_door.open_door()\n",
    "\n",
    "# let's look at the attribute\n",
    "print(f'Class attribute after using method: {kitchen_door.door_is_open}')"
   ],
   "metadata": {
    "collapsed": false,
    "pycharm": {
     "name": "#%%\n"
    }
   }
  },
  {
   "cell_type": "markdown",
   "source": [
    "So we can use our methods to change attributes, that is really powerful when we have multiple instances of the class!\n",
    "\n",
    "Let's expand the Door class and play around with different instances:"
   ],
   "metadata": {
    "collapsed": false,
    "pycharm": {
     "name": "#%% md\n"
    }
   }
  },
  {
   "cell_type": "code",
   "execution_count": null,
   "outputs": [],
   "source": [
    "class Door:\n",
    "    def __init__(self):\n",
    "        \"\"\"Example class for learning OOP and Python classes!\"\"\"\n",
    "        self.colour = 'red'\n",
    "        self.door_position = 'unknown'\n",
    "\n",
    "    def open_door(self):\n",
    "        \"\"\"Open the door\"\"\"\n",
    "        self.door_position = 'open'\n",
    "\n",
    "    def close_door(self):\n",
    "        \"\"\"Close the door\"\"\"\n",
    "        self.door_position = 'closed'\n",
    "\n",
    "    def lock_door(self):\n",
    "        \"\"\"Lock the door\"\"\"\n",
    "        if self.door_position == 'closed':\n",
    "            self.door_position = 'locked'\n",
    "        else:\n",
    "            raise ValueError(\"The door must be closed before it is locked!\")\n",
    "                "
   ],
   "metadata": {
    "collapsed": false,
    "pycharm": {
     "name": "#%%\n"
    }
   }
  },
  {
   "cell_type": "code",
   "execution_count": null,
   "outputs": [],
   "source": [
    "kitchen_door = Door()\n",
    "\n",
    "kitchen_door.open_door()\n",
    "kitchen_door.close_door()\n",
    "kitchen_door.lock_door()\n",
    "\n",
    "print(f'{kitchen_door.door_position=}')\n"
   ],
   "metadata": {
    "collapsed": false,
    "pycharm": {
     "name": "#%%\n"
    }
   }
  },
  {
   "cell_type": "code",
   "execution_count": null,
   "outputs": [],
   "source": [
    "front_door = Door()\n",
    "\n",
    "front_door.open_door()\n",
    "\n",
    "# THIS WON'T WORK!\n",
    "front_door.lock_door()\n"
   ],
   "metadata": {
    "collapsed": false,
    "pycharm": {
     "name": "#%%\n"
    }
   }
  },
  {
   "cell_type": "code",
   "execution_count": 22,
   "id": "5d799971",
   "metadata": {},
   "outputs": [
    {
     "name": "stdout",
     "output_type": "stream",
     "text": [
      "Class attribute before using method: unknown\n",
      "Class attribute after using method: True\n"
     ]
    }
   ],
   "source": [
    "kitchen_door = Door()\n",
    "\n",
    "print(f'Class attribute before using method: {kitchen_door.door_is_open}')\n",
    "\n",
    "# use the method to change an attribute\n",
    "kitchen_door.open_door()\n",
    "\n",
    "# let's look at the attribute\n",
    "print(f'Class attribute after using method: {kitchen_door.door_is_open}')"
   ]
  },
  {
   "cell_type": "markdown",
   "id": "2fe81017",
   "metadata": {
    "pycharm": {
     "name": "#%% md\n"
    }
   },
   "source": [
    "So we can use our methods to change attributes, that is really powerful when we have multiple instances of the class!\n",
    "\n",
    "Let's expand the Door class and play around with different instances:"
   ]
  },
  {
   "cell_type": "code",
   "execution_count": 24,
   "id": "f9d9c3c0",
   "metadata": {},
   "outputs": [],
   "source": [
    "class Door:\n",
    "    def __init__(self):\n",
    "        \"\"\"Example class for learning OOP and Python classes!\"\"\"\n",
    "        self.colour = 'red'\n",
    "        self.door_position = 'unknown'\n",
    "\n",
    "    def open_door(self):\n",
    "        \"\"\"Open the door\"\"\"\n",
    "        self.door_position = 'open'\n",
    "\n",
    "    def close_door(self):\n",
    "        \"\"\"Close the door\"\"\"\n",
    "        self.door_position = 'closed'\n",
    "\n",
    "    def lock_door(self):\n",
    "        \"\"\"Lock the door\"\"\"\n",
    "        if self.door_position == 'closed':\n",
    "            self.door_position = 'locked'\n",
    "        else:\n",
    "            raise ValueError(\"The door must be closed before it is locked!\")\n",
    "                "
   ]
  },
  {
   "cell_type": "code",
   "execution_count": 26,
   "id": "326118f5",
   "metadata": {
    "pycharm": {
     "name": "#%%\n"
    }
   },
   "outputs": [
    {
     "name": "stdout",
     "output_type": "stream",
     "text": [
      "kitchen_door.door_position='locked'\n"
     ]
    }
   ],
   "source": [
    "kitchen_door = Door()\n",
    "\n",
    "kitchen_door.open_door()\n",
    "kitchen_door.close_door()\n",
    "kitchen_door.lock_door()\n",
    "\n",
    "print(f'{kitchen_door.door_position=}')\n"
   ]
  },
  {
   "cell_type": "code",
   "execution_count": 28,
   "id": "4bee1fd1",
   "metadata": {
    "pycharm": {
     "name": "#%%\n"
    }
   },
   "outputs": [
    {
     "ename": "ValueError",
     "evalue": "The door must be closed before it is locked!",
     "output_type": "error",
     "traceback": [
      "\u001B[1;31m---------------------------------------------------------------------------\u001B[0m",
      "\u001B[1;31mValueError\u001B[0m                                Traceback (most recent call last)",
      "Cell \u001B[1;32mIn[28], line 6\u001B[0m\n\u001B[0;32m      3\u001B[0m front_door\u001B[38;5;241m.\u001B[39mopen_door()\n\u001B[0;32m      5\u001B[0m \u001B[38;5;66;03m# THIS WON'T WORK!\u001B[39;00m\n\u001B[1;32m----> 6\u001B[0m \u001B[43mfront_door\u001B[49m\u001B[38;5;241;43m.\u001B[39;49m\u001B[43mlock_door\u001B[49m\u001B[43m(\u001B[49m\u001B[43m)\u001B[49m\n",
      "Cell \u001B[1;32mIn[24], line 20\u001B[0m, in \u001B[0;36mDoor.lock_door\u001B[1;34m(self)\u001B[0m\n\u001B[0;32m     18\u001B[0m     \u001B[38;5;28mself\u001B[39m\u001B[38;5;241m.\u001B[39mdoor_position \u001B[38;5;241m=\u001B[39m \u001B[38;5;124m'\u001B[39m\u001B[38;5;124mlocked\u001B[39m\u001B[38;5;124m'\u001B[39m\n\u001B[0;32m     19\u001B[0m \u001B[38;5;28;01melse\u001B[39;00m:\n\u001B[1;32m---> 20\u001B[0m     \u001B[38;5;28;01mraise\u001B[39;00m \u001B[38;5;167;01mValueError\u001B[39;00m(\u001B[38;5;124m\"\u001B[39m\u001B[38;5;124mThe door must be closed before it is locked!\u001B[39m\u001B[38;5;124m\"\u001B[39m)\n",
      "\u001B[1;31mValueError\u001B[0m: The door must be closed before it is locked!"
     ]
    }
   ],
   "source": [
    "front_door = Door()\n",
    "\n",
    "front_door.open_door()\n",
    "\n",
    "# THIS WON'T WORK!\n",
    "front_door.lock_door()\n"
   ]
  },
  {
   "cell_type": "markdown",
   "id": "velvet-dallas",
   "metadata": {
    "pycharm": {
     "name": "#%% md\n"
    }
   },
   "source": [
    "-----------\n",
    "## Function return (output)\n",
    "\n",
    "What if we want to use this maximum value to do something else in the next part of our code?\n",
    "\n",
    "Right now, we are just printing out the value. However, this isn't actually putting the value anywhere!\n",
    "\n",
    "To get the function to \"send\" the maximum value to us, we use the `return` statement in the function.\n",
    "\n",
    "**Warning: the `return` statement will exit the function**"
   ]
  },
  {
   "cell_type": "code",
   "execution_count": 6,
   "id": "5e519d4a",
   "metadata": {
    "pycharm": {
     "name": "#%%\n"
    }
   },
   "outputs": [
    {
     "name": "stdout",
     "output_type": "stream",
     "text": [
      "My Max value is: 50\n"
     ]
    }
   ],
   "source": [
    "def maximum_value_of_list(my_list):\n",
    "    max_num = 0\n",
    "    for num in my_list:\n",
    "        if num > max_num:\n",
    "            max_num = num\n",
    "    return max_num\n",
    "\n",
    "my_list = [2, 9, 5, 50, 3]\n",
    "\n",
    "max_value = maximum_value_of_list(my_list=my_list)\n",
    "\n",
    "print(f\"My Max value is: {max_value}\")"
   ]
  },
  {
   "cell_type": "markdown",
   "id": "cba9a72b",
   "metadata": {
    "pycharm": {
     "name": "#%% md\n"
    }
   },
   "source": [
    "This may seem like a small difference, but makes functions very powerful!\n",
    "\n",
    "It means Function can operate on data and return the operation’s result."
   ]
  },
  {
   "cell_type": "markdown",
   "id": "38331816",
   "metadata": {
    "pycharm": {
     "name": "#%% md\n"
    }
   },
   "source": [
    "## Function parameters/arguments\n",
    "\n",
    "When we defied the above function `maximum_value_of_list`, we had `my_list` in parentheses after. What is this?\n",
    "\n",
    "Anything within the parentheses is a parameter belonging to the function. It is how we give the function data or variables.\n",
    "\n",
    "- You can pass an argument (value) to a parameter\n",
    "    - There are parameters that require an argument (no default)\n",
    "    - There are parameters that already have a default value\n",
    "    - **Warning**: This is a source of many errors for beginners.\n",
    "- You can have as many input parameters as you like\n",
    "    - But try not to have more than ~10"
   ]
  },
  {
   "cell_type": "markdown",
   "id": "a9d03341",
   "metadata": {
    "pycharm": {
     "name": "#%% md\n"
    }
   },
   "source": [
    "Lets define a simple new function..."
   ]
  },
  {
   "cell_type": "code",
   "execution_count": 7,
   "id": "990dd3dd",
   "metadata": {
    "pycharm": {
     "name": "#%%\n"
    }
   },
   "outputs": [
    {
     "name": "stdout",
     "output_type": "stream",
     "text": [
      "Hey Colleague.\n"
     ]
    }
   ],
   "source": [
    "def introduce_yourself():\n",
    "    print(f'Hey Colleague.')\n",
    "\n",
    "introduce_yourself()"
   ]
  },
  {
   "cell_type": "markdown",
   "id": "57b4a7ab",
   "metadata": {
    "pycharm": {
     "name": "#%% md\n"
    }
   },
   "source": [
    "### Required arguments and default arguments\n",
    "\n",
    "Now let's add a required positional parameter.\n",
    " - Required just means that the function must be given an argument for the parameter.\n",
    " - Positional just means that the order of the given arguments is important."
   ]
  },
  {
   "cell_type": "code",
   "execution_count": 8,
   "id": "b4c95287",
   "metadata": {
    "pycharm": {
     "name": "#%%\n"
    }
   },
   "outputs": [
    {
     "name": "stdout",
     "output_type": "stream",
     "text": [
      "Hallo Colleague.\n",
      "What's up Colleague.\n"
     ]
    }
   ],
   "source": [
    "def introduce_yourself(greeting):\n",
    "    print(f'{greeting} Colleague.')\n",
    "\n",
    "introduce_yourself(greeting='Hallo')\n",
    "introduce_yourself(\"What's up\")\n"
   ]
  },
  {
   "cell_type": "markdown",
   "id": "ff6e66d7",
   "metadata": {
    "pycharm": {
     "name": "#%% md\n"
    }
   },
   "source": [
    "Now let's use a default argument value for a parameter. For example, if we by default are introducing ourselves to our colleague.\n",
    "What does that look like?"
   ]
  },
  {
   "cell_type": "code",
   "execution_count": 9,
   "id": "7ea21e83",
   "metadata": {
    "pycharm": {
     "name": "#%%\n"
    }
   },
   "outputs": [
    {
     "name": "stdout",
     "output_type": "stream",
     "text": [
      "Hey Colleague.\n",
      "Hey Buddy.\n"
     ]
    }
   ],
   "source": [
    "def introduce_yourself(greeting, person='Colleague'):\n",
    "    print(f'{greeting} {person}.')\n",
    "\n",
    "introduce_yourself(greeting=\"Hey\")\n",
    "introduce_yourself(greeting=\"Hey\", person=\"Buddy\")"
   ]
  },
  {
   "cell_type": "markdown",
   "id": "6aa94b80",
   "metadata": {
    "pycharm": {
     "name": "#%% md\n"
    }
   },
   "source": [
    "You can see that when we give a parameter a default argument (Here it was \"Colleague\"), then it is no longer required as input, it is **optional**."
   ]
  },
  {
   "cell_type": "markdown",
   "id": "878584f0",
   "metadata": {
    "pycharm": {
     "name": "#%% md\n"
    }
   },
   "source": [
    "## Docstrings\n",
    "\n",
    "- A docstring is a “documentation string” that describes the function.\n",
    "- They are not run when you call your function\n",
    "   - but they are python objects - don't worry if you don't understand that.\n",
    "- Simple docstrings describe briefly what the function does.\n",
    "- Can have section for “Parameters”, “Returns”, “Notes”, “References” etc.\n",
    "- Can be used to create automated documentation websites easily (Sphinx)"
   ]
  },
  {
   "cell_type": "markdown",
   "id": "1a1f987f",
   "metadata": {
    "pycharm": {
     "name": "#%% md\n"
    }
   },
   "source": [
    "Let's look at our previous function that calculated the maximum value in a list of numbers.\n",
    "\n",
    "Let's add a docstring to it!"
   ]
  },
  {
   "cell_type": "code",
   "execution_count": 10,
   "id": "0404aa03",
   "metadata": {
    "pycharm": {
     "name": "#%%\n"
    }
   },
   "outputs": [],
   "source": [
    "def maximum_value_of_list(my_list):\n",
    "    \"\"\"Calculates the maximum value in a list of numbers.\"\"\"\n",
    "    max_num = 0\n",
    "    for num in my_list:\n",
    "        if num > max_num:\n",
    "            max_num = num\n",
    "    return max_num"
   ]
  },
  {
   "cell_type": "markdown",
   "id": "1222d9f8",
   "metadata": {
    "pycharm": {
     "name": "#%% md\n"
    }
   },
   "source": [
    "This one liner makes understanding your function in future so much easier! Please always do this!!\n",
    "\n",
    "But we can add lots more..."
   ]
  },
  {
   "cell_type": "code",
   "execution_count": 11,
   "id": "5d2c8dc7",
   "metadata": {
    "pycharm": {
     "name": "#%%\n"
    }
   },
   "outputs": [],
   "source": [
    "def maximum_value_of_list(my_list):\n",
    "    \"\"\"Calculates the maximum value in a list of numbers.\n",
    "\n",
    "    Parameters\n",
    "    ----------\n",
    "    my_list : list\n",
    "        A list of numbers.\n",
    "\n",
    "    Returns\n",
    "    -------\n",
    "    max_num : float or int\n",
    "        The maximum value of the list.\n",
    "\n",
    "    \"\"\"\n",
    "    max_num = 0\n",
    "    for num in my_list:\n",
    "        if num > max_num:\n",
    "            max_num = num\n",
    "    return max_num"
   ]
  },
  {
   "cell_type": "markdown",
   "id": "f4f8a4b2",
   "metadata": {
    "pycharm": {
     "name": "#%% md\n"
    }
   },
   "source": [
    "We are using the [Numpy documentation style guide](https://numpydoc.readthedocs.io/en/latest/format.html#docstring-standard).\n",
    "\n",
    "There are many sections. If you use a documentation build-tool like Sphinx, they will be automatically built and displayed nicely in a website. Example is [the dclab docs](https://dclab.readthedocs.io/en/stable/sec_code_reference.html#dclab.rtdc_dataset.writer.RTDCWriter.store_feature)."
   ]
  },
  {
   "cell_type": "markdown",
   "id": "5aa13d43",
   "metadata": {
    "pycharm": {
     "name": "#%% md\n"
    }
   },
   "source": [
    "## Functions vs. Methods?\n",
    "\n",
    "A method is just a function that belongs to a class. Don't worry too much about it!"
   ]
  },
  {
   "cell_type": "markdown",
   "id": "a92300b0",
   "metadata": {
    "pycharm": {
     "name": "#%% md\n"
    }
   },
   "source": [
    "## Function variable scope\n",
    "\n",
    "- Variables created within a function are local to that function.\n",
    "- Parameters are also local to their function.\n"
   ]
  },
  {
   "cell_type": "code",
   "execution_count": 12,
   "id": "0953bea9",
   "metadata": {
    "pycharm": {
     "name": "#%%\n"
    }
   },
   "outputs": [
    {
     "name": "stdout",
     "output_type": "stream",
     "text": [
      "3, True, 5, wow,\n"
     ]
    }
   ],
   "source": [
    "def showing_variable_scope(arg_1, arg_2):\n",
    "    var_1 = 5\n",
    "    var_2 = \"wow\"\n",
    "    print(f'{arg_1}, {arg_2}, {var_1}, {var_2},')\n",
    "\n",
    "showing_variable_scope(arg_1=3, arg_2=True)\n"
   ]
  },
  {
   "cell_type": "markdown",
   "id": "265e6061",
   "metadata": {
    "pycharm": {
     "name": "#%% md\n"
    }
   },
   "source": [
    "Great, they work within the function, we expect that! But where don't they work?"
   ]
  },
  {
   "cell_type": "code",
   "execution_count": 13,
   "id": "fef221e9",
   "metadata": {
    "pycharm": {
     "name": "#%%\n"
    }
   },
   "outputs": [
    {
     "ename": "NameError",
     "evalue": "name 'arg_1' is not defined",
     "output_type": "error",
     "traceback": [
      "\u001B[1;31m---------------------------------------------------------------------------\u001B[0m",
      "\u001B[1;31mNameError\u001B[0m                                 Traceback (most recent call last)",
      "Cell \u001B[1;32mIn[13], line 3\u001B[0m\n\u001B[0;32m      1\u001B[0m \u001B[38;5;66;03m# let's try to use the varibles from above from outside the function\u001B[39;00m\n\u001B[1;32m----> 3\u001B[0m \u001B[38;5;28mprint\u001B[39m(\u001B[38;5;124mf\u001B[39m\u001B[38;5;124m'\u001B[39m\u001B[38;5;132;01m{\u001B[39;00m\u001B[43marg_1\u001B[49m\u001B[38;5;132;01m}\u001B[39;00m\u001B[38;5;124m, \u001B[39m\u001B[38;5;132;01m{\u001B[39;00marg_2\u001B[38;5;132;01m}\u001B[39;00m\u001B[38;5;124m, \u001B[39m\u001B[38;5;132;01m{\u001B[39;00mvar_1\u001B[38;5;132;01m}\u001B[39;00m\u001B[38;5;124m, \u001B[39m\u001B[38;5;132;01m{\u001B[39;00mvar_2\u001B[38;5;132;01m}\u001B[39;00m\u001B[38;5;124m,\u001B[39m\u001B[38;5;124m'\u001B[39m)\n",
      "\u001B[1;31mNameError\u001B[0m: name 'arg_1' is not defined"
     ]
    }
   ],
   "source": [
    "# let's try to use the varibles from above from outside the function\n",
    "\n",
    "print(f'{arg_1}, {arg_2}, {var_1}, {var_2},')"
   ]
  },
  {
   "cell_type": "markdown",
   "id": "85183dc1",
   "metadata": {
    "pycharm": {
     "name": "#%% md\n"
    }
   },
   "source": [
    "It doesn't work because the \"scope\" of the variables within a function are local to the function i.e. they only work within the function! (unless you return them, of course!)"
   ]
  },
  {
   "cell_type": "markdown",
   "id": "265817c2",
   "metadata": {
    "pycharm": {
     "name": "#%% md\n"
    }
   },
   "source": [
    "## Using functions together\n",
    "\n",
    "There are many ways to use functions together, but let's just remind ourselves why we are using functions:\n",
    "\n",
    "- Functions are good to use when we have code that does a specific task and will be reused.\n",
    "\n",
    "So let's use two functions one after the other!"
   ]
  },
  {
   "cell_type": "code",
   "execution_count": 14,
   "id": "c01eb929",
   "metadata": {
    "pycharm": {
     "name": "#%%\n"
    }
   },
   "outputs": [
    {
     "name": "stdout",
     "output_type": "stream",
     "text": [
      "HEY COLLEAGUE.\n",
      "hey colleague.\n"
     ]
    }
   ],
   "source": [
    "def introduce_yourself():\n",
    "    return f'Hey Colleague.'  # notice that we are returning here, not printing!\n",
    "\n",
    "# let's change the output to UPPER-CASE using the built-in `upper` function for strings\n",
    "print(introduce_yourself().upper())\n",
    "\n",
    "# let's change the output to lower-case\n",
    "print(introduce_yourself().lower())"
   ]
  },
  {
   "cell_type": "markdown",
   "id": "1a552720",
   "metadata": {
    "pycharm": {
     "name": "#%% md\n"
    }
   },
   "source": [
    "## Advanced arguments (*args, **kwargs, *, /)\n",
    "\n",
    "We have several ways to handle arguments in Python. Usually, you just do as we did above.\n",
    "\n",
    "But sometimes you have functions that may need several arguments, and you don't know how many! For this we use `*args` and `**kwargs`..."
   ]
  },
  {
   "cell_type": "code",
   "execution_count": 15,
   "id": "cec055b7",
   "metadata": {
    "pycharm": {
     "name": "#%%\n"
    }
   },
   "outputs": [
    {
     "data": {
      "text/plain": [
       "('Eoghan', 10000, 39)"
      ]
     },
     "execution_count": 15,
     "metadata": {},
     "output_type": "execute_result"
    }
   ],
   "source": [
    "def set_employee_info(*args):\n",
    "    # all positional arguments will be put into a tuple\n",
    "    return args\n",
    "\n",
    "set_employee_info(\"Eoghan\", 10000, 39)"
   ]
  },
  {
   "cell_type": "markdown",
   "id": "4505bf3b",
   "metadata": {
    "pycharm": {
     "name": "#%% md\n"
    }
   },
   "source": [
    "You can see that we can include as many positional arguments as we like! Can we put in keyword arguments too?"
   ]
  },
  {
   "cell_type": "code",
   "execution_count": 16,
   "id": "fda8c52b",
   "metadata": {
    "pycharm": {
     "name": "#%%\n"
    }
   },
   "outputs": [
    {
     "ename": "TypeError",
     "evalue": "set_employee_info() got an unexpected keyword argument 'pay'",
     "output_type": "error",
     "traceback": [
      "\u001B[1;31m---------------------------------------------------------------------------\u001B[0m",
      "\u001B[1;31mTypeError\u001B[0m                                 Traceback (most recent call last)",
      "Cell \u001B[1;32mIn[16], line 1\u001B[0m\n\u001B[1;32m----> 1\u001B[0m \u001B[43mset_employee_info\u001B[49m\u001B[43m(\u001B[49m\u001B[38;5;124;43m\"\u001B[39;49m\u001B[38;5;124;43mEoghan\u001B[39;49m\u001B[38;5;124;43m\"\u001B[39;49m\u001B[43m,\u001B[49m\u001B[43m \u001B[49m\u001B[43mpay\u001B[49m\u001B[38;5;241;43m=\u001B[39;49m\u001B[38;5;241;43m10000\u001B[39;49m\u001B[43m,\u001B[49m\u001B[43m \u001B[49m\u001B[43mhours\u001B[49m\u001B[38;5;241;43m=\u001B[39;49m\u001B[38;5;241;43m39\u001B[39;49m\u001B[43m)\u001B[49m\n",
      "\u001B[1;31mTypeError\u001B[0m: set_employee_info() got an unexpected keyword argument 'pay'"
     ]
    }
   ],
   "source": [
    "set_employee_info(\"Eoghan\", pay=10000, hours=39)"
   ]
  },
  {
   "cell_type": "markdown",
   "id": "1fea9151",
   "metadata": {
    "pycharm": {
     "name": "#%% md\n"
    }
   },
   "source": [
    "It seems like we cannot. Honestly, using `*args` in the above function isn't suitable. we should use `**kwargs` instead.\n",
    "\n",
    "Because we should force the user to specify the `pay` and `hours`!"
   ]
  },
  {
   "cell_type": "code",
   "execution_count": 17,
   "id": "42e6f757",
   "metadata": {
    "pycharm": {
     "name": "#%%\n"
    }
   },
   "outputs": [
    {
     "data": {
      "text/plain": [
       "{'name': 'Eoghan', 'pay': 10000, 'hours': 39}"
      ]
     },
     "execution_count": 17,
     "metadata": {},
     "output_type": "execute_result"
    }
   ],
   "source": [
    "def set_employee_info(**kwargs):\n",
    "    # all keyword arguments will be put into a dictionary\n",
    "    return kwargs\n",
    "\n",
    "set_employee_info(name=\"Eoghan\", pay=10000, hours=39)"
   ]
  },
  {
   "cell_type": "markdown",
   "id": "5066a075",
   "metadata": {
    "pycharm": {
     "name": "#%% md\n"
    }
   },
   "source": [
    "Perhaps a mix would be best, because maybe it is clear that name should be given:"
   ]
  },
  {
   "cell_type": "code",
   "execution_count": 18,
   "id": "b5ff1f00",
   "metadata": {
    "pycharm": {
     "name": "#%%\n"
    }
   },
   "outputs": [
    {
     "name": "stdout",
     "output_type": "stream",
     "text": [
      "name='Eoghan'\n",
      "args=()\n",
      "kwargs={'pay': 10000, 'hours': 39}\n"
     ]
    }
   ],
   "source": [
    "def set_employee_info(name, *args, **kwargs):\n",
    "    print(f\"{name=}\")\n",
    "    print(f\"{args=}\")\n",
    "    print(f\"{kwargs=}\")\n",
    "\n",
    "\n",
    "set_employee_info(\"Eoghan\", pay=10000, hours=39)"
   ]
  },
  {
   "cell_type": "code",
   "execution_count": 19,
   "id": "85bd63a2",
   "metadata": {
    "pycharm": {
     "name": "#%%\n"
    }
   },
   "outputs": [
    {
     "name": "stdout",
     "output_type": "stream",
     "text": [
      "name='Eoghan'\n",
      "args=('other info - gets eaten by *args',)\n",
      "kwargs={'pay': 10000, 'hours': 39}\n"
     ]
    }
   ],
   "source": [
    "set_employee_info(\"Eoghan\", \"other info - gets eaten by *args\", pay=10000, hours=39)\n"
   ]
  },
  {
   "cell_type": "markdown",
   "id": "5e4ab3b7",
   "metadata": {
    "pycharm": {
     "name": "#%% md\n"
    }
   },
   "source": [
    "## Using Positional-only (/) and Keyword-only (*) arguments\n",
    "\n",
    "See [detailed video here](https://www.youtube.com/watch?v=R8-oAqCgHag).\n",
    "\n",
    "In short:\n",
    "\n",
    "```python\n",
    "def func(pos_only, /, pos_or_kw, *, kw_only):\n",
    "    pass\n",
    "```\n",
    "\n",
    "Python allows us to do some advanced stuff with our parameters also..."
   ]
  },
  {
   "cell_type": "code",
   "execution_count": 20,
   "id": "d8efab87",
   "metadata": {
    "pycharm": {
     "name": "#%%\n"
    }
   },
   "outputs": [
    {
     "name": "stdout",
     "output_type": "stream",
     "text": [
      "name='Eoghan'\n",
      "pay=10000\n",
      "hours=39\n"
     ]
    }
   ],
   "source": [
    "# Using `*` will mean everything to the right of the `*` is keyword only\n",
    "\n",
    "def set_employee_info(name, *,\n",
    "                      pay, hours):\n",
    "    print(f\"{name=}\")\n",
    "    print(f\"{pay=}\")\n",
    "    print(f\"{hours=}\")\n",
    "\n",
    "# let's call it correctly:\n",
    "set_employee_info(\"Eoghan\", pay=10000, hours=39)\n"
   ]
  },
  {
   "cell_type": "code",
   "execution_count": 21,
   "id": "2884483c",
   "metadata": {
    "pycharm": {
     "name": "#%%\n"
    }
   },
   "outputs": [
    {
     "ename": "TypeError",
     "evalue": "set_employee_info() takes 1 positional argument but 2 positional arguments (and 1 keyword-only argument) were given",
     "output_type": "error",
     "traceback": [
      "\u001B[1;31m---------------------------------------------------------------------------\u001B[0m",
      "\u001B[1;31mTypeError\u001B[0m                                 Traceback (most recent call last)",
      "Cell \u001B[1;32mIn[21], line 2\u001B[0m\n\u001B[0;32m      1\u001B[0m \u001B[38;5;66;03m# let's try to call `pay` as a positional argument\u001B[39;00m\n\u001B[1;32m----> 2\u001B[0m \u001B[43mset_employee_info\u001B[49m\u001B[43m(\u001B[49m\u001B[38;5;124;43m\"\u001B[39;49m\u001B[38;5;124;43mEoghan\u001B[39;49m\u001B[38;5;124;43m\"\u001B[39;49m\u001B[43m,\u001B[49m\u001B[43m \u001B[49m\u001B[38;5;241;43m10000\u001B[39;49m\u001B[43m,\u001B[49m\u001B[43m \u001B[49m\u001B[43mhours\u001B[49m\u001B[38;5;241;43m=\u001B[39;49m\u001B[38;5;241;43m39\u001B[39;49m\u001B[43m)\u001B[49m\n\u001B[0;32m      4\u001B[0m \u001B[38;5;66;03m# doesn't work!\u001B[39;00m\n",
      "\u001B[1;31mTypeError\u001B[0m: set_employee_info() takes 1 positional argument but 2 positional arguments (and 1 keyword-only argument) were given"
     ]
    }
   ],
   "source": [
    "# let's try to call `pay` as a positional argument\n",
    "set_employee_info(\"Eoghan\", 10000, hours=39)\n",
    "\n",
    "# doesn't work!"
   ]
  },
  {
   "cell_type": "markdown",
   "id": "590db403",
   "metadata": {
    "pycharm": {
     "name": "#%% md\n"
    }
   },
   "source": [
    "We can force everything to the left of `/` to be positional only also.\n",
    "\n",
    "So we could have this setup, where everything to the left of `/` must be positional, and everything to the right of `*` must be keyword..."
   ]
  },
  {
   "cell_type": "code",
   "execution_count": 22,
   "id": "955a6477",
   "metadata": {
    "pycharm": {
     "name": "#%%\n"
    }
   },
   "outputs": [
    {
     "name": "stdout",
     "output_type": "stream",
     "text": [
      "name='Eoghan'\n",
      "pay=10000\n",
      "hours=39\n"
     ]
    }
   ],
   "source": [
    "def set_employee_info(name, /, *, pay, hours):\n",
    "    print(f\"{name=}\")\n",
    "    print(f\"{pay=}\")\n",
    "    print(f\"{hours=}\")\n",
    "\n",
    "set_employee_info(\"Eoghan\", pay=10000, hours=39)"
   ]
  },
  {
   "cell_type": "code",
   "execution_count": 23,
   "id": "6fd82d77",
   "metadata": {
    "pycharm": {
     "name": "#%%\n"
    }
   },
   "outputs": [
    {
     "ename": "TypeError",
     "evalue": "set_employee_info() got some positional-only arguments passed as keyword arguments: 'name'",
     "output_type": "error",
     "traceback": [
      "\u001B[1;31m---------------------------------------------------------------------------\u001B[0m",
      "\u001B[1;31mTypeError\u001B[0m                                 Traceback (most recent call last)",
      "Cell \u001B[1;32mIn[23], line 3\u001B[0m\n\u001B[0;32m      1\u001B[0m \u001B[38;5;66;03m# this will raise an error because we are using the `name` parameter with a keyword when calling\u001B[39;00m\n\u001B[1;32m----> 3\u001B[0m \u001B[43mset_employee_info\u001B[49m\u001B[43m(\u001B[49m\u001B[43mname\u001B[49m\u001B[38;5;241;43m=\u001B[39;49m\u001B[38;5;124;43m\"\u001B[39;49m\u001B[38;5;124;43mEoghan\u001B[39;49m\u001B[38;5;124;43m\"\u001B[39;49m\u001B[43m,\u001B[49m\u001B[43m \u001B[49m\u001B[43mpay\u001B[49m\u001B[38;5;241;43m=\u001B[39;49m\u001B[38;5;241;43m10000\u001B[39;49m\u001B[43m,\u001B[49m\u001B[43m \u001B[49m\u001B[43mhours\u001B[49m\u001B[38;5;241;43m=\u001B[39;49m\u001B[38;5;241;43m39\u001B[39;49m\u001B[43m)\u001B[49m\n",
      "\u001B[1;31mTypeError\u001B[0m: set_employee_info() got some positional-only arguments passed as keyword arguments: 'name'"
     ]
    }
   ],
   "source": [
    "# this will raise an error because we are using the `name` parameter with a keyword when calling\n",
    "\n",
    "set_employee_info(name=\"Eoghan\", pay=10000, hours=39)"
   ]
  },
  {
   "cell_type": "markdown",
   "id": "26286827",
   "metadata": {
    "pycharm": {
     "name": "#%% md\n"
    }
   },
   "source": [
    "### Why would we ever need /  or * ?\n",
    "\n",
    "- `/` would be needed when a parameter name doesn't *mean* anything tangible.\n",
    "- `*` would be needed when we want to avoid confusion. For example, we wouldn't want to accidentally say that Eoghan works 10000 hours a week with a pay of 39, now would we!?\n"
   ]
  },
  {
   "cell_type": "code",
   "execution_count": 24,
   "id": "dd6cbed8",
   "metadata": {
    "pycharm": {
     "name": "#%%\n"
    }
   },
   "outputs": [
    {
     "name": "stdout",
     "output_type": "stream",
     "text": [
      "True\n",
      "True\n",
      "False\n"
     ]
    }
   ],
   "source": [
    "# a further example of why we would use `/`\n",
    "\n",
    "def check_truthyness(thing_to_check, /):\n",
    "    \"\"\"Just check if something is True.\"\"\"\n",
    "    if thing_to_check:\n",
    "        print(True)\n",
    "    else:\n",
    "        print(False)\n",
    "\n",
    "check_truthyness(True)\n",
    "check_truthyness(\"name\")\n",
    "check_truthyness([])"
   ]
  },
  {
   "cell_type": "markdown",
   "id": "985b5482",
   "metadata": {
    "pycharm": {
     "name": "#%% md\n"
    }
   },
   "source": [
    "The above `thing_to_check` doesn't really need to have a name, but in Python it must, so we force the user to only use a positional argument. We would have called it `x` or `object` or `thing`, but they all don't really mean anything, and might confuse the user!"
   ]
  },
  {
   "cell_type": "markdown",
   "id": "2609fd2f",
   "metadata": {
    "pycharm": {
     "name": "#%% md\n"
    }
   },
   "source": [
    "## Summary\n",
    "\n",
    "Functions are super useful and powerful. Use them when you have some code that does a specific thing and will need to be reused.\n",
    "\n",
    "If you have an idea that is more complex or need to store variable for future use, think about using a `class`!\n",
    "\n",
    "If you feel there is anything missing from this workshop on functions, please let me now in the [issues on GitHub](https://github.com/GuckLab/Python-Workshops/issues)!"
   ]
  },
  {
   "cell_type": "code",
   "execution_count": null,
   "id": "32905553",
   "metadata": {
    "pycharm": {
     "name": "#%%\n"
    }
   },
   "outputs": [],
   "source": []
  }
 ],
 "metadata": {
  "kernelspec": {
   "display_name": "Python 3 (ipykernel)",
   "language": "python",
   "name": "python3"
  },
  "language_info": {
   "codemirror_mode": {
    "name": "ipython",
    "version": 3
   },
   "file_extension": ".py",
   "mimetype": "text/x-python",
   "name": "python",
   "nbconvert_exporter": "python",
   "pygments_lexer": "ipython3",
   "version": "3.9.13"
  }
 },
 "nbformat": 4,
 "nbformat_minor": 5
}