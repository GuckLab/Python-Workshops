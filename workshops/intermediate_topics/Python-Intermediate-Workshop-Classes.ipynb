{
 "cells": [
  {
   "cell_type": "markdown",
   "id": "floating-terrorist",
   "metadata": {
    "pycharm": {
     "name": "#%% md\n"
    }
   },
   "source": [
    "# Welcome to the Intermediate Python Workshops\n",
    "\n",
    "## Classes\n",
    "\n",
    "This notebooks will give you an intermediate introduction to Python classes.\n",
    "Corey Schafer has a nice series aimed at beginners/intermediate-level programmers [here](https://www.youtube.com/watch?v=ZDa-Z5JzLYM&list=PL-osiE80TeTsqhIuOqKhwlXsIBIdSeYtc).\n",
    "\n",
    "Eoghan O'Connell, Guck Division, MPL, 2023"
   ]
  },
  {
   "cell_type": "code",
   "execution_count": 1,
   "id": "young-conjunction",
   "metadata": {
    "pycharm": {
     "name": "#%%\n"
    }
   },
   "outputs": [],
   "source": [
    "# notebook metadata you can ignore!\n",
    "info = {\"topic\": [\"classes\"],\n",
    "        \"version\" : \"0.0.1\"}"
   ]
  },
  {
   "cell_type": "markdown",
   "id": "enabling-madrid",
   "metadata": {
    "pycharm": {
     "name": "#%% md\n"
    }
   },
   "source": [
    "### How to use this notebook\n",
    "\n",
    "- Click on a cell (each box is called a cell). Hit \"shift+enter\", this will run the cell!\n",
    "- You can run the cells in any order!\n",
    "- The output of runnable code is printed below the cell.\n",
    "- Check out this [Jupyter Notebook Tutorial video](https://www.youtube.com/watch?v=HW29067qVWk).\n",
    "\n",
    "See the help tab above for more information!\n"
   ]
  },
  {
   "cell_type": "markdown",
   "id": "ahead-adventure",
   "metadata": {
    "pycharm": {
     "name": "#%% md\n"
    }
   },
   "source": [
    "# What is in this Workshop?\n",
    "In this notebook we cover:\n",
    "- What is a Class\n",
    "  - why/when to use it (DRY, remove interdependence)\n",
    "- Object oriented programming. Classes as objects (__name___ etc.)\n",
    "- Creating a class\n",
    "  - Instantiation\n",
    "  - The init method\n",
    "- Methods, instance, class and static\n",
    "  - “private”, dunder,\n",
    "  - Decorators: getter, setter, property\n",
    "- Attributes\n",
    "- Inheritance\n",
    "  - Abstract classes\n"
   ]
  },
  {
   "cell_type": "markdown",
   "id": "74efd9ab",
   "metadata": {
    "pycharm": {
     "name": "#%% md\n"
    }
   },
   "source": [
    "-----------\n",
    "## What is a Class\n",
    "  - Logically group related data and functions as objects\n",
    "       - Example: A Door is an object with:\n",
    "          - Data (attributes): colour, height, width\n",
    "          - Functions (methods): open, close, lock\n",
    "\n",
    "## Why do we use class?\n",
    "  - Allows us to group code relating to a specific object – clean OOP\n",
    "  - Changing the code only has to be done in one place!\n",
    "\n",
    "## When to use a class?\n",
    "  - Anytime you have code that:\n",
    "      - Does one thing that is too complicated for a single function\n",
    "      - Will be reused\n",
    "      - You need to “store” or change information about an object during the code\n",
    "\n",
    "\n",
    "\n",
    "### Example:\n",
    "Create a simple class: the **Door** object (yes, really, we are going to talk about doors!)\n",
    "\n",
    "This is specific, describes one object, the object has attributes and methods, and there can be many instances of doors!\n",
    "Let's see how it looks on its own...\n"
   ]
  },
  {
   "cell_type": "code",
   "execution_count": 2,
   "id": "d8613c36",
   "metadata": {
    "pycharm": {
     "name": "#%%\n"
    }
   },
   "outputs": [
    {
     "name": "stdout",
     "output_type": "stream",
     "text": [
      "<__main__.Door object at 0x000001E655A73190>\n"
     ]
    }
   ],
   "source": [
    "# create the door class\n",
    "\n",
    "class Door:\n",
    "    # this is the class! Simple!\n",
    "    pass\n",
    "\n",
    "# instantiate an instance of the class i.e. \"use\" the class\n",
    "\n",
    "my_door = Door()\n",
    "print(my_door)\n",
    "\n",
    "# has the word door started to look weird by now? "
   ]
  },
  {
   "cell_type": "markdown",
   "id": "def71728",
   "metadata": {
    "pycharm": {
     "name": "#%% raw\n"
    }
   },
   "source": [
    "You can imagine that you might need to create another door object:"
   ]
  },
  {
   "cell_type": "code",
   "execution_count": 3,
   "id": "9a7fa6eb",
   "metadata": {
    "pycharm": {
     "name": "#%%\n"
    }
   },
   "outputs": [
    {
     "name": "stdout",
     "output_type": "stream",
     "text": [
      "<__main__.Door object at 0x000001E655AB43A0>\n"
     ]
    }
   ],
   "source": [
    "kitchen_door = Door()\n",
    "print(kitchen_door)\n",
    "\n",
    "# notice how the memory locations are different! These are different instances (versions) of the Door class"
   ]
  },
  {
   "cell_type": "markdown",
   "id": "840c8c74",
   "metadata": {
    "pycharm": {
     "name": "#%% md\n"
    }
   },
   "source": [
    "Let's give our Door class some functionality!"
   ]
  },
  {
   "cell_type": "code",
   "execution_count": 4,
   "id": "637d9bde",
   "metadata": {
    "pycharm": {
     "name": "#%%\n"
    }
   },
   "outputs": [],
   "source": [
    "class Door:\n",
    "    def __init__(self):\n",
    "        self.colour = 'red'\n",
    "    \n",
    "    def paint_door(self, new_colour):\n",
    "        self.colour = new_colour\n"
   ]
  },
  {
   "cell_type": "markdown",
   "id": "00816a45",
   "metadata": {
    "pycharm": {
     "name": "#%% md\n"
    }
   },
   "source": [
    "Wait a minute, we just added lots of things to the class. Let's go through them one-by-one:\n",
    "\n",
    "- `def __init__(self):`\n",
    "  - The `__init__` method is used during instantiation of the class. It is the first thing that will be run!\n",
    "    - a method is just a function that belongs to a class\n",
    "  - `self` just refers to the class instance (\"itself\"), and is required by all instance methods\n",
    "    - an instance method is the normal method you will use for classes\n",
    "  - `self.colour` is an attribute of the class. It stores some data within the class. You can access this data easily!\n",
    "  - `self.paint_door` is a method of the class. It can be used to operate on attributes stored in the class.\n"
   ]
  },
  {
   "cell_type": "code",
   "execution_count": 5,
   "id": "4f3f5ab6",
   "metadata": {
    "pycharm": {
     "name": "#%%\n"
    }
   },
   "outputs": [
    {
     "name": "stdout",
     "output_type": "stream",
     "text": [
      "red\n",
      "green\n"
     ]
    }
   ],
   "source": [
    "# let's access the colour attribute (data) of the class\n",
    "bathroom_door = Door()\n",
    "\n",
    "print(bathroom_door.colour)\n",
    "\n",
    "bathroom_door.paint_door('green')\n",
    "\n",
    "print(bathroom_door.colour)\n"
   ]
  },
  {
   "cell_type": "markdown",
   "id": "06516ae4",
   "metadata": {
    "pycharm": {
     "name": "#%% md\n"
    }
   },
   "source": [
    "This is **Object Oriented Programming**! Using the objects (class) to operate (method) on data (attribute).\n",
    "\n",
    "I mention using **methods** and **attributes**, let's first learn about attributes and then create our own method for our Door class:"
   ]
  },
  {
   "cell_type": "markdown",
   "id": "811cc2f0",
   "metadata": {
    "pycharm": {
     "name": "#%% md\n"
    }
   },
   "source": [
    "## Attributes\n",
    "\n",
    "Attributes are just the data and the variables stored in the class.\n",
    "- attributes are either\n",
    "    - instance variables (90% of the time you will use these)\n",
    "    - class variables"
   ]
  },
  {
   "cell_type": "code",
   "execution_count": 6,
   "id": "85bd6615",
   "metadata": {
    "pycharm": {
     "name": "#%%\n"
    }
   },
   "outputs": [],
   "source": [
    "class Door:\n",
    "    def __init__(self):\n",
    "        # usually all of the instance methods are defined in the __init__ method\n",
    "        self.colour = 'red'\n",
    "        self.door_is_open = 'unknown'\n",
    "        self.height = None\n",
    "        self.width = None\n",
    "        self.thickness = None\n",
    "        self.number_of_locks = 1\n",
    "\n",
    "    def door_info(self):\n",
    "        print(f'{self.__dict__}')\n",
    "\n",
    "\n",
    "front_door = Door()"
   ]
  },
  {
   "cell_type": "code",
   "execution_count": 7,
   "id": "5092c8ce",
   "metadata": {
    "pycharm": {
     "name": "#%%\n"
    }
   },
   "outputs": [
    {
     "name": "stdout",
     "output_type": "stream",
     "text": [
      "red\n",
      "blue\n"
     ]
    }
   ],
   "source": [
    "print(front_door.colour)\n",
    "front_door.colour = 'blue'\n",
    "print(front_door.colour)"
   ]
  },
  {
   "cell_type": "code",
   "execution_count": 8,
   "id": "e7b0cf83",
   "metadata": {
    "pycharm": {
     "name": "#%%\n"
    }
   },
   "outputs": [],
   "source": [
    "front_door.height = 2.5\n",
    "front_door.width = 1\n",
    "front_door.thickness = 0.2"
   ]
  },
  {
   "cell_type": "code",
   "execution_count": 9,
   "id": "5ead7562",
   "metadata": {
    "pycharm": {
     "name": "#%%\n"
    }
   },
   "outputs": [
    {
     "name": "stdout",
     "output_type": "stream",
     "text": [
      "{'colour': 'blue', 'door_is_open': 'unknown', 'height': 2.5, 'width': 1, 'thickness': 0.2, 'number_of_locks': 1}\n"
     ]
    }
   ],
   "source": [
    "# use our convenience method to look at all the instance variables\n",
    "front_door.door_info()"
   ]
  },
  {
   "cell_type": "markdown",
   "id": "7b88d40b",
   "metadata": {
    "pycharm": {
     "name": "#%% md\n"
    }
   },
   "source": [
    "The class can store anything as attributes (variables); arrays, datasets, dataframes, numbers, strings etc.\n",
    "\n",
    "With methods, we can operate on the attributes (data) stored in the class! Here is where things get interesting!"
   ]
  },
  {
   "cell_type": "markdown",
   "id": "e5a41fc6",
   "metadata": {
    "pycharm": {
     "name": "#%% md\n"
    }
   },
   "source": [
    "-----------\n",
    "## Methods\n",
    "\n",
    "We have learned about functions, and have seen some instance methods above.\n",
    "\n",
    "There are three types of methods:\n",
    "- **Instance methods: the usual type of method, used 99% of the time!**\n",
    "- Class methods: Can be called by either class instance or class object. Can access class variable.\n",
    "- Static methods: they don’t use anything from the class instance\n",
    "\n",
    "Example adapted from [this nice stack-overflow answer](https://stackoverflow.com/questions/54264073/what-is-the-use-and-when-to-use-classmethod-in-python)."
   ]
  },
  {
   "cell_type": "code",
   "execution_count": 10,
   "id": "96f45f9f",
   "metadata": {
    "pycharm": {
     "name": "#%%\n"
    }
   },
   "outputs": [],
   "source": [
    "class Door:\n",
    "    def __init__(self):\n",
    "        self.colour = 'red'\n",
    "        self.door_is_open = 'unknown'\n",
    "    \n",
    "    def open_door(self):\n",
    "        self.door_is_open = True"
   ]
  },
  {
   "cell_type": "markdown",
   "id": "65c7dcab",
   "metadata": {
    "pycharm": {
     "name": "#%% md\n"
    }
   },
   "source": [
    "Now we can use the `open_door` method! "
   ]
  },
  {
   "cell_type": "code",
   "execution_count": 11,
   "id": "4f07226a",
   "metadata": {
    "pycharm": {
     "name": "#%%\n"
    }
   },
   "outputs": [
    {
     "name": "stdout",
     "output_type": "stream",
     "text": [
      "Class attribute before using method: unknown\n",
      "Class attribute after using method: True\n"
     ]
    }
   ],
   "source": [
    "kitchen_door = Door()\n",
    "\n",
    "print(f'Class attribute before using method: {kitchen_door.door_is_open}')\n",
    "\n",
    "# use the method to change an attribute\n",
    "kitchen_door.open_door()\n",
    "\n",
    "# let's look at the attribute\n",
    "print(f'Class attribute after using method: {kitchen_door.door_is_open}')"
   ]
  },
  {
   "cell_type": "markdown",
   "id": "dec17674",
   "metadata": {
    "pycharm": {
     "name": "#%% md\n"
    }
   },
   "source": [
    "So we can use our methods to change attributes, that is really powerful when we have multiple instances of the class!\n",
    "\n",
    "Let's expand the Door class and play around with different instances:"
   ]
  },
  {
   "cell_type": "code",
   "execution_count": 12,
   "id": "cf6f58f4",
   "metadata": {
    "pycharm": {
     "name": "#%%\n"
    }
   },
   "outputs": [],
   "source": [
    "class Door:\n",
    "    def __init__(self):\n",
    "        \"\"\"Example class for learning OOP and Python classes!\"\"\"\n",
    "        self.colour = 'red'\n",
    "        self.door_position = 'unknown'\n",
    "\n",
    "    def open_door(self):\n",
    "        \"\"\"Open the door\"\"\"\n",
    "        self.door_position = 'open'\n",
    "\n",
    "    def close_door(self):\n",
    "        \"\"\"Close the door\"\"\"\n",
    "        self.door_position = 'closed'\n",
    "\n",
    "    def lock_door(self):\n",
    "        \"\"\"Lock the door\"\"\"\n",
    "        if self.door_position == 'closed':\n",
    "            self.door_position = 'locked'\n",
    "        else:\n",
    "            raise ValueError(\"The door must be closed before it is locked!\")\n",
    "                "
   ]
  },
  {
   "cell_type": "code",
   "execution_count": 13,
   "id": "fd3d8f6d",
   "metadata": {
    "pycharm": {
     "name": "#%%\n"
    }
   },
   "outputs": [
    {
     "name": "stdout",
     "output_type": "stream",
     "text": [
      "kitchen_door.door_position='locked'\n"
     ]
    }
   ],
   "source": [
    "kitchen_door = Door()\n",
    "\n",
    "kitchen_door.open_door()\n",
    "kitchen_door.close_door()\n",
    "kitchen_door.lock_door()\n",
    "\n",
    "print(f'{kitchen_door.door_position=}')\n"
   ]
  },
  {
   "cell_type": "code",
   "execution_count": 14,
   "id": "02ff09bd",
   "metadata": {
    "pycharm": {
     "name": "#%%\n"
    }
   },
   "outputs": [
    {
     "ename": "ValueError",
     "evalue": "The door must be closed before it is locked!",
     "output_type": "error",
     "traceback": [
      "\u001b[1;31m---------------------------------------------------------------------------\u001b[0m",
      "\u001b[1;31mValueError\u001b[0m                                Traceback (most recent call last)",
      "Cell \u001b[1;32mIn[14], line 6\u001b[0m\n\u001b[0;32m      3\u001b[0m front_door\u001b[38;5;241m.\u001b[39mopen_door()\n\u001b[0;32m      5\u001b[0m \u001b[38;5;66;03m# THIS WON'T WORK!\u001b[39;00m\n\u001b[1;32m----> 6\u001b[0m \u001b[43mfront_door\u001b[49m\u001b[38;5;241;43m.\u001b[39;49m\u001b[43mlock_door\u001b[49m\u001b[43m(\u001b[49m\u001b[43m)\u001b[49m\n",
      "Cell \u001b[1;32mIn[12], line 20\u001b[0m, in \u001b[0;36mDoor.lock_door\u001b[1;34m(self)\u001b[0m\n\u001b[0;32m     18\u001b[0m     \u001b[38;5;28mself\u001b[39m\u001b[38;5;241m.\u001b[39mdoor_position \u001b[38;5;241m=\u001b[39m \u001b[38;5;124m'\u001b[39m\u001b[38;5;124mlocked\u001b[39m\u001b[38;5;124m'\u001b[39m\n\u001b[0;32m     19\u001b[0m \u001b[38;5;28;01melse\u001b[39;00m:\n\u001b[1;32m---> 20\u001b[0m     \u001b[38;5;28;01mraise\u001b[39;00m \u001b[38;5;167;01mValueError\u001b[39;00m(\u001b[38;5;124m\"\u001b[39m\u001b[38;5;124mThe door must be closed before it is locked!\u001b[39m\u001b[38;5;124m\"\u001b[39m)\n",
      "\u001b[1;31mValueError\u001b[0m: The door must be closed before it is locked!"
     ]
    }
   ],
   "source": [
    "front_door = Door()\n",
    "\n",
    "front_door.open_door()\n",
    "\n",
    "# THIS WON'T WORK!\n",
    "front_door.lock_door()\n"
   ]
  },
  {
   "cell_type": "markdown",
   "id": "4dd3cf9b",
   "metadata": {
    "pycharm": {
     "name": "#%% md\n"
    }
   },
   "source": [
    "We could of course make this all a bit simpler"
   ]
  },
  {
   "cell_type": "code",
   "execution_count": 15,
   "id": "29085e37",
   "metadata": {
    "pycharm": {
     "name": "#%%\n"
    }
   },
   "outputs": [],
   "source": [
    "class Door:\n",
    "    def __init__(self):\n",
    "        \"\"\"Example class for learning OOP and Python classes!\"\"\"\n",
    "        self.colour = 'red'\n",
    "        self.door_position = 'unknown'\n",
    "        self.allowed_positions = ['unknown', 'open', 'closed', 'locked']\n",
    "\n",
    "    def set_door_position(self, position):\n",
    "        \"\"\"Set the door position.\n",
    "        Later we will see how to use getters and setters!\"\"\"\n",
    "        if position in self.allowed_positions:\n",
    "            # logic of how doors work\n",
    "            if position == 'locked' and self.door_position != 'closed':\n",
    "                raise ValueError(\"The door must be closed before it is locked!\")\n",
    "            self.door_position = position\n",
    "        else:\n",
    "            raise ValueError(f\"The door position can only be one of {self.allowed_positions=}!\")\n"
   ]
  },
  {
   "cell_type": "code",
   "execution_count": 16,
   "id": "25de13cc",
   "metadata": {
    "pycharm": {
     "name": "#%%\n"
    }
   },
   "outputs": [
    {
     "name": "stdout",
     "output_type": "stream",
     "text": [
      "kitchen_door.door_position='open'\n",
      "kitchen_door.door_position='closed'\n",
      "kitchen_door.door_position='locked'\n"
     ]
    }
   ],
   "source": [
    "kitchen_door = Door()\n",
    "\n",
    "kitchen_door.set_door_position(position='open')\n",
    "print(f'{kitchen_door.door_position=}')\n",
    "\n",
    "kitchen_door.set_door_position(position='closed')\n",
    "print(f'{kitchen_door.door_position=}')\n",
    "\n",
    "kitchen_door.set_door_position(position='locked')\n",
    "print(f'{kitchen_door.door_position=}')\n"
   ]
  },
  {
   "cell_type": "code",
   "execution_count": 17,
   "id": "690df77a",
   "metadata": {
    "pycharm": {
     "name": "#%%\n"
    }
   },
   "outputs": [
    {
     "name": "stdout",
     "output_type": "stream",
     "text": [
      "kitchen_door.door_position='open'\n"
     ]
    },
    {
     "ename": "ValueError",
     "evalue": "The door must be closed before it is locked!",
     "output_type": "error",
     "traceback": [
      "\u001b[1;31m---------------------------------------------------------------------------\u001b[0m",
      "\u001b[1;31mValueError\u001b[0m                                Traceback (most recent call last)",
      "Cell \u001b[1;32mIn[17], line 6\u001b[0m\n\u001b[0;32m      3\u001b[0m kitchen_door\u001b[38;5;241m.\u001b[39mset_door_position(position\u001b[38;5;241m=\u001b[39m\u001b[38;5;124m'\u001b[39m\u001b[38;5;124mopen\u001b[39m\u001b[38;5;124m'\u001b[39m)\n\u001b[0;32m      4\u001b[0m \u001b[38;5;28mprint\u001b[39m(\u001b[38;5;124mf\u001b[39m\u001b[38;5;124m'\u001b[39m\u001b[38;5;132;01m{\u001b[39;00mkitchen_door\u001b[38;5;241m.\u001b[39mdoor_position\u001b[38;5;132;01m=}\u001b[39;00m\u001b[38;5;124m'\u001b[39m)\n\u001b[1;32m----> 6\u001b[0m \u001b[43mkitchen_door\u001b[49m\u001b[38;5;241;43m.\u001b[39;49m\u001b[43mset_door_position\u001b[49m\u001b[43m(\u001b[49m\u001b[43mposition\u001b[49m\u001b[38;5;241;43m=\u001b[39;49m\u001b[38;5;124;43m'\u001b[39;49m\u001b[38;5;124;43mlocked\u001b[39;49m\u001b[38;5;124;43m'\u001b[39;49m\u001b[43m)\u001b[49m\n\u001b[0;32m      7\u001b[0m \u001b[38;5;28mprint\u001b[39m(\u001b[38;5;124mf\u001b[39m\u001b[38;5;124m'\u001b[39m\u001b[38;5;132;01m{\u001b[39;00mkitchen_door\u001b[38;5;241m.\u001b[39mdoor_position\u001b[38;5;132;01m=}\u001b[39;00m\u001b[38;5;124m'\u001b[39m)\n",
      "Cell \u001b[1;32mIn[15], line 14\u001b[0m, in \u001b[0;36mDoor.set_door_position\u001b[1;34m(self, position)\u001b[0m\n\u001b[0;32m     11\u001b[0m \u001b[38;5;28;01mif\u001b[39;00m position \u001b[38;5;129;01min\u001b[39;00m \u001b[38;5;28mself\u001b[39m\u001b[38;5;241m.\u001b[39mallowed_positions:\n\u001b[0;32m     12\u001b[0m     \u001b[38;5;66;03m# logic of how doors work\u001b[39;00m\n\u001b[0;32m     13\u001b[0m     \u001b[38;5;28;01mif\u001b[39;00m position \u001b[38;5;241m==\u001b[39m \u001b[38;5;124m'\u001b[39m\u001b[38;5;124mlocked\u001b[39m\u001b[38;5;124m'\u001b[39m \u001b[38;5;129;01mand\u001b[39;00m \u001b[38;5;28mself\u001b[39m\u001b[38;5;241m.\u001b[39mdoor_position \u001b[38;5;241m!=\u001b[39m \u001b[38;5;124m'\u001b[39m\u001b[38;5;124mclosed\u001b[39m\u001b[38;5;124m'\u001b[39m:\n\u001b[1;32m---> 14\u001b[0m         \u001b[38;5;28;01mraise\u001b[39;00m \u001b[38;5;167;01mValueError\u001b[39;00m(\u001b[38;5;124m\"\u001b[39m\u001b[38;5;124mThe door must be closed before it is locked!\u001b[39m\u001b[38;5;124m\"\u001b[39m)\n\u001b[0;32m     15\u001b[0m     \u001b[38;5;28mself\u001b[39m\u001b[38;5;241m.\u001b[39mdoor_position \u001b[38;5;241m=\u001b[39m position\n\u001b[0;32m     16\u001b[0m \u001b[38;5;28;01melse\u001b[39;00m:\n",
      "\u001b[1;31mValueError\u001b[0m: The door must be closed before it is locked!"
     ]
    }
   ],
   "source": [
    "kitchen_door = Door()\n",
    "\n",
    "kitchen_door.set_door_position(position='open')\n",
    "print(f'{kitchen_door.door_position=}')\n",
    "\n",
    "kitchen_door.set_door_position(position='locked')\n",
    "print(f'{kitchen_door.door_position=}')\n"
   ]
  },
  {
   "cell_type": "markdown",
   "id": "df1eb30d",
   "metadata": {
    "pycharm": {
     "name": "#%% md\n"
    }
   },
   "source": [
    "Here we have to start thinking \"how do we want our class to work\" for our users. This is an important part of designing a class.\n",
    "\n",
    "If the user wants the door to lock, shouldn't we just automatically assume they want it to close? Let's do that."
   ]
  },
  {
   "cell_type": "code",
   "execution_count": 18,
   "id": "54eff06a",
   "metadata": {
    "pycharm": {
     "name": "#%%\n"
    }
   },
   "outputs": [],
   "source": [
    "class Door:\n",
    "    def __init__(self):\n",
    "        \"\"\"Example class for learning OOP and Python classes!\"\"\"\n",
    "        self.colour = 'red'\n",
    "        self.door_position = 'unknown'\n",
    "        self.allowed_positions = ['unknown', 'open', 'closed', 'locked']\n",
    "\n",
    "    def set_door_position(self, position):\n",
    "        \"\"\"Set the door position.\"\"\"\n",
    "        if position in self.allowed_positions:\n",
    "            # logic of how doors work - might not need this!\n",
    "            if position == 'locked' and self.door_position != 'closed':\n",
    "                self.door_position = 'closed'  # so that when you look at the behaviour, it makes sense!\n",
    "            self.door_position = position\n",
    "        else:\n",
    "            raise ValueError(f\"The door position can only be one of {self.allowed_positions=}!\")\n"
   ]
  },
  {
   "cell_type": "code",
   "execution_count": 19,
   "id": "1abc70f0",
   "metadata": {
    "pycharm": {
     "name": "#%%\n"
    }
   },
   "outputs": [
    {
     "name": "stdout",
     "output_type": "stream",
     "text": [
      "kitchen_door.door_position='open'\n",
      "kitchen_door.door_position='locked'\n"
     ]
    }
   ],
   "source": [
    "kitchen_door = Door()\n",
    "\n",
    "kitchen_door.set_door_position(position='open')\n",
    "print(f'{kitchen_door.door_position=}')\n",
    "\n",
    "# now this works!\n",
    "kitchen_door.set_door_position(position='locked')\n",
    "print(f'{kitchen_door.door_position=}')\n"
   ]
  },
  {
   "cell_type": "markdown",
   "id": "4c454996",
   "metadata": {
    "pycharm": {
     "name": "#%% md\n"
    }
   },
   "source": [
    "### Examples of each Method"
   ]
  },
  {
   "cell_type": "code",
   "execution_count": 20,
   "id": "83f77c00",
   "metadata": {
    "pycharm": {
     "name": "#%%\n"
    }
   },
   "outputs": [],
   "source": [
    "# Example of each method\n",
    "\n",
    "class Person():\n",
    "    species='homo_sapiens' # This is class variable\n",
    "\n",
    "    def __init__(self, name, age):\n",
    "        self.name = name # This is instance variable\n",
    "        self.age = age\n",
    "\n",
    "    def show(self):\n",
    "        print(f'Name: {self.name}, Age: {self.age}.')\n",
    "\n",
    "    @classmethod\n",
    "    def create_with_birth_year(cls, name, age):\n",
    "        return cls(name, age)\n",
    "\n",
    "    @classmethod\n",
    "    def print_species(cls):\n",
    "        print('species: {}'.format(cls.species))\n",
    "\n",
    "    @staticmethod\n",
    "    def get_birth_year(age):\n",
    "        return date.today().year - age\n",
    "\n",
    "\n",
    "class Teacher(Person):\n",
    "    pass\n"
   ]
  },
  {
   "cell_type": "markdown",
   "id": "fb9563ef",
   "metadata": {
    "pycharm": {
     "name": "#%% md\n"
    }
   },
   "source": [
    "### Instance method\n",
    "(`show`) need an instance and must use self as the first parameter. It can access the instance through self and influence the state of an instance."
   ]
  },
  {
   "cell_type": "code",
   "execution_count": 21,
   "id": "691e3ed7",
   "metadata": {
    "pycharm": {
     "name": "#%%\n"
    }
   },
   "outputs": [
    {
     "name": "stdout",
     "output_type": "stream",
     "text": [
      "Name: Jona, Age: 30.\n"
     ]
    }
   ],
   "source": [
    "jona = Person(name='Jona', age=30)\n",
    "jona.show()"
   ]
  },
  {
   "cell_type": "markdown",
   "id": "885a2466",
   "metadata": {
    "pycharm": {
     "name": "#%% md\n"
    }
   },
   "source": [
    "### Class method\n",
    "(`create_with_birth_year` and `print_species`) need no instance and use cls to access the class and influence the state of a class. We can use @classmethod to make a factory, such as:"
   ]
  },
  {
   "cell_type": "code",
   "execution_count": 22,
   "id": "502d6555",
   "metadata": {
    "pycharm": {
     "name": "#%%\n"
    }
   },
   "outputs": [
    {
     "name": "stdout",
     "output_type": "stream",
     "text": [
      "Name: Eoghan, Age: 30.\n",
      "Name: Linda, Age: 30.\n",
      "<class '__main__.Teacher'>\n",
      "species: homo_sapiens\n"
     ]
    }
   ],
   "source": [
    "# we can create a person directly from the class method `create_with_birth_year` because it returns an instance of the class\n",
    "eoghan = Person.create_with_birth_year('Eoghan', 30)\n",
    "eoghan.show()\n",
    "\n",
    "# and this factory can be inherited:\n",
    "linda = Teacher.create_with_birth_year('Linda', 30)\n",
    "linda.show()\n",
    "print(type(linda))\n",
    "\n",
    "# and class method can be used access class variable:\n",
    "Person.print_species()\n"
   ]
  },
  {
   "cell_type": "markdown",
   "id": "46989005",
   "metadata": {
    "pycharm": {
     "name": "#%% md\n"
    }
   },
   "source": [
    "### Static Method\n",
    "(`get_birth_year`) need no special parameter(self or cls) and will change any state of a class or instance. It can provide some helper function about a class."
   ]
  },
  {
   "cell_type": "code",
   "execution_count": 23,
   "id": "887ce1df",
   "metadata": {
    "pycharm": {
     "name": "#%%\n"
    }
   },
   "outputs": [
    {
     "ename": "NameError",
     "evalue": "name 'date' is not defined",
     "output_type": "error",
     "traceback": [
      "\u001b[1;31m---------------------------------------------------------------------------\u001b[0m",
      "\u001b[1;31mNameError\u001b[0m                                 Traceback (most recent call last)",
      "Cell \u001b[1;32mIn[23], line 5\u001b[0m\n\u001b[0;32m      1\u001b[0m jona \u001b[38;5;241m=\u001b[39m Person(name\u001b[38;5;241m=\u001b[39m\u001b[38;5;124m'\u001b[39m\u001b[38;5;124mJona\u001b[39m\u001b[38;5;124m'\u001b[39m, age\u001b[38;5;241m=\u001b[39m\u001b[38;5;241m30\u001b[39m)\n\u001b[0;32m      3\u001b[0m \u001b[38;5;66;03m# get the birth year without using any variables, general helper function\u001b[39;00m\n\u001b[0;32m      4\u001b[0m \u001b[38;5;66;03m# for example, what year would jona be born if he were 23\u001b[39;00m\n\u001b[1;32m----> 5\u001b[0m \u001b[43mjona\u001b[49m\u001b[38;5;241;43m.\u001b[39;49m\u001b[43mget_birth_year\u001b[49m\u001b[43m(\u001b[49m\u001b[38;5;241;43m23\u001b[39;49m\u001b[43m)\u001b[49m\n",
      "Cell \u001b[1;32mIn[20], line 23\u001b[0m, in \u001b[0;36mPerson.get_birth_year\u001b[1;34m(age)\u001b[0m\n\u001b[0;32m     21\u001b[0m \u001b[38;5;129m@staticmethod\u001b[39m\n\u001b[0;32m     22\u001b[0m \u001b[38;5;28;01mdef\u001b[39;00m \u001b[38;5;21mget_birth_year\u001b[39m(age):\n\u001b[1;32m---> 23\u001b[0m     \u001b[38;5;28;01mreturn\u001b[39;00m \u001b[43mdate\u001b[49m\u001b[38;5;241m.\u001b[39mtoday()\u001b[38;5;241m.\u001b[39myear \u001b[38;5;241m-\u001b[39m age\n",
      "\u001b[1;31mNameError\u001b[0m: name 'date' is not defined"
     ]
    }
   ],
   "source": [
    "jona = Person(name='Jona', age=30)\n",
    "\n",
    "# get the birth year without using any variables, general helper function\n",
    "# for example, what year would jona be born if he were 23\n",
    "jona.get_birth_year(23)"
   ]
  },
  {
   "cell_type": "markdown",
   "id": "72891bca",
   "metadata": {
    "pycharm": {
     "name": "#%% md\n"
    }
   },
   "source": [
    "You shouldn't worry about static and class methods so much."
   ]
  },
  {
   "cell_type": "markdown",
   "id": "014793a6",
   "metadata": {
    "pycharm": {
     "name": "#%% md\n"
    }
   },
   "source": [
    "### Docstrings\n",
    "\n",
    "But what you should worry about is **docstrings**!!\n",
    "\n",
    "Document your code!"
   ]
  },
  {
   "cell_type": "code",
   "execution_count": 24,
   "id": "3353c460",
   "metadata": {
    "pycharm": {
     "name": "#%%\n"
    }
   },
   "outputs": [],
   "source": [
    "class Person():\n",
    "    species='homo_sapiens' # This is class variable\n",
    "\n",
    "    def __init__(self, name, age):\n",
    "        \"\"\"Class to handle Persons and their information.\n",
    "        \n",
    "        Parameters\n",
    "        ----------\n",
    "        name : str\n",
    "            Name of the person.\n",
    "        age : int\n",
    "            Age of the person\n",
    "        \n",
    "        \"\"\"\n",
    "        self.name = name # This is instance variable\n",
    "        self.age = age\n",
    "\n",
    "    def show(self):\n",
    "        \"\"\"Print the person's information.\"\"\"\n",
    "        print(f'Name: {self.name}, Age: {self.age}.')\n",
    "\n",
    "    @classmethod\n",
    "    def create_with_birth_year(cls, name, age):\n",
    "        \"\"\"Create a person directly.\n",
    "        \n",
    "        Parameters\n",
    "        ----------\n",
    "        cls : Person or class inheriting from Person\n",
    "        name : str\n",
    "            Name of the person.\n",
    "        age : int\n",
    "            Age of the person\n",
    "        \n",
    "        \"\"\"\n",
    "        return cls(name, age)\n",
    "\n",
    "    @classmethod\n",
    "    def print_species(cls):\n",
    "        \"\"\"Print out information about the Person's species.\n",
    "        \n",
    "        Parameters\n",
    "        ----------\n",
    "        cls : Person or child class of Person\n",
    "\n",
    "        \"\"\"\n",
    "        print('species: {}'.format(cls.species))\n",
    "\n",
    "    @staticmethod\n",
    "    def get_birth_year(age):\n",
    "        \"\"\"Calculates the birth year based on an age\n",
    "        \n",
    "        Parameters\n",
    "        ----------\n",
    "        age : int\n",
    "            Age of the person\n",
    "\n",
    "        \"\"\"\n",
    "        return date.today().year - age\n",
    "\n",
    "\n",
    "class Teacher(Person):\n",
    "    \"\"\"Class for Teachers, inherits from Person.\"\"\"\n",
    "    pass\n"
   ]
  },
  {
   "cell_type": "markdown",
   "id": "3a724c72",
   "metadata": {
    "pycharm": {
     "name": "#%% md\n"
    }
   },
   "source": [
    "Wow, the number of codelines really ballooned! That is okay. Now people can understand what the classes and methods are for!"
   ]
  },
  {
   "cell_type": "markdown",
   "id": "8eafe96a",
   "metadata": {
    "pycharm": {
     "name": "#%% md\n"
    }
   },
   "source": [
    "### \"Private\" and Dunder: Methods and Attributes\n",
    "\n",
    "Often we want users to know that they shouldn't use some inner functionality of a class. In Python there is no way to stop a user from accessing methods or attributes, but we can indicate what shouldn't be used with underscores (`_`) and double underscores (`__`)"
   ]
  },
  {
   "cell_type": "markdown",
   "id": "cf54e390",
   "metadata": {
    "pycharm": {
     "name": "#%% md\n"
    }
   },
   "source": [
    "class SomeComplexCalculation:\n",
    "    def __init__(self, array):\n",
    "        self.array = array\n",
    "        # we don't want the user to use this, it is for inner-working of class\n",
    "        self._calculation_halfway_point = None\n",
    "    \n",
    "    def calculate(self):\n",
    "        \"\"\"The user should call this method.\"\"\"\n",
    "        # do some checks\n",
    "        assert len(self.array) >= 10\n",
    "        # call the actual calculator method\n",
    "        self._calculate_array_statistics()\n",
    "    \n",
    "    def _calculate_array_statistics(self):\n",
    "        \"\"\"Calculate something about the array. The user shouldn't call this\"\"\"\n",
    "        # Does the actual calculation\n",
    "        print(\"Doing a really complex calculation!\")\n",
    "        \n",
    "        print(\"...\")\n",
    "        self._calculation_halfway_point = 42\n",
    "        print(f'Calculation at halfway is: {self._calculation_halfway_point}')\n",
    "        print(\"...\")\n",
    "        print(\"Wow that was difficult!\")\n",
    "    \n",
    "    def __repr__(self):\n",
    "        return f\"I do complex calculations on an array! - {self.__class__}\""
   ]
  },
  {
   "cell_type": "markdown",
   "id": "c7789b6a",
   "metadata": {
    "pycharm": {
     "name": "#%% md\n"
    }
   },
   "source": [
    "So the user can now see that they should use the `calculate` method only. It is simple to remember for the user."
   ]
  },
  {
   "cell_type": "code",
   "execution_count": 25,
   "id": "2ea8ce57",
   "metadata": {
    "pycharm": {
     "name": "#%%\n"
    }
   },
   "outputs": [
    {
     "ename": "NameError",
     "evalue": "name 'SomeComplexCalculation' is not defined",
     "output_type": "error",
     "traceback": [
      "\u001b[1;31m---------------------------------------------------------------------------\u001b[0m",
      "\u001b[1;31mNameError\u001b[0m                                 Traceback (most recent call last)",
      "Cell \u001b[1;32mIn[25], line 4\u001b[0m\n\u001b[0;32m      1\u001b[0m \u001b[38;5;28;01mimport\u001b[39;00m \u001b[38;5;21;01mnumpy\u001b[39;00m \u001b[38;5;28;01mas\u001b[39;00m \u001b[38;5;21;01mnp\u001b[39;00m\n\u001b[0;32m      3\u001b[0m my_arr \u001b[38;5;241m=\u001b[39m np\u001b[38;5;241m.\u001b[39mzeros(\u001b[38;5;241m10\u001b[39m)\n\u001b[1;32m----> 4\u001b[0m calc_ds \u001b[38;5;241m=\u001b[39m \u001b[43mSomeComplexCalculation\u001b[49m(array\u001b[38;5;241m=\u001b[39mmy_arr)\n\u001b[0;32m      5\u001b[0m calc_ds\u001b[38;5;241m.\u001b[39mcalculate()\n",
      "\u001b[1;31mNameError\u001b[0m: name 'SomeComplexCalculation' is not defined"
     ]
    }
   ],
   "source": [
    "import numpy as np\n",
    "\n",
    "my_arr = np.zeros(10)\n",
    "calc_ds = SomeComplexCalculation(array=my_arr)\n",
    "calc_ds.calculate()"
   ]
  },
  {
   "cell_type": "code",
   "execution_count": null,
   "id": "e017d024",
   "metadata": {
    "pycharm": {
     "name": "#%%\n"
    }
   },
   "outputs": [],
   "source": [
    "print(calc_ds)\n",
    "\n",
    "print(calc_ds.__repr__())"
   ]
  },
  {
   "cell_type": "markdown",
   "id": "6c89711f",
   "metadata": {
    "pycharm": {
     "name": "#%% md\n"
    }
   },
   "source": [
    "There are also some other built in dunder methods in classes, you need to create your version of them if your class doesn't inherit them: [see this link for a list](https://holycoders.com/python-dunder-special-methods/)!"
   ]
  },
  {
   "cell_type": "code",
   "execution_count": 26,
   "id": "c523a298",
   "metadata": {
    "pycharm": {
     "name": "#%%\n"
    }
   },
   "outputs": [
    {
     "ename": "NameError",
     "evalue": "name 'calc_ds' is not defined",
     "output_type": "error",
     "traceback": [
      "\u001b[1;31m---------------------------------------------------------------------------\u001b[0m",
      "\u001b[1;31mNameError\u001b[0m                                 Traceback (most recent call last)",
      "Cell \u001b[1;32mIn[26], line 1\u001b[0m\n\u001b[1;32m----> 1\u001b[0m \u001b[38;5;28mprint\u001b[39m(\u001b[43mcalc_ds\u001b[49m\u001b[38;5;241m.\u001b[39m\u001b[38;5;21m__str__\u001b[39m())\n",
      "\u001b[1;31mNameError\u001b[0m: name 'calc_ds' is not defined"
     ]
    }
   ],
   "source": [
    "print(calc_ds.__str__())"
   ]
  },
  {
   "cell_type": "markdown",
   "id": "9089d622",
   "metadata": {
    "pycharm": {
     "name": "#%% md\n"
    }
   },
   "source": [
    "And of course there are \"private\" and (usually built-in) dunder attributes."
   ]
  },
  {
   "cell_type": "code",
   "execution_count": 27,
   "id": "cbc1de1c",
   "metadata": {
    "pycharm": {
     "name": "#%%\n"
    }
   },
   "outputs": [
    {
     "ename": "NameError",
     "evalue": "name 'calc_ds' is not defined",
     "output_type": "error",
     "traceback": [
      "\u001b[1;31m---------------------------------------------------------------------------\u001b[0m",
      "\u001b[1;31mNameError\u001b[0m                                 Traceback (most recent call last)",
      "Cell \u001b[1;32mIn[27], line 2\u001b[0m\n\u001b[0;32m      1\u001b[0m \u001b[38;5;66;03m# the user shouldn't use this, as indicated by the single underscore\u001b[39;00m\n\u001b[1;32m----> 2\u001b[0m \u001b[38;5;28mprint\u001b[39m(\u001b[43mcalc_ds\u001b[49m\u001b[38;5;241m.\u001b[39m_calculation_halfway_point)\n",
      "\u001b[1;31mNameError\u001b[0m: name 'calc_ds' is not defined"
     ]
    }
   ],
   "source": [
    "# the user shouldn't use this, as indicated by the single underscore\n",
    "print(calc_ds._calculation_halfway_point)"
   ]
  },
  {
   "cell_type": "code",
   "execution_count": 28,
   "id": "94e91486",
   "metadata": {
    "pycharm": {
     "name": "#%%\n"
    }
   },
   "outputs": [
    {
     "ename": "NameError",
     "evalue": "name 'calc_ds' is not defined",
     "output_type": "error",
     "traceback": [
      "\u001b[1;31m---------------------------------------------------------------------------\u001b[0m",
      "\u001b[1;31mNameError\u001b[0m                                 Traceback (most recent call last)",
      "Cell \u001b[1;32mIn[28], line 2\u001b[0m\n\u001b[0;32m      1\u001b[0m \u001b[38;5;66;03m# __dict__ will print out all of the class's attributes, neat!\u001b[39;00m\n\u001b[1;32m----> 2\u001b[0m \u001b[38;5;28mprint\u001b[39m(\u001b[43mcalc_ds\u001b[49m\u001b[38;5;241m.\u001b[39m\u001b[38;5;18m__dict__\u001b[39m)\n",
      "\u001b[1;31mNameError\u001b[0m: name 'calc_ds' is not defined"
     ]
    }
   ],
   "source": [
    "# __dict__ will print out all of the class's attributes, neat!\n",
    "print(calc_ds.__dict__)"
   ]
  },
  {
   "attachments": {},
   "cell_type": "markdown",
   "id": "e51f8815",
   "metadata": {},
   "source": [
    "### Decorators: Getter, Setter, Property\n",
    "\n",
    "We can have getter and setter methods for attributes. We use this because it allows us to use a method to change an attribute, rather than having to change the attribute manually. This way, we can have built-in checks to stop bad values.\n",
    "\n",
    "Below is a simple example:"
   ]
  },
  {
   "cell_type": "code",
   "execution_count": 29,
   "id": "3d52556b",
   "metadata": {},
   "outputs": [],
   "source": [
    "class Person:\n",
    "    def __init__(self, name):\n",
    "        self.name = name\n",
    "        self._age = None  # example: age shouldn't be changed directly\n",
    "\n",
    "    @property\n",
    "    def age(self):\n",
    "        \"\"\"This is the Getter for _age.\"\"\"\n",
    "        return self._age\n",
    "    \n",
    "    @age.setter\n",
    "    def age(self, value):\n",
    "        \"\"\"This is the Setter for _age.\"\"\"\n",
    "        if isinstance(value, int):\n",
    "            self._age = value\n",
    "        else:\n",
    "            raise ValueError(\"age must be an integer\")\n",
    "\n",
    "    @age.deleter\n",
    "    def age(self):\n",
    "        \"\"\"This will delete the _age value.\"\"\"\n",
    "        del self._age\n",
    "\n",
    "    def show(self):\n",
    "        print(f'Name: {self.name}, Age: {self.age}.')"
   ]
  },
  {
   "cell_type": "code",
   "execution_count": 30,
   "id": "863c0857",
   "metadata": {},
   "outputs": [
    {
     "name": "stdout",
     "output_type": "stream",
     "text": [
      "Name: Jona, Age: None.\n",
      "Name: Jona, Age: 31.\n"
     ]
    }
   ],
   "source": [
    "# let's see how the age property works...\n",
    "\n",
    "jona = Person('Jona')\n",
    "jona.show()\n",
    "\n",
    "# set the age\n",
    "jona.age = 31\n",
    "\n",
    "jona.show()\n"
   ]
  },
  {
   "cell_type": "code",
   "execution_count": 31,
   "id": "c6112004",
   "metadata": {},
   "outputs": [
    {
     "name": "stdout",
     "output_type": "stream",
     "text": [
      "jona._age=76\n",
      "jona.age=76\n"
     ]
    }
   ],
   "source": [
    "# let's see how the _age works if we use it directly...\n",
    "\n",
    "jona = Person('Jona')\n",
    "jona._age = 76\n",
    "\n",
    "print(f'{jona._age=}')\n",
    "print(f'{jona.age=}')\n",
    "\n",
    "# that's pretty cool! It automatically updated `age` even though we didn't change it directly"
   ]
  },
  {
   "cell_type": "code",
   "execution_count": 32,
   "id": "46ff7f4d",
   "metadata": {},
   "outputs": [
    {
     "ename": "ValueError",
     "evalue": "age must be an integer",
     "output_type": "error",
     "traceback": [
      "\u001b[1;31m---------------------------------------------------------------------------\u001b[0m",
      "\u001b[1;31mValueError\u001b[0m                                Traceback (most recent call last)",
      "Cell \u001b[1;32mIn[32], line 4\u001b[0m\n\u001b[0;32m      1\u001b[0m \u001b[38;5;66;03m# now we see the power of the setter to allow only certain values or types\u001b[39;00m\n\u001b[0;32m      3\u001b[0m jona \u001b[38;5;241m=\u001b[39m Person(\u001b[38;5;124m'\u001b[39m\u001b[38;5;124mJona\u001b[39m\u001b[38;5;124m'\u001b[39m)\n\u001b[1;32m----> 4\u001b[0m \u001b[43mjona\u001b[49m\u001b[38;5;241;43m.\u001b[39;49m\u001b[43mage\u001b[49m \u001b[38;5;241m=\u001b[39m \u001b[38;5;241m12.5\u001b[39m\n",
      "Cell \u001b[1;32mIn[29], line 17\u001b[0m, in \u001b[0;36mPerson.age\u001b[1;34m(self, value)\u001b[0m\n\u001b[0;32m     15\u001b[0m     \u001b[38;5;28mself\u001b[39m\u001b[38;5;241m.\u001b[39m_age \u001b[38;5;241m=\u001b[39m value\n\u001b[0;32m     16\u001b[0m \u001b[38;5;28;01melse\u001b[39;00m:\n\u001b[1;32m---> 17\u001b[0m     \u001b[38;5;28;01mraise\u001b[39;00m \u001b[38;5;167;01mValueError\u001b[39;00m(\u001b[38;5;124m\"\u001b[39m\u001b[38;5;124mage must be an integer\u001b[39m\u001b[38;5;124m\"\u001b[39m)\n",
      "\u001b[1;31mValueError\u001b[0m: age must be an integer"
     ]
    }
   ],
   "source": [
    "# now we see the power of the setter to allow only certain values or types\n",
    "\n",
    "jona = Person('Jona')\n",
    "jona.age = 12.5\n"
   ]
  },
  {
   "cell_type": "code",
   "execution_count": 33,
   "id": "5aa75481",
   "metadata": {},
   "outputs": [
    {
     "name": "stdout",
     "output_type": "stream",
     "text": [
      "Name: Jona, Age: 12.\n"
     ]
    },
    {
     "ename": "AttributeError",
     "evalue": "'Person' object has no attribute '_age'",
     "output_type": "error",
     "traceback": [
      "\u001b[1;31m---------------------------------------------------------------------------\u001b[0m",
      "\u001b[1;31mAttributeError\u001b[0m                            Traceback (most recent call last)",
      "Cell \u001b[1;32mIn[33], line 9\u001b[0m\n\u001b[0;32m      5\u001b[0m jona\u001b[38;5;241m.\u001b[39mshow()\n\u001b[0;32m      7\u001b[0m \u001b[38;5;28;01mdel\u001b[39;00m jona\u001b[38;5;241m.\u001b[39mage\n\u001b[1;32m----> 9\u001b[0m \u001b[43mjona\u001b[49m\u001b[38;5;241;43m.\u001b[39;49m\u001b[43mshow\u001b[49m\u001b[43m(\u001b[49m\u001b[43m)\u001b[49m\n",
      "Cell \u001b[1;32mIn[29], line 25\u001b[0m, in \u001b[0;36mPerson.show\u001b[1;34m(self)\u001b[0m\n\u001b[0;32m     24\u001b[0m \u001b[38;5;28;01mdef\u001b[39;00m \u001b[38;5;21mshow\u001b[39m(\u001b[38;5;28mself\u001b[39m):\n\u001b[1;32m---> 25\u001b[0m     \u001b[38;5;28mprint\u001b[39m(\u001b[38;5;124mf\u001b[39m\u001b[38;5;124m'\u001b[39m\u001b[38;5;124mName: \u001b[39m\u001b[38;5;132;01m{\u001b[39;00m\u001b[38;5;28mself\u001b[39m\u001b[38;5;241m.\u001b[39mname\u001b[38;5;132;01m}\u001b[39;00m\u001b[38;5;124m, Age: \u001b[39m\u001b[38;5;132;01m{\u001b[39;00m\u001b[38;5;28;43mself\u001b[39;49m\u001b[38;5;241;43m.\u001b[39;49m\u001b[43mage\u001b[49m\u001b[38;5;132;01m}\u001b[39;00m\u001b[38;5;124m.\u001b[39m\u001b[38;5;124m'\u001b[39m)\n",
      "Cell \u001b[1;32mIn[29], line 9\u001b[0m, in \u001b[0;36mPerson.age\u001b[1;34m(self)\u001b[0m\n\u001b[0;32m      6\u001b[0m \u001b[38;5;129m@property\u001b[39m\n\u001b[0;32m      7\u001b[0m \u001b[38;5;28;01mdef\u001b[39;00m \u001b[38;5;21mage\u001b[39m(\u001b[38;5;28mself\u001b[39m):\n\u001b[0;32m      8\u001b[0m     \u001b[38;5;124;03m\"\"\"This is the Getter for _age.\"\"\"\u001b[39;00m\n\u001b[1;32m----> 9\u001b[0m     \u001b[38;5;28;01mreturn\u001b[39;00m \u001b[38;5;28;43mself\u001b[39;49m\u001b[38;5;241;43m.\u001b[39;49m\u001b[43m_age\u001b[49m\n",
      "\u001b[1;31mAttributeError\u001b[0m: 'Person' object has no attribute '_age'"
     ]
    }
   ],
   "source": [
    "# what about the deleter...\n",
    "\n",
    "jona = Person('Jona')\n",
    "jona.age = 12\n",
    "jona.show()\n",
    "\n",
    "del jona.age\n",
    "\n",
    "jona.show()\n"
   ]
  },
  {
   "cell_type": "code",
   "execution_count": 34,
   "id": "c1d88063",
   "metadata": {},
   "outputs": [
    {
     "name": "stdout",
     "output_type": "stream",
     "text": [
      "Name: Jona, Age: 12.\n"
     ]
    }
   ],
   "source": [
    "# we can set it again here afterwards...\n",
    "\n",
    "jona.age = 12\n",
    "jona.show()"
   ]
  },
  {
   "cell_type": "markdown",
   "id": "43540e79",
   "metadata": {
    "pycharm": {
     "name": "#%% md\n"
    }
   },
   "source": [
    "## Inheritance\n",
    "\n",
    "We touched on inheritance with our `Person` and `Teacher` classes above. But how does this work and why would you use it?"
   ]
  },
  {
   "cell_type": "code",
   "execution_count": 35,
   "id": "dccaa7de",
   "metadata": {
    "pycharm": {
     "name": "#%%\n"
    }
   },
   "outputs": [],
   "source": [
    "class Person:\n",
    "    species='homo_sapiens' # This is class variable\n",
    "\n",
    "    def __init__(self, name, age):\n",
    "        self.name = name # This is instance variable\n",
    "        self.age = age\n",
    "\n",
    "    def show(self):\n",
    "        print(f'Name: {self.name}, Age: {self.age}.')\n",
    "\n",
    "\n",
    "class Teacher(Person):\n",
    "    profession = 'Teacher'\n"
   ]
  },
  {
   "cell_type": "markdown",
   "id": "3ef31f58",
   "metadata": {
    "pycharm": {
     "name": "#%% md\n"
    }
   },
   "source": [
    "- `Person` is a class that has a name and an age. Pretty simple.\n",
    "- `Teacher` is a class that **is a** Person, so it inherits from it all of its attributes and methods!\n",
    "\n",
    "This means we can have a hierarchy of classes that makes logical sense. It reduces the amount of code!\n",
    "\n",
    "Let's use the classes and see how they behave"
   ]
  },
  {
   "cell_type": "code",
   "execution_count": 36,
   "id": "da3e83f3",
   "metadata": {
    "pycharm": {
     "name": "#%%\n"
    }
   },
   "outputs": [
    {
     "name": "stdout",
     "output_type": "stream",
     "text": [
      "Name: Mary, Age: 8.\n"
     ]
    }
   ],
   "source": [
    "mary = Person(name='Mary', age=8)\n",
    "mary.show()"
   ]
  },
  {
   "cell_type": "code",
   "execution_count": 37,
   "id": "dad7ae94",
   "metadata": {
    "pycharm": {
     "name": "#%%\n"
    }
   },
   "outputs": [
    {
     "name": "stdout",
     "output_type": "stream",
     "text": [
      "Name: Mary, Age: 58.\n",
      "Teacher\n"
     ]
    }
   ],
   "source": [
    "# this is the teacher of the person above\n",
    "lizzy = Teacher(name='Mary', age=58)\n",
    "lizzy.show()\n",
    "print(lizzy.profession)\n"
   ]
  },
  {
   "cell_type": "markdown",
   "id": "e57576e4",
   "metadata": {
    "pycharm": {
     "name": "#%% md\n"
    }
   },
   "source": [
    "So the `Teacher` class uses the attributes and methods from the parent `Person` class. It has **inherited** from the `Person` class."
   ]
  },
  {
   "cell_type": "code",
   "execution_count": 38,
   "id": "728a2806",
   "metadata": {
    "pycharm": {
     "name": "#%%\n"
    }
   },
   "outputs": [
    {
     "ename": "AttributeError",
     "evalue": "'Person' object has no attribute 'profession'",
     "output_type": "error",
     "traceback": [
      "\u001b[1;31m---------------------------------------------------------------------------\u001b[0m",
      "\u001b[1;31mAttributeError\u001b[0m                            Traceback (most recent call last)",
      "Cell \u001b[1;32mIn[38], line 2\u001b[0m\n\u001b[0;32m      1\u001b[0m \u001b[38;5;66;03m# we can't do this -> ERROR!\u001b[39;00m\n\u001b[1;32m----> 2\u001b[0m \u001b[43mmary\u001b[49m\u001b[38;5;241;43m.\u001b[39;49m\u001b[43mprofession\u001b[49m\n",
      "\u001b[1;31mAttributeError\u001b[0m: 'Person' object has no attribute 'profession'"
     ]
    }
   ],
   "source": [
    "# we can't do this -> ERROR!\n",
    "mary.profession"
   ]
  },
  {
   "cell_type": "markdown",
   "id": "c5c80d67",
   "metadata": {
    "pycharm": {
     "name": "#%% md\n"
    }
   },
   "source": [
    "What if we want the `Teacher` class to have an `__init__` method too, is that okay?"
   ]
  },
  {
   "cell_type": "code",
   "execution_count": 39,
   "id": "c77ca7d6",
   "metadata": {
    "pycharm": {
     "name": "#%%\n"
    }
   },
   "outputs": [],
   "source": [
    "class Person:\n",
    "    species='homo_sapiens' # This is class variable\n",
    "\n",
    "    def __init__(self, name, age):\n",
    "        self.name = name # This is instance variable\n",
    "        self.age = age\n",
    "\n",
    "    def show(self):\n",
    "        print(f'Name: {self.name}, Age: {self.age}.')\n",
    "\n",
    "\n",
    "class Teacher(Person):\n",
    "    profession = 'Teacher'\n",
    "\n",
    "    def __init__(self, name, age, subject):\n",
    "        self.subject = subject\n",
    "\n",
    "    def show_subject(self):\n",
    "        print(self.subject)\n"
   ]
  },
  {
   "cell_type": "code",
   "execution_count": 40,
   "id": "f4f40afb",
   "metadata": {
    "pycharm": {
     "name": "#%%\n"
    }
   },
   "outputs": [
    {
     "ename": "AttributeError",
     "evalue": "'Teacher' object has no attribute 'name'",
     "output_type": "error",
     "traceback": [
      "\u001b[1;31m---------------------------------------------------------------------------\u001b[0m",
      "\u001b[1;31mAttributeError\u001b[0m                            Traceback (most recent call last)",
      "Cell \u001b[1;32mIn[40], line 4\u001b[0m\n\u001b[0;32m      1\u001b[0m lizzy \u001b[38;5;241m=\u001b[39m Teacher(name\u001b[38;5;241m=\u001b[39m\u001b[38;5;124m'\u001b[39m\u001b[38;5;124mMary\u001b[39m\u001b[38;5;124m'\u001b[39m, age\u001b[38;5;241m=\u001b[39m\u001b[38;5;241m58\u001b[39m, subject\u001b[38;5;241m=\u001b[39m\u001b[38;5;124m\"\u001b[39m\u001b[38;5;124mScience\u001b[39m\u001b[38;5;124m\"\u001b[39m)\n\u001b[0;32m      3\u001b[0m \u001b[38;5;66;03m# will cause an ERROR\u001b[39;00m\n\u001b[1;32m----> 4\u001b[0m \u001b[43mlizzy\u001b[49m\u001b[38;5;241;43m.\u001b[39;49m\u001b[43mshow\u001b[49m\u001b[43m(\u001b[49m\u001b[43m)\u001b[49m\n",
      "Cell \u001b[1;32mIn[39], line 9\u001b[0m, in \u001b[0;36mPerson.show\u001b[1;34m(self)\u001b[0m\n\u001b[0;32m      8\u001b[0m \u001b[38;5;28;01mdef\u001b[39;00m \u001b[38;5;21mshow\u001b[39m(\u001b[38;5;28mself\u001b[39m):\n\u001b[1;32m----> 9\u001b[0m     \u001b[38;5;28mprint\u001b[39m(\u001b[38;5;124mf\u001b[39m\u001b[38;5;124m'\u001b[39m\u001b[38;5;124mName: \u001b[39m\u001b[38;5;132;01m{\u001b[39;00m\u001b[38;5;28;43mself\u001b[39;49m\u001b[38;5;241;43m.\u001b[39;49m\u001b[43mname\u001b[49m\u001b[38;5;132;01m}\u001b[39;00m\u001b[38;5;124m, Age: \u001b[39m\u001b[38;5;132;01m{\u001b[39;00m\u001b[38;5;28mself\u001b[39m\u001b[38;5;241m.\u001b[39mage\u001b[38;5;132;01m}\u001b[39;00m\u001b[38;5;124m.\u001b[39m\u001b[38;5;124m'\u001b[39m)\n",
      "\u001b[1;31mAttributeError\u001b[0m: 'Teacher' object has no attribute 'name'"
     ]
    }
   ],
   "source": [
    "lizzy = Teacher(name='Mary', age=58, subject=\"Science\")\n",
    "\n",
    "# will cause an ERROR\n",
    "lizzy.show()"
   ]
  },
  {
   "cell_type": "markdown",
   "id": "ac05cba0",
   "metadata": {
    "pycharm": {
     "name": "#%%\n"
    }
   },
   "source": [
    "It seems that the new `__init__` overwrites the old `__init__` from `Person`. How do we get around this?"
   ]
  },
  {
   "cell_type": "code",
   "execution_count": 41,
   "id": "77b6cc50",
   "metadata": {
    "pycharm": {
     "name": "#%%\n"
    }
   },
   "outputs": [],
   "source": [
    "class Person:\n",
    "    species='homo_sapiens' # This is class variable\n",
    "\n",
    "    def __init__(self, name, age):\n",
    "        self.name = name # This is instance variable\n",
    "        self.age = age\n",
    "\n",
    "    def show(self):\n",
    "        print(f'Name: {self.name}, Age: {self.age}.')\n",
    "\n",
    "\n",
    "class Teacher(Person):\n",
    "    profession = 'Teacher'\n",
    "\n",
    "    def __init__(self, name, age, subject):\n",
    "        # use this super function to use the parent (aka super) class init arguments\n",
    "        super().__init__(name, age)\n",
    "        self.subject = subject\n",
    "\n",
    "    def show_subject(self):\n",
    "        print(self.subject)\n"
   ]
  },
  {
   "cell_type": "code",
   "execution_count": 42,
   "id": "a34ccef3",
   "metadata": {
    "pycharm": {
     "name": "#%%\n"
    }
   },
   "outputs": [
    {
     "name": "stdout",
     "output_type": "stream",
     "text": [
      "Name: Mary, Age: 58.\n",
      "Science\n"
     ]
    }
   ],
   "source": [
    "lizzy = Teacher(name='Mary', age=58, subject='Science')\n",
    "\n",
    "# will cause an ERROR\n",
    "lizzy.show()\n",
    "lizzy.show_subject()"
   ]
  },
  {
   "cell_type": "markdown",
   "id": "e694c729",
   "metadata": {},
   "source": [
    "### Composition\n",
    "\n",
    "What is the difference between inheritance and composition?!\n",
    "\n",
    "- Inheritance: A Teacher **is a** Person.\n",
    "- Composition: A Teacher **has a** Boss or a Person **has a** address.\n",
    "\n",
    "So the relationship is slightly different. A composition relationship is often not required. For example: \n"
   ]
  },
  {
   "cell_type": "code",
   "execution_count": 43,
   "id": "0ddab963",
   "metadata": {},
   "outputs": [
    {
     "name": "stdout",
     "output_type": "stream",
     "text": [
      "Name: John, Age: 45, Address: {'street': 'Staudstr', 'city': 'Erlangen', 'postcode': '91058'}\n"
     ]
    }
   ],
   "source": [
    "class Address:\n",
    "    def __init__(self, street, city, postcode):\n",
    "        self.street = street\n",
    "        self.city = city\n",
    "        self.postcode = postcode\n",
    "    \n",
    "    def __repr__(self):\n",
    "        return f'{self.__dict__}'\n",
    "\n",
    "class Person:\n",
    "    species='homo_sapiens' # This is class variable\n",
    "\n",
    "    def __init__(self, name, age, address=None):\n",
    "        self.name = name # This is instance variable\n",
    "        self.age = age\n",
    "        self.address = address  # we made address optional!\n",
    "\n",
    "    def show(self):\n",
    "        print(f'Name: {self.name}, Age: {self.age}, Address: {self.address}')\n",
    "\n",
    "\n",
    "john_address = Address(\"Staudstr\", \"Erlangen\", \"91058\")\n",
    "\n",
    "# john has an address\n",
    "john = Person(name=\"John\", age=45, address=john_address)\n",
    "john.show()"
   ]
  },
  {
   "cell_type": "markdown",
   "id": "4df5ebb2",
   "metadata": {},
   "source": [
    "## Abstract Classes\n",
    "\n",
    "- An abstract class is just a class that defines some functionality\n",
    "   - Defines how we want a child class to behave\n",
    "- We can use abstract classes to define how we want our class to work\n",
    "   - Real Example:\n",
    "        - We have a camera device that must have the “acquire_image” method.\n",
    "        - We can make an abstract class with this method.\n",
    "        - All classes that inherit from this class must now have the “acquire_image” method\n"
   ]
  },
  {
   "cell_type": "code",
   "execution_count": 44,
   "id": "f813d091",
   "metadata": {
    "pycharm": {
     "name": "#%%\n"
    }
   },
   "outputs": [],
   "source": [
    "# make the abstract camera class\n",
    "\n",
    "from abc import ABC, abstractmethod  # ABC=Abstract Base Class\n",
    "\n",
    "\n",
    "class Camera(ABC):\n",
    "    def __init__(self) -> None:\n",
    "        \"\"\"Abstract Camera class. All camera devices should implement the\n",
    "        methods and attributes implemented here.\"\"\"\n",
    "        self.camera_model = ''\n",
    "\n",
    "    @abstractmethod\n",
    "    def acquire_image(self):\n",
    "        pass\n"
   ]
  },
  {
   "cell_type": "code",
   "execution_count": 45,
   "id": "369e08ec",
   "metadata": {
    "pycharm": {
     "name": "#%%\n"
    }
   },
   "outputs": [],
   "source": [
    "# now we create a class that inherits from this abstract class and use it\n",
    "\n",
    "class CameraModel9000(Camera):\n",
    "    def __init__(self):\n",
    "        super().__init__()\n"
   ]
  },
  {
   "cell_type": "code",
   "execution_count": 46,
   "id": "59404a53",
   "metadata": {
    "pycharm": {
     "name": "#%%\n"
    }
   },
   "outputs": [
    {
     "ename": "TypeError",
     "evalue": "Can't instantiate abstract class CameraModel9000 with abstract method acquire_image",
     "output_type": "error",
     "traceback": [
      "\u001b[1;31m---------------------------------------------------------------------------\u001b[0m",
      "\u001b[1;31mTypeError\u001b[0m                                 Traceback (most recent call last)",
      "Cell \u001b[1;32mIn[46], line 3\u001b[0m\n\u001b[0;32m      1\u001b[0m \u001b[38;5;66;03m# this will cause a (slightly unclear) ERROR!\u001b[39;00m\n\u001b[1;32m----> 3\u001b[0m my_camera \u001b[38;5;241m=\u001b[39m \u001b[43mCameraModel9000\u001b[49m\u001b[43m(\u001b[49m\u001b[43m)\u001b[49m\n",
      "\u001b[1;31mTypeError\u001b[0m: Can't instantiate abstract class CameraModel9000 with abstract method acquire_image"
     ]
    }
   ],
   "source": [
    "# this will cause a (slightly unclear) ERROR!\n",
    "\n",
    "my_camera = CameraModel9000()"
   ]
  },
  {
   "cell_type": "markdown",
   "id": "578dd370",
   "metadata": {
    "pycharm": {
     "name": "#%% md\n"
    }
   },
   "source": [
    "We must use the abstractmethod `acquire_image` defined in the abstract class!"
   ]
  },
  {
   "cell_type": "code",
   "execution_count": 47,
   "id": "f816f10e",
   "metadata": {
    "pycharm": {
     "name": "#%%\n"
    }
   },
   "outputs": [],
   "source": [
    "# now we create a class that inherits from this abstract class and use it\n",
    "\n",
    "class CameraModel9000(Camera):\n",
    "    def __init__(self):\n",
    "        super().__init__()\n",
    "\n",
    "    def acquire_image(self):\n",
    "        # self._accesses_some_api_to_take_image()\n",
    "        print(\"Say Cheese!\")"
   ]
  },
  {
   "cell_type": "code",
   "execution_count": 48,
   "id": "c45bc864",
   "metadata": {
    "pycharm": {
     "name": "#%%\n"
    }
   },
   "outputs": [
    {
     "name": "stdout",
     "output_type": "stream",
     "text": [
      "Say Cheese!\n"
     ]
    }
   ],
   "source": [
    "# this will cause a (slightly unclear) ERROR!\n",
    "\n",
    "my_camera = CameraModel9000()\n",
    "my_camera.acquire_image()"
   ]
  },
  {
   "cell_type": "markdown",
   "id": "db6f5707",
   "metadata": {
    "pycharm": {
     "name": "#%% md\n"
    }
   },
   "source": [
    "We can see that inheriting from the abstract class forced us to design our CameraModel9000 class in a consistent way!"
   ]
  },
  {
   "cell_type": "code",
   "execution_count": 49,
   "id": "c1d78105",
   "metadata": {},
   "outputs": [],
   "source": [
    "# now we create a class that inherits from this abstract class and use it\n",
    "\n",
    "class CameraModel9000(Camera):\n",
    "    def __init__(self):\n",
    "        super().__init__()\n"
   ]
  },
  {
   "cell_type": "code",
   "execution_count": 50,
   "id": "b7cf6d23",
   "metadata": {},
   "outputs": [
    {
     "ename": "TypeError",
     "evalue": "Can't instantiate abstract class CameraModel9000 with abstract method acquire_image",
     "output_type": "error",
     "traceback": [
      "\u001b[1;31m---------------------------------------------------------------------------\u001b[0m",
      "\u001b[1;31mTypeError\u001b[0m                                 Traceback (most recent call last)",
      "Cell \u001b[1;32mIn[50], line 3\u001b[0m\n\u001b[0;32m      1\u001b[0m \u001b[38;5;66;03m# this will cause a (slightly unclear) ERROR!\u001b[39;00m\n\u001b[1;32m----> 3\u001b[0m my_camera \u001b[38;5;241m=\u001b[39m \u001b[43mCameraModel9000\u001b[49m\u001b[43m(\u001b[49m\u001b[43m)\u001b[49m\n",
      "\u001b[1;31mTypeError\u001b[0m: Can't instantiate abstract class CameraModel9000 with abstract method acquire_image"
     ]
    }
   ],
   "source": [
    "# this will cause a (slightly unclear) ERROR!\n",
    "\n",
    "my_camera = CameraModel9000()"
   ]
  },
  {
   "cell_type": "markdown",
   "id": "6a45214e",
   "metadata": {},
   "source": [
    "We must use the abstractmethod `acquire_image` defined in the abstract class!"
   ]
  },
  {
   "cell_type": "code",
   "execution_count": 51,
   "id": "46f3ff47",
   "metadata": {},
   "outputs": [],
   "source": [
    "# now we create a class that inherits from this abstract class and use it\n",
    "\n",
    "class CameraModel9000(Camera):\n",
    "    def __init__(self):\n",
    "        super().__init__()\n",
    "\n",
    "    def acquire_image(self):\n",
    "        # self._accesses_some_api_to_take_image()\n",
    "        print(\"Say Cheese!\")"
   ]
  },
  {
   "cell_type": "code",
   "execution_count": 52,
   "id": "a2d63bd7",
   "metadata": {},
   "outputs": [
    {
     "name": "stdout",
     "output_type": "stream",
     "text": [
      "Say Cheese!\n"
     ]
    }
   ],
   "source": [
    "# this will cause a (slightly unclear) ERROR!\n",
    "\n",
    "my_camera = CameraModel9000()\n",
    "my_camera.acquire_image()"
   ]
  },
  {
   "cell_type": "markdown",
   "id": "c46fe6b1",
   "metadata": {},
   "source": [
    "We can see that inheriting from the abstract class forced us to design our CameraModel9000 class in a consistent way!"
   ]
  },
  {
   "cell_type": "markdown",
   "id": "2609fd2f",
   "metadata": {
    "pycharm": {
     "name": "#%% md\n"
    }
   },
   "source": [
    "## Summary\n",
    "\n",
    "Classes are the building blocks of Object Oriented Programming. They allow us to orgaise our data and functionality in one logical place.\n",
    "\n",
    "If you feel there is anything missing from this workshop on functions, please let me now in the [issues on GitHub](https://github.com/GuckLab/Python-Workshops/issues)!"
   ]
  },
  {
   "cell_type": "code",
   "execution_count": null,
   "id": "32905553",
   "metadata": {
    "pycharm": {
     "name": "#%%\n"
    }
   },
   "outputs": [],
   "source": []
  }
 ],
 "metadata": {
  "kernelspec": {
   "display_name": "Python 3 (ipykernel)",
   "language": "python",
   "name": "python3"
  },
  "language_info": {
   "codemirror_mode": {
    "name": "ipython",
    "version": 3
   },
   "file_extension": ".py",
   "mimetype": "text/x-python",
   "name": "python",
   "nbconvert_exporter": "python",
   "pygments_lexer": "ipython3",
   "version": "3.9.13"
  }
 },
 "nbformat": 4,
 "nbformat_minor": 5
}
