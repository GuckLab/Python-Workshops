{
 "cells": [
  {
   "cell_type": "markdown",
   "id": "floating-terrorist",
   "metadata": {
    "pycharm": {
     "name": "#%% md\n"
    }
   },
   "source": [
    "# Welcome to the Intermediate Python Workshop\n",
    "\n",
    "## Functions\n",
    "\n",
    "This notebooks will give you an intermediate introduction to Python functions.\n",
    "There is a very nice functions video by Corey Schafer aimed at beginners/intermediate-level programmers [here](https://www.youtube.com/watch?v=9Os0o3wzS_I).\n",
    "A more advanced video on positional-only and keyword-only arguments in Python by MCoding is [here](https://www.youtube.com/watch?v=R8-oAqCgHag).\n",
    "\n",
    "Eoghan O'Connell, Guck Division, MPL, 2023"
   ]
  },
  {
   "cell_type": "code",
   "execution_count": 33,
   "id": "young-conjunction",
   "metadata": {
    "pycharm": {
     "name": "#%%\n"
    }
   },
   "outputs": [],
   "source": [
    "# notebook metadata you can ignore!\n",
    "info = {\"topic\": [\"functions\"],\n",
    "        \"version\" : \"0.0.1\"}"
   ]
  },
  {
   "cell_type": "markdown",
   "id": "enabling-madrid",
   "metadata": {
    "pycharm": {
     "name": "#%% md\n"
    }
   },
   "source": [
    "### How to use this notebook\n",
    "\n",
    "- Click on a cell (each box is called a cell). Hit \"shift+enter\", this will run the cell!\n",
    "- You can run the cells in any order!\n",
    "- The output of runnable code is printed below the cell.\n",
    "- Check out this [Jupyter Notebook Tutorial video](https://www.youtube.com/watch?v=HW29067qVWk).\n",
    "\n",
    "See the help tab above for more information!\n"
   ]
  },
  {
   "cell_type": "markdown",
   "id": "ahead-adventure",
   "metadata": {
    "pycharm": {
     "name": "#%% md\n"
    }
   },
   "source": [
    "# What is in this Workshop?\n",
    "In this notebook we cover:\n",
    "- What is a function: why/when to use it (DRY, remove interdependence)\n",
    "- Function return (output)\n",
    "- Function parameters/arguments\n",
    "- Required arguments and default arguments\n",
    "- Docstrings\n",
    "- Functions vs. Methods?\n",
    "- Function variable scope\n",
    "- Using functions together\n",
    "- Advanced arguments (*args, **kwargs, *, /)"
   ]
  },
  {
   "cell_type": "markdown",
   "id": "funded-workshop",
   "metadata": {
    "pycharm": {
     "name": "#%% md\n"
    }
   },
   "source": [
    "-----------\n",
    "## What is a function?\n",
    "- Instructions packaged together that perform a specific task\n",
    "\n",
    "## Why do we use functions?\n",
    "- Puts code with specific purpose in a single location\n",
    "- Changing the code only has to be done in one place!\n",
    "\n",
    "## When to use a function?\n",
    "- Anytime you have code that:\n",
    "   - Does one thing\n",
    "   - Might be reused\n",
    "\n",
    "\n",
    "### Example:\n",
    "Get the maximum value in a list.\n",
    "\n",
    "This task is specific, does one thing, and you will probably reuse it!\n",
    "Let's see how it looks on its own...\n",
    "\n",
    "(ignore for now that there is a built-in `max` function in Python)."
   ]
  },
  {
   "cell_type": "code",
   "execution_count": 1,
   "id": "enclosed-wrapping",
   "metadata": {
    "pycharm": {
     "name": "#%%\n"
    }
   },
   "outputs": [
    {
     "name": "stdout",
     "output_type": "stream",
     "text": [
      "8\n"
     ]
    }
   ],
   "source": [
    "# an example list\n",
    "my_list = [2, 4, 5, 8, 3]\n",
    "\n",
    "# get the maximum value\n",
    "max_num = 0\n",
    "for num in my_list:\n",
    "    if num > max_num:\n",
    "        max_num = num\n",
    "\n",
    "print(max_num)\n"
   ]
  },
  {
   "cell_type": "raw",
   "id": "395367a0",
   "metadata": {
    "pycharm": {
     "name": "#%% raw\n"
    }
   },
   "source": [
    "You can imagine that you might need to use this code elsewhere. To do this, you would copy and paste..."
   ]
  },
  {
   "cell_type": "code",
   "execution_count": 2,
   "id": "cb56ec5c",
   "metadata": {
    "pycharm": {
     "name": "#%%\n"
    }
   },
   "outputs": [
    {
     "name": "stdout",
     "output_type": "stream",
     "text": [
      "8\n"
     ]
    }
   ],
   "source": [
    "max_num = 0\n",
    "for num in my_list:\n",
    "    if num > max_num:\n",
    "        max_num = num\n",
    "\n",
    "print(max_num)"
   ]
  },
  {
   "cell_type": "markdown",
   "id": "narrative-premises",
   "metadata": {
    "pycharm": {
     "name": "#%% md\n"
    }
   },
   "source": [
    "This doesn't seem so good. What if you change something in the newly pasted code? You now would have two different codes! Ahh!\n",
    "\n",
    "Instead, we should place this reusable code in a function, which makes everything a bit cleaner and easier to handle.\n",
    "\n",
    "The syntax for a function is:\n",
    "\n",
    "```python\n",
    "def function_name():\n",
    "    # some code here\n",
    "    pass  # if you want an empty function, put in pass\n",
    "```"
   ]
  },
  {
   "cell_type": "code",
   "execution_count": 3,
   "id": "thick-browse",
   "metadata": {
    "pycharm": {
     "name": "#%%\n"
    }
   },
   "outputs": [],
   "source": [
    "def maximum_value_of_list(my_list):\n",
    "    max_num = 0\n",
    "    for num in my_list:\n",
    "        if num > max_num:\n",
    "            max_num = num\n",
    "    print(max_num)"
   ]
  },
  {
   "cell_type": "markdown",
   "id": "582cdef6",
   "metadata": {
    "pycharm": {
     "name": "#%% md\n"
    }
   },
   "source": [
    "Now, to reuse the code, we simply \"call\" the function. Calling the function means writing the name followed by the parentheses:"
   ]
  },
  {
   "cell_type": "code",
   "execution_count": 4,
   "id": "2a5c7d19",
   "metadata": {
    "pycharm": {
     "name": "#%%\n"
    }
   },
   "outputs": [
    {
     "name": "stdout",
     "output_type": "stream",
     "text": [
      "50\n"
     ]
    }
   ],
   "source": [
    "# an example list\n",
    "my_list = [2, 9, 5, 50, 3]\n",
    "\n",
    "maximum_value_of_list(my_list=my_list)\n"
   ]
  },
  {
   "cell_type": "markdown",
   "id": "35b46d9e",
   "metadata": {
    "pycharm": {
     "name": "#%% md\n"
    }
   },
   "source": [
    "And now, if you want to change the function, you only have to change it in ONE place! Yahoo!"
   ]
  },
  {
   "cell_type": "markdown",
   "id": "a5e9e750",
   "metadata": {
    "pycharm": {
     "name": "#%% md\n"
    }
   },
   "source": [
    "Beginners often do this:"
   ]
  },
  {
   "cell_type": "code",
   "execution_count": 5,
   "id": "3c31d70f",
   "metadata": {
    "pycharm": {
     "name": "#%%\n"
    }
   },
   "outputs": [
    {
     "data": {
      "text/plain": [
       "<function __main__.maximum_value_of_list(my_list)>"
      ]
     },
     "execution_count": 5,
     "metadata": {},
     "output_type": "execute_result"
    }
   ],
   "source": [
    "# try to call the function without the parentheses!\n",
    "\n",
    "maximum_value_of_list\n",
    "\n",
    "# it just shows you that it is a function! You must call it as we did above: `maximum_value_of_list(my_list=my_list)`\n"
   ]
  },
  {
   "cell_type": "markdown",
   "id": "velvet-dallas",
   "metadata": {
    "pycharm": {
     "name": "#%% md\n"
    }
   },
   "source": [
    "-----------\n",
    "## Function return (output)\n",
    "\n",
    "What if we want to use this maximum value to do something else in the next part of our code?\n",
    "\n",
    "Right now, we are just printing out the value. However, this isn't actually putting the value anywhere!\n",
    "\n",
    "To get the function to \"send\" the maximum value to us, we use the `return` statement in the function.\n",
    "\n",
    "**Warning: the `return` statement will exit the function**"
   ]
  },
  {
   "cell_type": "code",
   "execution_count": 6,
   "id": "a3dbfd62",
   "metadata": {
    "pycharm": {
     "name": "#%%\n"
    }
   },
   "outputs": [
    {
     "name": "stdout",
     "output_type": "stream",
     "text": [
      "My Max value is: 50\n"
     ]
    }
   ],
   "source": [
    "def maximum_value_of_list(my_list):\n",
    "    max_num = 0\n",
    "    for num in my_list:\n",
    "        if num > max_num:\n",
    "            max_num = num\n",
    "    return max_num\n",
    "\n",
    "my_list = [2, 9, 5, 50, 3]\n",
    "\n",
    "max_value = maximum_value_of_list(my_list=my_list)\n",
    "\n",
    "print(f\"My Max value is: {max_value}\")"
   ]
  },
  {
   "cell_type": "markdown",
   "id": "616bca28",
   "metadata": {
    "pycharm": {
     "name": "#%% md\n"
    }
   },
   "source": [
    "This may seem like a small difference, but makes functions very powerful!\n",
    "\n",
    "It means Function can operate on data and return the operation’s result."
   ]
  },
  {
   "cell_type": "markdown",
   "id": "9ed722f0",
   "metadata": {
    "pycharm": {
     "name": "#%% md\n"
    }
   },
   "source": [
    "## Function parameters/arguments\n",
    "\n",
    "When we defied the above function `maximum_value_of_list`, we had `my_list` in parentheses after. What is this?\n",
    "\n",
    "Anything within the parentheses is a parameter belonging to the function. It is how we give the function data or variables.\n",
    "\n",
    "- You can pass an argument (value) to a parameter\n",
    "    - There are parameters that require an argument (no default)\n",
    "    - There are parameters that already have a default value\n",
    "    - **Warning**: This is a source of many errors for beginners.\n",
    "- You can have as many input parameters as you like\n",
    "    - But try not to have more than ~10"
   ]
  },
  {
   "cell_type": "markdown",
   "id": "940afe7a",
   "metadata": {
    "pycharm": {
     "name": "#%% md\n"
    }
   },
   "source": [
    "Lets define a simple new function..."
   ]
  },
  {
   "cell_type": "code",
   "execution_count": 7,
   "id": "bd5f2305",
   "metadata": {
    "pycharm": {
     "name": "#%%\n"
    }
   },
   "outputs": [
    {
     "name": "stdout",
     "output_type": "stream",
     "text": [
      "Hey Colleague.\n"
     ]
    }
   ],
   "source": [
    "def introduce_yourself():\n",
    "    print(f'Hey Colleague.')\n",
    "\n",
    "introduce_yourself()"
   ]
  },
  {
   "cell_type": "markdown",
   "id": "5250f020",
   "metadata": {
    "pycharm": {
     "name": "#%% md\n"
    }
   },
   "source": [
    "### Required arguments and default arguments\n",
    "\n",
    "Now let's add a required positional parameter.\n",
    " - Required just means that the function must be given an argument for the parameter.\n",
    " - Positional just means that the order of the given arguments is important."
   ]
  },
  {
   "cell_type": "code",
   "execution_count": 8,
   "id": "6f7f7d2f",
   "metadata": {
    "pycharm": {
     "name": "#%%\n"
    }
   },
   "outputs": [
    {
     "name": "stdout",
     "output_type": "stream",
     "text": [
      "Hallo Colleague.\n",
      "What's up Colleague.\n"
     ]
    }
   ],
   "source": [
    "def introduce_yourself(greeting):\n",
    "    print(f'{greeting} Colleague.')\n",
    "\n",
    "introduce_yourself(greeting='Hallo')\n",
    "introduce_yourself(\"What's up\")\n"
   ]
  },
  {
   "cell_type": "markdown",
   "id": "604f1ba9",
   "metadata": {
    "pycharm": {
     "name": "#%% md\n"
    }
   },
   "source": [
    "Now let's use a default argument value for a parameter. For example, if we by default are introducing ourselves to our colleague.\n",
    "What does that look like?"
   ]
  },
  {
   "cell_type": "code",
   "execution_count": 9,
   "id": "c56f9367",
   "metadata": {
    "pycharm": {
     "name": "#%%\n"
    }
   },
   "outputs": [
    {
     "name": "stdout",
     "output_type": "stream",
     "text": [
      "Hey Colleague.\n",
      "Hey Buddy.\n"
     ]
    }
   ],
   "source": [
    "def introduce_yourself(greeting, person='Colleague'):\n",
    "    print(f'{greeting} {person}.')\n",
    "\n",
    "introduce_yourself(greeting=\"Hey\")\n",
    "introduce_yourself(greeting=\"Hey\", person=\"Buddy\")"
   ]
  },
  {
   "cell_type": "markdown",
   "id": "c4989ed1",
   "metadata": {
    "pycharm": {
     "name": "#%% md\n"
    }
   },
   "source": [
    "You can see that when we give a parameter a default argument (Here it was \"Colleague\"), then it is no longer required as input, it is **optional**."
   ]
  },
  {
   "cell_type": "markdown",
   "id": "a3f1a5cc",
   "metadata": {
    "pycharm": {
     "name": "#%% md\n"
    }
   },
   "source": [
    "## Docstrings\n",
    "\n",
    "- A docstring is a “documentation string” that describes the function.\n",
    "- They are not run when you call your function\n",
    "   - but they are python objects - don't worry if you don't understand that.\n",
    "- Simple docstrings describe briefly what the function does.\n",
    "- Can have section for “Parameters”, “Returns”, “Notes”, “References” etc.\n",
    "- Can be used to create automated documentation websites easily (Sphinx)"
   ]
  },
  {
   "cell_type": "markdown",
   "id": "b00c1b1b",
   "metadata": {
    "pycharm": {
     "name": "#%% md\n"
    }
   },
   "source": [
    "Let's look at our previous function that calculated the maximum value in a list of numbers.\n",
    "\n",
    "Let's add a docstring to it!"
   ]
  },
  {
   "cell_type": "code",
   "execution_count": 10,
   "id": "c19390c5",
   "metadata": {
    "pycharm": {
     "name": "#%%\n"
    }
   },
   "outputs": [],
   "source": [
    "def maximum_value_of_list(my_list):\n",
    "    \"\"\"Calculates the maximum value in a list of numbers.\"\"\"\n",
    "    max_num = 0\n",
    "    for num in my_list:\n",
    "        if num > max_num:\n",
    "            max_num = num\n",
    "    return max_num"
   ]
  },
  {
   "cell_type": "markdown",
   "id": "6eebb72f",
   "metadata": {
    "pycharm": {
     "name": "#%% md\n"
    }
   },
   "source": [
    "This one liner makes understanding your function in future so much easier! Please always do this!!\n",
    "\n",
    "But we can add lots more..."
   ]
  },
  {
   "cell_type": "code",
   "execution_count": 11,
   "id": "a94f5465",
   "metadata": {
    "pycharm": {
     "name": "#%%\n"
    }
   },
   "outputs": [],
   "source": [
    "def maximum_value_of_list(my_list):\n",
    "    \"\"\"Calculates the maximum value in a list of numbers.\n",
    "\n",
    "    Parameters\n",
    "    ----------\n",
    "    my_list : list\n",
    "        A list of numbers.\n",
    "\n",
    "    Returns\n",
    "    -------\n",
    "    max_num : float or int\n",
    "        The maximum value of the list.\n",
    "\n",
    "    \"\"\"\n",
    "    max_num = 0\n",
    "    for num in my_list:\n",
    "        if num > max_num:\n",
    "            max_num = num\n",
    "    return max_num"
   ]
  },
  {
   "cell_type": "markdown",
   "id": "2b32e716",
   "metadata": {
    "pycharm": {
     "name": "#%% md\n"
    }
   },
   "source": [
    "We are using the [Numpy documentation style guide](https://numpydoc.readthedocs.io/en/latest/format.html#docstring-standard).\n",
    "\n",
    "There are many sections. If you use a documentation build-tool like Sphinx, they will be automatically built and displayed nicely in a website. Example is [the dclab docs](https://dclab.readthedocs.io/en/stable/sec_code_reference.html#dclab.rtdc_dataset.writer.RTDCWriter.store_feature)."
   ]
  },
  {
   "cell_type": "markdown",
   "id": "f2ef5a9d",
   "metadata": {
    "pycharm": {
     "name": "#%% md\n"
    }
   },
   "source": [
    "## Functions vs. Methods?\n",
    "\n",
    "A method is just a function that belongs to a class. Don't worry too much about it!"
   ]
  },
  {
   "cell_type": "markdown",
   "id": "d27ddf79",
   "metadata": {
    "pycharm": {
     "name": "#%% md\n"
    }
   },
   "source": [
    "## Function variable scope\n",
    "\n",
    "- Variables created within a function are local to that function.\n",
    "- Parameters are also local to their function.\n"
   ]
  },
  {
   "cell_type": "code",
   "execution_count": 12,
   "id": "3db6dc3c",
   "metadata": {
    "pycharm": {
     "name": "#%%\n"
    }
   },
   "outputs": [
    {
     "name": "stdout",
     "output_type": "stream",
     "text": [
      "3, True, 5, wow,\n"
     ]
    }
   ],
   "source": [
    "def showing_variable_scope(arg_1, arg_2):\n",
    "    var_1 = 5\n",
    "    var_2 = \"wow\"\n",
    "    print(f'{arg_1}, {arg_2}, {var_1}, {var_2},')\n",
    "\n",
    "showing_variable_scope(arg_1=3, arg_2=True)\n"
   ]
  },
  {
   "cell_type": "markdown",
   "id": "5cb7b0bb",
   "metadata": {
    "pycharm": {
     "name": "#%% md\n"
    }
   },
   "source": [
    "Great, they work within the function, we expect that! But where don't they work?"
   ]
  },
  {
   "cell_type": "code",
   "execution_count": 13,
   "id": "ab1867cd",
   "metadata": {
    "pycharm": {
     "name": "#%%\n"
    }
   },
   "outputs": [
    {
     "ename": "NameError",
     "evalue": "name 'arg_1' is not defined",
     "output_type": "error",
     "traceback": [
      "\u001b[1;31m---------------------------------------------------------------------------\u001b[0m",
      "\u001b[1;31mNameError\u001b[0m                                 Traceback (most recent call last)",
      "Cell \u001b[1;32mIn[13], line 3\u001b[0m\n\u001b[0;32m      1\u001b[0m \u001b[38;5;66;03m# let's try to use the varibles from above from outside the function\u001b[39;00m\n\u001b[1;32m----> 3\u001b[0m \u001b[38;5;28mprint\u001b[39m(\u001b[38;5;124mf\u001b[39m\u001b[38;5;124m'\u001b[39m\u001b[38;5;132;01m{\u001b[39;00m\u001b[43marg_1\u001b[49m\u001b[38;5;132;01m}\u001b[39;00m\u001b[38;5;124m, \u001b[39m\u001b[38;5;132;01m{\u001b[39;00marg_2\u001b[38;5;132;01m}\u001b[39;00m\u001b[38;5;124m, \u001b[39m\u001b[38;5;132;01m{\u001b[39;00mvar_1\u001b[38;5;132;01m}\u001b[39;00m\u001b[38;5;124m, \u001b[39m\u001b[38;5;132;01m{\u001b[39;00mvar_2\u001b[38;5;132;01m}\u001b[39;00m\u001b[38;5;124m,\u001b[39m\u001b[38;5;124m'\u001b[39m)\n",
      "\u001b[1;31mNameError\u001b[0m: name 'arg_1' is not defined"
     ]
    }
   ],
   "source": [
    "# let's try to use the varibles from above from outside the function\n",
    "\n",
    "print(f'{arg_1}, {arg_2}, {var_1}, {var_2},')"
   ]
  },
  {
   "cell_type": "markdown",
   "id": "9156addb",
   "metadata": {
    "pycharm": {
     "name": "#%% md\n"
    }
   },
   "source": [
    "It doesn't work because the \"scope\" of the variables within a function are local to the function i.e. they only work within the function! (unless you return them, of course!)"
   ]
  },
  {
   "cell_type": "markdown",
   "id": "e131efd1",
   "metadata": {
    "pycharm": {
     "name": "#%% md\n"
    }
   },
   "source": [
    "## Using functions together\n",
    "\n",
    "There are many ways to use functions together, but let's just remind ourselves why we are using functions:\n",
    "\n",
    "- Functions are good to use when we have code that does a specific task and will be reused.\n",
    "\n",
    "So let's use two functions one after the other!"
   ]
  },
  {
   "cell_type": "code",
   "execution_count": 14,
   "id": "c25a85b8",
   "metadata": {
    "pycharm": {
     "name": "#%%\n"
    }
   },
   "outputs": [
    {
     "name": "stdout",
     "output_type": "stream",
     "text": [
      "HEY COLLEAGUE.\n",
      "hey colleague.\n"
     ]
    }
   ],
   "source": [
    "def introduce_yourself():\n",
    "    return f'Hey Colleague.'  # notice that we are returning here, not printing!\n",
    "\n",
    "# let's change the output to UPPER-CASE using the built-in `upper` function for strings\n",
    "print(introduce_yourself().upper())\n",
    "\n",
    "# let's change the output to lower-case\n",
    "print(introduce_yourself().lower())"
   ]
  },
  {
   "cell_type": "markdown",
   "id": "3e271bb3",
   "metadata": {
    "pycharm": {
     "name": "#%% md\n"
    }
   },
   "source": [
    "## Advanced arguments (*args, **kwargs, *, /)\n",
    "\n",
    "We have several ways to handle arguments in Python. Usually, you just do as we did above.\n",
    "\n",
    "But sometimes you have functions that may need several arguments, and you don't know how many! For this we use `*args` and `**kwargs`..."
   ]
  },
  {
   "cell_type": "code",
   "execution_count": 15,
   "id": "7eb1f267",
   "metadata": {
    "pycharm": {
     "name": "#%%\n"
    }
   },
   "outputs": [
    {
     "data": {
      "text/plain": [
       "('Eoghan', 10000, 39)"
      ]
     },
     "execution_count": 15,
     "metadata": {},
     "output_type": "execute_result"
    }
   ],
   "source": [
    "def set_employee_info(*args):\n",
    "    # all positional arguments will be put into a tuple\n",
    "    return args\n",
    "\n",
    "set_employee_info(\"Eoghan\", 10000, 39)"
   ]
  },
  {
   "cell_type": "markdown",
   "id": "132b71b1",
   "metadata": {
    "pycharm": {
     "name": "#%% md\n"
    }
   },
   "source": [
    "You can see that we can include as many positional arguments as we like! Can we put in keyword arguments too?"
   ]
  },
  {
   "cell_type": "code",
   "execution_count": 16,
   "id": "18fd4e59",
   "metadata": {
    "pycharm": {
     "name": "#%%\n"
    }
   },
   "outputs": [
    {
     "ename": "TypeError",
     "evalue": "set_employee_info() got an unexpected keyword argument 'pay'",
     "output_type": "error",
     "traceback": [
      "\u001b[1;31m---------------------------------------------------------------------------\u001b[0m",
      "\u001b[1;31mTypeError\u001b[0m                                 Traceback (most recent call last)",
      "Cell \u001b[1;32mIn[16], line 1\u001b[0m\n\u001b[1;32m----> 1\u001b[0m \u001b[43mset_employee_info\u001b[49m\u001b[43m(\u001b[49m\u001b[38;5;124;43m\"\u001b[39;49m\u001b[38;5;124;43mEoghan\u001b[39;49m\u001b[38;5;124;43m\"\u001b[39;49m\u001b[43m,\u001b[49m\u001b[43m \u001b[49m\u001b[43mpay\u001b[49m\u001b[38;5;241;43m=\u001b[39;49m\u001b[38;5;241;43m10000\u001b[39;49m\u001b[43m,\u001b[49m\u001b[43m \u001b[49m\u001b[43mhours\u001b[49m\u001b[38;5;241;43m=\u001b[39;49m\u001b[38;5;241;43m39\u001b[39;49m\u001b[43m)\u001b[49m\n",
      "\u001b[1;31mTypeError\u001b[0m: set_employee_info() got an unexpected keyword argument 'pay'"
     ]
    }
   ],
   "source": [
    "set_employee_info(\"Eoghan\", pay=10000, hours=39)"
   ]
  },
  {
   "cell_type": "markdown",
   "id": "4f8e2a62",
   "metadata": {
    "pycharm": {
     "name": "#%% md\n"
    }
   },
   "source": [
    "It seems like we cannot. Honestly, using `*args` in the above function isn't suitable. we should use `**kwargs` instead.\n",
    "\n",
    "Because we should force the user to specify the `pay` and `hours`!"
   ]
  },
  {
   "cell_type": "code",
   "execution_count": 17,
   "id": "38ab2d7b",
   "metadata": {
    "pycharm": {
     "name": "#%%\n"
    }
   },
   "outputs": [
    {
     "data": {
      "text/plain": [
       "{'name': 'Eoghan', 'pay': 10000, 'hours': 39}"
      ]
     },
     "execution_count": 17,
     "metadata": {},
     "output_type": "execute_result"
    }
   ],
   "source": [
    "def set_employee_info(**kwargs):\n",
    "    # all keyword arguments will be put into a dictionary\n",
    "    return kwargs\n",
    "\n",
    "set_employee_info(name=\"Eoghan\", pay=10000, hours=39)"
   ]
  },
  {
   "cell_type": "markdown",
   "id": "60bab16e",
   "metadata": {
    "pycharm": {
     "name": "#%% md\n"
    }
   },
   "source": [
    "Perhaps a mix would be best, because maybe it is clear that name should be given:"
   ]
  },
  {
   "cell_type": "code",
   "execution_count": 18,
   "id": "543eae32",
   "metadata": {
    "pycharm": {
     "name": "#%%\n"
    }
   },
   "outputs": [
    {
     "name": "stdout",
     "output_type": "stream",
     "text": [
      "name='Eoghan'\n",
      "args=()\n",
      "kwargs={'pay': 10000, 'hours': 39}\n"
     ]
    }
   ],
   "source": [
    "def set_employee_info(name, *args, **kwargs):\n",
    "    print(f\"{name=}\")\n",
    "    print(f\"{args=}\")\n",
    "    print(f\"{kwargs=}\")\n",
    "\n",
    "\n",
    "set_employee_info(\"Eoghan\", pay=10000, hours=39)"
   ]
  },
  {
   "cell_type": "code",
   "execution_count": 19,
   "id": "051bdb02",
   "metadata": {
    "pycharm": {
     "name": "#%%\n"
    }
   },
   "outputs": [
    {
     "name": "stdout",
     "output_type": "stream",
     "text": [
      "name='Eoghan'\n",
      "args=('other info - gets eaten by *args',)\n",
      "kwargs={'pay': 10000, 'hours': 39}\n"
     ]
    }
   ],
   "source": [
    "set_employee_info(\"Eoghan\", \"other info - gets eaten by *args\", pay=10000, hours=39)\n"
   ]
  },
  {
   "cell_type": "markdown",
   "id": "5ea432c8",
   "metadata": {
    "pycharm": {
     "name": "#%% md\n"
    }
   },
   "source": [
    "## Using Positional-only (/) and Keyword-only (*) arguments\n",
    "\n",
    "See [detailed video here](https://www.youtube.com/watch?v=R8-oAqCgHag).\n",
    "\n",
    "In short:\n",
    "\n",
    "```python\n",
    "def func(pos_only, /, pos_or_kw, *, kw_only):\n",
    "    pass\n",
    "```\n",
    "\n",
    "Python allows us to do some advanced stuff with our parameters also..."
   ]
  },
  {
   "cell_type": "code",
   "execution_count": 20,
   "id": "b9f0ef7b",
   "metadata": {
    "pycharm": {
     "name": "#%%\n"
    }
   },
   "outputs": [
    {
     "name": "stdout",
     "output_type": "stream",
     "text": [
      "name='Eoghan'\n",
      "pay=10000\n",
      "hours=39\n"
     ]
    }
   ],
   "source": [
    "# Using `*` will mean everything to the right of the `*` is keyword only\n",
    "\n",
    "def set_employee_info(name, *,\n",
    "                      pay, hours):\n",
    "    print(f\"{name=}\")\n",
    "    print(f\"{pay=}\")\n",
    "    print(f\"{hours=}\")\n",
    "\n",
    "# let's call it correctly:\n",
    "set_employee_info(\"Eoghan\", pay=10000, hours=39)\n"
   ]
  },
  {
   "cell_type": "code",
   "execution_count": 21,
   "id": "d9133faf",
   "metadata": {
    "pycharm": {
     "name": "#%%\n"
    }
   },
   "outputs": [
    {
     "ename": "TypeError",
     "evalue": "set_employee_info() takes 1 positional argument but 2 positional arguments (and 1 keyword-only argument) were given",
     "output_type": "error",
     "traceback": [
      "\u001b[1;31m---------------------------------------------------------------------------\u001b[0m",
      "\u001b[1;31mTypeError\u001b[0m                                 Traceback (most recent call last)",
      "Cell \u001b[1;32mIn[21], line 2\u001b[0m\n\u001b[0;32m      1\u001b[0m \u001b[38;5;66;03m# let's try to call `pay` as a positional argument\u001b[39;00m\n\u001b[1;32m----> 2\u001b[0m \u001b[43mset_employee_info\u001b[49m\u001b[43m(\u001b[49m\u001b[38;5;124;43m\"\u001b[39;49m\u001b[38;5;124;43mEoghan\u001b[39;49m\u001b[38;5;124;43m\"\u001b[39;49m\u001b[43m,\u001b[49m\u001b[43m \u001b[49m\u001b[38;5;241;43m10000\u001b[39;49m\u001b[43m,\u001b[49m\u001b[43m \u001b[49m\u001b[43mhours\u001b[49m\u001b[38;5;241;43m=\u001b[39;49m\u001b[38;5;241;43m39\u001b[39;49m\u001b[43m)\u001b[49m\n\u001b[0;32m      4\u001b[0m \u001b[38;5;66;03m# doesn't work!\u001b[39;00m\n",
      "\u001b[1;31mTypeError\u001b[0m: set_employee_info() takes 1 positional argument but 2 positional arguments (and 1 keyword-only argument) were given"
     ]
    }
   ],
   "source": [
    "# let's try to call `pay` as a positional argument\n",
    "set_employee_info(\"Eoghan\", 10000, hours=39)\n",
    "\n",
    "# doesn't work!"
   ]
  },
  {
   "cell_type": "markdown",
   "id": "f5312fbc",
   "metadata": {
    "pycharm": {
     "name": "#%% md\n"
    }
   },
   "source": [
    "We can force everything to the left of `/` to be positional only also.\n",
    "\n",
    "So we could have this setup, where everything to the left of `/` must be positional, and everything to the right of `*` must be keyword..."
   ]
  },
  {
   "cell_type": "code",
   "execution_count": 22,
   "id": "1ea55a05",
   "metadata": {
    "pycharm": {
     "name": "#%%\n"
    }
   },
   "outputs": [
    {
     "name": "stdout",
     "output_type": "stream",
     "text": [
      "name='Eoghan'\n",
      "pay=10000\n",
      "hours=39\n"
     ]
    }
   ],
   "source": [
    "def set_employee_info(name, /, *, pay, hours):\n",
    "    print(f\"{name=}\")\n",
    "    print(f\"{pay=}\")\n",
    "    print(f\"{hours=}\")\n",
    "\n",
    "set_employee_info(\"Eoghan\", pay=10000, hours=39)"
   ]
  },
  {
   "cell_type": "code",
   "execution_count": 23,
   "id": "3b3236b6",
   "metadata": {
    "pycharm": {
     "name": "#%%\n"
    }
   },
   "outputs": [
    {
     "ename": "TypeError",
     "evalue": "set_employee_info() got some positional-only arguments passed as keyword arguments: 'name'",
     "output_type": "error",
     "traceback": [
      "\u001b[1;31m---------------------------------------------------------------------------\u001b[0m",
      "\u001b[1;31mTypeError\u001b[0m                                 Traceback (most recent call last)",
      "Cell \u001b[1;32mIn[23], line 3\u001b[0m\n\u001b[0;32m      1\u001b[0m \u001b[38;5;66;03m# this will raise an error because we are using the `name` parameter with a keyword when calling\u001b[39;00m\n\u001b[1;32m----> 3\u001b[0m \u001b[43mset_employee_info\u001b[49m\u001b[43m(\u001b[49m\u001b[43mname\u001b[49m\u001b[38;5;241;43m=\u001b[39;49m\u001b[38;5;124;43m\"\u001b[39;49m\u001b[38;5;124;43mEoghan\u001b[39;49m\u001b[38;5;124;43m\"\u001b[39;49m\u001b[43m,\u001b[49m\u001b[43m \u001b[49m\u001b[43mpay\u001b[49m\u001b[38;5;241;43m=\u001b[39;49m\u001b[38;5;241;43m10000\u001b[39;49m\u001b[43m,\u001b[49m\u001b[43m \u001b[49m\u001b[43mhours\u001b[49m\u001b[38;5;241;43m=\u001b[39;49m\u001b[38;5;241;43m39\u001b[39;49m\u001b[43m)\u001b[49m\n",
      "\u001b[1;31mTypeError\u001b[0m: set_employee_info() got some positional-only arguments passed as keyword arguments: 'name'"
     ]
    }
   ],
   "source": [
    "# this will raise an error because we are using the `name` parameter with a keyword when calling\n",
    "\n",
    "set_employee_info(name=\"Eoghan\", pay=10000, hours=39)"
   ]
  },
  {
   "cell_type": "markdown",
   "id": "ff057259",
   "metadata": {
    "pycharm": {
     "name": "#%% md\n"
    }
   },
   "source": [
    "### Why would we ever need /  or * ?\n",
    "\n",
    "- `/` would be needed when a parameter name doesn't *mean* anything tangible.\n",
    "- `*` would be needed when we want to avoid confusion. For example, we wouldn't want to accidentally say that Eoghan works 10000 hours a week with a pay of 39, now would we!?\n"
   ]
  },
  {
   "cell_type": "code",
   "execution_count": 24,
   "id": "5c8abb7b",
   "metadata": {
    "pycharm": {
     "name": "#%%\n"
    }
   },
   "outputs": [
    {
     "name": "stdout",
     "output_type": "stream",
     "text": [
      "True\n",
      "True\n",
      "False\n"
     ]
    }
   ],
   "source": [
    "# a further example of why we would use `/`\n",
    "\n",
    "def check_truthyness(thing_to_check, /):\n",
    "    \"\"\"Just check if something is True.\"\"\"\n",
    "    if thing_to_check:\n",
    "        print(True)\n",
    "    else:\n",
    "        print(False)\n",
    "\n",
    "check_truthyness(True)\n",
    "check_truthyness(\"name\")\n",
    "check_truthyness([])"
   ]
  },
  {
   "cell_type": "markdown",
   "id": "3954f15e",
   "metadata": {
    "pycharm": {
     "name": "#%% md\n"
    }
   },
   "source": [
    "The above `thing_to_check` doesn't really need to have a name, but in Python it must, so we force the user to only use a positional argument. We would have called it `x` or `object` or `thing`, but they all don't really mean anything, and might confuse the user!"
   ]
  },
  {
   "cell_type": "markdown",
   "id": "fbe5e4cf",
   "metadata": {
    "pycharm": {
     "name": "#%% md\n"
    }
   },
   "source": [
    "## Summary\n",
    "\n",
    "Functions are super useful and powerful. Use them when you have some code that does a specific thing and will need to be reused.\n",
    "\n",
    "If you have an idea that is more complex or need to store variable for future use, think about using a `class`!\n",
    "\n",
    "If you feel there is anything missing from this workshop on functions, please let me now in the [issues on GitHub](https://github.com/GuckLab/Python-Workshops/issues)!"
   ]
  },
  {
   "cell_type": "code",
   "execution_count": null,
   "id": "465e8ee8",
   "metadata": {
    "pycharm": {
     "name": "#%%\n"
    }
   },
   "outputs": [],
   "source": []
  }
 ],
 "metadata": {
  "kernelspec": {
   "display_name": "Python 3 (ipykernel)",
   "language": "python",
   "name": "python3"
  },
  "language_info": {
   "codemirror_mode": {
    "name": "ipython",
    "version": 3
   },
   "file_extension": ".py",
   "mimetype": "text/x-python",
   "name": "python",
   "nbconvert_exporter": "python",
   "pygments_lexer": "ipython3",
   "version": "3.9.13"
  }
 },
 "nbformat": 4,
 "nbformat_minor": 5
}
