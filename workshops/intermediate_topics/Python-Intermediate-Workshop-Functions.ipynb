{
 "cells": [
  {
   "cell_type": "markdown",
   "id": "floating-terrorist",
   "metadata": {
    "pycharm": {
     "name": "#%% md\n"
    }
   },
   "source": [
    "# Welcome to the Intermediate Python Workshop Series 1\n",
    "\n",
    "## Functions\n",
    "\n",
    "This notebooks will give you an intermediate introduction to Python functions.\n",
    "There is a very nice functions video by Corey Schafer aimed at beginners/intermediate-level programmers [here](https://www.youtube.com/watch?v=9Os0o3wzS_I).\n",
    "A more advanced video on positional-only and keyword-only arguments in Python by MCoding is [here](https://www.youtube.com/watch?v=R8-oAqCgHag).\n",
    "\n",
    "Eoghan O'Connell, Guck Division, MPL, 2023"
   ]
  },
  {
   "cell_type": "code",
   "execution_count": null,
   "id": "young-conjunction",
   "metadata": {
    "pycharm": {
     "name": "#%%\n"
    }
   },
   "outputs": [],
   "source": [
    "# notebook metadata you can ignore!\n",
    "info = {\"workshop\": \"01\",\n",
    "        \"topic\": [\"functions\"],\n",
    "        \"version\" : \"0.0.1\"}"
   ]
  },
  {
   "cell_type": "markdown",
   "id": "enabling-madrid",
   "metadata": {
    "pycharm": {
     "name": "#%% md\n"
    }
   },
   "source": [
    "### How to use this notebook\n",
    "\n",
    "- Click on a cell (each box is called a cell). Hit \"shift+enter\", this will run the cell!\n",
    "- You can run the cells in any order!\n",
    "- The output of runnable code is printed below the cell.\n",
    "- Check out this [Jupyter Notebook Tutorial video](https://www.youtube.com/watch?v=HW29067qVWk).\n",
    "\n",
    "See the help tab above for more information!\n"
   ]
  },
  {
   "cell_type": "markdown",
   "id": "ahead-adventure",
   "metadata": {
    "pycharm": {
     "name": "#%% md\n"
    }
   },
   "source": [
    "# What is in this Workshop?\n",
    "In this notebook we cover:\n",
    "- What is a function: why/when to use it (DRY, remove interdependence)\n",
    "- Function return (output)\n",
    "- Function parameters/arguments\n",
    "- Required arguments and default arguments\n",
    "- Docstrings\n",
    "- Functions vs. Methods?\n",
    "- Function variable scope\n",
    "- Chaining functions together\n",
    "- Advanced arguments (*positional, **keyword, *)"
   ]
  },
  {
   "cell_type": "markdown",
   "id": "funded-workshop",
   "metadata": {
    "pycharm": {
     "name": "#%% md\n"
    }
   },
   "source": [
    "-----------\n",
    "## What is a function?\n",
    "- Instructions packaged together that perform a specific task\n",
    "\n",
    "## Why do we use functions?\n",
    "- Puts code with specific purpose in a single location\n",
    "- Changing the code only has to be done in one place!\n",
    "\n",
    "## When to use a function?\n",
    "- Anytime you have code that:\n",
    "   - Does one thing\n",
    "   - Might be reused\n",
    "\n",
    "\n",
    "### Example:\n",
    "Get the maximum value in a list.\n",
    "\n",
    "This task is specific, does one thing, and you will probably reuse it!\n",
    "Let's see how it looks on its own...\n",
    "\n",
    "(ignore for now that there is a built-in `max` function in Python)."
   ]
  },
  {
   "cell_type": "code",
   "execution_count": 1,
   "id": "enclosed-wrapping",
   "metadata": {
    "pycharm": {
     "name": "#%%\n"
    }
   },
   "outputs": [
    {
     "name": "stdout",
     "output_type": "stream",
     "text": [
      "8\n"
     ]
    }
   ],
   "source": [
    "# an example list\n",
    "my_list = [2, 4, 5, 8, 3]\n",
    "\n",
    "# get the maximum value\n",
    "max_num = 0\n",
    "for num in my_list:\n",
    "    if num > max_num:\n",
    "        max_num = num\n",
    "\n",
    "print(max_num)\n"
   ]
  },
  {
   "cell_type": "raw",
   "id": "395367a0",
   "metadata": {
    "pycharm": {
     "name": "#%% raw\n"
    }
   },
   "source": [
    "You can imagine that you might need to use this code elsewhere. To do this, you would copy and paste..."
   ]
  },
  {
   "cell_type": "code",
   "execution_count": null,
   "id": "cb56ec5c",
   "metadata": {
    "pycharm": {
     "name": "#%%\n"
    }
   },
   "outputs": [],
   "source": [
    "max_num = 0\n",
    "for num in my_list:\n",
    "    if num > max_num:\n",
    "        max_num = num\n",
    "\n",
    "print(max_num)"
   ]
  },
  {
   "cell_type": "markdown",
   "id": "narrative-premises",
   "metadata": {
    "pycharm": {
     "name": "#%% md\n"
    }
   },
   "source": [
    "This doesn't seem so good. What if you change something in the newly pasted code? You now would have two different codes! Ahh!\n",
    "\n",
    "Instead, we should place this reusable code in a function, which makes everything a bit cleaner and easier to handle."
   ]
  },
  {
   "cell_type": "code",
   "execution_count": 3,
   "id": "thick-browse",
   "metadata": {
    "pycharm": {
     "name": "#%%\n"
    }
   },
   "outputs": [],
   "source": [
    "def maximum_value_of_list(my_list):\n",
    "    max_num = 0\n",
    "    for num in my_list:\n",
    "        if num > max_num:\n",
    "            max_num = num\n",
    "    print(max_num)"
   ]
  },
  {
   "cell_type": "markdown",
   "source": [
    "Now, to reuse the code, we simply use the function."
   ],
   "metadata": {
    "collapsed": false,
    "pycharm": {
     "name": "#%% md\n"
    }
   }
  },
  {
   "cell_type": "code",
   "execution_count": 4,
   "outputs": [
    {
     "name": "stdout",
     "output_type": "stream",
     "text": [
      "50\n"
     ]
    }
   ],
   "source": [
    "# an example list\n",
    "my_list = [2, 9, 5, 50, 3]\n",
    "\n",
    "maximum_value_of_list(my_list=my_list)\n"
   ],
   "metadata": {
    "collapsed": false,
    "pycharm": {
     "name": "#%%\n"
    }
   }
  },
  {
   "cell_type": "markdown",
   "source": [
    "And now, if you want to change the function, you only have to change it in ONE place! Yahoo!"
   ],
   "metadata": {
    "collapsed": false,
    "pycharm": {
     "name": "#%% md\n"
    }
   }
  },
  {
   "cell_type": "markdown",
   "id": "velvet-dallas",
   "metadata": {
    "pycharm": {
     "name": "#%% md\n"
    }
   },
   "source": [
    "-----------\n",
    "## Function return (output)\n",
    "\n",
    "What if we want to use this maximum value to do something else in the next part of our code?\n",
    "\n",
    "Right now, we are just printing out the value. However, this isn't actually putting the value anywhere!\n",
    "\n",
    "To get the function to \"send\" the maximum value to us, we use the `return` statement in the function.\n",
    "\n",
    "**Warning: the `return` statement will exit and stop the function**"
   ]
  },
  {
   "cell_type": "code",
   "execution_count": 6,
   "outputs": [
    {
     "name": "stdout",
     "output_type": "stream",
     "text": [
      "My Max value is: 50\n"
     ]
    }
   ],
   "source": [
    "def maximum_value_of_list(my_list):\n",
    "    max_num = 0\n",
    "    for num in my_list:\n",
    "        if num > max_num:\n",
    "            max_num = num\n",
    "    return max_num\n",
    "\n",
    "my_list = [2, 9, 5, 50, 3]\n",
    "\n",
    "max_value = maximum_value_of_list(my_list=my_list)\n",
    "\n",
    "print(f\"My Max value is: {max_value}\")"
   ],
   "metadata": {
    "collapsed": false,
    "pycharm": {
     "name": "#%%\n"
    }
   }
  },
  {
   "cell_type": "markdown",
   "source": [
    "This may seem like a small difference, but makes functions very powerful!\n",
    "\n",
    "It means Function can operate on data and return the operation’s result."
   ],
   "metadata": {
    "collapsed": false,
    "pycharm": {
     "name": "#%% md\n"
    }
   }
  },
  {
   "cell_type": "markdown",
   "source": [
    "## Function parameters/arguments\n",
    "\n",
    "When we defied the above function `maximum_value_of_list`, we had `my_list` in parentheses after. What is this?\n",
    "\n",
    "Anything within the parentheses is a parameter belonging to the function. It is how we give the function data or variables.\n",
    "\n",
    "- You can pass an argument (value) to a parameter\n",
    "    - There are parameters that require an argument (no default)\n",
    "    - There are parameters that already have a default value\n",
    "    - This is a source of many errors for beginners.\n",
    "- You can have as many input parameters as you like\n",
    "    - But try not to have more than ~10"
   ],
   "metadata": {
    "collapsed": false,
    "pycharm": {
     "name": "#%% md\n"
    }
   }
  },
  {
   "cell_type": "markdown",
   "source": [
    "Lets define a simple new function..."
   ],
   "metadata": {
    "collapsed": false,
    "pycharm": {
     "name": "#%% md\n"
    }
   }
  },
  {
   "cell_type": "code",
   "execution_count": 12,
   "outputs": [
    {
     "name": "stdout",
     "output_type": "stream",
     "text": [
      "Hey Colleague.\n"
     ]
    }
   ],
   "source": [
    "def introduce_yourself():\n",
    "    print(f'Hey Colleague.')\n",
    "\n",
    "introduce_yourself()"
   ],
   "metadata": {
    "collapsed": false,
    "pycharm": {
     "name": "#%%\n"
    }
   }
  },
  {
   "cell_type": "markdown",
   "source": [
    "Now let's add a required positional parameter.\n",
    " - Required just means that the function must be given an argument for the parameter.\n",
    " - Positional just means that the order of the given arguments is important."
   ],
   "metadata": {
    "collapsed": false,
    "pycharm": {
     "name": "#%% md\n"
    }
   }
  },
  {
   "cell_type": "code",
   "execution_count": 14,
   "outputs": [
    {
     "name": "stdout",
     "output_type": "stream",
     "text": [
      "Hallo Colleague.\n",
      "What's up Colleague.\n"
     ]
    }
   ],
   "source": [
    "def introduce_yourself(greeting):\n",
    "    print(f'{greeting} Colleague.')\n",
    "\n",
    "introduce_yourself(greeting='Hallo')\n",
    "introduce_yourself(\"What's up\")\n"
   ],
   "metadata": {
    "collapsed": false,
    "pycharm": {
     "name": "#%%\n"
    }
   }
  },
  {
   "cell_type": "markdown",
   "source": [
    "Now let's use a default argument value for a parameter. For example, if we by default are introducing ourselves to our colleague.\n",
    "What does that look like?"
   ],
   "metadata": {
    "collapsed": false,
    "pycharm": {
     "name": "#%% md\n"
    }
   }
  },
  {
   "cell_type": "code",
   "execution_count": 16,
   "outputs": [
    {
     "name": "stdout",
     "output_type": "stream",
     "text": [
      "Hey Colleague.\n",
      "Hey Buddy.\n"
     ]
    }
   ],
   "source": [
    "def introduce_yourself(greeting, person='Colleague'):\n",
    "    print(f'{greeting} {person}.')\n",
    "\n",
    "introduce_yourself(greeting=\"Hey\")\n",
    "introduce_yourself(greeting=\"Hey\", person=\"Buddy\")"
   ],
   "metadata": {
    "collapsed": false,
    "pycharm": {
     "name": "#%%\n"
    }
   }
  },
  {
   "cell_type": "markdown",
   "source": [
    "You can see that when we give a parameter a default argument (Here it was \"Colleague\"), then it is no longer required as input."
   ],
   "metadata": {
    "collapsed": false,
    "pycharm": {
     "name": "#%% md\n"
    }
   }
  },
  {
   "cell_type": "markdown",
   "id": "specialized-dream",
   "metadata": {
    "pycharm": {
     "name": "#%% md\n"
    }
   },
   "source": [
    "### Strings (`str`)\n",
    "Strings are textual data. We use them to represent words or any textual information."
   ]
  },
  {
   "cell_type": "markdown",
   "id": "raised-paraguay",
   "metadata": {
    "pycharm": {
     "name": "#%% md\n"
    }
   },
   "source": [
    "We can use single quotes or double quotes to make a string"
   ]
  },
  {
   "cell_type": "code",
   "execution_count": null,
   "id": "proprietary-communications",
   "metadata": {
    "pycharm": {
     "name": "#%%\n"
    }
   },
   "outputs": [],
   "source": [
    "print(\"This is a string\")\n",
    "print('This is also a string')"
   ]
  },
  {
   "cell_type": "markdown",
   "id": "cordless-optimization",
   "metadata": {
    "pycharm": {
     "name": "#%% md\n"
    }
   },
   "source": [
    "What if I want to put the following into a string: Jona's message"
   ]
  },
  {
   "cell_type": "code",
   "execution_count": null,
   "id": "forbidden-receipt",
   "metadata": {
    "pycharm": {
     "name": "#%%\n"
    }
   },
   "outputs": [],
   "source": [
    "# this will create an error!\n",
    "\n",
    "'Jona's message'"
   ]
  },
  {
   "cell_type": "markdown",
   "id": "structural-alaska",
   "metadata": {
    "pycharm": {
     "name": "#%% md\n"
    }
   },
   "source": [
    "Instead we use single quotes and double quotes together"
   ]
  },
  {
   "cell_type": "code",
   "execution_count": null,
   "id": "opponent-dragon",
   "metadata": {
    "pycharm": {
     "name": "#%%\n"
    }
   },
   "outputs": [],
   "source": [
    "\"Jona's message\""
   ]
  },
  {
   "cell_type": "code",
   "execution_count": null,
   "id": "compressed-history",
   "metadata": {
    "pycharm": {
     "name": "#%%\n"
    }
   },
   "outputs": [],
   "source": [
    "# using the special escape character '\\' will also work, but isn't as clean looking\n",
    "'Jona\\'s message'"
   ]
  },
  {
   "cell_type": "markdown",
   "id": "conventional-password",
   "metadata": {
    "pycharm": {
     "name": "#%% md\n"
    }
   },
   "source": [
    "-----------\n",
    "## Numbers (integer `int` and floating point `float`)\n",
    "Numbers are easy in Python!"
   ]
  },
  {
   "cell_type": "code",
   "execution_count": null,
   "id": "oriental-corrections",
   "metadata": {
    "pycharm": {
     "name": "#%%\n"
    }
   },
   "outputs": [],
   "source": [
    "# this is an integer\n",
    "3"
   ]
  },
  {
   "cell_type": "code",
   "execution_count": null,
   "id": "built-interpretation",
   "metadata": {
    "pycharm": {
     "name": "#%%\n"
    }
   },
   "outputs": [],
   "source": [
    "# now let's see a float\n",
    "3.14"
   ]
  },
  {
   "cell_type": "code",
   "execution_count": null,
   "id": "impaired-experiment",
   "metadata": {
    "pycharm": {
     "name": "#%%\n"
    }
   },
   "outputs": [],
   "source": [
    "# let's add some numbers together\n",
    "3 + 3.14\n",
    "\n",
    "# notice how to output has many trailing zeros! It is called floating point for a reason..."
   ]
  },
  {
   "cell_type": "markdown",
   "id": "deluxe-accordance",
   "metadata": {
    "pycharm": {
     "name": "#%% md\n"
    }
   },
   "source": [
    "#### How to add, divide etc.?\n",
    "\n",
    "- \\+ addition\n",
    "- \\- subtraction (minus)\n",
    "- \\* multiplication\n",
    "- \\/ division\n",
    "- \\// division (but does not include the remainder - round to whole number)\n",
    "- \\% division (but returns the remainder)\n",
    "- \\** exponent/power"
   ]
  },
  {
   "cell_type": "code",
   "execution_count": null,
   "id": "designed-foster",
   "metadata": {
    "pycharm": {
     "name": "#%%\n"
    }
   },
   "outputs": [],
   "source": [
    "print(9 + 3.1)\n",
    "print(9 - 3.1)\n",
    "print(9 * 3.1)"
   ]
  },
  {
   "cell_type": "code",
   "execution_count": null,
   "id": "sophisticated-crawford",
   "metadata": {
    "scrolled": true,
    "pycharm": {
     "name": "#%%\n"
    }
   },
   "outputs": [],
   "source": [
    "print(9 / 4)\n",
    "print(9 // 4)\n",
    "print(9 % 4)\n",
    "print(9 ** 4)"
   ]
  },
  {
   "cell_type": "markdown",
   "id": "consolidated-edgar",
   "metadata": {
    "pycharm": {
     "name": "#%% md\n"
    }
   },
   "source": [
    "-----------\n",
    "## Boolean (`bool`)\n",
    "Boolean values are rather ... polarising :). Boolean arrays are fast and work well with NumPy!\n",
    "\n",
    "They are written as `True` and `False` in Python."
   ]
  },
  {
   "cell_type": "code",
   "execution_count": null,
   "id": "everyday-scott",
   "metadata": {
    "pycharm": {
     "name": "#%%\n"
    }
   },
   "outputs": [],
   "source": [
    "print(True, False)"
   ]
  },
  {
   "cell_type": "code",
   "execution_count": null,
   "id": "continent-attendance",
   "metadata": {
    "pycharm": {
     "name": "#%%\n"
    }
   },
   "outputs": [],
   "source": [
    "# check what equals True or False in Python\n",
    "print(1 == True)\n",
    "print(0 == False)"
   ]
  },
  {
   "cell_type": "code",
   "execution_count": null,
   "id": "novel-newark",
   "metadata": {
    "pycharm": {
     "name": "#%%\n"
    }
   },
   "outputs": [],
   "source": [
    "# what happens when we try True == False?\n",
    "True == False\n",
    "\n",
    "# it is indeed False!"
   ]
  },
  {
   "cell_type": "code",
   "execution_count": null,
   "id": "intended-stewart",
   "metadata": {
    "pycharm": {
     "name": "#%%\n"
    }
   },
   "outputs": [],
   "source": [
    "# what about adding booleans together?\n",
    "print(True + True)\n",
    "print(True + 5)\n",
    "print(True + 5.45)"
   ]
  },
  {
   "cell_type": "markdown",
   "id": "69128843",
   "metadata": {
    "pycharm": {
     "name": "#%% md\n"
    }
   },
   "source": [
    "-----------\n",
    "# Built-in containers in Python\n",
    "\n",
    "#### What is a container?\n",
    "A container is just an object that holds other objects. Lists and dictionaries are two such objects. They can hold other data types such as strings, numbers, bool, and even other containers. So you can have lists with lists in them!"
   ]
  },
  {
   "cell_type": "markdown",
   "id": "approved-affiliation",
   "metadata": {
    "pycharm": {
     "name": "#%% md\n"
    }
   },
   "source": [
    "-------------------------\n",
    "## Lists (`list`)\n",
    "You can imagine a list as, well, a list of things (like a shopping list)! Let's start with that example.\n",
    "- A list is created with square brackets '[  ]'\n",
    "- Each item in the list is separated from the next with a comma ','"
   ]
  },
  {
   "cell_type": "code",
   "execution_count": null,
   "id": "bizarre-wealth",
   "metadata": {
    "pycharm": {
     "name": "#%%\n"
    }
   },
   "outputs": [],
   "source": [
    "[\"oranges\", \"bread\", \"spargel\"]"
   ]
  },
  {
   "cell_type": "markdown",
   "id": "cardiac-potter",
   "metadata": {
    "pycharm": {
     "name": "#%% md\n"
    }
   },
   "source": [
    "As you can see above, this list is a fake shopping list of food items. It is just made of three strings.\n",
    "\n",
    "A list can hold any other data type(s):"
   ]
  },
  {
   "cell_type": "code",
   "execution_count": null,
   "id": "initial-purpose",
   "metadata": {
    "pycharm": {
     "name": "#%%\n"
    }
   },
   "outputs": [],
   "source": [
    "[\"bread\", 42, 3.14, True]"
   ]
  },
  {
   "cell_type": "markdown",
   "id": "devoted-sacramento",
   "metadata": {
    "pycharm": {
     "name": "#%% md\n"
    }
   },
   "source": [
    "We can put lists in lists..."
   ]
  },
  {
   "cell_type": "code",
   "execution_count": null,
   "id": "driving-stock",
   "metadata": {
    "pycharm": {
     "name": "#%%\n"
    }
   },
   "outputs": [],
   "source": [
    "[\"outer list\", [\"inner list\"]]"
   ]
  },
  {
   "cell_type": "code",
   "execution_count": null,
   "id": "hollywood-divorce",
   "metadata": {
    "pycharm": {
     "name": "#%%\n"
    }
   },
   "outputs": [],
   "source": [
    "# we can even put lists in lists in lists ... but this isn't so common and can get confusing.\n",
    "[\"outer list\", [\"inner list 1\", [\"inner list 2\", [\"inner list 3\"]]]]"
   ]
  },
  {
   "cell_type": "markdown",
   "id": "mental-hardware",
   "metadata": {
    "pycharm": {
     "name": "#%% md\n"
    }
   },
   "source": [
    "-----------\n",
    "## Dictionaries (`dict`)\n",
    "You can imagine a dict as an actual dictionary. Each word (key) in the dictionary has a corresponding description (value).\n",
    "- Dictionaries are created with the curly brackets '{}'\n",
    "- Each item is separated with a comma ','\n",
    "- each key:value pair is separated with a colon ':'\n",
    "- Dictionaries contain keys and values. Each key has a value, just like in an actual dictionary. When starting out, it's best to keep the keys as strings, while the values can be anything."
   ]
  },
  {
   "cell_type": "markdown",
   "id": "driven-identifier",
   "metadata": {
    "pycharm": {
     "name": "#%% md\n"
    }
   },
   "source": [
    "We want to show how many of each shopping item we need. Dictionaries would be good for this!"
   ]
  },
  {
   "cell_type": "code",
   "execution_count": null,
   "id": "offensive-match",
   "metadata": {
    "pycharm": {
     "name": "#%%\n"
    }
   },
   "outputs": [],
   "source": [
    "# this was our (shopping) list:\n",
    "[\"oranges\", \"bread\", \"spargel\"]\n",
    "\n",
    "# this would be our dictionary:\n",
    "{\"oranges\": 4, \"bread\": 1, \"spargel\": 2}\n",
    "\n",
    "# we want 4 oranges, 1 bread, and 2 spargel"
   ]
  },
  {
   "cell_type": "markdown",
   "id": "compatible-daughter",
   "metadata": {
    "pycharm": {
     "name": "#%% md\n"
    }
   },
   "source": [
    "Of course dictionaries are not limited to strings and integers! The keys can be most data types, while the values can contain any other data type."
   ]
  },
  {
   "cell_type": "code",
   "execution_count": null,
   "id": "important-majority",
   "metadata": {
    "pycharm": {
     "name": "#%%\n"
    }
   },
   "outputs": [],
   "source": [
    "{42: \"the answer\", \"True?\": True, \"my list\": [\"this\", \"is\", \"a\", \"list\"]}"
   ]
  },
  {
   "cell_type": "markdown",
   "id": "loving-montana",
   "metadata": {
    "pycharm": {
     "name": "#%% md\n"
    }
   },
   "source": [
    "Dictionaries can be written in a more readable way like so:"
   ]
  },
  {
   "cell_type": "code",
   "execution_count": null,
   "id": "intermediate-roulette",
   "metadata": {
    "pycharm": {
     "name": "#%%\n"
    }
   },
   "outputs": [],
   "source": [
    "{\"number1\": 12,\n",
    " \"number2\": 56,\n",
    " \"number3\": 3.14,\n",
    " \"number4\": 18,}"
   ]
  },
  {
   "cell_type": "markdown",
   "id": "collect-explorer",
   "metadata": {
    "pycharm": {
     "name": "#%% md\n"
    }
   },
   "source": [
    "----------\n",
    "# Variables in Python\n"
   ]
  },
  {
   "cell_type": "markdown",
   "id": "necessary-stationery",
   "metadata": {
    "pycharm": {
     "name": "#%% md\n"
    }
   },
   "source": [
    "#### What is a variable?\n",
    "A variable is a place to store data, such as a number, a string, a list, a function, a class, a module etc.\n",
    "\n",
    "They can be reused, which makes life a lot easier for us!\n",
    "\n",
    "Let's look at a simple example..."
   ]
  },
  {
   "cell_type": "code",
   "execution_count": null,
   "id": "f27e25ca",
   "metadata": {
    "pycharm": {
     "name": "#%%\n"
    }
   },
   "outputs": [],
   "source": [
    "value = 5"
   ]
  },
  {
   "cell_type": "code",
   "execution_count": null,
   "id": "forward-lingerie",
   "metadata": {
    "pycharm": {
     "name": "#%%\n"
    }
   },
   "outputs": [],
   "source": [
    "# imagine we want to create a calculation that reuses an input value many times.\n",
    "# We define this value at the start and assign it to a variable with the equals sign: '='\n",
    "value = 5\n",
    "\n",
    "# we then define our \"complicated\" calculation that uses this value:\n",
    "# the result of this calculation is assigned to the variable \"answer\":\n",
    "answer = (42/value ** value) + (value + (value * 23))\n",
    "\n",
    "# print out the answer to see it!\n",
    "print(answer)"
   ]
  },
  {
   "cell_type": "markdown",
   "id": "fleet-director",
   "metadata": {
    "pycharm": {
     "name": "#%% md\n"
    }
   },
   "source": [
    "Now imagine you want to change the input value. This is easy, we just change the 5 above to some other number! Try it out.\n",
    "\n",
    "If we had not set this variable, this process would become tedious. You would have to change the number 5 below so many times."
   ]
  },
  {
   "cell_type": "code",
   "execution_count": null,
   "id": "photographic-smith",
   "metadata": {
    "pycharm": {
     "name": "#%%\n"
    }
   },
   "outputs": [],
   "source": [
    "# example without using a variable for the input value\n",
    "\n",
    "answer = (42/42 ** 42) + (42 + (42 * 23))"
   ]
  },
  {
   "cell_type": "markdown",
   "id": "wicked-forwarding",
   "metadata": {
    "pycharm": {
     "name": "#%% md\n"
    }
   },
   "source": [
    "## Using variables for different data types\n",
    "Python makes this easy. You just use the equals '=' sign to assign any data/data type to the variable.\n",
    "\n",
    "Here are some examples for different data types:"
   ]
  },
  {
   "cell_type": "code",
   "execution_count": null,
   "id": "taken-brunswick",
   "metadata": {
    "pycharm": {
     "name": "#%%\n"
    }
   },
   "outputs": [],
   "source": [
    "message = \"this is a string\"\n",
    "my_number1 = 42\n",
    "my_number2 = 3.14\n",
    "shopping_list = [\"oranges\", \"bread\", \"spargel\"]\n",
    "shopping_dict = {\"oranges\": 4, \"bread\": 1, \"spargel\": 2}"
   ]
  },
  {
   "cell_type": "code",
   "execution_count": null,
   "id": "color-hollow",
   "metadata": {
    "pycharm": {
     "name": "#%%\n"
    }
   },
   "outputs": [],
   "source": [
    "# these variables are now useable in this Python instance (until you restart this notebook!)\n",
    "print(my_number1 + my_number2)\n",
    "print(shopping_list[0])  # will print out \"oranges\""
   ]
  },
  {
   "cell_type": "markdown",
   "id": "formed-transaction",
   "metadata": {
    "pycharm": {
     "name": "#%% md\n"
    }
   },
   "source": [
    "-----------\n",
    "### Strings\n",
    "Here we will see how to:\n",
    "- assign a string\n",
    "- index a string (get a character in the string).\n",
    "   - NB: indexing in python starts at 0\n",
    "- slice a string (get a part of the string)"
   ]
  },
  {
   "cell_type": "code",
   "execution_count": null,
   "id": "fuzzy-apache",
   "metadata": {
    "pycharm": {
     "name": "#%%\n"
    }
   },
   "outputs": [],
   "source": [
    "message = \"hello world\"\n",
    "print(message)"
   ]
  },
  {
   "cell_type": "code",
   "execution_count": null,
   "id": "recreational-henry",
   "metadata": {
    "pycharm": {
     "name": "#%%\n"
    }
   },
   "outputs": [],
   "source": [
    "# each string has a length, notice that it returns a number!\n",
    "len(message)"
   ]
  },
  {
   "cell_type": "markdown",
   "id": "reserved-observation",
   "metadata": {
    "pycharm": {
     "name": "#%% md\n"
    }
   },
   "source": [
    "Indexing the string - get a character in the string"
   ]
  },
  {
   "cell_type": "code",
   "execution_count": null,
   "id": "familiar-puppy",
   "metadata": {
    "pycharm": {
     "name": "#%%\n"
    }
   },
   "outputs": [],
   "source": [
    "# indexing: gives you the letter at that index. Indexing starts at 0\n",
    "print(message[0])\n",
    "print(message[1])\n",
    "print(message[2])"
   ]
  },
  {
   "cell_type": "code",
   "execution_count": null,
   "id": "gentle-surgery",
   "metadata": {
    "pycharm": {
     "name": "#%%\n"
    }
   },
   "outputs": [],
   "source": [
    "# negative indexing starts from the end of the string\n",
    "message[-1]"
   ]
  },
  {
   "cell_type": "code",
   "execution_count": null,
   "id": "stock-voluntary",
   "metadata": {
    "pycharm": {
     "name": "#%%\n"
    }
   },
   "outputs": [],
   "source": [
    "# assigning this indexed string to a new variable will be a string!\n",
    "message_indexed = message[0]\n",
    "print(message_indexed)"
   ]
  },
  {
   "cell_type": "markdown",
   "id": "adjustable-topic",
   "metadata": {
    "pycharm": {
     "name": "#%% md\n"
    }
   },
   "source": [
    "Slicing the string - get a part of the string"
   ]
  },
  {
   "cell_type": "code",
   "execution_count": null,
   "id": "registered-dover",
   "metadata": {
    "pycharm": {
     "name": "#%%\n"
    }
   },
   "outputs": [],
   "source": [
    "# slicing: allows you to slice the string between two indexes\n",
    "# from first index up to second index (but not including the second index!)\n",
    "\n",
    "message[0:5]"
   ]
  },
  {
   "cell_type": "code",
   "execution_count": null,
   "id": "satellite-discovery",
   "metadata": {
    "pycharm": {
     "name": "#%%\n"
    }
   },
   "outputs": [],
   "source": [
    "# leaving one index empty just means the slice will go to the start/end of the string.\n",
    "\n",
    "print(message[:3])\n",
    "print(message[6:])"
   ]
  },
  {
   "cell_type": "code",
   "execution_count": null,
   "id": "stable-blake",
   "metadata": {
    "pycharm": {
     "name": "#%%\n"
    }
   },
   "outputs": [],
   "source": [
    "# negative indexes work here too\n",
    "\n",
    "message[-5:]"
   ]
  },
  {
   "cell_type": "markdown",
   "id": "outer-furniture",
   "metadata": {
    "pycharm": {
     "name": "#%% md\n"
    }
   },
   "source": [
    "Let's look at an actual example. You want to get the experiment number from a filename."
   ]
  },
  {
   "cell_type": "code",
   "execution_count": null,
   "id": "extra-credit",
   "metadata": {
    "pycharm": {
     "name": "#%%\n"
    }
   },
   "outputs": [],
   "source": [
    "file_name = \"001_experiment.rtdc\"\n",
    "\n",
    "# you want to get the number of the filename\n",
    "file_number = file_name[:3]\n",
    "\n",
    "print(file_number)"
   ]
  },
  {
   "cell_type": "markdown",
   "id": "aware-tablet",
   "metadata": {
    "pycharm": {
     "name": "#%% md\n"
    }
   },
   "source": [
    "-----------\n",
    "### Numbers\n",
    "Here we will see how to:\n",
    "- assign a number (`int` and `float`)"
   ]
  },
  {
   "cell_type": "code",
   "execution_count": null,
   "id": "negative-hamburg",
   "metadata": {
    "pycharm": {
     "name": "#%%\n"
    }
   },
   "outputs": [],
   "source": [
    "# what about variables for numbers? They are the exact same!\n",
    "power_value = 6\n",
    "Power_value = 54\n",
    "value_of_pi = 3.14\n",
    "\n",
    "print(power_value)\n",
    "print(Power_value)"
   ]
  },
  {
   "cell_type": "code",
   "execution_count": null,
   "id": "classified-cambridge",
   "metadata": {
    "pycharm": {
     "name": "#%%\n"
    }
   },
   "outputs": [],
   "source": [
    "# we can use these variables together\n",
    "value_of_pi / power_value"
   ]
  },
  {
   "cell_type": "markdown",
   "id": "burning-scope",
   "metadata": {
    "pycharm": {
     "name": "#%% md\n"
    }
   },
   "source": [
    "-----------\n",
    "### Lists\n",
    "Here we will see how to:\n",
    "- assign a list\n",
    "- index a list (get an element from the list).\n",
    "   - NB: indexing in python starts at 0\n",
    "- slice a list (get one or more elements of the list)"
   ]
  },
  {
   "cell_type": "code",
   "execution_count": null,
   "id": "studied-concentration",
   "metadata": {
    "pycharm": {
     "name": "#%%\n"
    }
   },
   "outputs": [],
   "source": [
    "colour_list = [\"green\", \"blue\", \"red\", \"cyan\"]\n",
    "\n",
    "print(colour_list)"
   ]
  },
  {
   "cell_type": "markdown",
   "id": "ultimate-patient",
   "metadata": {
    "pycharm": {
     "name": "#%% md\n"
    }
   },
   "source": [
    "We can index and slice lists too!"
   ]
  },
  {
   "cell_type": "code",
   "execution_count": null,
   "id": "indian-thermal",
   "metadata": {
    "scrolled": true,
    "pycharm": {
     "name": "#%%\n"
    }
   },
   "outputs": [],
   "source": [
    "# indexing\n",
    "print(colour_list[0])\n",
    "print(colour_list[1])\n",
    "print(colour_list[2])\n",
    "\n",
    "print(colour_list[3])"
   ]
  },
  {
   "cell_type": "code",
   "execution_count": null,
   "id": "miniature-prisoner",
   "metadata": {
    "pycharm": {
     "name": "#%%\n"
    }
   },
   "outputs": [],
   "source": [
    "colour1 = colour_list[1]\n",
    "\n",
    "print(colour1)"
   ]
  },
  {
   "cell_type": "code",
   "execution_count": null,
   "id": "bad7b103",
   "metadata": {
    "pycharm": {
     "name": "#%%\n"
    }
   },
   "outputs": [],
   "source": [
    "type(colour1)"
   ]
  },
  {
   "cell_type": "code",
   "execution_count": null,
   "id": "imported-shepherd",
   "metadata": {
    "pycharm": {
     "name": "#%%\n"
    }
   },
   "outputs": [],
   "source": [
    "# slicing\n",
    "\n",
    "print(colour_list[1:3])"
   ]
  },
  {
   "cell_type": "code",
   "execution_count": null,
   "id": "forward-preference",
   "metadata": {
    "pycharm": {
     "name": "#%%\n"
    }
   },
   "outputs": [],
   "source": [
    "# notice how the sliced list returns a list!\n",
    "colour_slice1 = colour_list[:2]\n",
    "\n",
    "print(colour_slice1)"
   ]
  },
  {
   "cell_type": "markdown",
   "id": "homeless-weapon",
   "metadata": {
    "pycharm": {
     "name": "#%% md\n"
    }
   },
   "source": [
    "Let's look at an actual example, similar to the one above. You want to get the experiment number from several file names."
   ]
  },
  {
   "cell_type": "code",
   "execution_count": null,
   "id": "stuffed-trash",
   "metadata": {
    "pycharm": {
     "name": "#%%\n"
    }
   },
   "outputs": [],
   "source": [
    "file_names = [\"001_experiment.rtdc\",\n",
    "              \"002_experiment.rtdc\",\n",
    "              \"003_experiment.rtdc\",]\n",
    "\n",
    "# you can look at the first filename by indexing\n",
    "print(file_names[0])\n",
    "\n",
    "# you can look at several by slicing\n",
    "print(file_names[1:])"
   ]
  },
  {
   "cell_type": "code",
   "execution_count": null,
   "id": "laden-period",
   "metadata": {
    "pycharm": {
     "name": "#%%\n"
    }
   },
   "outputs": [],
   "source": [
    "# get the numbers from the filenames by using a simple loop. Check out the Loops tutorial!\n",
    "for name in file_names:\n",
    "    # name is now just a string\n",
    "    # when we slice it, we are slicing the string\n",
    "    print(name[:3])"
   ]
  },
  {
   "cell_type": "markdown",
   "id": "alone-queue",
   "metadata": {
    "pycharm": {
     "name": "#%% md\n"
    }
   },
   "source": [
    "-----------\n",
    "### Dictionaries\n",
    "Here we will see how to:\n",
    "- assign a dict\n",
    "- index a dict (get an item from the dict).\n",
    "   - NB: indexing in python starts at 0\n",
    "- *not covered* iterate over a dictionary to access each key:value pair"
   ]
  },
  {
   "cell_type": "code",
   "execution_count": null,
   "id": "bright-annex",
   "metadata": {
    "pycharm": {
     "name": "#%%\n"
    }
   },
   "outputs": [],
   "source": [
    "my_dict = {\"key1\": 7,\n",
    "           \"key2\": 3.14,\n",
    "           \"key3\": \"message\"}\n",
    "\n",
    "print(my_dict)"
   ]
  },
  {
   "cell_type": "code",
   "execution_count": null,
   "id": "architectural-polyester",
   "metadata": {
    "pycharm": {
     "name": "#%%\n"
    }
   },
   "outputs": [],
   "source": [
    "# index the dict with the key\n",
    "\n",
    "my_dict[\"key3\"]"
   ]
  },
  {
   "cell_type": "code",
   "execution_count": null,
   "id": "ahead-rendering",
   "metadata": {
    "pycharm": {
     "name": "#%%\n"
    }
   },
   "outputs": [],
   "source": [
    "# index the dict with a number will not work!\n",
    "\n",
    "my_dict[0]"
   ]
  },
  {
   "cell_type": "markdown",
   "id": "27507179",
   "metadata": {
    "pycharm": {
     "name": "#%% md\n"
    }
   },
   "source": [
    "### Excercises\n",
    "\n",
    "(hint: use a search engine to look for answers)\n",
    "\n",
    "1. Rename a string variable by slicing.\n",
    "\n",
    "Rename \"001_experiment_ddmmyy.rtdc\" to \"001_experiment_070721.rtdc\""
   ]
  },
  {
   "cell_type": "code",
   "execution_count": null,
   "id": "94202cc5",
   "metadata": {
    "pycharm": {
     "name": "#%%\n"
    }
   },
   "outputs": [],
   "source": [
    "filename = \"001_experiment_ddmmyy.rtdc\"\n",
    "\n"
   ]
  },
  {
   "cell_type": "markdown",
   "id": "be1a8bcb",
   "metadata": {
    "pycharm": {
     "name": "#%% md\n"
    }
   },
   "source": [
    "2. You have a number variable and want to print it out in the following sentence:\n",
    "\n",
    "answer = 42\n",
    "\n",
    "\"The answer to life, the universe and everything is: 42\"\n",
    "\n",
    "Find two ways to do this!"
   ]
  },
  {
   "cell_type": "code",
   "execution_count": null,
   "id": "70ad59c8",
   "metadata": {
    "pycharm": {
     "name": "#%%\n"
    }
   },
   "outputs": [],
   "source": [
    "answer = 42\n",
    "\n"
   ]
  },
  {
   "cell_type": "markdown",
   "id": "4a710fbc",
   "metadata": {
    "pycharm": {
     "name": "#%% md\n"
    }
   },
   "source": [
    "3. Replace an item in a list.\n",
    "\n",
    "Replace the string with a different string."
   ]
  },
  {
   "cell_type": "code",
   "execution_count": null,
   "id": "7ccd1c6e",
   "metadata": {
    "pycharm": {
     "name": "#%%\n"
    }
   },
   "outputs": [],
   "source": [
    "example_items = [\"replace me\", 55, 4.43, False]\n",
    "\n"
   ]
  }
 ],
 "metadata": {
  "kernelspec": {
   "display_name": "Python 3 (ipykernel)",
   "language": "python",
   "name": "python3"
  },
  "language_info": {
   "codemirror_mode": {
    "name": "ipython",
    "version": 3
   },
   "file_extension": ".py",
   "mimetype": "text/x-python",
   "name": "python",
   "nbconvert_exporter": "python",
   "pygments_lexer": "ipython3",
   "version": "3.8.6"
  }
 },
 "nbformat": 4,
 "nbformat_minor": 5
}