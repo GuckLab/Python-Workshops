{
 "cells": [
  {
   "cell_type": "markdown",
   "id": "floating-terrorist",
   "metadata": {
    "pycharm": {
     "name": "#%% md\n"
    }
   },
   "source": [
    "# Welcome to the Intermediate Python Workshop\n",
    "\n",
    "## Loops beyond for and while\n",
    "\n",
    "This notebooks will give you an introduction to looping with list comprehensions and numpy in Python, as well as some other tricks.\n",
    "Here is a [beginners guide to For and While loops](https://www.youtube.com/watch?v=6iF8Xb7Z3wQ). We won't cover those here!\n",
    "\n",
    "Eoghan O'Connell, Guck Division, MPL, 2023"
   ]
  },
  {
   "cell_type": "code",
   "execution_count": null,
   "id": "young-conjunction",
   "metadata": {
    "pycharm": {
     "name": "#%%\n"
    }
   },
   "outputs": [],
   "source": [
    "# notebook metadata you can ignore!\n",
    "info = {\"topic\": [\"list comprehensions\", \"numpy\", \"tqdm\"],\n",
    "        \"version\" : \"0.0.1\"}"
   ]
  },
  {
   "cell_type": "markdown",
   "id": "enabling-madrid",
   "metadata": {
    "pycharm": {
     "name": "#%% md\n"
    }
   },
   "source": [
    "### How to use this notebook\n",
    "\n",
    "- Click on a cell (each box is called a cell). Hit \"shift+enter\", this will run the cell!\n",
    "- You can run the cells in any order!\n",
    "- The output of runnable code is printed below the cell.\n",
    "- Check out this [Jupyter Notebook Tutorial video](https://www.youtube.com/watch?v=HW29067qVWk).\n",
    "\n",
    "See the help tab above for more information!\n"
   ]
  },
  {
   "cell_type": "markdown",
   "id": "ahead-adventure",
   "metadata": {
    "pycharm": {
     "name": "#%% md\n"
    }
   },
   "source": [
    "# What is in this Workshop?\n",
    "In this notebook we cover:\n",
    "\n",
    "- List comprehensions\n",
    "   - Generator expressions\n",
    "   - dict comprehensions\n",
    "\n",
    "- When not to use loops (when you can use NumPy)\n",
    "- TQDM progress bar"
   ]
  },
  {
   "cell_type": "markdown",
   "id": "funded-workshop",
   "metadata": {
    "pycharm": {
     "name": "#%% md\n"
    }
   },
   "source": [
    "-----------\n",
    "## List comprehensions\n",
    "\n",
    "In Python we can loop over an iterable with a `for` or `while` loop.\n",
    "\n",
    "We can also loop over lists with a special loop called a **list comprehesion**.\n",
    "\n",
    "- There is a similar syntax used for generator expressions (which we can convert to tuple comprehensions).\n",
    "- There is also dict comprehensions!\n",
    "\n",
    "List comprehensions are compact and can be quite fast! We will compare their speed to other looping below.\n",
    "\n",
    "### Example List comprehension\n",
    "\n",
    "Imagine we have a list of numbers and want to square each value. We would usually use a `for` loop..."
   ]
  },
  {
   "cell_type": "code",
   "execution_count": 1,
   "id": "13da2d56",
   "metadata": {},
   "outputs": [
    {
     "name": "stdout",
     "output_type": "stream",
     "text": [
      "[4, 9, 25]\n"
     ]
    }
   ],
   "source": [
    "my_lst = [2, 3, 5]\n",
    "\n",
    "my_sq_lst = []\n",
    "for i in my_lst:\n",
    "    my_sq_lst.append(i**2)\n",
    "\n",
    "print(my_sq_lst)"
   ]
  },
  {
   "cell_type": "code",
   "execution_count": 2,
   "id": "2c49e9a5",
   "metadata": {},
   "outputs": [
    {
     "name": "stdout",
     "output_type": "stream",
     "text": [
      "[4, 9, 25]\n"
     ]
    }
   ],
   "source": [
    "# let's do this with a list comprehension\n",
    "\n",
    "my_sq_lst = [i**2 for i in my_lst]\n",
    "\n",
    "print(my_sq_lst)"
   ]
  },
  {
   "cell_type": "markdown",
   "id": "9d700226",
   "metadata": {},
   "source": [
    "In the list comprehension, you can read it as the `for i in my_lst` part first, then do `i**2` to every `i`.\n",
    "\n",
    "It will return a new list.\n",
    "\n",
    "Of course, we can add extra stuff which makes it slightly more complicated..."
   ]
  },
  {
   "cell_type": "code",
   "execution_count": 3,
   "id": "enclosed-wrapping",
   "metadata": {
    "pycharm": {
     "name": "#%%\n"
    }
   },
   "outputs": [
    {
     "name": "stdout",
     "output_type": "stream",
     "text": [
      "[-3, 9, 25]\n"
     ]
    }
   ],
   "source": [
    "# using if else statements in a list comprehension.\n",
    "\n",
    "my_sq_lst = [i**2 if i>2 else i-5 for i in my_lst]\n",
    "\n",
    "print(my_sq_lst)"
   ]
  },
  {
   "cell_type": "markdown",
   "id": "df26d53d",
   "metadata": {},
   "source": [
    "Let's break that down... How do we make sense of it???\n",
    "\n",
    "Read it like this:\n",
    "- `for i in my_lst`\n",
    "- do `i**2` to every `i`\n",
    "- then it feels like a normal if-else clause `if i>2 else i-5`\n",
    "\n",
    "It can take a while to get used to this syntax. But it is super fun, compact and can be very fast.\n",
    "\n",
    "Here is what it would look like as a normal for loop..."
   ]
  },
  {
   "cell_type": "code",
   "execution_count": 4,
   "id": "1029c9eb",
   "metadata": {},
   "outputs": [
    {
     "name": "stdout",
     "output_type": "stream",
     "text": [
      "[-3, 9, 25]\n"
     ]
    }
   ],
   "source": [
    "my_sq_lst = []\n",
    "for i in my_lst:\n",
    "    if i>2:\n",
    "        i = i**2\n",
    "    else:\n",
    "        i = i-5\n",
    "    my_sq_lst.append(i)\n",
    "\n",
    "print(my_sq_lst)"
   ]
  },
  {
   "cell_type": "markdown",
   "id": "8070847c",
   "metadata": {},
   "source": [
    "So you can see that the list comprehension is much more compact!"
   ]
  },
  {
   "cell_type": "markdown",
   "id": "fc1cfa8e",
   "metadata": {},
   "source": [
    "Let's look at how fast list compreshensions are when compared to for loops...\n",
    "\n",
    "*(you don't need to understand how this timing is happening)*"
   ]
  },
  {
   "cell_type": "code",
   "execution_count": 5,
   "id": "0f1af6a0",
   "metadata": {},
   "outputs": [
    {
     "name": "stdout",
     "output_type": "stream",
     "text": [
      "2.89 ms ± 45.5 µs per loop (mean ± std. dev. of 7 runs, 100 loops each)\n",
      "2.34 ms ± 17.1 µs per loop (mean ± std. dev. of 7 runs, 100 loops each)\n"
     ]
    }
   ],
   "source": [
    "# speed of for loop\n",
    "my_lst = list(range(10000))\n",
    "my_sq_lst = []\n",
    "\n",
    "%timeit for i in my_lst: my_sq_lst.append(i**2)\n",
    "\n",
    "# speed of list comprehension\n",
    "my_sq_lst = []\n",
    "%timeit my_sq_lst = [i**2 for i in my_lst]"
   ]
  },
  {
   "cell_type": "markdown",
   "id": "06639373",
   "metadata": {
    "pycharm": {
     "name": "#%% raw\n"
    }
   },
   "source": [
    "Wow, 15% faster (on my PC)! That's great!\n",
    "\n",
    "We can also use similar sytax for generator expressions (which we can convert to tuples or lists easily if need be).\n"
   ]
  },
  {
   "cell_type": "markdown",
   "id": "829687de",
   "metadata": {},
   "source": [
    "### Generator expressions\n",
    "\n",
    "A generator is an iterable but really fast. It is fast because the generator doesn't hold all of its information in one place. It \"generates\" it on the fly when you need it.\n",
    "\n",
    "Let's compare syntax and speed of a generator expression to a list comprehension."
   ]
  },
  {
   "cell_type": "markdown",
   "id": "25508e4c",
   "metadata": {},
   "source": [
    "**why is the below thing not a tuple\n",
    "can you loop without for keyword**"
   ]
  },
  {
   "cell_type": "code",
   "execution_count": 62,
   "id": "d671ddb8",
   "metadata": {},
   "outputs": [
    {
     "name": "stdout",
     "output_type": "stream",
     "text": [
      "453 ns ± 6.44 ns per loop (mean ± std. dev. of 7 runs, 1,000,000 loops each)\n"
     ]
    }
   ],
   "source": [
    "%%timeit\n",
    "\n",
    "my_generator_spl = (i for i in range(10000))\n"
   ]
  },
  {
   "cell_type": "code",
   "execution_count": 63,
   "id": "b777ed51",
   "metadata": {},
   "outputs": [
    {
     "name": "stdout",
     "output_type": "stream",
     "text": [
      "40.4 ns ± 0.482 ns per loop (mean ± std. dev. of 7 runs, 10,000,000 loops each)\n"
     ]
    }
   ],
   "source": [
    "%%timeit\n",
    "\n",
    "my_sq_lst_spl = []\n",
    "for i in my_generator_spl: my_sq_lst_spl.append(i**2)\n",
    "    "
   ]
  },
  {
   "cell_type": "code",
   "execution_count": 66,
   "id": "01282245",
   "metadata": {},
   "outputs": [
    {
     "name": "stdout",
     "output_type": "stream",
     "text": [
      "3.12 ms ± 39.6 µs per loop (mean ± std. dev. of 7 runs, 100 loops each)\n"
     ]
    }
   ],
   "source": [
    "%%timeit\n",
    "\n",
    "my_generator = (i for i in range(10000))\n",
    "my_sq_lst4 = []\n",
    "for i in my_generator: my_sq_lst4.append(i**2)\n",
    "    "
   ]
  },
  {
   "cell_type": "code",
   "execution_count": 45,
   "id": "59a7489f",
   "metadata": {},
   "outputs": [
    {
     "name": "stdout",
     "output_type": "stream",
     "text": [
      "2.63 ms ± 31.7 µs per loop (mean ± std. dev. of 7 runs, 100 loops each)\n"
     ]
    }
   ],
   "source": [
    "%%timeit\n",
    "\n",
    "# print('\\n')\n",
    "# print(\"loop with list comprehension\".center(40, '-'))\n",
    "my_lst =       [i for i in range(10000)]\n",
    "my_sq_lst1 = []\n",
    "my_sq_lst1 = [i**2 for i in my_lst]\n"
   ]
  },
  {
   "cell_type": "code",
   "execution_count": 46,
   "id": "f2c0aced",
   "metadata": {},
   "outputs": [
    {
     "name": "stdout",
     "output_type": "stream",
     "text": [
      "2.78 ms ± 46.3 µs per loop (mean ± std. dev. of 7 runs, 100 loops each)\n"
     ]
    }
   ],
   "source": [
    "%%timeit\n",
    "\n",
    "\n",
    "# print('\\n')\n",
    "# print(\"loop via generator within list compr\".center(40, '-'))\n",
    "my_generator = (i for i in range(10000))\n",
    "my_sq_lst2 = []\n",
    "my_sq_lst2 = [i**2 for i in my_generator]"
   ]
  },
  {
   "cell_type": "code",
   "execution_count": null,
   "id": "bff47c45",
   "metadata": {},
   "outputs": [],
   "source": []
  },
  {
   "cell_type": "code",
   "execution_count": 54,
   "id": "8d442efb",
   "metadata": {},
   "outputs": [
    {
     "name": "stdout",
     "output_type": "stream",
     "text": [
      "709 ns ± 4.17 ns per loop (mean ± std. dev. of 7 runs, 1,000,000 loops each)\n"
     ]
    }
   ],
   "source": [
    "%%timeit\n",
    "\n",
    "# print('\\n')\n",
    "# print(\"loop via generator within generator expression\".center(40, '-'))\n",
    "my_generator2 = (i for i in range(10000))\n",
    "my_sq_lst3 = (i**2 for i in my_generator2)\n"
   ]
  },
  {
   "cell_type": "code",
   "execution_count": 55,
   "id": "acdf5985",
   "metadata": {},
   "outputs": [
    {
     "name": "stdout",
     "output_type": "stream",
     "text": [
      "444 ns ± 7.88 ns per loop (mean ± std. dev. of 7 runs, 1,000,000 loops each)\n"
     ]
    }
   ],
   "source": [
    "%%timeit\n",
    "\n",
    "# print('\\n')\n",
    "# print(\"loop via generator within generator expression\".center(40, '-'))\n",
    "my_sq_lst3 = (i**2 for i in range(10000))\n"
   ]
  },
  {
   "cell_type": "code",
   "execution_count": 49,
   "id": "339e4f32",
   "metadata": {},
   "outputs": [
    {
     "name": "stdout",
     "output_type": "stream",
     "text": [
      "2.87 ms ± 31.8 µs per loop (mean ± std. dev. of 7 runs, 100 loops each)\n"
     ]
    }
   ],
   "source": [
    "%%timeit\n",
    "\n",
    "# print('\\n')\n",
    "# print(\"loop via list in a for loop\".center(40, '-'))\n",
    "my_lst =       [i for i in range(10000)]\n",
    "my_sq_lst5 = []\n",
    "for i in my_lst: my_sq_lst5.append(i**2)"
   ]
  },
  {
   "cell_type": "code",
   "execution_count": 50,
   "id": "031e1a98",
   "metadata": {},
   "outputs": [
    {
     "name": "stdout",
     "output_type": "stream",
     "text": [
      "2.69 ms ± 30.2 µs per loop (mean ± std. dev. of 7 runs, 100 loops each)\n"
     ]
    }
   ],
   "source": [
    "%%timeit\n",
    "\n",
    "# print('\\n')\n",
    "# print(\"loop via range in a for loop\".center(40, '-'))\n",
    "my_sq_lst6 = []\n",
    "for i in range(10000): my_sq_lst6.append(i**2)\n"
   ]
  },
  {
   "cell_type": "code",
   "execution_count": 51,
   "id": "97fcb823",
   "metadata": {},
   "outputs": [],
   "source": [
    "# loop over the generator and list in different ways...\n",
    "\n",
    "\n",
    "\n",
    "assert my_sq_lst1 == my_sq_lst2 == my_sq_lst3 == my_sq_lst4  # make sure they are all the same result"
   ]
  },
  {
   "cell_type": "markdown",
   "id": "920f2b40",
   "metadata": {
    "pycharm": {
     "name": "#%% md\n"
    }
   },
   "source": [
    "So it looks like using a **generator speeds up our looping by quite a lot**!\n",
    "\n",
    "Lesson learned, if you can use a generator to loop over an iterable, do! (However, there are always nuances with looping, so don't take this as gospel for all situations)."
   ]
  },
  {
   "cell_type": "markdown",
   "id": "3ef1fd21",
   "metadata": {},
   "source": [
    "### Dict comprehensions\n",
    "\n",
    "The syntax for a dict comprehension is slightly more complicated than in a list comprehension because dict has both key and value!\n",
    "\n",
    "Here is the syntax: `{key: value for (key, value) in iterable}`\n",
    "\n",
    "**HOWEVER**, you might be able to use the `dict` constructor directly for your use-case. Let's look at them all with a little help from [Carl](https://www.exquisiteartz.co.uk/ekmps/shops/exquisiteartz/images/carl-sagan-quote-the-pale-blue-dot.-space-print-poster-canvas.-sizes-a1-a2-a3-a4-3813-p[ekm]1150x812[ekm].jpg)!\n"
   ]
  },
  {
   "cell_type": "code",
   "execution_count": 67,
   "id": "cb56ec5c",
   "metadata": {
    "pycharm": {
     "name": "#%%\n"
    }
   },
   "outputs": [
    {
     "name": "stdout",
     "output_type": "stream",
     "text": [
      "for loop:           {'name': 'Earth', 'age': 4540000000.0, 'appearance': ['pale', 'blue', 'dot']}\n",
      "dict comprehension: {'name': 'Earth', 'age': 4540000000.0, 'appearance': ['pale', 'blue', 'dot']}\n",
      "dict constructor:   {'name': 'Earth', 'age': 4540000000.0, 'appearance': ['pale', 'blue', 'dot']}\n"
     ]
    }
   ],
   "source": [
    "# I have two lists and want to make a dictionary. We can do this with a for loop or a dict comprehension\n",
    "\n",
    "my_keys = [\"name\", \"age\", \"appearance\"]\n",
    "my_values = [\"Earth\", 4.54e9, [\"pale\", \"blue\", \"dot\"]]\n",
    "\n",
    "# use for loop\n",
    "my_dict = {}\n",
    "for key, value in zip(my_keys, my_values):\n",
    "    my_dict[key] = value\n",
    "print(f\"for loop:           {my_dict}\")\n",
    "\n",
    "\n",
    "# dict comprehension\n",
    "my_dict = {key:value for (key, value) in zip(my_keys, my_values)}\n",
    "print(f\"dict comprehension: {my_dict}\")\n",
    "\n",
    "\n",
    "# dict constructor called directly\n",
    "my_dict = dict(zip(my_keys, my_values))\n",
    "print(f\"dict constructor:   {my_dict}\")\n"
   ]
  },
  {
   "cell_type": "code",
   "execution_count": 68,
   "id": "68d342e8",
   "metadata": {},
   "outputs": [
    {
     "name": "stdout",
     "output_type": "stream",
     "text": [
      "\n",
      "for loop\n",
      "395 ns ± 13.7 ns per loop (mean ± std. dev. of 7 runs, 1,000,000 loops each)\n",
      "\n",
      "dict comprehension\n",
      "526 ns ± 1.44 ns per loop (mean ± std. dev. of 7 runs, 1,000,000 loops each)\n",
      "\n",
      "dict constructor\n",
      "428 ns ± 4.52 ns per loop (mean ± std. dev. of 7 runs, 1,000,000 loops each)\n"
     ]
    }
   ],
   "source": [
    "# and the speeds...\n",
    "\n",
    "print(\"\\nfor loop\")\n",
    "my_dict = {}\n",
    "%timeit for key, value in zip(my_keys, my_values): my_dict[key] = value\n",
    "\n",
    "print(\"\\ndict comprehension\")\n",
    "my_dict = {}\n",
    "%timeit my_dict = {key:value for (key, value) in zip(my_keys, my_values)}\n",
    "\n",
    "print(\"\\ndict constructor\")\n",
    "my_dict = {}\n",
    "%timeit my_dict = dict(zip(my_keys, my_values))\n"
   ]
  },
  {
   "cell_type": "markdown",
   "id": "8c1a374d",
   "metadata": {},
   "source": [
    "Looks like the `for` loop and dict constructor are very fast.\n",
    "This is because in Python looping over and accessing a dict is very fast.\n",
    "\n",
    "The `for` loop and the list comprehension add extra options. For example, you can manipuate the keys or values during dict creation."
   ]
  },
  {
   "cell_type": "markdown",
   "id": "cfeea688",
   "metadata": {
    "pycharm": {
     "name": "#%%\n"
    }
   },
   "source": [
    "## When not to use loops\n",
    "\n",
    "Sometimes you don't need to use loops, or you might find that your code is slow because of many loops.\n",
    "\n",
    "If you are working with numbers, arrays or matrixes, you can use numpy to do very fast matrix calculations.\n",
    "\n",
    "**Example**\n",
    "\n",
    "You have 5 images and want to find the maximum pixel value in each image.\n",
    "\n",
    "- First we will do this with a `for` loop\n",
    "- Second we will do this purely with `numpy`\n"
   ]
  },
  {
   "cell_type": "code",
   "execution_count": 69,
   "id": "77d3610c",
   "metadata": {},
   "outputs": [
    {
     "name": "stdout",
     "output_type": "stream",
     "text": [
      "5\n"
     ]
    }
   ],
   "source": [
    "# example images\n",
    "import cv2\n",
    "import random\n",
    "\n",
    "my_image = cv2.imread(\"../../data/channel_example.png\", cv2.IMREAD_GRAYSCALE) + random.randint(10, 30)\n",
    "\n",
    "images = []\n",
    "for i in range(5):  # pretend we have 5 images\n",
    "    images.append(my_image)\n",
    "\n",
    "print(len(images))"
   ]
  },
  {
   "cell_type": "code",
   "execution_count": 70,
   "id": "d94c25a2",
   "metadata": {},
   "outputs": [
    {
     "name": "stdout",
     "output_type": "stream",
     "text": [
      "[11182509, 11182509, 11182509, 11182509, 11182509]\n"
     ]
    }
   ],
   "source": [
    "# get the maximum pixel value of each image\n",
    "\n",
    "max_pixel = []\n",
    "for im in images:\n",
    "    max_pixel.append(im.sum())\n",
    "\n",
    "print(max_pixel)"
   ]
  },
  {
   "cell_type": "code",
   "execution_count": 71,
   "id": "b169ae6b",
   "metadata": {},
   "outputs": [
    {
     "name": "stdout",
     "output_type": "stream",
     "text": [
      "[11182509 11182509 11182509 11182509 11182509]\n"
     ]
    }
   ],
   "source": [
    "# use numpy to do this without a loop\n",
    "import numpy as np\n",
    "\n",
    "images_arr = np.array(images)  # wouldn't be needed if we loaded as a stack\n",
    "max_pixel = images_arr.sum(axis=(1, 2))  # we have to \"squish\" two dimensions\n",
    "print(max_pixel)"
   ]
  },
  {
   "cell_type": "markdown",
   "id": "adbd248e",
   "metadata": {},
   "source": [
    "Let's see how fast they are..."
   ]
  },
  {
   "cell_type": "code",
   "execution_count": 72,
   "id": "511ce5a6",
   "metadata": {},
   "outputs": [
    {
     "name": "stdout",
     "output_type": "stream",
     "text": [
      "For loop with sum():\n",
      "60 ms ± 851 µs per loop (mean ± std. dev. of 7 runs, 10 loops each)\n",
      "\n",
      "For loop with np.sum():\n",
      "32.3 ms ± 155 µs per loop (mean ± std. dev. of 7 runs, 10 loops each)\n",
      "\n",
      "Numpy only:\n",
      "30.1 ms ± 232 µs per loop (mean ± std. dev. of 7 runs, 10 loops each)\n",
      "\n",
      "List comprehension:\n",
      "59.2 ms ± 304 µs per loop (mean ± std. dev. of 7 runs, 10 loops each)\n",
      "\n",
      "List comprehension with np.sum:\n",
      "30.8 ms ± 180 µs per loop (mean ± std. dev. of 7 runs, 10 loops each)\n"
     ]
    }
   ],
   "source": [
    "# we make a large list/array for more relaistic timing\n",
    "\n",
    "my_image = cv2.imread(\"../../data/channel_example.png\", cv2.IMREAD_GRAYSCALE) + random.randint(10, 30)\n",
    "\n",
    "images = []\n",
    "for i in range(500):\n",
    "    images.append(my_image)\n",
    "\n",
    "\n",
    "print(f\"For loop with sum():\")\n",
    "sum_pixel = []\n",
    "%timeit for im in images: sum_pixel.append(sum(im))\n",
    "    \n",
    "\n",
    "print(f\"\\nFor loop with np.sum():\")\n",
    "sum_pixel = []\n",
    "%timeit for im in images: sum_pixel.append(np.sum(im))\n",
    "    \n",
    "    \n",
    "print(f\"\\nNumpy only:\")\n",
    "images_arr = np.array(images)\n",
    "%timeit sum_pixel = np.sum(images_arr, axis=(1, 2))\n",
    "\n",
    "    \n",
    "print(f\"\\nList comprehension:\")\n",
    "%timeit sum_pixel = [sum(im) for im in images]\n",
    "\n",
    "\n",
    "print(f\"\\nList comprehension with np.sum:\")\n",
    "%timeit sum_pixel = [im.sum() for im in images]\n"
   ]
  },
  {
   "cell_type": "markdown",
   "id": "b36d6095",
   "metadata": {},
   "source": [
    "**Outcome**\n",
    "\n",
    "We can see that the numpy implementation is about 20% ms faster for 500 images, but that the list comprehension is about as fast!\n",
    "\n",
    "This **doesn't mean that list comprehensions or numpy should always be used. It just depends on your use-case!**\n",
    "\n",
    "If you need to do many matrix or high-dimensional calculations, numpy is often very easy to use and fast.\n",
    "\n",
    "\n",
    "So... there is no definitive rule??? Well, no, it involves some trial and error. This [answer on stack overflow is very good](https://stackoverflow.com/questions/41325427/numpy-ufuncs-speed-vs-for-loop-speed).\n",
    "\n",
    "**\"Don't blindly trust simplified statements and never optimize without profiling.\"**\n",
    "\n",
    "-------------------------------------------------------------------------------------"
   ]
  },
  {
   "cell_type": "markdown",
   "id": "64656098",
   "metadata": {},
   "source": [
    "## TQDM progress bar\n",
    "\n",
    "One can add a nifty progress bar to any iterable in Python with the TQDM Python package. Just install with `pip install tqdm` and use as below...\n",
    "\n",
    "Import with \n",
    "- `from tqdm import tqdm`\n",
    "- `from tqdm.notebook import tqdm` when using a notebook\n",
    "\n",
    "And just wrap the iterable with `tqdm`...\n",
    "\n",
    "See documentation here: https://tqdm.github.io/"
   ]
  },
  {
   "cell_type": "code",
   "execution_count": null,
   "id": "c5be4984",
   "metadata": {},
   "outputs": [],
   "source": [
    "# Normally we do: from tqdm import tqdm\n",
    "# but in notebooks we do\n",
    "from tqdm.notebook import tqdm"
   ]
  },
  {
   "cell_type": "code",
   "execution_count": null,
   "id": "e3976777",
   "metadata": {},
   "outputs": [],
   "source": [
    "# using tqdm with for loop\n",
    "\n",
    "for i in tqdm(range(1_000_000)):\n",
    "    _ = i**6\n"
   ]
  },
  {
   "cell_type": "code",
   "execution_count": null,
   "id": "3500da06",
   "metadata": {},
   "outputs": [],
   "source": [
    "# use tqdm with list comprehensions\n",
    "\n",
    "_ = [i**6 for i in tqdm(range(1_000_000))]"
   ]
  },
  {
   "cell_type": "code",
   "execution_count": null,
   "id": "ca1ffc95",
   "metadata": {},
   "outputs": [],
   "source": [
    "# we can't use tqdm with generators because they don't know their length! A generator only calls the \"next\" item...\n",
    "# the calculation will be completed, but the progress bar is confused.\n",
    "\n",
    "my_generator = (i for i in range(1_000_000))\n",
    "\n",
    "_ = (i**6 for i in tqdm(my_generator))  # will NOT work"
   ]
  },
  {
   "cell_type": "code",
   "execution_count": null,
   "id": "91db1e0e",
   "metadata": {},
   "outputs": [],
   "source": []
  }
 ],
 "metadata": {
  "kernelspec": {
   "display_name": "Python 3 (ipykernel)",
   "language": "python",
   "name": "python3"
  },
  "language_info": {
   "codemirror_mode": {
    "name": "ipython",
    "version": 3
   },
   "file_extension": ".py",
   "mimetype": "text/x-python",
   "name": "python",
   "nbconvert_exporter": "python",
   "pygments_lexer": "ipython3",
   "version": "3.9.13"
  }
 },
 "nbformat": 4,
 "nbformat_minor": 5
}
