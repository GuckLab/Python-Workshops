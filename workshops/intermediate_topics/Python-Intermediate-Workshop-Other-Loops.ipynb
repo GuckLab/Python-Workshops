{
 "cells": [
  {
   "cell_type": "markdown",
   "id": "floating-terrorist",
   "metadata": {
    "pycharm": {
     "name": "#%% md\n"
    }
   },
   "source": [
    "# Welcome to the Intermediate Python Workshop\n",
    "\n",
    "## Loops beyond for and while\n",
    "\n",
    "This notebooks will give you an intermediate introduction to Loops in Python.\n",
    "Here is a [beginners guide to For and While loops](https://www.youtube.com/watch?v=6iF8Xb7Z3wQ). We won't cover this here!\n",
    "\n",
    "Eoghan O'Connell, Guck Division, MPL, 2023"
   ]
  },
  {
   "cell_type": "code",
   "execution_count": 1,
   "id": "young-conjunction",
   "metadata": {
    "pycharm": {
     "name": "#%%\n"
    }
   },
   "outputs": [],
   "source": [
    "# notebook metadata you can ignore!\n",
    "info = {\"topic\": [\"list comprehensions\", \"numpy\", \"tqdm\"],\n",
    "        \"version\" : \"0.0.1\"}"
   ]
  },
  {
   "cell_type": "markdown",
   "id": "enabling-madrid",
   "metadata": {
    "pycharm": {
     "name": "#%% md\n"
    }
   },
   "source": [
    "### How to use this notebook\n",
    "\n",
    "- Click on a cell (each box is called a cell). Hit \"shift+enter\", this will run the cell!\n",
    "- You can run the cells in any order!\n",
    "- The output of runnable code is printed below the cell.\n",
    "- Check out this [Jupyter Notebook Tutorial video](https://www.youtube.com/watch?v=HW29067qVWk).\n",
    "\n",
    "See the help tab above for more information!\n"
   ]
  },
  {
   "cell_type": "markdown",
   "id": "ahead-adventure",
   "metadata": {
    "pycharm": {
     "name": "#%% md\n"
    }
   },
   "source": [
    "# What is in this Workshop?\n",
    "In this notebook we cover:\n",
    "\n",
    "- List comprehensions\n",
    "   - Generator expressions\n",
    "   - dict comprehensions\n",
    "\n",
    "- When not to use loops\n",
    "- TQDM progress bar"
   ]
  },
  {
   "cell_type": "markdown",
   "id": "funded-workshop",
   "metadata": {
    "pycharm": {
     "name": "#%% md\n"
    }
   },
   "source": [
    "-----------\n",
    "## List comprehensions\n",
    "\n",
    "In Python we can loop over an iterable with a `for` or `while` loop.\n",
    "\n",
    "We can also loop over lists with list comprehesions.\n",
    "\n",
    "- There is a similar syntax used for generator expressions (which we can convert to tuple comprehensions).\n",
    "- There is also dict comprehensions!\n",
    "\n",
    "List comprehensions can be quite fast and look compact! We will see their speed below.\n",
    "\n",
    "### Example List comprehension\n",
    "\n",
    "Imagine we have a list of number and want to square each value. We would usually use a `for` loop..."
   ]
  },
  {
   "cell_type": "code",
   "execution_count": 26,
   "id": "13da2d56",
   "metadata": {},
   "outputs": [
    {
     "name": "stdout",
     "output_type": "stream",
     "text": [
      "[4, 9, 25]\n"
     ]
    }
   ],
   "source": [
    "my_lst = [2, 3, 5]\n",
    "\n",
    "my_sq_lst = []\n",
    "for i in my_lst:\n",
    "    my_sq_lst.append(i**2)\n",
    "\n",
    "print(my_sq_lst)"
   ]
  },
  {
   "cell_type": "code",
   "execution_count": 3,
   "id": "2c49e9a5",
   "metadata": {},
   "outputs": [
    {
     "name": "stdout",
     "output_type": "stream",
     "text": [
      "[4, 6, 10]\n"
     ]
    }
   ],
   "source": [
    "# let's do this with a list comprehension\n",
    "\n",
    "my_sq_lst = [i**2 for i in my_lst]  # break this down!\n",
    "print(my_sq_lst)"
   ]
  },
  {
   "cell_type": "markdown",
   "id": "9d700226",
   "metadata": {},
   "source": [
    "In the list comprehension, you can read it as the `for i in my_lst` part first, then do `i**2` to every `i`\n",
    "\n",
    "Of course, we can add extra stuff which makes it slightly more complicated..."
   ]
  },
  {
   "cell_type": "code",
   "execution_count": 4,
   "id": "enclosed-wrapping",
   "metadata": {
    "pycharm": {
     "name": "#%%\n"
    }
   },
   "outputs": [
    {
     "name": "stdout",
     "output_type": "stream",
     "text": [
      "[-3, 6, 10]\n"
     ]
    }
   ],
   "source": [
    "# using if else statements in a list comprehension\n",
    "\n",
    "my_sq_lst = [i**2 if i>2 else i-5 for i in my_lst]  # break this down!\n",
    "print(my_sq_lst)"
   ]
  },
  {
   "cell_type": "markdown",
   "id": "df26d53d",
   "metadata": {},
   "source": [
    "Let's break that down... How do we make sense of it???\n",
    "\n",
    "Read it like this:\n",
    "- `for i in my_lst`\n",
    "- do `i**2` to every `i`\n",
    "- then it feels like a normal if else clause `if i>3 else i-1`\n",
    "\n",
    "It can take a while to get used to this syntax. But it is super fun, compact and can be very fast.\n",
    "\n",
    "Let's look at how fast it is..."
   ]
  },
  {
   "cell_type": "code",
   "execution_count": 5,
   "id": "0f1af6a0",
   "metadata": {},
   "outputs": [
    {
     "name": "stdout",
     "output_type": "stream",
     "text": [
      "616 µs ± 32.4 µs per loop (mean ± std. dev. of 7 runs, 1,000 loops each)\n"
     ]
    }
   ],
   "source": [
    "# speed of for loop vs. list comprehension\n",
    "my_lst = list(range(10000))\n",
    "my_sq_lst = []\n",
    "\n",
    "%timeit for i in my_lst: my_sq_lst.append(i**2)"
   ]
  },
  {
   "cell_type": "code",
   "execution_count": 6,
   "id": "178ceadd",
   "metadata": {},
   "outputs": [
    {
     "name": "stdout",
     "output_type": "stream",
     "text": [
      "267 µs ± 4.78 µs per loop (mean ± std. dev. of 7 runs, 1,000 loops each)\n"
     ]
    }
   ],
   "source": [
    "my_lst = list(range(10000))\n",
    "my_sq_lst = []\n",
    "\n",
    "%timeit my_sq_lst = [i**2 for i in my_lst]"
   ]
  },
  {
   "cell_type": "markdown",
   "id": "06639373",
   "metadata": {
    "pycharm": {
     "name": "#%% raw\n"
    }
   },
   "source": [
    "Wow, 3 times faster! That's great!\n",
    "\n",
    "We can also use similar sytax for generator expressions (which we can convert to tuples or lists easily if need be).\n"
   ]
  },
  {
   "cell_type": "markdown",
   "id": "829687de",
   "metadata": {},
   "source": [
    "### Generator expressions\n",
    "\n",
    "A generator is an iterable but really fast. It is fast because the generator doesn't hold all of its information in one place. It \"generates\" it on the fly when you need it.\n",
    "\n",
    "Let's compare syntax and speed of a generator expression to a list comprehension."
   ]
  },
  {
   "cell_type": "code",
   "execution_count": 7,
   "id": "1d64e9dd",
   "metadata": {},
   "outputs": [],
   "source": [
    "# create generator and list\n",
    "\n",
    "my_generator = (i for i in range(10000))\n",
    "my_lst = [i for i in range(10000)]"
   ]
  },
  {
   "cell_type": "code",
   "execution_count": 8,
   "id": "97fcb823",
   "metadata": {},
   "outputs": [
    {
     "name": "stdout",
     "output_type": "stream",
     "text": [
      "\n",
      "loop with list comprehension\n",
      "279 µs ± 4.03 µs per loop (mean ± std. dev. of 7 runs, 1,000 loops each)\n",
      "\n",
      "loop with generator within list compr\n",
      "104 ns ± 3.14 ns per loop (mean ± std. dev. of 7 runs, 10,000,000 loops each)\n",
      "\n",
      "loop with generator within generator expression\n",
      "180 ns ± 3.93 ns per loop (mean ± std. dev. of 7 runs, 10,000,000 loops each)\n",
      "\n",
      "loop with generator in a for loop\n",
      "18.3 ns ± 0.0317 ns per loop (mean ± std. dev. of 7 runs, 100,000,000 loops each)\n"
     ]
    }
   ],
   "source": [
    "# loop over the generator and list in different ways...\n",
    "\n",
    "print(\"\\nloop with list comprehension\")\n",
    "my_sq_lst1 = []\n",
    "%timeit my_sq_lst1 = [i**2 for i in my_lst]  # loop with list comprehension\n",
    "\n",
    "print(\"\\nloop with generator within list compr\")\n",
    "my_sq_lst2 = []\n",
    "%timeit my_sq_lst2 = [i**2 for i in my_generator]  # loop with generator within list compr\n",
    "\n",
    "print(\"\\nloop with generator within generator expression\")\n",
    "my_sq_lst3 = []\n",
    "%timeit my_sq_lst3 = (i**2 for i in my_generator)  # loop with generator within generator expression\n",
    "\n",
    "print(\"\\nloop with generator in a for loop\")\n",
    "my_sq_lst4 = []\n",
    "%timeit for i in my_generator: my_sq_lst4.append(i**2)  # loop with generator in a for loop\n",
    "\n",
    "assert my_sq_lst1 == my_sq_lst2 == my_sq_lst3 == my_sq_lst4  # make sure they are all the same result"
   ]
  },
  {
   "cell_type": "markdown",
   "id": "920f2b40",
   "metadata": {
    "pycharm": {
     "name": "#%% md\n"
    }
   },
   "source": [
    "So it looks like using a generator speeds up our looping by quite a lot!\n",
    "\n",
    "Lesson learned, if you can use a generator to loop over an iterable, do!"
   ]
  },
  {
   "cell_type": "markdown",
   "id": "3ef1fd21",
   "metadata": {},
   "source": [
    "### Dict comprehensions\n",
    "\n",
    "The syntax for a dict comprehension is slightly more complicated than in a list comprehension because have both key and value!\n",
    "Here is the syntax: `{key: value for (key, value) in iterable}`\n",
    "\n",
    "**HOWEVER**, you might be able to use the `dict` constructor directly for your use-case. Let's look at them all!\n"
   ]
  },
  {
   "cell_type": "code",
   "execution_count": 9,
   "id": "cb56ec5c",
   "metadata": {
    "pycharm": {
     "name": "#%%\n"
    }
   },
   "outputs": [
    {
     "name": "stdout",
     "output_type": "stream",
     "text": [
      "for loop:           {'name': 'Earth', 'age': 4540000000.0, 'appearance': ['tiny', 'blue', 'dot']}\n",
      "dict comprehension: {'name': 'Earth', 'age': 4540000000.0, 'appearance': ['tiny', 'blue', 'dot']}\n",
      "dict constructor:   {'name': 'Earth', 'age': 4540000000.0, 'appearance': ['tiny', 'blue', 'dot']}\n"
     ]
    }
   ],
   "source": [
    "# I have two lists and want to make a dictionary. We can do this with a for loop or a dict comprehension\n",
    "\n",
    "my_keys = [\"name\", \"age\", \"appearance\"]\n",
    "my_values = [\"Earth\", 4.54e9, [\"tiny\", \"blue\", \"dot\"]]\n",
    "\n",
    "# use a for loop\n",
    "my_dict = {}\n",
    "for key, value in zip(my_keys, my_values):\n",
    "    my_dict[key] = value\n",
    "print(f\"for loop:           {my_dict}\")\n",
    "\n",
    "\n",
    "# dict comprehension\n",
    "my_dict = {key:value for (key, value) in zip(my_keys, my_values)}\n",
    "print(f\"dict comprehension: {my_dict}\")\n",
    "\n",
    "\n",
    "# dict constructor called directly\n",
    "my_dict = dict(zip(my_keys, my_values))\n",
    "print(f\"dict constructor:   {my_dict}\")\n"
   ]
  },
  {
   "cell_type": "code",
   "execution_count": 10,
   "id": "68d342e8",
   "metadata": {},
   "outputs": [
    {
     "name": "stdout",
     "output_type": "stream",
     "text": [
      "\n",
      "for loop\n",
      "250 ns ± 2.4 ns per loop (mean ± std. dev. of 7 runs, 1,000,000 loops each)\n",
      "\n",
      "dict comprehension\n",
      "357 ns ± 11.2 ns per loop (mean ± std. dev. of 7 runs, 1,000,000 loops each)\n",
      "\n",
      "dict constructor\n",
      "284 ns ± 8.45 ns per loop (mean ± std. dev. of 7 runs, 1,000,000 loops each)\n"
     ]
    }
   ],
   "source": [
    "# and the speeds...\n",
    "\n",
    "print(\"\\nfor loop\")\n",
    "my_dict = {}\n",
    "%timeit for key, value in zip(my_keys, my_values): my_dict[key] = value\n",
    "\n",
    "print(\"\\ndict comprehension\")\n",
    "my_dict = {}\n",
    "%timeit my_dict = {key:value for (key, value) in zip(my_keys, my_values)}\n",
    "\n",
    "print(\"\\ndict constructor\")\n",
    "my_dict = {}\n",
    "%timeit my_dict = dict(zip(my_keys, my_values))\n"
   ]
  },
  {
   "cell_type": "markdown",
   "id": "8c1a374d",
   "metadata": {},
   "source": [
    "Looks like the for loop and dict constructor are very fast.\n",
    "This is because in Python looping over and accessing a dict is very fast.\n",
    "\n",
    "The for loop and the list comprehension add extra options. For example, you can manipuate the keys or values during dict creation."
   ]
  },
  {
   "cell_type": "markdown",
   "id": "cfeea688",
   "metadata": {
    "pycharm": {
     "name": "#%%\n"
    }
   },
   "source": [
    "## When not to use loops\n",
    "\n",
    "Sometimes you don't need to use loops, or you might find that your code is slow because of many loops.\n",
    "\n",
    "If you are working with lists with numbers, arrays or matrixes, you can use numpy to very fast matrix calculations.\n",
    "\n"
   ]
  },
  {
   "cell_type": "code",
   "execution_count": 11,
   "id": "77d3610c",
   "metadata": {},
   "outputs": [],
   "source": [
    "# example when to use numpy instead of looping over items"
   ]
  },
  {
   "cell_type": "markdown",
   "id": "64656098",
   "metadata": {},
   "source": [
    "## TQDM progress bar\n",
    "\n",
    "One can add a nifty progress to any iterable in Python with the TQDM Python package. Just install with `pip install tqdm` and use as below...\n",
    "\n",
    "See documentation here: https://tqdm.github.io/"
   ]
  },
  {
   "cell_type": "code",
   "execution_count": 17,
   "id": "c5be4984",
   "metadata": {},
   "outputs": [],
   "source": [
    "# Normally we do: from tqdm import tqdm\n",
    "# but in notebooks we do\n",
    "from tqdm.notebook import tqdm"
   ]
  },
  {
   "cell_type": "code",
   "execution_count": 37,
   "id": "e3976777",
   "metadata": {},
   "outputs": [
    {
     "data": {
      "application/vnd.jupyter.widget-view+json": {
       "model_id": "f1ae4481c3784d95bd4e70279c8fbb28",
       "version_major": 2,
       "version_minor": 0
      },
      "text/plain": [
       "  0%|          | 0/1000000 [00:00<?, ?it/s]"
      ]
     },
     "metadata": {},
     "output_type": "display_data"
    }
   ],
   "source": [
    "# using tqdm with for loop\n",
    "\n",
    "for i in tqdm(range(1_000_000)):\n",
    "    _ = i**6\n"
   ]
  },
  {
   "cell_type": "code",
   "execution_count": 38,
   "id": "3500da06",
   "metadata": {},
   "outputs": [
    {
     "data": {
      "application/vnd.jupyter.widget-view+json": {
       "model_id": "059d199e85464c14a5cccee5634e7ce5",
       "version_major": 2,
       "version_minor": 0
      },
      "text/plain": [
       "  0%|          | 0/1000000 [00:00<?, ?it/s]"
      ]
     },
     "metadata": {},
     "output_type": "display_data"
    }
   ],
   "source": [
    "# use tqdm with list comprehensions\n",
    "\n",
    "_ = [i**6 for i in tqdm(range(1_000_000))]"
   ]
  },
  {
   "cell_type": "code",
   "execution_count": 40,
   "id": "ca1ffc95",
   "metadata": {},
   "outputs": [
    {
     "data": {
      "application/vnd.jupyter.widget-view+json": {
       "model_id": "77f17d4fc88b4ea78db54bf2f51f1577",
       "version_major": 2,
       "version_minor": 0
      },
      "text/plain": [
       "0it [00:00, ?it/s]"
      ]
     },
     "metadata": {},
     "output_type": "display_data"
    }
   ],
   "source": [
    "# we can't use tqdm well with generators because they don't know their length! A generator only calls the \"next\" item...\n",
    "\n",
    "my_generator = (i for i in range(1_000_000))\n",
    "\n",
    "_ = (i**6 for i in tqdm(my_generator))"
   ]
  },
  {
   "cell_type": "code",
   "execution_count": null,
   "id": "91db1e0e",
   "metadata": {},
   "outputs": [],
   "source": []
  }
 ],
 "metadata": {
  "kernelspec": {
   "display_name": "Python 3 (ipykernel)",
   "language": "python",
   "name": "python3"
  },
  "language_info": {
   "codemirror_mode": {
    "name": "ipython",
    "version": 3
   },
   "file_extension": ".py",
   "mimetype": "text/x-python",
   "name": "python",
   "nbconvert_exporter": "python",
   "pygments_lexer": "ipython3",
   "version": "3.9.13"
  }
 },
 "nbformat": 4,
 "nbformat_minor": 5
}
