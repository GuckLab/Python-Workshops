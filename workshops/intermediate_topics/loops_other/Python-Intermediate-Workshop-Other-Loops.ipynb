{
 "cells": [
  {
   "cell_type": "markdown",
   "id": "floating-terrorist",
   "metadata": {
    "pycharm": {
     "name": "#%% md\n"
    }
   },
   "source": [
    "# Welcome to the Intermediate Python Workshop\n",
    "\n",
    "## Loops beyond for and while\n",
    "\n",
    "This notebooks will give you an introduction to looping with list comprehensions and numpy in Python, as well as some other tricks.\n",
    "Here is a [beginners guide to For and While loops](https://www.youtube.com/watch?v=6iF8Xb7Z3wQ). We won't cover those here!\n",
    "\n",
    "Eoghan O'Connell, Guck Division, MPL, 2023"
   ]
  },
  {
   "cell_type": "code",
   "execution_count": null,
   "id": "young-conjunction",
   "metadata": {
    "pycharm": {
     "name": "#%%\n"
    }
   },
   "outputs": [],
   "source": [
    "# notebook metadata you can ignore!\n",
    "info = {\"topic\": [\"list comprehensions\", \"generator expressions\", \"timeit\", \"numpy\", \"tqdm\"],\n",
    "        \"version\" : \"0.0.2\"}"
   ]
  },
  {
   "cell_type": "markdown",
   "id": "enabling-madrid",
   "metadata": {
    "pycharm": {
     "name": "#%% md\n"
    }
   },
   "source": [
    "### How to use this notebook\n",
    "\n",
    "- Click on a cell (each box is called a cell). Hit \"shift+enter\", this will run the cell!\n",
    "- You can run the cells in any order!\n",
    "- The output of runnable code is printed below the cell.\n",
    "- Check out this [Jupyter Notebook Tutorial video](https://www.youtube.com/watch?v=HW29067qVWk).\n",
    "\n",
    "See the help tab above for more information!\n"
   ]
  },
  {
   "cell_type": "markdown",
   "id": "ahead-adventure",
   "metadata": {
    "pycharm": {
     "name": "#%% md\n"
    }
   },
   "source": [
    "# What is in this Workshop?\n",
    "In this notebook we cover:\n",
    "\n",
    "- List comprehensions\n",
    "   - Generator expressions\n",
    "   - dict comprehensions\n",
    "\n",
    "- When not to use loops (when you can use NumPy)\n",
    "- TQDM progress bar"
   ]
  },
  {
   "cell_type": "markdown",
   "id": "funded-workshop",
   "metadata": {
    "pycharm": {
     "name": "#%% md\n"
    }
   },
   "source": [
    "-----------\n",
    "## List comprehensions\n",
    "\n",
    "In Python we can loop over an iterable with a `for` or `while` loop.\n",
    "\n",
    "We can also loop over lists with a special loop called a **list comprehesion**.\n",
    "\n",
    "- There is a similar syntax used for generator expressions (which we can convert to tuple comprehensions).\n",
    "- There is also dict comprehensions!\n",
    "\n",
    "List comprehensions are compact and can be quite fast! We will compare their speed to other looping below.\n",
    "\n",
    "### Example List comprehension\n",
    "\n",
    "Imagine we have a list of numbers and want to square each value. We would usually use a `for` loop..."
   ]
  },
  {
   "cell_type": "code",
   "execution_count": null,
   "id": "13da2d56",
   "metadata": {},
   "outputs": [],
   "source": [
    "my_lst = [2, 3, 5]\n",
    "\n",
    "my_sq_lst = []\n",
    "for i in my_lst:\n",
    "    my_sq_lst.append(i**2)\n",
    "\n",
    "print(my_sq_lst)"
   ]
  },
  {
   "cell_type": "code",
   "execution_count": null,
   "id": "2c49e9a5",
   "metadata": {},
   "outputs": [],
   "source": [
    "# let's do this with a list comprehension\n",
    "\n",
    "my_sq_lst = [i**2 for i in my_lst]\n",
    "\n",
    "print(my_sq_lst)"
   ]
  },
  {
   "cell_type": "markdown",
   "id": "9d700226",
   "metadata": {},
   "source": [
    "In the list comprehension, you can read it as the `for i in my_lst` part first, then do `i**2` to every `i`.\n",
    "\n",
    "It will return a new list.\n",
    "\n",
    "Of course, we can add extra stuff which makes it slightly more complicated..."
   ]
  },
  {
   "cell_type": "code",
   "execution_count": null,
   "id": "enclosed-wrapping",
   "metadata": {
    "pycharm": {
     "name": "#%%\n"
    }
   },
   "outputs": [],
   "source": [
    "# using if else statements in a list comprehension.\n",
    "\n",
    "my_sq_lst = [i**2 if i>2 else i-5 for i in my_lst]\n",
    "\n",
    "print(my_sq_lst)"
   ]
  },
  {
   "cell_type": "markdown",
   "id": "df26d53d",
   "metadata": {},
   "source": [
    "Let's break that down... How do we make sense of it???\n",
    "\n",
    "Read it like this:\n",
    "- `for i in my_lst`\n",
    "- do `i**2` to every `i`\n",
    "- then it feels like a normal if-else clause `if i>2 else i-5`\n",
    "\n",
    "It can take a while to get used to this syntax. But it is super fun, compact and can be very fast.\n",
    "\n",
    "Here is what it would look like as a normal for loop..."
   ]
  },
  {
   "cell_type": "code",
   "execution_count": null,
   "id": "1029c9eb",
   "metadata": {},
   "outputs": [],
   "source": [
    "my_sq_lst = []\n",
    "for i in my_lst:\n",
    "    if i>2:\n",
    "        i = i**2\n",
    "    else:\n",
    "        i = i-5\n",
    "    my_sq_lst.append(i)\n",
    "\n",
    "print(my_sq_lst)"
   ]
  },
  {
   "cell_type": "markdown",
   "id": "8070847c",
   "metadata": {},
   "source": [
    "So you can see that the list comprehension is much more compact!"
   ]
  },
  {
   "cell_type": "markdown",
   "id": "fc1cfa8e",
   "metadata": {},
   "source": [
    "Let's look at how fast list compreshensions are when compared to for loops...\n",
    "\n",
    "*(you don't need to understand how this timing is happening)*"
   ]
  },
  {
   "cell_type": "code",
   "execution_count": null,
   "id": "0f1af6a0",
   "metadata": {},
   "outputs": [],
   "source": [
    "# speed of for loop\n",
    "my_lst = list(range(10000))\n",
    "my_sq_lst = []\n",
    "\n",
    "%timeit for i in my_lst: my_sq_lst.append(i**2)\n",
    "\n",
    "# speed of list comprehension\n",
    "my_sq_lst = []\n",
    "%timeit my_sq_lst = [i**2 for i in my_lst]"
   ]
  },
  {
   "cell_type": "markdown",
   "id": "06639373",
   "metadata": {
    "pycharm": {
     "name": "#%% raw\n"
    }
   },
   "source": [
    "Wow, 15% faster (on my PC)! That's great!\n",
    "\n",
    "We can also use similar sytax for generator expressions (which we can convert to tuples or lists easily if need be).\n"
   ]
  },
  {
   "cell_type": "markdown",
   "id": "829687de",
   "metadata": {},
   "source": [
    "### Generator expressions\n",
    "\n",
    "A generator is an iterable but really fast. It is fast because the generator doesn't hold all of its information in one place. It \"generates\" it on the fly when you need it.\n",
    "\n",
    "Let's compare syntax and speed of a generator expression to a list comprehension."
   ]
  },
  {
   "cell_type": "markdown",
   "id": "25508e4c",
   "metadata": {},
   "source": [
    "**The timeit module will not save the variable, so looking at its type won't be reliable!**"
   ]
  },
  {
   "cell_type": "code",
   "execution_count": null,
   "id": "d671ddb8",
   "metadata": {},
   "outputs": [],
   "source": [
    "# create a generator and list\n",
    "\n",
    "my_generator = (i for i in range(10000))\n",
    "my_lst = [i**2 for i in my_generator]"
   ]
  },
  {
   "cell_type": "code",
   "execution_count": null,
   "id": "339e4f32",
   "metadata": {},
   "outputs": [],
   "source": [
    "%%timeit\n",
    "\n",
    "# use list in for loop\n",
    "my_sq_lst = []\n",
    "for i in my_lst: my_sq_lst.append(i**2)"
   ]
  },
  {
   "cell_type": "code",
   "execution_count": null,
   "id": "b777ed51",
   "metadata": {},
   "outputs": [],
   "source": [
    "%%timeit\n",
    "\n",
    "# use generator in for loop\n",
    "my_sq_lst = []\n",
    "for i in my_generator: my_sq_lst.append(i**2)"
   ]
  },
  {
   "cell_type": "code",
   "execution_count": null,
   "id": "031e1a98",
   "metadata": {},
   "outputs": [],
   "source": [
    "%%timeit\n",
    "\n",
    "# use range in for loop\n",
    "my_sq_lst = []\n",
    "for i in range(10000): my_sq_lst.append(i**2)"
   ]
  },
  {
   "cell_type": "code",
   "execution_count": null,
   "id": "59a7489f",
   "metadata": {},
   "outputs": [],
   "source": [
    "%%timeit\n",
    "\n",
    "# use list in list comprehension\n",
    "my_sq_lst = [i**2 for i in my_lst]"
   ]
  },
  {
   "cell_type": "code",
   "execution_count": null,
   "id": "f2c0aced",
   "metadata": {},
   "outputs": [],
   "source": [
    "%%timeit\n",
    "\n",
    "# use generator in list comprehension\n",
    "my_sq_lst = [i**2 for i in my_generator]"
   ]
  },
  {
   "cell_type": "code",
   "execution_count": null,
   "id": "effe7da1",
   "metadata": {},
   "outputs": [],
   "source": [
    "%%timeit\n",
    "\n",
    "# use range in list comprehension\n",
    "my_sq_lst = [i**2 for i in range(10000)]"
   ]
  },
  {
   "cell_type": "code",
   "execution_count": null,
   "id": "8d442efb",
   "metadata": {},
   "outputs": [],
   "source": [
    "%%timeit\n",
    "\n",
    "# use list in generator expression\n",
    "my_sq_lst = (i**2 for i in my_lst)"
   ]
  },
  {
   "cell_type": "code",
   "execution_count": null,
   "id": "4e29dc42",
   "metadata": {},
   "outputs": [],
   "source": [
    "%%timeit\n",
    "\n",
    "# use generator in generator expression\n",
    "my_sq_lst = (i**2 for i in my_generator)"
   ]
  },
  {
   "cell_type": "code",
   "execution_count": null,
   "id": "acdf5985",
   "metadata": {},
   "outputs": [],
   "source": [
    "%%timeit\n",
    "\n",
    "# use range in generator expression\n",
    "my_sq_lst = (i**2 for i in range(10000))"
   ]
  },
  {
   "cell_type": "markdown",
   "id": "920f2b40",
   "metadata": {
    "pycharm": {
     "name": "#%% md\n"
    }
   },
   "source": [
    "So it looks like using a **generator speeds up our looping by quite a lot**! Especially in a for loop.\n",
    "\n",
    "Lesson learned, if you can use a generator to loop over an iterable, do! (However, there are always nuances with looping, so don't take this as gospel for all situations). Also, **USE PROFILING!**"
   ]
  },
  {
   "cell_type": "markdown",
   "id": "3ef1fd21",
   "metadata": {},
   "source": [
    "### Dict comprehensions\n",
    "\n",
    "The syntax for a dict comprehension is slightly more complicated than in a list comprehension because dict has both key and value!\n",
    "\n",
    "Here is the syntax: `{key: value for (key, value) in iterable}`\n",
    "\n",
    "**HOWEVER**, you might be able to use the `dict` constructor directly for your use-case. Let's look at them all with a little help from [Carl](https://www.exquisiteartz.co.uk/ekmps/shops/exquisiteartz/images/carl-sagan-quote-the-pale-blue-dot.-space-print-poster-canvas.-sizes-a1-a2-a3-a4-3813-p[ekm]1150x812[ekm].jpg)!\n"
   ]
  },
  {
   "cell_type": "code",
   "execution_count": null,
   "id": "cb56ec5c",
   "metadata": {
    "pycharm": {
     "name": "#%%\n"
    }
   },
   "outputs": [],
   "source": [
    "# I have two lists and want to make a dictionary. We can do this with a for loop or a dict comprehension\n",
    "\n",
    "my_keys = [\"name\", \"age\", \"appearance\"]\n",
    "my_values = [\"Earth\", 4.54e9, [\"pale\", \"blue\", \"dot\"]]\n",
    "\n",
    "# use for loop\n",
    "my_dict = {}\n",
    "for key, value in zip(my_keys, my_values):\n",
    "    my_dict[key] = value\n",
    "print(f\"for loop:           {my_dict}\")\n",
    "\n",
    "\n",
    "# dict comprehension\n",
    "my_dict = {key:value for (key, value) in zip(my_keys, my_values)}\n",
    "print(f\"dict comprehension: {my_dict}\")\n",
    "\n",
    "\n",
    "# dict constructor called directly\n",
    "my_dict = dict(zip(my_keys, my_values))\n",
    "print(f\"dict constructor:   {my_dict}\")\n"
   ]
  },
  {
   "cell_type": "code",
   "execution_count": null,
   "id": "68d342e8",
   "metadata": {},
   "outputs": [],
   "source": [
    "# and the speeds...\n",
    "\n",
    "print(\"\\nfor loop\")\n",
    "my_dict = {}\n",
    "%timeit for key, value in zip(my_keys, my_values): my_dict[key] = value\n",
    "\n",
    "print(\"\\ndict comprehension\")\n",
    "my_dict = {}\n",
    "%timeit my_dict = {key:value for (key, value) in zip(my_keys, my_values)}\n",
    "\n",
    "print(\"\\ndict constructor\")\n",
    "my_dict = {}\n",
    "%timeit my_dict = dict(zip(my_keys, my_values))\n"
   ]
  },
  {
   "cell_type": "markdown",
   "id": "8c1a374d",
   "metadata": {},
   "source": [
    "Looks like the `for` loop and dict constructor are very fast.\n",
    "This is because in Python looping over and accessing a dict is very fast.\n",
    "\n",
    "The `for` loop and the list comprehension add extra options. For example, you can manipuate the keys or values during dict creation."
   ]
  },
  {
   "cell_type": "markdown",
   "id": "cfeea688",
   "metadata": {
    "pycharm": {
     "name": "#%%\n"
    }
   },
   "source": [
    "## When not to use loops\n",
    "\n",
    "Sometimes you don't need to use loops, or you might find that your code is slow because of many loops.\n",
    "\n",
    "If you are working with numbers, arrays or matrixes, you can use numpy to do very fast matrix calculations.\n",
    "\n",
    "**Example**\n",
    "\n",
    "You have 5 images and want to find the maximum pixel value in each image.\n",
    "\n",
    "- First we will do this with a `for` loop\n",
    "- Second we will do this purely with `numpy`\n"
   ]
  },
  {
   "cell_type": "code",
   "execution_count": null,
   "id": "77d3610c",
   "metadata": {},
   "outputs": [],
   "source": [
    "# example images\n",
    "import cv2\n",
    "import random\n",
    "\n",
    "my_image = cv2.imread(\"../../data/channel_example.png\", cv2.IMREAD_GRAYSCALE) + random.randint(10, 30)\n",
    "\n",
    "images = []\n",
    "for i in range(5):  # pretend we have 5 images\n",
    "    images.append(my_image)\n",
    "\n",
    "print(len(images))"
   ]
  },
  {
   "cell_type": "code",
   "execution_count": null,
   "id": "d94c25a2",
   "metadata": {},
   "outputs": [],
   "source": [
    "# get the maximum pixel value of each image\n",
    "\n",
    "max_pixel = []\n",
    "for im in images:\n",
    "    max_pixel.append(im.sum())\n",
    "\n",
    "print(max_pixel)"
   ]
  },
  {
   "cell_type": "code",
   "execution_count": null,
   "id": "b169ae6b",
   "metadata": {},
   "outputs": [],
   "source": [
    "# use numpy to do this without a loop\n",
    "import numpy as np\n",
    "\n",
    "images_arr = np.array(images)  # wouldn't be needed if we loaded as a stack\n",
    "max_pixel = images_arr.sum(axis=(1, 2))  # we have to \"squish\" two dimensions\n",
    "print(max_pixel)"
   ]
  },
  {
   "cell_type": "markdown",
   "id": "adbd248e",
   "metadata": {},
   "source": [
    "Let's see how fast they are..."
   ]
  },
  {
   "cell_type": "code",
   "execution_count": null,
   "id": "511ce5a6",
   "metadata": {},
   "outputs": [],
   "source": [
    "# we make a large list/array for more relaistic timing\n",
    "\n",
    "my_image = cv2.imread(\"../../data/channel_example.png\", cv2.IMREAD_GRAYSCALE) + random.randint(10, 30)\n",
    "\n",
    "images = []\n",
    "for i in range(500):\n",
    "    images.append(my_image)\n",
    "\n",
    "\n",
    "print(f\"For loop with sum():\")\n",
    "sum_pixel = []\n",
    "%timeit for im in images: sum_pixel.append(sum(im))\n",
    "    \n",
    "\n",
    "print(f\"\\nFor loop with np.sum():\")\n",
    "sum_pixel = []\n",
    "%timeit for im in images: sum_pixel.append(np.sum(im))\n",
    "    \n",
    "    \n",
    "print(f\"\\nNumpy only:\")\n",
    "images_arr = np.array(images)\n",
    "%timeit sum_pixel = np.sum(images_arr, axis=(1, 2))\n",
    "\n",
    "    \n",
    "print(f\"\\nList comprehension:\")\n",
    "%timeit sum_pixel = [sum(im) for im in images]\n",
    "\n",
    "\n",
    "print(f\"\\nList comprehension with np.sum:\")\n",
    "%timeit sum_pixel = [im.sum() for im in images]\n"
   ]
  },
  {
   "cell_type": "markdown",
   "id": "b36d6095",
   "metadata": {},
   "source": [
    "**Outcome**\n",
    "\n",
    "We can see that the numpy implementation is about 20% ms faster for 500 images, but that the list comprehension is about as fast!\n",
    "\n",
    "This **doesn't mean that list comprehensions or numpy should always be used. It just depends on your use-case!**\n",
    "\n",
    "If you need to do many matrix or high-dimensional calculations, numpy is often very easy to use and fast.\n",
    "\n",
    "\n",
    "So... there is no definitive rule??? Well, no, it involves some trial and error. This [answer on stack overflow is very good](https://stackoverflow.com/questions/41325427/numpy-ufuncs-speed-vs-for-loop-speed).\n",
    "\n",
    "**\"Don't blindly trust simplified statements and never optimize without profiling.\"**\n",
    "\n",
    "-------------------------------------------------------------------------------------"
   ]
  },
  {
   "cell_type": "markdown",
   "id": "64656098",
   "metadata": {},
   "source": [
    "## TQDM progress bar\n",
    "\n",
    "One can add a nifty progress bar to any iterable in Python with the TQDM Python package. Just install with `pip install tqdm` and use as below...\n",
    "\n",
    "Import with \n",
    "- `from tqdm import tqdm`\n",
    "- `from tqdm.notebook import tqdm` when using a notebook\n",
    "\n",
    "And just wrap the iterable with `tqdm`...\n",
    "\n",
    "See documentation here: https://tqdm.github.io/"
   ]
  },
  {
   "cell_type": "code",
   "execution_count": null,
   "id": "c5be4984",
   "metadata": {},
   "outputs": [],
   "source": [
    "# Normally we do: from tqdm import tqdm\n",
    "# but in notebooks we do\n",
    "from tqdm.notebook import tqdm"
   ]
  },
  {
   "cell_type": "code",
   "execution_count": null,
   "id": "e3976777",
   "metadata": {},
   "outputs": [],
   "source": [
    "# using tqdm with for loop\n",
    "\n",
    "for i in tqdm(range(1_000_000)):\n",
    "    _ = i**6\n"
   ]
  },
  {
   "cell_type": "code",
   "execution_count": null,
   "id": "3500da06",
   "metadata": {},
   "outputs": [],
   "source": [
    "# use tqdm with list comprehensions\n",
    "\n",
    "_ = [i**6 for i in tqdm(range(1_000_000))]"
   ]
  },
  {
   "cell_type": "code",
   "execution_count": null,
   "id": "ca1ffc95",
   "metadata": {},
   "outputs": [],
   "source": [
    "# we can't use tqdm with generators because they don't know their length! A generator only calls the \"next\" item...\n",
    "# the calculation will be completed, but the progress bar is confused.\n",
    "\n",
    "my_generator = (i for i in range(1_000_000))\n",
    "\n",
    "_ = (i**6 for i in tqdm(my_generator))  # will NOT work"
   ]
  },
  {
   "cell_type": "code",
   "execution_count": null,
   "id": "91db1e0e",
   "metadata": {},
   "outputs": [],
   "source": []
  }
 ],
 "metadata": {
  "kernelspec": {
   "display_name": "Python 3 (ipykernel)",
   "language": "python",
   "name": "python3"
  },
  "language_info": {
   "codemirror_mode": {
    "name": "ipython",
    "version": 3
   },
   "file_extension": ".py",
   "mimetype": "text/x-python",
   "name": "python",
   "nbconvert_exporter": "python",
   "pygments_lexer": "ipython3",
   "version": "3.9.13"
  }
 },
 "nbformat": 4,
 "nbformat_minor": 5
}
