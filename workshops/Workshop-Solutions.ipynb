{
 "cells": [
  {
   "cell_type": "markdown",
   "id": "80417567",
   "metadata": {
    "pycharm": {
     "name": "#%% md\n"
    }
   },
   "source": [
    "# Beginner Python Workshop Exercise Solutions\n",
    "\n",
    "**Topic: solutions**\n",
    "\n",
    "This notebook contains solutions for the exercises in Beginner Python Workshops.\n",
    "\n",
    "Eoghan O'Connell, Guck Division, MPL, 2021"
   ]
  },
  {
   "cell_type": "code",
   "execution_count": null,
   "id": "0b764526",
   "metadata": {
    "pycharm": {
     "name": "#%%\n"
    }
   },
   "outputs": [],
   "source": [
    "# notebook metadata you can ignore!\n",
    "info = {\"workshop-solutions\": [1, 2, 3, 4],\n",
    "        \"topic\": [\"solutions\"],\n",
    "        \"version\" : \"0.0.2\"}"
   ]
  },
  {
   "cell_type": "markdown",
   "id": "6d5b2bff",
   "metadata": {
    "pycharm": {
     "name": "#%% md\n"
    }
   },
   "source": [
    "### How to use this notebook\n",
    "\n",
    "- Click on a cell (each box is called a cell). Hit \"shift+enter\", this will run the cell!\n",
    "- You can run the cells in any order!\n",
    "- The output of runnable code is printed below the cell.\n",
    "- Check out this [Jupyter Notebook Tutorial video](https://www.youtube.com/watch?v=HW29067qVWk).\n",
    "\n",
    "See the help tab above for more information!\n"
   ]
  },
  {
   "cell_type": "markdown",
   "id": "8a64e75d",
   "metadata": {
    "pycharm": {
     "name": "#%% md\n"
    }
   },
   "source": [
    "# Workshop Exercise Solutions\n",
    "\n",
    "In this notebook we will:\n",
    "- Show some common solutions for the exercises in the first three Beginner Python Workshops.\n",
    "\n",
    "   - Workshop-01\n",
    "      1. Rename a string variable by slicing.\n",
    "      2. Print a number variable in a sentence.\n",
    "      3. Replace an item in a list.\n",
    "   - Workshop-02\n",
    "      1. Open a simple text file and open a simple text file using the `with` context manager.\n",
    "      2. Verify the value of the aspect ratio for a .rtdc file.\n",
    "      3. Apply a Gaussian filter to an image file.\n",
    "   - Workshop-03\n",
    "      1. Create a `list` with different data types (e.g. `list`, `int` etc). Use a `for` loop and print out the data type for each item.\n",
    "      2. Create a `dict` with strings as keys and numbers as values. Use a `for` loop to mulitply each value by 5.\n",
    "      3. Implement a `for` loop with the `np.arange` function. What is the difference between `range` and `np.arange`?\n",
    "   - Workshop-04\n",
    "      1. Create a loop that checks if a numpy array has one or two dimensions. In either case, change the array to a one dimensional array.\n",
    "      2. Create an empty list. Check if the list is empty is the simplest way you can.\n",
    "      3. Create a list of strings, check if certains strings are in the list. Do this without and with a `for` loop."
   ]
  },
  {
   "cell_type": "markdown",
   "id": "b3115b71",
   "metadata": {
    "pycharm": {
     "name": "#%% md\n"
    }
   },
   "source": [
    "### Excercises - Workshop-01\n",
    "\n",
    "The answers are in the \"Workshop-Solutions.ipynb\" notebook!\n",
    "\n",
    "(hint: use a search engine to look for answers)\n",
    "\n",
    "**1. Rename a string variable by slicing.**\n",
    "\n",
    "Rename `\"001_experiment_ddmmyy.rtdc\"` to `\"001_experiment_070721.rtdc\"`.\n",
    "\n",
    "In other words, (hint-hint) **replace** `ddmmyy` with `070721`"
   ]
  },
  {
   "cell_type": "code",
   "execution_count": 1,
   "id": "bdf7b8dc",
   "metadata": {
    "pycharm": {
     "name": "#%%\n"
    }
   },
   "outputs": [
    {
     "name": "stdout",
     "output_type": "stream",
     "text": [
      "Help on method_descriptor:\n",
      "\n",
      "replace(self, old, new, count=-1, /)\n",
      "    Return a copy with all occurrences of substring old replaced by new.\n",
      "    \n",
      "      count\n",
      "        Maximum number of occurrences to replace.\n",
      "        -1 (the default value) means replace all occurrences.\n",
      "    \n",
      "    If the optional argument count is given, only the first count occurrences are\n",
      "    replaced.\n",
      "\n"
     ]
    }
   ],
   "source": [
    "filename = \"001_experiment_ddmmyy.rtdc\"\n",
    "\n",
    "# try the built-in `replace` method for strings\n",
    "help(str.replace)"
   ]
  },
  {
   "cell_type": "code",
   "execution_count": 2,
   "id": "343aa0ae",
   "metadata": {
    "pycharm": {
     "name": "#%%\n"
    }
   },
   "outputs": [
    {
     "name": "stdout",
     "output_type": "stream",
     "text": [
      "001_experiment_070721.rtdc\n"
     ]
    }
   ],
   "source": [
    "# We need to put the old text and new text into the function.\n",
    "\n",
    "filename_new = filename.replace(\"ddmmyy\", \"070721\")\n",
    "print(filename_new)"
   ]
  },
  {
   "cell_type": "markdown",
   "id": "44845dcb",
   "metadata": {
    "pycharm": {
     "name": "#%% md\n"
    }
   },
   "source": [
    "**2. You have a number variable and want to print it out in the following sentence:**\n",
    "\n",
    "\"The answer to life, the universe and everything is: 42\"\n",
    "\n",
    "Find two ways to do this!"
   ]
  },
  {
   "cell_type": "code",
   "execution_count": 12,
   "id": "648054b0",
   "metadata": {
    "pycharm": {
     "name": "#%%\n"
    }
   },
   "outputs": [
    {
     "name": "stdout",
     "output_type": "stream",
     "text": [
      "Best method:\n",
      "The answer to life, the universe and everything is: 42\n",
      "\n",
      "Other methods:\n",
      "The answer to life, the universe and everything is: 42\n",
      "The answer to life, the universe and everything is: 42\n",
      "The answer to life, the universe and everything is: 42\n"
     ]
    }
   ],
   "source": [
    "answer = 42\n",
    "\n",
    "# there are four ways to do this. The first way is best.\n",
    "# Search \"python f-strings\" for more information online.\n",
    "print(\"Best method:\")\n",
    "print(f\"The answer to life, the universe and everything is: {answer}\")\n",
    "\n",
    "print(\"\\nOther methods:\")\n",
    "print(\"The answer to life, the universe and everything is: {}\".format(answer))\n",
    "print(\"The answer to life, the universe and everything is: %s\" %answer)\n",
    "print(f\"The answer to life, the universe and everything is: \" + str(answer))"
   ]
  },
  {
   "cell_type": "markdown",
   "id": "e1bac7e0",
   "metadata": {
    "pycharm": {
     "name": "#%% md\n"
    }
   },
   "source": [
    "**3. Replace an item in a list.**\n",
    "\n",
    "Replace the first item in the list with a different string."
   ]
  },
  {
   "cell_type": "code",
   "execution_count": 13,
   "id": "36208a8a",
   "metadata": {
    "pycharm": {
     "name": "#%%\n"
    }
   },
   "outputs": [
    {
     "name": "stdout",
     "output_type": "stream",
     "text": [
      "[\"Ruchi's cool string\", 55, 4.43, False]\n"
     ]
    }
   ],
   "source": [
    "example_items = [\"replace me\", 55, 4.43, False]\n",
    "\n",
    "example_items[0] = \"Ruchi's cool string\"\n",
    "\n",
    "print(example_items)"
   ]
  },
  {
   "cell_type": "markdown",
   "id": "9f416629",
   "metadata": {
    "pycharm": {
     "name": "#%% md\n"
    }
   },
   "source": [
    "### Excercises - Workshop-02\n",
    "\n",
    "(hint: use a search engine to look for answers)\n",
    "\n",
    "1. Open a simple text file (.txt)\n",
    "2. Open a simple text file using the `with` context manager.\n",
    "\n",
    "The path to the file is given below. [Have fun](https://www.youtube.com/watch?v=Rnpy3cC673o)."
   ]
  },
  {
   "cell_type": "code",
   "execution_count": 14,
   "id": "22264151",
   "metadata": {
    "pycharm": {
     "name": "#%%\n"
    }
   },
   "outputs": [
    {
     "name": "stdout",
     "output_type": "stream",
     "text": [
      "Hi Everybody!\n",
      "\n",
      "Hi Doctor Nick!\n",
      "\n"
     ]
    }
   ],
   "source": [
    "file_path = \"../data/example_text_file.txt\"\n",
    "\n",
    "# use the built-in \"open\" function\n",
    "file = open(file_path, 'r')\n",
    "print(file.read())\n",
    "file.close()\n"
   ]
  },
  {
   "cell_type": "code",
   "execution_count": 15,
   "id": "c0a4040c",
   "metadata": {
    "pycharm": {
     "name": "#%%\n"
    }
   },
   "outputs": [
    {
     "name": "stdout",
     "output_type": "stream",
     "text": [
      "Hi Everybody!\n",
      "\n",
      "Hi Doctor Nick!\n",
      "\n"
     ]
    }
   ],
   "source": [
    "# the \"with\" keyword will open the file and also close it afterwards!\n",
    "with open(file_path, 'r') as file:\n",
    "    print(file.read())"
   ]
  },
  {
   "cell_type": "markdown",
   "id": "0e15553c",
   "metadata": {
    "pycharm": {
     "name": "#%% md\n"
    }
   },
   "source": [
    "2. Verify the value of the aspect ratio for the .rtdc file.\n",
    "\n",
    "Hint: look at the `dclab` documentation to find the definition of aspect ratio!"
   ]
  },
  {
   "cell_type": "code",
   "execution_count": 17,
   "id": "7303c825",
   "metadata": {
    "pycharm": {
     "name": "#%%\n"
    }
   },
   "outputs": [
    {
     "data": {
      "text/plain": [
       "True"
      ]
     },
     "execution_count": 17,
     "metadata": {},
     "output_type": "execute_result"
    }
   ],
   "source": [
    "import dclab\n",
    "import numpy as np\n",
    "ds = dclab.new_dataset(\"../data/calibration_beads_47.rtdc\")\n",
    "\n",
    "# verify the aspect ratio...\n",
    "# get the features from the dclab dataset\n",
    "aspect = ds[\"aspect\"]\n",
    "calc_aspect = ds[\"size_x\"] / ds[\"size_y\"]\n",
    "\n",
    "# round the values for simplicity\n",
    "calc_aspect = np.around(calc_aspect, 3)\n",
    "aspect = np.around(aspect, 3)\n",
    "\n",
    "# compare the values\n",
    "all(aspect == calc_aspect)"
   ]
  },
  {
   "cell_type": "markdown",
   "id": "27bd45a3",
   "metadata": {
    "pycharm": {
     "name": "#%% md\n"
    }
   },
   "source": [
    "3. Apply a Gaussian filter to the image file.\n",
    "\n",
    "Hint: try to use the `gaussian_filter` function from the `scikit-image` package. You will need to install `scikit-image` first!"
   ]
  },
  {
   "cell_type": "code",
   "execution_count": 18,
   "id": "90059ef4",
   "metadata": {
    "pycharm": {
     "name": "#%%\n"
    }
   },
   "outputs": [
    {
     "data": {
      "image/png": "[encoded data removed]",
      "text/plain": [
       "<Figure size 1000x400 with 2 Axes>"
      ]
     },
     "metadata": {},
     "output_type": "display_data"
    }
   ],
   "source": [
    "import cv2\n",
    "from skimage.filters import gaussian\n",
    "import matplotlib.pyplot as plt\n",
    "\n",
    "im = cv2.imread(\"../data/channel_example.png\", cv2.IMREAD_GRAYSCALE)\n",
    "\n",
    "# filter the image with a Gaussian\n",
    "# we will use the skimage.filters.gaussian function for this!\n",
    "\n",
    "im_filt = gaussian(im, sigma=6)\n",
    "\n",
    "# now let's visualise both images\n",
    "fig, ax = plt.subplots(2, 1, figsize=(10, 4))\n",
    "ax[0].imshow(im)\n",
    "ax[0].set_title(\"Original Image\")\n",
    "ax[1].imshow(im_filt)\n",
    "ax[1].set_title(\"Filtered Image\")\n",
    "plt.show()"
   ]
  },
  {
   "cell_type": "markdown",
   "id": "aeab6901",
   "metadata": {
    "pycharm": {
     "name": "#%% md\n"
    }
   },
   "source": [
    "### Excercises - Workshop-03\n",
    "\n",
    "(hint: use a search engine to look for answers)\n",
    "\n",
    "1. Create a `list` with different data types (e.g. `list`, `int` etc). Use a `for` loop and print out the data type for each item."
   ]
  },
  {
   "cell_type": "code",
   "execution_count": 19,
   "id": "d3642ea1",
   "metadata": {
    "pycharm": {
     "name": "#%%\n"
    }
   },
   "outputs": [
    {
     "name": "stdout",
     "output_type": "stream",
     "text": [
      "<class 'str'>\n",
      "<class 'list'>\n",
      "<class 'int'>\n",
      "<class 'float'>\n"
     ]
    }
   ],
   "source": [
    "# create a list with different datatypes\n",
    "some_info = [\"word\", [\"this is a\", \"sublist\"], 99, 77.98]\n",
    "\n",
    "# loop over the list as shown in Workshop-03\n",
    "for info in some_info:\n",
    "    print(type(info))"
   ]
  },
  {
   "cell_type": "markdown",
   "id": "d669814d",
   "metadata": {
    "pycharm": {
     "name": "#%% md\n"
    }
   },
   "source": [
    "2. Create a `dict` with strings as keys and numbers as values. Use a `for` loop to mulitply each value by 5.\n",
    "\n",
    "Hint: look at the previous `for` loop example which uses a `dict`."
   ]
  },
  {
   "cell_type": "code",
   "execution_count": 20,
   "id": "17a7c9fd",
   "metadata": {
    "pycharm": {
     "name": "#%%\n"
    }
   },
   "outputs": [
    {
     "name": "stdout",
     "output_type": "stream",
     "text": [
      "10\n",
      "28.5\n",
      "50\n"
     ]
    }
   ],
   "source": [
    "# create a dict with number values\n",
    "data = {\"key1\": 2,\n",
    "        \"key2\": 5.7,\n",
    "        \"key3\": 10,}\n",
    "\n",
    "# loop over the dict as shown in Workshop-03\n",
    "for k in data.keys():\n",
    "    print(data[k] * 5)"
   ]
  },
  {
   "cell_type": "markdown",
   "id": "65b835a0",
   "metadata": {
    "pycharm": {
     "name": "#%% md\n"
    }
   },
   "source": [
    "3. Implement a `for` loop with the `np.arange` function. What is the difference between `range` and `np.arange`?\n",
    "\n",
    "Hint: it has something to do with number data types..."
   ]
  },
  {
   "cell_type": "code",
   "execution_count": 21,
   "id": "046a799a",
   "metadata": {
    "pycharm": {
     "name": "#%%\n"
    }
   },
   "outputs": [
    {
     "name": "stdout",
     "output_type": "stream",
     "text": [
      "0\n",
      "1\n",
      "2\n",
      "3\n",
      "4\n"
     ]
    }
   ],
   "source": [
    "import numpy as np\n",
    "\n",
    "# let's first use the built-in `range` function\n",
    "# use it for an integer\n",
    "value1 = 5\n",
    "for ii in range(value1):\n",
    "    print(ii)"
   ]
  },
  {
   "cell_type": "code",
   "execution_count": 22,
   "id": "a9c099e6",
   "metadata": {
    "pycharm": {
     "name": "#%%\n"
    }
   },
   "outputs": [
    {
     "name": "stdout",
     "output_type": "stream",
     "text": [
      "0\n",
      "1\n",
      "2\n",
      "3\n",
      "4\n"
     ]
    }
   ],
   "source": [
    "# now use the np.arange function\n",
    "for ii in np.arange(value1):\n",
    "    print(ii)"
   ]
  },
  {
   "cell_type": "code",
   "execution_count": 23,
   "id": "a3840de4",
   "metadata": {
    "pycharm": {
     "name": "#%%\n"
    }
   },
   "outputs": [
    {
     "ename": "TypeError",
     "evalue": "'float' object cannot be interpreted as an integer",
     "output_type": "error",
     "traceback": [
      "\u001b[1;31m---------------------------------------------------------------------------\u001b[0m",
      "\u001b[1;31mTypeError\u001b[0m                                 Traceback (most recent call last)",
      "Cell \u001b[1;32mIn[23], line 3\u001b[0m\n\u001b[0;32m      1\u001b[0m \u001b[38;5;66;03m# now try each with a float\u001b[39;00m\n\u001b[0;32m      2\u001b[0m value2 \u001b[38;5;241m=\u001b[39m \u001b[38;5;241m5.0\u001b[39m\n\u001b[1;32m----> 3\u001b[0m \u001b[38;5;28;01mfor\u001b[39;00m ii \u001b[38;5;129;01min\u001b[39;00m \u001b[38;5;28;43mrange\u001b[39;49m\u001b[43m(\u001b[49m\u001b[43mvalue2\u001b[49m\u001b[43m)\u001b[49m:\n\u001b[0;32m      4\u001b[0m     \u001b[38;5;28mprint\u001b[39m(ii)\n\u001b[0;32m      6\u001b[0m \u001b[38;5;66;03m# this will produce an error! `range` can't take float values\u001b[39;00m\n",
      "\u001b[1;31mTypeError\u001b[0m: 'float' object cannot be interpreted as an integer"
     ]
    }
   ],
   "source": [
    "# now try each with a float\n",
    "value2 = 5.0\n",
    "for ii in range(value2):\n",
    "    print(ii)\n",
    "\n",
    "# this will produce an error! `range` can't take float values"
   ]
  },
  {
   "cell_type": "code",
   "execution_count": 24,
   "id": "c25f90f7",
   "metadata": {
    "pycharm": {
     "name": "#%%\n"
    }
   },
   "outputs": [
    {
     "name": "stdout",
     "output_type": "stream",
     "text": [
      "0.0\n",
      "1.0\n",
      "2.0\n",
      "3.0\n",
      "4.0\n"
     ]
    }
   ],
   "source": [
    "# np.arange can be used to take float values\n",
    "for ii in np.arange(value2):\n",
    "    print(ii)"
   ]
  },
  {
   "cell_type": "markdown",
   "id": "9db09499",
   "metadata": {
    "pycharm": {
     "name": "#%% md\n"
    }
   },
   "source": [
    "### Excercises - Workshop-04\n",
    "\n",
    "(hint: use a search engine to look for answers)\n",
    "\n",
    "1. Create a numpy array. Check how many dimensions the array has. If the array is not 1 dimensional, change the array to a one dimensional array."
   ]
  },
  {
   "cell_type": "code",
   "execution_count": 25,
   "id": "64f9099d",
   "metadata": {
    "pycharm": {
     "name": "#%%\n"
    }
   },
   "outputs": [
    {
     "name": "stdout",
     "output_type": "stream",
     "text": [
      "arr is one dimension: [1. 1. 1.]\n"
     ]
    }
   ],
   "source": [
    "import numpy as np\n",
    "\n",
    "arr = np.ones(3)\n",
    "# arr = np.ones((3,2))\n",
    "\n",
    "if arr.ndim == 1:\n",
    "    print(f\"arr is one dimension: {arr}\")\n",
    "elif arr.ndim > 1:\n",
    "    arr = arr.flatten()\n",
    "    print(f\"arr has been reduced to one dimension: {arr}\")\n",
    "else:\n",
    "    print(f\"arrrrr, the arr is empty: {arr}\")"
   ]
  },
  {
   "cell_type": "code",
   "execution_count": 26,
   "id": "21a85cd6",
   "metadata": {
    "pycharm": {
     "name": "#%%\n"
    }
   },
   "outputs": [
    {
     "name": "stdout",
     "output_type": "stream",
     "text": [
      "arr has been reduced to one dimension: [1. 1. 1. 1. 1. 1.]\n"
     ]
    }
   ],
   "source": [
    "# another way of doing the same thing\n",
    "\n",
    "arr = np.ones((3,2))\n",
    "if arr.ndim != 1:\n",
    "    arr = arr.flatten()\n",
    "    print(f\"arr has been reduced to one dimension: {arr}\")"
   ]
  },
  {
   "cell_type": "markdown",
   "id": "31f7b91c",
   "metadata": {
    "pycharm": {
     "name": "#%% md\n"
    }
   },
   "source": [
    "2. Create an empty list. Check if the list is empty is the simplest way you can."
   ]
  },
  {
   "cell_type": "code",
   "execution_count": 27,
   "id": "e5ddeddd",
   "metadata": {
    "pycharm": {
     "name": "#%%\n"
    }
   },
   "outputs": [
    {
     "name": "stdout",
     "output_type": "stream",
     "text": [
      "list is empty\n"
     ]
    }
   ],
   "source": [
    "values = []\n",
    "if not values:\n",
    "    print(\"list is empty\")\n"
   ]
  },
  {
   "cell_type": "code",
   "execution_count": 28,
   "id": "c2582eb8",
   "metadata": {
    "pycharm": {
     "name": "#%%\n"
    }
   },
   "outputs": [
    {
     "name": "stdout",
     "output_type": "stream",
     "text": [
      "list is empty\n"
     ]
    }
   ],
   "source": [
    "# other way of doing this\n",
    "if len(values) == 0:\n",
    "    print(\"list is empty\")\n"
   ]
  },
  {
   "cell_type": "markdown",
   "id": "eb74b2aa",
   "metadata": {
    "pycharm": {
     "name": "#%% md\n"
    }
   },
   "source": [
    "3. Create a list of strings, check if certains strings are in the list. Do this without and with a `for` loop."
   ]
  },
  {
   "cell_type": "code",
   "execution_count": 29,
   "id": "48865fa7",
   "metadata": {
    "pycharm": {
     "name": "#%%\n"
    }
   },
   "outputs": [
    {
     "name": "stdout",
     "output_type": "stream",
     "text": [
      "Liz is in the list!\n"
     ]
    }
   ],
   "source": [
    "names = [\"Jona\", \"Liz\", \"Uschi\"]\n",
    "\n",
    "if \"Liz\" in names:\n",
    "    print(\"Liz is in the list!\")\n"
   ]
  },
  {
   "cell_type": "code",
   "execution_count": 30,
   "id": "f117e1bc",
   "metadata": {
    "pycharm": {
     "name": "#%%\n"
    }
   },
   "outputs": [
    {
     "name": "stdout",
     "output_type": "stream",
     "text": [
      "Liz is in the list!\n"
     ]
    }
   ],
   "source": [
    "# with a for loop\n",
    "for name in names:\n",
    "    if name == \"Liz\":\n",
    "        print(\"Liz is in the list!\")\n"
   ]
  }
 ],
 "metadata": {
  "kernelspec": {
   "display_name": "Python 3 (ipykernel)",
   "language": "python",
   "name": "python3"
  },
  "language_info": {
   "codemirror_mode": {
    "name": "ipython",
    "version": 3
   },
   "file_extension": ".py",
   "mimetype": "text/x-python",
   "name": "python",
   "nbconvert_exporter": "python",
   "pygments_lexer": "ipython3",
   "version": "3.9.13"
  }
 },
 "nbformat": 4,
 "nbformat_minor": 5
}
