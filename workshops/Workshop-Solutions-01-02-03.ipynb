{
 "cells": [
  {
   "cell_type": "markdown",
   "id": "80417567",
   "metadata": {},
   "source": [
    "# Beginner Python Workshop Exercise Solutions 1-3 \n",
    "\n",
    "**Topic: solutions**\n",
    "\n",
    "This notebook contains solutions for the exercises in Beginner Python Workshop 01, 02 and 03.\n",
    "\n",
    "Eoghan O'Connell, Guck Division, MPL, 2021"
   ]
  },
  {
   "cell_type": "code",
   "execution_count": null,
   "id": "0b764526",
   "metadata": {},
   "outputs": [],
   "source": [
    "# notebook metadata you can ignore!\n",
    "info = {\"workshop-solutions\": \"1-3\",\n",
    "        \"topic\": [\"solutions\"],\n",
    "        \"version\" : \"0.0.1\"}"
   ]
  },
  {
   "cell_type": "markdown",
   "id": "6d5b2bff",
   "metadata": {},
   "source": [
    "### How to use this notebook\n",
    "\n",
    "- Click on a cell (each box is called a cell). Hit \"shift+enter\", this will run the cell!\n",
    "- You can run the cells in any order!\n",
    "- The output of runnable code is printed below the cell.\n",
    "- Check out this [Jupyter Notebook Tutorial video](https://www.youtube.com/watch?v=HW29067qVWk).\n",
    "\n",
    "See the help tab above for more information!\n"
   ]
  },
  {
   "cell_type": "markdown",
   "id": "8a64e75d",
   "metadata": {},
   "source": [
    "# Workshop Exercise Solutions\n",
    "\n",
    "In this notebook we will:\n",
    "- Show some common solutions for the exercises in the first three Beginner Python Workshops.\n",
    "\n",
    "   - Workshop-01\n",
    "      1. Rename a string variable by slicing.\n",
    "      2. Print a number variable in a sentence.\n",
    "      3. Replace an item in a list.\n",
    "   - Workshop-02\n",
    "      1. Open a simple text file and open a simple text file using the `with` context manager.\n",
    "      2. Verify the value of the aspect ratio for a .rtdc file.\n",
    "      3. Apply a Gaussian filter to an image file.\n",
    "   - Workshop-03\n",
    "      1. Create a `list` with different data types (e.g. `list`, `int` etc). Use a `for` loop and print out the data type for each item.\n",
    "      2. Create a `dict` with strings as keys and numbers as values. Use a `for` loop to mulitply each value by 5.\n",
    "      3. Implement a `for` loop with the `np.arange` function. What is the difference between `range` and `np.arange`?\n",
    "      "
   ]
  },
  {
   "cell_type": "markdown",
   "id": "b3115b71",
   "metadata": {},
   "source": [
    "### Excercises - Workshop-01\n",
    "\n",
    "(hint: use a search engine to look for answers)\n",
    "\n",
    "1. Rename a string variable by slicing.\n",
    "\n",
    "Rename \"001_experiment_ddmmyy.rtdc\" to \"001_experiment_070721.rtdc\""
   ]
  },
  {
   "cell_type": "code",
   "execution_count": null,
   "id": "bdf7b8dc",
   "metadata": {},
   "outputs": [],
   "source": [
    "filename = \"001_experiment_ddmmyy.rtdc\"\n",
    "\n",
    "# try the built-in `replace` method for strings\n",
    "help(str.replace)"
   ]
  },
  {
   "cell_type": "code",
   "execution_count": null,
   "id": "343aa0ae",
   "metadata": {},
   "outputs": [],
   "source": [
    "# We need to put the old text and new text into the function.\n",
    "\n",
    "filename_new = filename.replace(\"ddmmyy\", \"070721\")\n",
    "print(filename_new)"
   ]
  },
  {
   "cell_type": "markdown",
   "id": "44845dcb",
   "metadata": {},
   "source": [
    "2. You have a number variable and want to print it out in the following sentence:\n",
    "\n",
    "answer = 42\n",
    "\n",
    "\"The answer to life, the universe and everything is: 42\"\n",
    "\n",
    "Find two ways to do this!"
   ]
  },
  {
   "cell_type": "code",
   "execution_count": null,
   "id": "648054b0",
   "metadata": {},
   "outputs": [],
   "source": [
    "answer = 42\n",
    "\n",
    "# there are four ways to do this. The first way is best.\n",
    "# Search \"python f-strings\" for more information online.\n",
    "print(\"Best method:\")\n",
    "print(f\"The answer to life, the universe and everything is: {answer}\")\n",
    "\n",
    "print(\"\\nOther methods:\")\n",
    "print(\"The answer to life, the universe and everything is: {}\".format(answer))\n",
    "print(\"The answer to life, the universe and everything is: %s\" %answer)\n",
    "print(f\"The answer to life, the universe and everything is: \" + str(answer))"
   ]
  },
  {
   "cell_type": "markdown",
   "id": "e1bac7e0",
   "metadata": {},
   "source": [
    "3. Replace an item in a list.\n",
    "\n",
    "Replace the string with a different string."
   ]
  },
  {
   "cell_type": "code",
   "execution_count": null,
   "id": "36208a8a",
   "metadata": {},
   "outputs": [],
   "source": [
    "example_items = [\"replace me\", 55, 4.43, False]\n",
    "\n",
    "example_items[0] = \"Ruchi's cool string\"\n",
    "\n",
    "print(example_items)"
   ]
  },
  {
   "cell_type": "markdown",
   "id": "9f416629",
   "metadata": {},
   "source": [
    "### Excercises - Workshop-02\n",
    "\n",
    "(hint: use a search engine to look for answers)\n",
    "\n",
    "1. Open a simple text file (.txt)\n",
    "2. Open a simple text file using the `with` context manager.\n",
    "\n",
    "The path to the file is given below."
   ]
  },
  {
   "cell_type": "code",
   "execution_count": null,
   "id": "22264151",
   "metadata": {},
   "outputs": [],
   "source": [
    "file_path = \"../data/example_text_file.txt\"\n",
    "\n",
    "# use the built-in \"open\" function\n",
    "file = open(file_path, 'r')\n",
    "print(file.read())"
   ]
  },
  {
   "cell_type": "code",
   "execution_count": null,
   "id": "c0a4040c",
   "metadata": {},
   "outputs": [],
   "source": [
    "# the \"with\" keyword will open the file and also close it afterwards!\n",
    "with open(file_path, 'r') as file:\n",
    "    print(file.read())"
   ]
  },
  {
   "cell_type": "markdown",
   "id": "0e15553c",
   "metadata": {},
   "source": [
    "2. Verify the value of the aspect ratio for the .rtdc file.\n",
    "\n",
    "Hint: look at the `dclab` documentation to find the definition of aspect ratio!"
   ]
  },
  {
   "cell_type": "code",
   "execution_count": null,
   "id": "7303c825",
   "metadata": {},
   "outputs": [],
   "source": [
    "import dclab\n",
    "import numpy as np\n",
    "ds = dclab.new_dataset(\"../data/calibration_beads_47.rtdc\")\n",
    "\n",
    "# verify the aspect ratio...\n",
    "# get the features from the dclab dataset\n",
    "aspect = ds[\"aspect\"]\n",
    "calc_aspect = ds[\"size_x\"] / ds[\"size_y\"]\n",
    "\n",
    "# round the values for simplicity\n",
    "calc_aspect = np.around(calc_aspect, 3)\n",
    "aspect = np.around(aspect, 3)\n",
    "\n",
    "# compare the values\n",
    "all(aspect == calc_aspect)"
   ]
  },
  {
   "cell_type": "markdown",
   "id": "27bd45a3",
   "metadata": {},
   "source": [
    "3. Apply a Gaussian filter to the image file.\n",
    "\n",
    "Hint: try to use the `gaussian_filter` function from the `scikit-image` package. You will need to install `scikit-image` first!"
   ]
  },
  {
   "cell_type": "code",
   "execution_count": null,
   "id": "90059ef4",
   "metadata": {},
   "outputs": [],
   "source": [
    "import cv2\n",
    "from skimage.filters import gaussian\n",
    "import matplotlib.pyplot as plt\n",
    "\n",
    "im = cv2.imread(\"../data/channel_example.png\", cv2.IMREAD_GRAYSCALE)\n",
    "\n",
    "# filter the image with a Gaussian\n",
    "# we will use the skimage.filters.gaussian function for this!\n",
    "\n",
    "im_filt = gaussian(im, sigma=6)\n",
    "\n",
    "# now let's visualise both images\n",
    "fig, ax = plt.subplots(2, 1, figsize=(10, 4))\n",
    "ax[0].imshow(im)\n",
    "ax[0].set_title(\"Original Image\")\n",
    "ax[1].imshow(im_filt)\n",
    "ax[1].set_title(\"Filtered Image\")\n",
    "plt.show()"
   ]
  },
  {
   "cell_type": "markdown",
   "id": "aeab6901",
   "metadata": {},
   "source": [
    "### Excercises - Workshop-03\n",
    "\n",
    "(hint: use a search engine to look for answers)\n",
    "\n",
    "1. Create a `list` with different data types (e.g. `list`, `int` etc). Use a `for` loop and print out the data type for each item."
   ]
  },
  {
   "cell_type": "code",
   "execution_count": null,
   "id": "d3642ea1",
   "metadata": {},
   "outputs": [],
   "source": [
    "# create a list with different datatypes\n",
    "some_info = [\"word\", [\"this is a\", \"sublist\"], 99, 77.98]\n",
    "\n",
    "# loop over the list as shown in Workshop-03\n",
    "for info in some_info:\n",
    "    print(type(info))"
   ]
  },
  {
   "cell_type": "markdown",
   "id": "d669814d",
   "metadata": {},
   "source": [
    "2. Create a `dict` with strings as keys and numbers as values. Use a `for` loop to mulitply each value by 5.\n",
    "\n",
    "Hint: look at the previous `for` loop example which uses a `dict`."
   ]
  },
  {
   "cell_type": "code",
   "execution_count": null,
   "id": "17a7c9fd",
   "metadata": {},
   "outputs": [],
   "source": [
    "# create a dict with number values\n",
    "data = {\"key1\": 2,\n",
    "        \"key2\": 5.7,\n",
    "        \"key3\": 10,}\n",
    "\n",
    "# loop over the dict as shown in Workshop-03\n",
    "for k in data.keys():\n",
    "    print(data[k] * 5)"
   ]
  },
  {
   "cell_type": "markdown",
   "id": "65b835a0",
   "metadata": {},
   "source": [
    "3. Implement a `for` loop with the `np.arange` function. What is the difference between `range` and `np.arange`?\n",
    "\n",
    "Hint: it has something to do with number data types..."
   ]
  },
  {
   "cell_type": "code",
   "execution_count": null,
   "id": "046a799a",
   "metadata": {},
   "outputs": [],
   "source": [
    "import numpy as np\n",
    "\n",
    "# let's first use the built-in `range` function\n",
    "# use it for an integer\n",
    "value1 = 5\n",
    "for ii in range(value1):\n",
    "    print(ii)"
   ]
  },
  {
   "cell_type": "code",
   "execution_count": null,
   "id": "a9c099e6",
   "metadata": {},
   "outputs": [],
   "source": [
    "# now use the np.arange function\n",
    "for ii in np.arange(value1):\n",
    "    print(ii)"
   ]
  },
  {
   "cell_type": "code",
   "execution_count": null,
   "id": "a3840de4",
   "metadata": {},
   "outputs": [],
   "source": [
    "# now try each with a float\n",
    "value2 = 5.0\n",
    "for ii in range(value2):\n",
    "    print(ii)\n",
    "\n",
    "# this will produce an error! `range` can't take float values"
   ]
  },
  {
   "cell_type": "code",
   "execution_count": null,
   "id": "c25f90f7",
   "metadata": {},
   "outputs": [],
   "source": [
    "# np.arange can be used to take float values\n",
    "for ii in np.arange(value2):\n",
    "    print(ii)"
   ]
  }
 ],
 "metadata": {
  "kernelspec": {
   "display_name": "Python 3 (ipykernel)",
   "language": "python",
   "name": "python3"
  },
  "language_info": {
   "codemirror_mode": {
    "name": "ipython",
    "version": 3
   },
   "file_extension": ".py",
   "mimetype": "text/x-python",
   "name": "python",
   "nbconvert_exporter": "python",
   "pygments_lexer": "ipython3",
   "version": "3.8.6"
  }
 },
 "nbformat": 4,
 "nbformat_minor": 5
}
