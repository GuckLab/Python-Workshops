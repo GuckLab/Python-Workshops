{
 "cells": [
  {
   "cell_type": "markdown",
   "id": "floating-terrorist",
   "metadata": {},
   "source": [
    "# Welcome to the first Beginner Python Workshop \n",
    "\n",
    "This notebooks will give you a basic introduction to the Python world. Each topic mentioned below is also covered in the [tutorials and tutorial videos](https://github.com/GuckLab/Python-Workshops/tree/main/tutorials)\n",
    "\n",
    "Eoghan O'Connell, Guck Division, MPL, 2021"
   ]
  },
  {
   "cell_type": "code",
   "execution_count": 1,
   "id": "young-conjunction",
   "metadata": {},
   "outputs": [],
   "source": [
    "# notebook metadata you can ignore!\n",
    "info = {\"workshop\": \"02\",\n",
    "        \"version\" : \"0.0.1\"}"
   ]
  },
  {
   "cell_type": "markdown",
   "id": "enabling-madrid",
   "metadata": {},
   "source": [
    "### How to use this notebook\n",
    "\n",
    "- Click on a cell (each box is called a cell). Hit \"shift+enter\", this will run the cell!\n",
    "- You can run the cells in any order!\n",
    "- The output of runnable code is printed below the cell.\n",
    "- Check out this [Jupyter Notebook Tutorial video](https://www.youtube.com/watch?v=HW29067qVWk).\n",
    "\n",
    "See the help tab above for more information!\n"
   ]
  },
  {
   "cell_type": "markdown",
   "id": "ahead-adventure",
   "metadata": {},
   "source": [
    "# What is in this Workshop?\n",
    "In this notebook we cover:\n",
    "- How to open different file formats\n",
    "   - Image files (.png, .tiff)\n",
    "   - RTDC files (.rtdc)\n",
    "   - Excel/Spreadsheet files (.csv file)\n",
    "- How to install the packages needed to open the above files with `pip`.\n",
    "- How to look through package documentation."
   ]
  },
  {
   "cell_type": "markdown",
   "id": "b456ff92",
   "metadata": {},
   "source": [
    "## How to open different file formats\n",
    "\n",
    "Image data is different to the data in a word document. Excel data is different again! Therefore we need to have different file formats to store this data. Sometimes these file formats are open-source, such as .hdf5. This means we know how and where the data is stored. In other cases, we don't know the file format layout e.g. private company.\n",
    "\n",
    "Below we will learn how to open three common file formats in our field:\n",
    "- Image files (.png, .tiff)\n",
    "- RTDC files (.rtdc)\n",
    "- Excel/Spreadsheet files (.csv, .tsv files)\n",
    "\n",
    "and how to use different Python packages to open each file format.\n",
    "\n",
    "*If you are not sure how to open a file format, just search for \"how do I open (file format) in python?\"*"
   ]
  },
  {
   "cell_type": "code",
   "execution_count": 2,
   "id": "cc969878",
   "metadata": {},
   "outputs": [],
   "source": [
    "import matplotlib.pyplot as plt"
   ]
  },
  {
   "cell_type": "markdown",
   "id": "941f2159",
   "metadata": {},
   "source": [
    "----------------------\n",
    "\n",
    "### Image files (.png, .tiff)\n",
    "\n",
    "There are many good packages for opening image files. We will use the `opencv` package.\n",
    "\n",
    "- To install `opencv`, go to your terminal and run `pip install opencv-python`.\n",
    "\n",
    "- To import `opencv` and use it when coding, use `import cv2`"
   ]
  },
  {
   "cell_type": "code",
   "execution_count": 3,
   "id": "655e2da5",
   "metadata": {},
   "outputs": [],
   "source": [
    "# import the `opencv` package\n",
    "import cv2"
   ]
  },
  {
   "cell_type": "code",
   "execution_count": 4,
   "id": "9565b75c",
   "metadata": {},
   "outputs": [],
   "source": [
    "# open an example image of an RTDC channel\n",
    "im = cv2.imread(\"../data/channel_example.png\", cv2.IMREAD_GRAYSCALE)"
   ]
  },
  {
   "cell_type": "code",
   "execution_count": 5,
   "id": "56cafc7e",
   "metadata": {},
   "outputs": [
    {
     "data": {
      "text/plain": [
       "array([[106, 106, 104, ..., 104, 112, 113],\n",
       "       [102, 109, 106, ..., 111, 113, 109],\n",
       "       [102, 104, 101, ..., 116, 114, 115],\n",
       "       ...,\n",
       "       [107, 110, 102, ..., 117, 118, 115],\n",
       "       [106, 106, 104, ..., 114, 115, 110],\n",
       "       [109, 112, 108, ..., 116, 117, 117]], dtype=uint8)"
      ]
     },
     "execution_count": 5,
     "metadata": {},
     "output_type": "execute_result"
    }
   ],
   "source": [
    "im"
   ]
  },
  {
   "cell_type": "code",
   "execution_count": 6,
   "id": "3f59562b",
   "metadata": {},
   "outputs": [
    {
     "data": {
      "image/png": "[encoded data removed]",
      "text/plain": [
       "<Figure size 432x288 with 1 Axes>"
      ]
     },
     "metadata": {
      "needs_background": "light"
     },
     "output_type": "display_data"
    }
   ],
   "source": [
    "# what does it look like?\n",
    "# How to I plot it?\n",
    "plt.figure()\n",
    "plt.imshow(im)\n",
    "plt.show()"
   ]
  },
  {
   "cell_type": "code",
   "execution_count": 7,
   "id": "3665e45a",
   "metadata": {},
   "outputs": [
    {
     "data": {
      "text/plain": [
       "numpy.ndarray"
      ]
     },
     "execution_count": 7,
     "metadata": {},
     "output_type": "execute_result"
    }
   ],
   "source": [
    "# but what is this \"im\"?\n",
    "type(im)"
   ]
  },
  {
   "cell_type": "code",
   "execution_count": 8,
   "id": "14a332f6",
   "metadata": {
    "scrolled": true
   },
   "outputs": [
    {
     "data": {
      "text/plain": [
       "2"
      ]
     },
     "execution_count": 8,
     "metadata": {},
     "output_type": "execute_result"
    }
   ],
   "source": [
    "# how many dimensions is the image?\n",
    "im.ndim"
   ]
  },
  {
   "cell_type": "code",
   "execution_count": 9,
   "id": "d5acc0ea",
   "metadata": {},
   "outputs": [
    {
     "data": {
      "text/plain": [
       "(80, 1100)"
      ]
     },
     "execution_count": 9,
     "metadata": {},
     "output_type": "execute_result"
    }
   ],
   "source": [
    "# what shape is it (in pixels)?\n",
    "im.shape"
   ]
  },
  {
   "cell_type": "markdown",
   "id": "4b7e4584",
   "metadata": {},
   "source": [
    "**If you need to use image files, check out this `opencv` tutorial: https://www.geeksforgeeks.org/reading-image-opencv-using-python/**\n",
    "\n",
    "\n",
    "---------"
   ]
  },
  {
   "cell_type": "markdown",
   "id": "abf22f7e",
   "metadata": {},
   "source": [
    "----------------------\n",
    "\n",
    "### RTDC files (.rtdc)\n",
    "\n",
    "Paul Muller has created the .rtdc format in the `dclab` package.\n",
    "\n",
    "- To install `dclab`, go to your terminal and run `pip install dclab`.\n",
    "\n",
    "- To import `dclab` and use it when coding, use `import dclab`"
   ]
  },
  {
   "cell_type": "code",
   "execution_count": 10,
   "id": "88a9a744",
   "metadata": {},
   "outputs": [],
   "source": [
    "# import the `dclab` package\n",
    "import dclab"
   ]
  },
  {
   "cell_type": "code",
   "execution_count": 11,
   "id": "5c3a3b91",
   "metadata": {},
   "outputs": [],
   "source": [
    "# open an example rtdc file\n",
    "ds = dclab.new_dataset(\"../data/calibration_beads_47.rtdc\")"
   ]
  },
  {
   "cell_type": "code",
   "execution_count": 12,
   "id": "56ecff27",
   "metadata": {},
   "outputs": [
    {
     "data": {
      "text/plain": [
       "<RTDC_HDF5 'mm-hdf5_5db1836' at 0x12fd835b250 (C:\\Users\\eoconne\\Documents\\Python\\repos\\Python-Workshops\\data\\calibration_beads_47.rtdc)>"
      ]
     },
     "execution_count": 12,
     "metadata": {},
     "output_type": "execute_result"
    }
   ],
   "source": [
    "ds"
   ]
  },
  {
   "cell_type": "code",
   "execution_count": 13,
   "id": "1f5b92f8",
   "metadata": {},
   "outputs": [
    {
     "data": {
      "image/png": "[encoded data removed]",
      "text/plain": [
       "<Figure size 432x288 with 1 Axes>"
      ]
     },
     "metadata": {
      "needs_background": "light"
     },
     "output_type": "display_data"
    }
   ],
   "source": [
    "# what does it look like?\n",
    "# How to I plot it?\n",
    "plt.figure()\n",
    "plt.imshow(ds[\"image\"][0])\n",
    "plt.show()"
   ]
  },
  {
   "cell_type": "code",
   "execution_count": 14,
   "id": "12abc030",
   "metadata": {},
   "outputs": [
    {
     "data": {
      "text/plain": [
       "dclab.rtdc_dataset.fmt_hdf5.RTDC_HDF5"
      ]
     },
     "execution_count": 14,
     "metadata": {},
     "output_type": "execute_result"
    }
   ],
   "source": [
    "# but what is this \"im\"?\n",
    "type(ds)"
   ]
  },
  {
   "cell_type": "code",
   "execution_count": 15,
   "id": "fa64754c",
   "metadata": {},
   "outputs": [
    {
     "data": {
      "text/plain": [
       "['area_cvx',\n",
       " 'area_msd',\n",
       " 'area_ratio',\n",
       " 'area_um',\n",
       " 'aspect',\n",
       " 'bright_avg',\n",
       " 'bright_sd',\n",
       " 'circ',\n",
       " 'contour',\n",
       " 'deform',\n",
       " 'fl1_area',\n",
       " 'fl1_max',\n",
       " 'fl1_pos',\n",
       " 'fl1_width',\n",
       " 'fl2_area',\n",
       " 'fl2_max',\n",
       " 'fl2_pos',\n",
       " 'fl2_width',\n",
       " 'fl3_area',\n",
       " 'fl3_max',\n",
       " 'fl3_pos',\n",
       " 'fl3_width',\n",
       " 'frame',\n",
       " 'image',\n",
       " 'index',\n",
       " 'inert_ratio_cvx',\n",
       " 'inert_ratio_prnc',\n",
       " 'inert_ratio_raw',\n",
       " 'mask',\n",
       " 'pos_x',\n",
       " 'pos_y',\n",
       " 'size_x',\n",
       " 'size_y',\n",
       " 'tilt',\n",
       " 'time',\n",
       " 'trace',\n",
       " 'volume']"
      ]
     },
     "execution_count": 15,
     "metadata": {},
     "output_type": "execute_result"
    }
   ],
   "source": [
    "# what features does it have?\n",
    "ds.features"
   ]
  },
  {
   "cell_type": "code",
   "execution_count": 16,
   "id": "65b7a24e",
   "metadata": {},
   "outputs": [
    {
     "data": {
      "text/plain": [
       "(47, 80, 250)"
      ]
     },
     "execution_count": 16,
     "metadata": {},
     "output_type": "execute_result"
    }
   ],
   "source": [
    "# what shape is the image feature?\n",
    "ds[\"image\"].shape"
   ]
  },
  {
   "cell_type": "markdown",
   "id": "793b16e2",
   "metadata": {},
   "source": [
    "**If you need to use RTDC files, check out the `dclab` documentation: https://dclab.readthedocs.io/en/stable/**\n",
    "\n",
    "\n",
    "---------"
   ]
  },
  {
   "cell_type": "markdown",
   "id": "8721246c",
   "metadata": {},
   "source": [
    "----------------------\n",
    "\n",
    "### Excel/spreadsheet files (.csv, .tsv)\n",
    "\n",
    "The `pandas` package is very popular way of opening .csv or .tsv files.\n",
    "\n",
    "- To install `pandas`, go to your terminal and run `pip install pandas`.\n",
    "\n",
    "- To import `pandas` and use it when coding, use `import pandas as pd`"
   ]
  },
  {
   "cell_type": "code",
   "execution_count": 17,
   "id": "d535a097",
   "metadata": {},
   "outputs": [],
   "source": [
    "# import the `pandas` package\n",
    "import pandas as pd"
   ]
  },
  {
   "cell_type": "code",
   "execution_count": 18,
   "id": "cf1dcf6b",
   "metadata": {},
   "outputs": [],
   "source": [
    "# open an example .csv file\n",
    "# data can be found here: https://osf.io/aupb4/#!\n",
    "df = pd.read_csv(\"../data/titanic.csv\")"
   ]
  },
  {
   "cell_type": "code",
   "execution_count": 19,
   "id": "8175d5f6",
   "metadata": {},
   "outputs": [
    {
     "data": {
      "text/html": [
       "<div>\n",
       "<style scoped>\n",
       "    .dataframe tbody tr th:only-of-type {\n",
       "        vertical-align: middle;\n",
       "    }\n",
       "\n",
       "    .dataframe tbody tr th {\n",
       "        vertical-align: top;\n",
       "    }\n",
       "\n",
       "    .dataframe thead th {\n",
       "        text-align: right;\n",
       "    }\n",
       "</style>\n",
       "<table border=\"1\" class=\"dataframe\">\n",
       "  <thead>\n",
       "    <tr style=\"text-align: right;\">\n",
       "      <th></th>\n",
       "      <th>Name</th>\n",
       "      <th>PClass</th>\n",
       "      <th>Age</th>\n",
       "      <th>Sex</th>\n",
       "      <th>Survived</th>\n",
       "    </tr>\n",
       "  </thead>\n",
       "  <tbody>\n",
       "    <tr>\n",
       "      <th>0</th>\n",
       "      <td>Allen, Miss Elisabeth Walton</td>\n",
       "      <td>1st</td>\n",
       "      <td>29.00</td>\n",
       "      <td>female</td>\n",
       "      <td>1</td>\n",
       "    </tr>\n",
       "    <tr>\n",
       "      <th>1</th>\n",
       "      <td>Allison, Miss Helen Loraine</td>\n",
       "      <td>1st</td>\n",
       "      <td>2.00</td>\n",
       "      <td>female</td>\n",
       "      <td>0</td>\n",
       "    </tr>\n",
       "    <tr>\n",
       "      <th>2</th>\n",
       "      <td>Allison, Mr Hudson Joshua Creighton</td>\n",
       "      <td>1st</td>\n",
       "      <td>30.00</td>\n",
       "      <td>male</td>\n",
       "      <td>0</td>\n",
       "    </tr>\n",
       "    <tr>\n",
       "      <th>3</th>\n",
       "      <td>Allison, Mrs Hudson JC (Bessie Waldo Daniels)</td>\n",
       "      <td>1st</td>\n",
       "      <td>25.00</td>\n",
       "      <td>female</td>\n",
       "      <td>0</td>\n",
       "    </tr>\n",
       "    <tr>\n",
       "      <th>4</th>\n",
       "      <td>Allison, Master Hudson Trevor</td>\n",
       "      <td>1st</td>\n",
       "      <td>0.92</td>\n",
       "      <td>male</td>\n",
       "      <td>1</td>\n",
       "    </tr>\n",
       "    <tr>\n",
       "      <th>...</th>\n",
       "      <td>...</td>\n",
       "      <td>...</td>\n",
       "      <td>...</td>\n",
       "      <td>...</td>\n",
       "      <td>...</td>\n",
       "    </tr>\n",
       "    <tr>\n",
       "      <th>1308</th>\n",
       "      <td>Zakarian, Mr Artun</td>\n",
       "      <td>3rd</td>\n",
       "      <td>27.00</td>\n",
       "      <td>male</td>\n",
       "      <td>0</td>\n",
       "    </tr>\n",
       "    <tr>\n",
       "      <th>1309</th>\n",
       "      <td>Zakarian, Mr Maprieder</td>\n",
       "      <td>3rd</td>\n",
       "      <td>26.00</td>\n",
       "      <td>male</td>\n",
       "      <td>0</td>\n",
       "    </tr>\n",
       "    <tr>\n",
       "      <th>1310</th>\n",
       "      <td>Zenni, Mr Philip</td>\n",
       "      <td>3rd</td>\n",
       "      <td>22.00</td>\n",
       "      <td>male</td>\n",
       "      <td>0</td>\n",
       "    </tr>\n",
       "    <tr>\n",
       "      <th>1311</th>\n",
       "      <td>Lievens, Mr Rene</td>\n",
       "      <td>3rd</td>\n",
       "      <td>24.00</td>\n",
       "      <td>male</td>\n",
       "      <td>0</td>\n",
       "    </tr>\n",
       "    <tr>\n",
       "      <th>1312</th>\n",
       "      <td>Zimmerman, Leo</td>\n",
       "      <td>3rd</td>\n",
       "      <td>29.00</td>\n",
       "      <td>male</td>\n",
       "      <td>0</td>\n",
       "    </tr>\n",
       "  </tbody>\n",
       "</table>\n",
       "<p>1313 rows × 5 columns</p>\n",
       "</div>"
      ],
      "text/plain": [
       "                                               Name PClass    Age     Sex  \\\n",
       "0                      Allen, Miss Elisabeth Walton    1st  29.00  female   \n",
       "1                       Allison, Miss Helen Loraine    1st   2.00  female   \n",
       "2               Allison, Mr Hudson Joshua Creighton    1st  30.00    male   \n",
       "3     Allison, Mrs Hudson JC (Bessie Waldo Daniels)    1st  25.00  female   \n",
       "4                     Allison, Master Hudson Trevor    1st   0.92    male   \n",
       "...                                             ...    ...    ...     ...   \n",
       "1308                             Zakarian, Mr Artun    3rd  27.00    male   \n",
       "1309                         Zakarian, Mr Maprieder    3rd  26.00    male   \n",
       "1310                               Zenni, Mr Philip    3rd  22.00    male   \n",
       "1311                               Lievens, Mr Rene    3rd  24.00    male   \n",
       "1312                                 Zimmerman, Leo    3rd  29.00    male   \n",
       "\n",
       "      Survived  \n",
       "0            1  \n",
       "1            0  \n",
       "2            0  \n",
       "3            0  \n",
       "4            1  \n",
       "...        ...  \n",
       "1308         0  \n",
       "1309         0  \n",
       "1310         0  \n",
       "1311         0  \n",
       "1312         0  \n",
       "\n",
       "[1313 rows x 5 columns]"
      ]
     },
     "execution_count": 19,
     "metadata": {},
     "output_type": "execute_result"
    }
   ],
   "source": [
    "df"
   ]
  },
  {
   "cell_type": "code",
   "execution_count": 20,
   "id": "4207c847",
   "metadata": {},
   "outputs": [
    {
     "data": {
      "text/html": [
       "<div>\n",
       "<style scoped>\n",
       "    .dataframe tbody tr th:only-of-type {\n",
       "        vertical-align: middle;\n",
       "    }\n",
       "\n",
       "    .dataframe tbody tr th {\n",
       "        vertical-align: top;\n",
       "    }\n",
       "\n",
       "    .dataframe thead th {\n",
       "        text-align: right;\n",
       "    }\n",
       "</style>\n",
       "<table border=\"1\" class=\"dataframe\">\n",
       "  <thead>\n",
       "    <tr style=\"text-align: right;\">\n",
       "      <th></th>\n",
       "      <th>Name</th>\n",
       "      <th>PClass</th>\n",
       "      <th>Age</th>\n",
       "      <th>Sex</th>\n",
       "      <th>Survived</th>\n",
       "    </tr>\n",
       "  </thead>\n",
       "  <tbody>\n",
       "    <tr>\n",
       "      <th>0</th>\n",
       "      <td>Allen, Miss Elisabeth Walton</td>\n",
       "      <td>1st</td>\n",
       "      <td>29.00</td>\n",
       "      <td>female</td>\n",
       "      <td>1</td>\n",
       "    </tr>\n",
       "    <tr>\n",
       "      <th>1</th>\n",
       "      <td>Allison, Miss Helen Loraine</td>\n",
       "      <td>1st</td>\n",
       "      <td>2.00</td>\n",
       "      <td>female</td>\n",
       "      <td>0</td>\n",
       "    </tr>\n",
       "    <tr>\n",
       "      <th>2</th>\n",
       "      <td>Allison, Mr Hudson Joshua Creighton</td>\n",
       "      <td>1st</td>\n",
       "      <td>30.00</td>\n",
       "      <td>male</td>\n",
       "      <td>0</td>\n",
       "    </tr>\n",
       "    <tr>\n",
       "      <th>3</th>\n",
       "      <td>Allison, Mrs Hudson JC (Bessie Waldo Daniels)</td>\n",
       "      <td>1st</td>\n",
       "      <td>25.00</td>\n",
       "      <td>female</td>\n",
       "      <td>0</td>\n",
       "    </tr>\n",
       "    <tr>\n",
       "      <th>4</th>\n",
       "      <td>Allison, Master Hudson Trevor</td>\n",
       "      <td>1st</td>\n",
       "      <td>0.92</td>\n",
       "      <td>male</td>\n",
       "      <td>1</td>\n",
       "    </tr>\n",
       "    <tr>\n",
       "      <th>5</th>\n",
       "      <td>Anderson, Mr Harry</td>\n",
       "      <td>1st</td>\n",
       "      <td>47.00</td>\n",
       "      <td>male</td>\n",
       "      <td>1</td>\n",
       "    </tr>\n",
       "    <tr>\n",
       "      <th>6</th>\n",
       "      <td>Andrews, Miss Kornelia Theodosia</td>\n",
       "      <td>1st</td>\n",
       "      <td>63.00</td>\n",
       "      <td>female</td>\n",
       "      <td>1</td>\n",
       "    </tr>\n",
       "    <tr>\n",
       "      <th>7</th>\n",
       "      <td>Andrews, Mr Thomas, jr</td>\n",
       "      <td>1st</td>\n",
       "      <td>39.00</td>\n",
       "      <td>male</td>\n",
       "      <td>0</td>\n",
       "    </tr>\n",
       "    <tr>\n",
       "      <th>8</th>\n",
       "      <td>Appleton, Mrs Edward Dale (Charlotte Lamson)</td>\n",
       "      <td>1st</td>\n",
       "      <td>58.00</td>\n",
       "      <td>female</td>\n",
       "      <td>1</td>\n",
       "    </tr>\n",
       "    <tr>\n",
       "      <th>9</th>\n",
       "      <td>Artagaveytia, Mr Ramon</td>\n",
       "      <td>1st</td>\n",
       "      <td>71.00</td>\n",
       "      <td>male</td>\n",
       "      <td>0</td>\n",
       "    </tr>\n",
       "  </tbody>\n",
       "</table>\n",
       "</div>"
      ],
      "text/plain": [
       "                                            Name PClass    Age     Sex  \\\n",
       "0                   Allen, Miss Elisabeth Walton    1st  29.00  female   \n",
       "1                    Allison, Miss Helen Loraine    1st   2.00  female   \n",
       "2            Allison, Mr Hudson Joshua Creighton    1st  30.00    male   \n",
       "3  Allison, Mrs Hudson JC (Bessie Waldo Daniels)    1st  25.00  female   \n",
       "4                  Allison, Master Hudson Trevor    1st   0.92    male   \n",
       "5                             Anderson, Mr Harry    1st  47.00    male   \n",
       "6               Andrews, Miss Kornelia Theodosia    1st  63.00  female   \n",
       "7                         Andrews, Mr Thomas, jr    1st  39.00    male   \n",
       "8   Appleton, Mrs Edward Dale (Charlotte Lamson)    1st  58.00  female   \n",
       "9                         Artagaveytia, Mr Ramon    1st  71.00    male   \n",
       "\n",
       "   Survived  \n",
       "0         1  \n",
       "1         0  \n",
       "2         0  \n",
       "3         0  \n",
       "4         1  \n",
       "5         1  \n",
       "6         1  \n",
       "7         0  \n",
       "8         1  \n",
       "9         0  "
      ]
     },
     "execution_count": 20,
     "metadata": {},
     "output_type": "execute_result"
    }
   ],
   "source": [
    "# how to view the first 10 rows?\n",
    "df.head(10)"
   ]
  },
  {
   "cell_type": "code",
   "execution_count": 21,
   "id": "da769a93",
   "metadata": {},
   "outputs": [
    {
     "data": {
      "text/html": [
       "<div>\n",
       "<style scoped>\n",
       "    .dataframe tbody tr th:only-of-type {\n",
       "        vertical-align: middle;\n",
       "    }\n",
       "\n",
       "    .dataframe tbody tr th {\n",
       "        vertical-align: top;\n",
       "    }\n",
       "\n",
       "    .dataframe thead th {\n",
       "        text-align: right;\n",
       "    }\n",
       "</style>\n",
       "<table border=\"1\" class=\"dataframe\">\n",
       "  <thead>\n",
       "    <tr style=\"text-align: right;\">\n",
       "      <th></th>\n",
       "      <th>Name</th>\n",
       "      <th>PClass</th>\n",
       "      <th>Age</th>\n",
       "      <th>Sex</th>\n",
       "      <th>Survived</th>\n",
       "    </tr>\n",
       "  </thead>\n",
       "  <tbody>\n",
       "    <tr>\n",
       "      <th>1305</th>\n",
       "      <td>Youssef, Mr Gerios</td>\n",
       "      <td>3rd</td>\n",
       "      <td>NaN</td>\n",
       "      <td>male</td>\n",
       "      <td>0</td>\n",
       "    </tr>\n",
       "    <tr>\n",
       "      <th>1306</th>\n",
       "      <td>Zabour, Miss Hileni</td>\n",
       "      <td>3rd</td>\n",
       "      <td>NaN</td>\n",
       "      <td>female</td>\n",
       "      <td>0</td>\n",
       "    </tr>\n",
       "    <tr>\n",
       "      <th>1307</th>\n",
       "      <td>Zabour, Miss Tamini</td>\n",
       "      <td>3rd</td>\n",
       "      <td>NaN</td>\n",
       "      <td>female</td>\n",
       "      <td>0</td>\n",
       "    </tr>\n",
       "    <tr>\n",
       "      <th>1308</th>\n",
       "      <td>Zakarian, Mr Artun</td>\n",
       "      <td>3rd</td>\n",
       "      <td>27.0</td>\n",
       "      <td>male</td>\n",
       "      <td>0</td>\n",
       "    </tr>\n",
       "    <tr>\n",
       "      <th>1309</th>\n",
       "      <td>Zakarian, Mr Maprieder</td>\n",
       "      <td>3rd</td>\n",
       "      <td>26.0</td>\n",
       "      <td>male</td>\n",
       "      <td>0</td>\n",
       "    </tr>\n",
       "    <tr>\n",
       "      <th>1310</th>\n",
       "      <td>Zenni, Mr Philip</td>\n",
       "      <td>3rd</td>\n",
       "      <td>22.0</td>\n",
       "      <td>male</td>\n",
       "      <td>0</td>\n",
       "    </tr>\n",
       "    <tr>\n",
       "      <th>1311</th>\n",
       "      <td>Lievens, Mr Rene</td>\n",
       "      <td>3rd</td>\n",
       "      <td>24.0</td>\n",
       "      <td>male</td>\n",
       "      <td>0</td>\n",
       "    </tr>\n",
       "    <tr>\n",
       "      <th>1312</th>\n",
       "      <td>Zimmerman, Leo</td>\n",
       "      <td>3rd</td>\n",
       "      <td>29.0</td>\n",
       "      <td>male</td>\n",
       "      <td>0</td>\n",
       "    </tr>\n",
       "  </tbody>\n",
       "</table>\n",
       "</div>"
      ],
      "text/plain": [
       "                        Name PClass   Age     Sex  Survived\n",
       "1305      Youssef, Mr Gerios    3rd   NaN    male         0\n",
       "1306     Zabour, Miss Hileni    3rd   NaN  female         0\n",
       "1307     Zabour, Miss Tamini    3rd   NaN  female         0\n",
       "1308      Zakarian, Mr Artun    3rd  27.0    male         0\n",
       "1309  Zakarian, Mr Maprieder    3rd  26.0    male         0\n",
       "1310        Zenni, Mr Philip    3rd  22.0    male         0\n",
       "1311        Lievens, Mr Rene    3rd  24.0    male         0\n",
       "1312          Zimmerman, Leo    3rd  29.0    male         0"
      ]
     },
     "execution_count": 21,
     "metadata": {},
     "output_type": "execute_result"
    }
   ],
   "source": [
    "# how about the last 8 rows?\n",
    "df.tail(8)"
   ]
  },
  {
   "cell_type": "markdown",
   "id": "d093f5a2",
   "metadata": {},
   "source": [
    "**If you need to use spreadsheets, check out the `pandas` documentation: https://pandas.pydata.org/pandas-docs/stable/**\n",
    "\n",
    "\n",
    "\n",
    "---------"
   ]
  },
  {
   "cell_type": "markdown",
   "id": "27507179",
   "metadata": {},
   "source": [
    "### Excercises\n",
    "\n",
    "(hint: use a search engine to look for answers)\n",
    "\n",
    "1. Open a simple text file (.txt)\n",
    "2. Open a simple text file using the `with` context manager.\n",
    "\n",
    "The path to the file is given below."
   ]
  },
  {
   "cell_type": "code",
   "execution_count": 22,
   "id": "94202cc5",
   "metadata": {},
   "outputs": [],
   "source": [
    "file_path = \"../data/example_text_file.txt\"\n",
    "\n"
   ]
  },
  {
   "cell_type": "markdown",
   "id": "be1a8bcb",
   "metadata": {},
   "source": [
    "2. Verify the value of the aspect ratio for the .rtdc file.\n",
    "\n",
    "Hint: look at the `dclab` documentation to find the definition of aspect ratio!"
   ]
  },
  {
   "cell_type": "code",
   "execution_count": 23,
   "id": "70ad59c8",
   "metadata": {},
   "outputs": [],
   "source": [
    "ds = dclab.new_dataset(\"../data/calibration_beads_47.rtdc\")\n",
    "\n",
    "# verify the aspect ratio...\n"
   ]
  },
  {
   "cell_type": "markdown",
   "id": "4a710fbc",
   "metadata": {},
   "source": [
    "3. Apply a Gaussian filter to the image file.\n",
    "\n",
    "Hint: try to use the `gaussian_filter` function from the `scikit-image` package. You will need to install `scikit-image` first!"
   ]
  },
  {
   "cell_type": "code",
   "execution_count": 24,
   "id": "7ccd1c6e",
   "metadata": {},
   "outputs": [],
   "source": [
    "im = cv2.imread(\"../data/channel_example.png\", cv2.IMREAD_GRAYSCALE)\n",
    "\n",
    "# filter the image with a Gaussian\n"
   ]
  },
  {
   "cell_type": "code",
   "execution_count": null,
   "id": "bcf5b284",
   "metadata": {},
   "outputs": [],
   "source": []
  }
 ],
 "metadata": {
  "kernelspec": {
   "display_name": "Python 3 (ipykernel)",
   "language": "python",
   "name": "python3"
  },
  "language_info": {
   "codemirror_mode": {
    "name": "ipython",
    "version": 3
   },
   "file_extension": ".py",
   "mimetype": "text/x-python",
   "name": "python",
   "nbconvert_exporter": "python",
   "pygments_lexer": "ipython3",
   "version": "3.8.6"
  }
 },
 "nbformat": 4,
 "nbformat_minor": 5
}
