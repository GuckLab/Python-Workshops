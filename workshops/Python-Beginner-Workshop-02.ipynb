{
 "cells": [
  {
   "cell_type": "markdown",
   "id": "floating-terrorist",
   "metadata": {},
   "source": [
    "# Welcome to the first Beginner Python Workshop \n",
    "\n",
    "This notebooks will give you a basic introduction to the Python world. Each topic mentioned below is also covered in the [tutorials and tutorial videos](https://github.com/GuckLab/Python-Workshops/tree/main/tutorials)\n",
    "\n",
    "Eoghan O'Connell, Guck Division, MPL, 2021"
   ]
  },
  {
   "cell_type": "code",
   "execution_count": null,
   "id": "young-conjunction",
   "metadata": {},
   "outputs": [],
   "source": [
    "# notebook metadata you can ignore!\n",
    "info = {\"workshop\": \"02\",\n",
    "        \"version\" : \"0.0.1\"}"
   ]
  },
  {
   "cell_type": "markdown",
   "id": "enabling-madrid",
   "metadata": {},
   "source": [
    "### How to use this notebook\n",
    "\n",
    "- Click on a cell (each box is called a cell). Hit \"shift+enter\", this will run the cell!\n",
    "- You can run the cells in any order!\n",
    "- The output of runnable code is printed below the cell.\n",
    "- Check out this [Jupyter Notebook Tutorial video](https://www.youtube.com/watch?v=HW29067qVWk).\n",
    "\n",
    "See the help tab above for more information!\n"
   ]
  },
  {
   "cell_type": "markdown",
   "id": "ahead-adventure",
   "metadata": {},
   "source": [
    "# What is in this Workshop?\n",
    "In this notebook we cover:\n",
    "- How to open different file formats\n",
    "   - Image files (.png, .tiff)\n",
    "   - RTDC files (.rtdc)\n",
    "   - Excel/Spreadsheet files (.csv, .tsv)\n",
    "- How to install the packages needed to open the above files with `pip`.\n",
    "- How to look through package documentation."
   ]
  },
  {
   "cell_type": "markdown",
   "id": "b456ff92",
   "metadata": {},
   "source": [
    "## How to open different file formats\n",
    "\n",
    "Different files have different data formats. For example, image data is different to the data in a Microscoft Word document. Excel data is different again!\n",
    "\n",
    "Therefore, we need to have different file formats to store different data. Sometimes these file formats are open-source, such as .hdf5 files. This means we know how the data is stored in the file. In other formats, such as those made by private companies, we might not know how the data is stored in the file exactly.\n",
    "\n",
    "Below we will learn how to open three common file formats in our field:\n",
    "- Image files (.png, .tiff)\n",
    "- RTDC files (.rtdc)\n",
    "- Excel/Spreadsheet files (.csv, .tsv files)\n",
    "\n",
    "and how to use different Python packages to open each file format.\n",
    "\n",
    "*If you are not sure how to open a file format, just search for \"how do I open (file format) in python?\"*"
   ]
  },
  {
   "cell_type": "code",
   "execution_count": null,
   "id": "cc969878",
   "metadata": {},
   "outputs": [],
   "source": [
    "# import some packages we need\n",
    "import numpy as np\n",
    "import matplotlib.pyplot as plt"
   ]
  },
  {
   "cell_type": "markdown",
   "id": "941f2159",
   "metadata": {},
   "source": [
    "----------------------\n",
    "\n",
    "### Image files (.png, .tiff)\n",
    "\n",
    "There are many good packages for opening image files. We will use the `opencv` package. Another option is the `Pillow` library.\n",
    "\n",
    "- `opencv-python`\n",
    "    - To install `opencv`, go to your terminal and run `pip install opencv-python`.\n",
    "    - To import `opencv` and use it when coding, use `import cv2`\n",
    "\n",
    "- `Pillow`\n",
    "    - To install `Pillow`, go to your terminal and run `pip install Pillow`.\n",
    "    - To import `Pillow` and use it when coding, use `from PIL import Image`"
   ]
  },
  {
   "cell_type": "markdown",
   "id": "baabb81f",
   "metadata": {},
   "source": [
    "#### Try-out the `openv-python` package\n",
    "(currently doesn't work on Binder)"
   ]
  },
  {
   "cell_type": "code",
   "execution_count": null,
   "id": "4f8acaa0",
   "metadata": {},
   "outputs": [],
   "source": [
    "# import the `Pillow` package\n",
    "import cv2"
   ]
  },
  {
   "cell_type": "code",
   "execution_count": null,
   "id": "2a4e8875",
   "metadata": {},
   "outputs": [],
   "source": [
    "# open an example image of an RTDC channel\n",
    "\n",
    "im = cv2.imread(\"../data/channel_example.png\", cv2.IMREAD_GRAYSCALE)"
   ]
  },
  {
   "cell_type": "code",
   "execution_count": null,
   "id": "1f8ea48d",
   "metadata": {},
   "outputs": [],
   "source": [
    "# im stands for image\n",
    "im"
   ]
  },
  {
   "cell_type": "code",
   "execution_count": null,
   "id": "e2113c26",
   "metadata": {},
   "outputs": [],
   "source": [
    "# what does it look like?\n",
    "# How to I plot it?\n",
    "plt.figure()\n",
    "plt.imshow(im)\n",
    "plt.show()"
   ]
  },
  {
   "cell_type": "code",
   "execution_count": null,
   "id": "9973b971",
   "metadata": {},
   "outputs": [],
   "source": [
    "# but what is this \"im\"?\n",
    "type(im)"
   ]
  },
  {
   "cell_type": "code",
   "execution_count": null,
   "id": "8bed1a08",
   "metadata": {
    "scrolled": true
   },
   "outputs": [],
   "source": [
    "# how many dimensions is the image array?\n",
    "im_arr.ndim"
   ]
  },
  {
   "cell_type": "code",
   "execution_count": null,
   "id": "aaae4117",
   "metadata": {},
   "outputs": [],
   "source": [
    "# what shape is it (in pixels)?\n",
    "im_arr.shape"
   ]
  },
  {
   "cell_type": "markdown",
   "id": "54ceb5a5",
   "metadata": {},
   "source": [
    "#### Try-out the `Pillow` package instead"
   ]
  },
  {
   "cell_type": "code",
   "execution_count": null,
   "id": "7109d733",
   "metadata": {},
   "outputs": [],
   "source": [
    "# import the `Pillow` package\n",
    "from PIL import Image"
   ]
  },
  {
   "cell_type": "code",
   "execution_count": null,
   "id": "84cfa1b5",
   "metadata": {},
   "outputs": [],
   "source": [
    "# open an example image of an RTDC channel\n",
    "im = Image.open(\"../data/channel_example.png\")"
   ]
  },
  {
   "cell_type": "code",
   "execution_count": null,
   "id": "f7c6b4fe",
   "metadata": {},
   "outputs": [],
   "source": [
    "# im stands for image\n",
    "im"
   ]
  },
  {
   "cell_type": "code",
   "execution_count": null,
   "id": "57fc0929",
   "metadata": {},
   "outputs": [],
   "source": [
    "# what does it look like?\n",
    "# How to I plot it?\n",
    "plt.figure()\n",
    "plt.imshow(im)\n",
    "plt.show()"
   ]
  },
  {
   "cell_type": "code",
   "execution_count": null,
   "id": "5dbafbb1",
   "metadata": {},
   "outputs": [],
   "source": [
    "# but what is this \"im\"?\n",
    "type(im)"
   ]
  },
  {
   "cell_type": "code",
   "execution_count": null,
   "id": "ccdbbbca",
   "metadata": {},
   "outputs": [],
   "source": [
    "# convert it to a numpy array\n",
    "im_arr = np.asarray(im)\n",
    "im_arr"
   ]
  },
  {
   "cell_type": "code",
   "execution_count": null,
   "id": "3376ad08",
   "metadata": {
    "scrolled": true
   },
   "outputs": [],
   "source": [
    "# how many dimensions is the image array?\n",
    "im_arr.ndim"
   ]
  },
  {
   "cell_type": "code",
   "execution_count": null,
   "id": "6e068827",
   "metadata": {},
   "outputs": [],
   "source": [
    "# what shape is it (in pixels)?\n",
    "im_arr.shape"
   ]
  },
  {
   "cell_type": "markdown",
   "id": "4b7e4584",
   "metadata": {},
   "source": [
    "**If you need to use image files, check out this `opencv` tutorial: https://www.geeksforgeeks.org/reading-image-opencv-using-python/ or the Pillow documentation: https://pillow.readthedocs.io/en/stable/handbook/index.html**\n",
    "\n",
    "\n",
    "---------"
   ]
  },
  {
   "cell_type": "markdown",
   "id": "abf22f7e",
   "metadata": {},
   "source": [
    "----------------------\n",
    "\n",
    "### RTDC files (.rtdc)\n",
    "\n",
    "Paul Muller has created the .rtdc format in the `dclab` package.\n",
    "\n",
    "- To install `dclab`, go to your terminal and run `pip install dclab`.\n",
    "\n",
    "- To import `dclab` and use it when coding, use `import dclab`"
   ]
  },
  {
   "cell_type": "code",
   "execution_count": null,
   "id": "88a9a744",
   "metadata": {},
   "outputs": [],
   "source": [
    "# import the `dclab` package\n",
    "import dclab"
   ]
  },
  {
   "cell_type": "code",
   "execution_count": null,
   "id": "5c3a3b91",
   "metadata": {},
   "outputs": [],
   "source": [
    "# open an example rtdc file\n",
    "ds = dclab.new_dataset(\"../data/calibration_beads_47.rtdc\")"
   ]
  },
  {
   "cell_type": "code",
   "execution_count": null,
   "id": "56ecff27",
   "metadata": {},
   "outputs": [],
   "source": [
    "# ds stands for dataset\n",
    "ds"
   ]
  },
  {
   "cell_type": "code",
   "execution_count": null,
   "id": "1f5b92f8",
   "metadata": {},
   "outputs": [],
   "source": [
    "# what does it look like?\n",
    "# How to I plot it?\n",
    "plt.figure()\n",
    "plt.imshow(ds[\"image\"][0])\n",
    "plt.show()"
   ]
  },
  {
   "cell_type": "code",
   "execution_count": null,
   "id": "12abc030",
   "metadata": {},
   "outputs": [],
   "source": [
    "# but what is this \"ds\"?\n",
    "type(ds)"
   ]
  },
  {
   "cell_type": "code",
   "execution_count": null,
   "id": "fa64754c",
   "metadata": {},
   "outputs": [],
   "source": [
    "# what features does it have?\n",
    "ds.features"
   ]
  },
  {
   "cell_type": "code",
   "execution_count": null,
   "id": "65b7a24e",
   "metadata": {},
   "outputs": [],
   "source": [
    "# what shape is the image feature?\n",
    "ds[\"image\"].shape"
   ]
  },
  {
   "cell_type": "markdown",
   "id": "793b16e2",
   "metadata": {},
   "source": [
    "**If you need to use RTDC files, check out the `dclab` documentation: https://dclab.readthedocs.io/en/stable/**\n",
    "\n",
    "\n",
    "---------"
   ]
  },
  {
   "cell_type": "markdown",
   "id": "8721246c",
   "metadata": {},
   "source": [
    "----------------------\n",
    "\n",
    "### Excel/spreadsheet files (.csv, .tsv)\n",
    "\n",
    "The `pandas` package is very popular way of opening .csv or .tsv files.\n",
    "\n",
    "- To install `pandas`, go to your terminal and run `pip install pandas`.\n",
    "\n",
    "- To import `pandas` and use it when coding, use `import pandas as pd`"
   ]
  },
  {
   "cell_type": "code",
   "execution_count": null,
   "id": "d535a097",
   "metadata": {},
   "outputs": [],
   "source": [
    "# import the `pandas` package\n",
    "import pandas as pd"
   ]
  },
  {
   "cell_type": "code",
   "execution_count": null,
   "id": "cf1dcf6b",
   "metadata": {},
   "outputs": [],
   "source": [
    "# open an example .csv file\n",
    "# this data on the Titanic can be downloaded from here: https://osf.io/aupb4/#!\n",
    "df = pd.read_csv(\"../data/titanic.csv\")"
   ]
  },
  {
   "cell_type": "code",
   "execution_count": null,
   "id": "8175d5f6",
   "metadata": {},
   "outputs": [],
   "source": [
    "# df stands for dataframe\n",
    "df"
   ]
  },
  {
   "cell_type": "code",
   "execution_count": null,
   "id": "4ff5e903",
   "metadata": {},
   "outputs": [],
   "source": [
    "# what is \"df\"?\n",
    "type(df)"
   ]
  },
  {
   "cell_type": "code",
   "execution_count": null,
   "id": "4207c847",
   "metadata": {},
   "outputs": [],
   "source": [
    "# how to view the first 10 rows?\n",
    "df.head(10)"
   ]
  },
  {
   "cell_type": "code",
   "execution_count": null,
   "id": "da769a93",
   "metadata": {},
   "outputs": [],
   "source": [
    "# how about the last 8 rows?\n",
    "df.tail(8)"
   ]
  },
  {
   "cell_type": "markdown",
   "id": "d093f5a2",
   "metadata": {},
   "source": [
    "**If you need to use spreadsheets, check out the `pandas` documentation: https://pandas.pydata.org/pandas-docs/stable/**\n",
    "\n",
    "\n",
    "\n",
    "---------"
   ]
  },
  {
   "cell_type": "markdown",
   "id": "27507179",
   "metadata": {},
   "source": [
    "### Excercises\n",
    "\n",
    "(hint: use a search engine to look for answers)\n",
    "\n",
    "1. Open a simple text file (.txt)\n",
    "2. Open a simple text file using the `with` context manager.\n",
    "\n",
    "The path to the file is given below."
   ]
  },
  {
   "cell_type": "code",
   "execution_count": null,
   "id": "94202cc5",
   "metadata": {},
   "outputs": [],
   "source": [
    "file_path = \"../data/example_text_file.txt\"\n",
    "\n"
   ]
  },
  {
   "cell_type": "markdown",
   "id": "be1a8bcb",
   "metadata": {},
   "source": [
    "2. Verify the value of the aspect ratio for the .rtdc file.\n",
    "\n",
    "Hint: look at the `dclab` documentation to find the definition of aspect ratio!"
   ]
  },
  {
   "cell_type": "code",
   "execution_count": null,
   "id": "70ad59c8",
   "metadata": {},
   "outputs": [],
   "source": [
    "ds = dclab.new_dataset(\"../data/calibration_beads_47.rtdc\")\n",
    "\n",
    "# verify the aspect ratio...\n"
   ]
  },
  {
   "cell_type": "markdown",
   "id": "4a710fbc",
   "metadata": {},
   "source": [
    "3. Apply a Gaussian filter to the image file.\n",
    "\n",
    "Hint: try to use the `gaussian_filter` function from the `scikit-image` package. You will need to install `scikit-image` first!"
   ]
  },
  {
   "cell_type": "code",
   "execution_count": null,
   "id": "7ccd1c6e",
   "metadata": {},
   "outputs": [],
   "source": [
    "im = cv2.imread(\"../data/channel_example.png\", cv2.IMREAD_GRAYSCALE)\n",
    "\n",
    "# filter the image with a Gaussian\n"
   ]
  }
 ],
 "metadata": {
  "kernelspec": {
   "display_name": "Python 3 (ipykernel)",
   "language": "python",
   "name": "python3"
  },
  "language_info": {
   "codemirror_mode": {
    "name": "ipython",
    "version": 3
   },
   "file_extension": ".py",
   "mimetype": "text/x-python",
   "name": "python",
   "nbconvert_exporter": "python",
   "pygments_lexer": "ipython3",
   "version": "3.8.6"
  }
 },
 "nbformat": 4,
 "nbformat_minor": 5
}
