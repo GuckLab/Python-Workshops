{
 "cells": [
  {
   "cell_type": "markdown",
   "id": "floating-terrorist",
   "metadata": {},
   "source": [
    "# Welcome to the first Beginner Python Workshop \n",
    "\n",
    "This notebooks will give you a basic introduction to the Python world. Each topic mentioned below is also covered in the [tutorials and tutorial videos](https://github.com/GuckLab/Python-Workshops/tree/main/tutorials)\n",
    "\n",
    "Eoghan O'Connell, Guck Division, MPL, 2021"
   ]
  },
  {
   "cell_type": "code",
   "execution_count": null,
   "id": "young-conjunction",
   "metadata": {},
   "outputs": [],
   "source": [
    "# notebook metadata you can ignore!\n",
    "info = {\"workshop\": \"01\",\n",
    "        \"version\" : \"0.0.1\"}"
   ]
  },
  {
   "cell_type": "markdown",
   "id": "enabling-madrid",
   "metadata": {},
   "source": [
    "### How to use this notebook\n",
    "\n",
    "- Click on a cell (each box is called a cell). Hit \"shift+enter\", this will run the cell!\n",
    "- You can run the cells in any order!\n",
    "- The output of runnable code is printed below the cell.\n",
    "- Check out this [Jupyter Notebook Tutorial video](https://www.youtube.com/watch?v=HW29067qVWk).\n",
    "\n",
    "See the help tab above for more information!\n"
   ]
  },
  {
   "cell_type": "markdown",
   "id": "ahead-adventure",
   "metadata": {},
   "source": [
    "# What is in this Workshop?\n",
    "In this notebook we cover:\n",
    "- Comments in python\n",
    "- Basic Data Types\n",
    "   - Textual data (strings)\n",
    "   - Numbers (integers and floats)\n",
    "   - booleans (True and False)\n",
    "- Container data types\n",
    "   - Lists\n",
    "   - Dictionaries\n",
    "- Variables\n",
    "\n",
    "We will also see how to install Python and how to use anaconda prompt (bash) and pip. These are external to the notebook."
   ]
  },
  {
   "cell_type": "markdown",
   "id": "funded-workshop",
   "metadata": {},
   "source": [
    "-----------\n",
    "## Comments\n",
    "Comments are used to describe your code.\n",
    "\n",
    "Anything following a '#' is a comment and is not runnable code."
   ]
  },
  {
   "cell_type": "code",
   "execution_count": null,
   "id": "enclosed-wrapping",
   "metadata": {},
   "outputs": [],
   "source": [
    "# this is a comment"
   ]
  },
  {
   "cell_type": "raw",
   "id": "395367a0",
   "metadata": {},
   "source": [
    "You will also see comments on the same line as code like so:"
   ]
  },
  {
   "cell_type": "code",
   "execution_count": null,
   "id": "cb56ec5c",
   "metadata": {},
   "outputs": [],
   "source": [
    "1 + 2  # that was some code, but I am a comment!"
   ]
  },
  {
   "cell_type": "markdown",
   "id": "narrative-premises",
   "metadata": {},
   "source": [
    "You can write multi-line comments with three double quotes (\"\"\" the comment \"\"\") or three single quotes (''' my comment ''')"
   ]
  },
  {
   "cell_type": "code",
   "execution_count": null,
   "id": "thick-browse",
   "metadata": {},
   "outputs": [],
   "source": [
    "\"\"\"\n",
    "This\n",
    "is a \n",
    "\n",
    "multi-line\n",
    "\n",
    "comment\n",
    "\"\"\""
   ]
  },
  {
   "cell_type": "markdown",
   "id": "velvet-dallas",
   "metadata": {},
   "source": [
    "-----------\n",
    "# Basic data types: strings, numbers, boolean"
   ]
  },
  {
   "cell_type": "markdown",
   "id": "specialized-dream",
   "metadata": {},
   "source": [
    "### Strings (`str`)\n",
    "Strings are textual data. We use them to represent words or any textual information."
   ]
  },
  {
   "cell_type": "markdown",
   "id": "raised-paraguay",
   "metadata": {},
   "source": [
    "We can use single quotes or double quotes to make a string"
   ]
  },
  {
   "cell_type": "code",
   "execution_count": null,
   "id": "proprietary-communications",
   "metadata": {},
   "outputs": [],
   "source": [
    "print(\"This is a string\")\n",
    "print('This is also a string')"
   ]
  },
  {
   "cell_type": "markdown",
   "id": "cordless-optimization",
   "metadata": {},
   "source": [
    "What if I want to put the following into a string: Jona's message"
   ]
  },
  {
   "cell_type": "code",
   "execution_count": null,
   "id": "forbidden-receipt",
   "metadata": {},
   "outputs": [],
   "source": [
    "# this will create an error!\n",
    "\n",
    "'Jona's message'"
   ]
  },
  {
   "cell_type": "markdown",
   "id": "structural-alaska",
   "metadata": {},
   "source": [
    "Instead we use single quotes and double quotes together"
   ]
  },
  {
   "cell_type": "code",
   "execution_count": null,
   "id": "opponent-dragon",
   "metadata": {},
   "outputs": [],
   "source": [
    "\"Jona's message\""
   ]
  },
  {
   "cell_type": "code",
   "execution_count": null,
   "id": "compressed-history",
   "metadata": {},
   "outputs": [],
   "source": [
    "# using the special escape character '\\' will also work, but isn't as clean looking\n",
    "'Jona\\'s message'"
   ]
  },
  {
   "cell_type": "markdown",
   "id": "conventional-password",
   "metadata": {},
   "source": [
    "-----------\n",
    "## Numbers (integer `int` and floating point `float`)\n",
    "Numbers are easy in Python!"
   ]
  },
  {
   "cell_type": "code",
   "execution_count": null,
   "id": "oriental-corrections",
   "metadata": {},
   "outputs": [],
   "source": [
    "# this is an integer\n",
    "3"
   ]
  },
  {
   "cell_type": "code",
   "execution_count": null,
   "id": "built-interpretation",
   "metadata": {},
   "outputs": [],
   "source": [
    "# now let's see a float\n",
    "3.14"
   ]
  },
  {
   "cell_type": "code",
   "execution_count": null,
   "id": "impaired-experiment",
   "metadata": {},
   "outputs": [],
   "source": [
    "# let's add some numbers together\n",
    "3 + 3.14\n",
    "\n",
    "# notice how to output has many trailing zeros! It is called floating point for a reason..."
   ]
  },
  {
   "cell_type": "markdown",
   "id": "deluxe-accordance",
   "metadata": {},
   "source": [
    "#### How to add, divide etc.?\n",
    "\n",
    "- \\+ addition\n",
    "- \\- subtraction (minus)\n",
    "- \\* multiplication\n",
    "- \\/ division\n",
    "- \\// division (but does not include the remainder - round to whole number)\n",
    "- \\% division (but returns the remainder)\n",
    "- \\** exponent/power"
   ]
  },
  {
   "cell_type": "code",
   "execution_count": null,
   "id": "designed-foster",
   "metadata": {},
   "outputs": [],
   "source": [
    "print(9 + 3.1)\n",
    "print(9 - 3.1)\n",
    "print(9 * 3.1)"
   ]
  },
  {
   "cell_type": "code",
   "execution_count": null,
   "id": "sophisticated-crawford",
   "metadata": {
    "scrolled": true
   },
   "outputs": [],
   "source": [
    "print(9 / 4)\n",
    "print(9 // 4)\n",
    "print(9 % 4)\n",
    "print(9 ** 4)"
   ]
  },
  {
   "cell_type": "markdown",
   "id": "consolidated-edgar",
   "metadata": {},
   "source": [
    "-----------\n",
    "## Boolean (`bool`)\n",
    "Boolean values are rather ... polarising :). Boolean arrays are fast and work well with NumPy!\n",
    "\n",
    "They are written as `True` and `False` in Python."
   ]
  },
  {
   "cell_type": "code",
   "execution_count": null,
   "id": "everyday-scott",
   "metadata": {},
   "outputs": [],
   "source": [
    "print(True, False)"
   ]
  },
  {
   "cell_type": "code",
   "execution_count": null,
   "id": "continent-attendance",
   "metadata": {},
   "outputs": [],
   "source": [
    "# check what equals True or False in Python\n",
    "print(1 == True)\n",
    "print(0 == False)"
   ]
  },
  {
   "cell_type": "code",
   "execution_count": null,
   "id": "novel-newark",
   "metadata": {},
   "outputs": [],
   "source": [
    "# what happens when we try True == False?\n",
    "True == False\n",
    "\n",
    "# it is indeed False!"
   ]
  },
  {
   "cell_type": "code",
   "execution_count": null,
   "id": "intended-stewart",
   "metadata": {},
   "outputs": [],
   "source": [
    "# what about adding booleans together?\n",
    "print(True + True)\n",
    "print(True + 5)\n",
    "print(True + 5.45)"
   ]
  },
  {
   "cell_type": "markdown",
   "id": "69128843",
   "metadata": {},
   "source": [
    "-----------\n",
    "# Built-in containers in Python\n",
    "\n",
    "#### What is a container?\n",
    "A container is just an object that holds other objects. Lists and dictionaries are two such objects. They can hold other data types such as strings, numbers, bool, and even other containers. So you can have lists with lists in them!"
   ]
  },
  {
   "cell_type": "markdown",
   "id": "approved-affiliation",
   "metadata": {},
   "source": [
    "-------------------------\n",
    "## Lists (`list`)\n",
    "You can imagine a list as, well, a list of things (like a shopping list)! Let's start with that example.\n",
    "- A list is created with square brackets '[  ]'\n",
    "- Each item in the list is separated from the next with a comma ','"
   ]
  },
  {
   "cell_type": "code",
   "execution_count": null,
   "id": "bizarre-wealth",
   "metadata": {},
   "outputs": [],
   "source": [
    "[\"oranges\", \"bread\", \"spargel\"]"
   ]
  },
  {
   "cell_type": "markdown",
   "id": "cardiac-potter",
   "metadata": {},
   "source": [
    "As you can see above, this list is a fake shopping list of food items. It is just made of three strings.\n",
    "\n",
    "A list can hold any other data type(s):"
   ]
  },
  {
   "cell_type": "code",
   "execution_count": null,
   "id": "initial-purpose",
   "metadata": {},
   "outputs": [],
   "source": [
    "[\"bread\", 42, 3.14, True]"
   ]
  },
  {
   "cell_type": "markdown",
   "id": "devoted-sacramento",
   "metadata": {},
   "source": [
    "We can put lists in lists..."
   ]
  },
  {
   "cell_type": "code",
   "execution_count": null,
   "id": "driving-stock",
   "metadata": {},
   "outputs": [],
   "source": [
    "[\"outer list\", [\"inner list\"]]"
   ]
  },
  {
   "cell_type": "code",
   "execution_count": null,
   "id": "hollywood-divorce",
   "metadata": {},
   "outputs": [],
   "source": [
    "# we can even put lists in lists in lists ... but this isn't so common and can get confusing.\n",
    "[\"outer list\", [\"inner list 1\", [\"inner list 2\", [\"inner list 3\"]]]]"
   ]
  },
  {
   "cell_type": "markdown",
   "id": "mental-hardware",
   "metadata": {},
   "source": [
    "-----------\n",
    "## Dictionaries (`dict`)\n",
    "You can imagine a dict as an actual dictionary. Each word (key) in the dictionary has a corresponding description (value).\n",
    "- Dictionaries are created with the curly brackets '{}'\n",
    "- Each item is separated with a comma ','\n",
    "- each key:value pair is separated with a colon ':'\n",
    "- Dictionaries contain keys and values. Each key has a value, just like in an actual dictionary. When starting out, it's best to keep the keys as strings, while the values can be anything."
   ]
  },
  {
   "cell_type": "markdown",
   "id": "driven-identifier",
   "metadata": {},
   "source": [
    "We want to show how many of each shopping item we need. Dictionaries would be good for this!"
   ]
  },
  {
   "cell_type": "code",
   "execution_count": null,
   "id": "offensive-match",
   "metadata": {},
   "outputs": [],
   "source": [
    "# this was our (shopping) list:\n",
    "[\"oranges\", \"bread\", \"spargel\"]\n",
    "\n",
    "# this would be our dictionary:\n",
    "{\"oranges\": 4, \"bread\": 1, \"spargel\": 2}\n",
    "\n",
    "# we want 4 oranges, 1 bread, and 2 spargel"
   ]
  },
  {
   "cell_type": "markdown",
   "id": "compatible-daughter",
   "metadata": {},
   "source": [
    "Of course dictionaries are not limited to strings and integers! The keys can be most data types, while the values can contain any other data type."
   ]
  },
  {
   "cell_type": "code",
   "execution_count": null,
   "id": "important-majority",
   "metadata": {},
   "outputs": [],
   "source": [
    "{42: \"the answer\", \"True?\": True, \"my list\": [\"this\", \"is\", \"a\", \"list\"]}"
   ]
  },
  {
   "cell_type": "markdown",
   "id": "loving-montana",
   "metadata": {},
   "source": [
    "Dictionaries can be written in a more readable way like so:"
   ]
  },
  {
   "cell_type": "code",
   "execution_count": null,
   "id": "intermediate-roulette",
   "metadata": {},
   "outputs": [],
   "source": [
    "{\"number1\": 12,\n",
    " \"number2\": 56,\n",
    " \"number3\": 3.14,\n",
    " \"number4\": 18,}"
   ]
  },
  {
   "cell_type": "markdown",
   "id": "collect-explorer",
   "metadata": {},
   "source": [
    "----------\n",
    "# Variables in Python\n"
   ]
  },
  {
   "cell_type": "markdown",
   "id": "necessary-stationery",
   "metadata": {},
   "source": [
    "#### What is a variable?\n",
    "A variable is a place to store data, such as a number, a string, a list, a function, a class, a module etc.\n",
    "\n",
    "They can be reused, which makes life a lot easier for us!\n",
    "\n",
    "Let's look at a simple example..."
   ]
  },
  {
   "cell_type": "code",
   "execution_count": null,
   "id": "forward-lingerie",
   "metadata": {},
   "outputs": [],
   "source": [
    "# imagine we want to create a calculation that reuses an input value many times.\n",
    "# We define this value at the start and assign it to a variable with the equals sign: '='\n",
    "value = 5\n",
    "\n",
    "# we then define our \"complicated\" calculation that uses this value:\n",
    "# the result of this calculation is assigned to the variable \"answer\":\n",
    "answer = (42/value ** value) + (value + (value * 23))\n",
    "\n",
    "# print out the answer to see it!\n",
    "print(answer)"
   ]
  },
  {
   "cell_type": "markdown",
   "id": "fleet-director",
   "metadata": {},
   "source": [
    "Now imagine you want to change the input value. This is easy, we just change the 5 above to some other number! Try it out.\n",
    "\n",
    "If we had not set this variable, this process would become tedious. You would have to change the number 5 below so many times."
   ]
  },
  {
   "cell_type": "code",
   "execution_count": null,
   "id": "photographic-smith",
   "metadata": {},
   "outputs": [],
   "source": [
    "# example without using a variable for the input value\n",
    "\n",
    "answer = (42/42 ** 42) + (42 + (42 * 23))"
   ]
  },
  {
   "cell_type": "markdown",
   "id": "wicked-forwarding",
   "metadata": {},
   "source": [
    "## Using variables for different data types\n",
    "Python makes this easy. You just use the equals '=' sign to assign any data/data type to the variable.\n",
    "\n",
    "Here are some examples for different data types:"
   ]
  },
  {
   "cell_type": "code",
   "execution_count": null,
   "id": "taken-brunswick",
   "metadata": {},
   "outputs": [],
   "source": [
    "message = \"this is a string\"\n",
    "my_number1 = 42\n",
    "my_number2 = 3.14\n",
    "shopping_list = [\"oranges\", \"bread\", \"spargel\"]\n",
    "shopping_dict = {\"oranges\": 4, \"bread\": 1, \"spargel\": 2}"
   ]
  },
  {
   "cell_type": "code",
   "execution_count": null,
   "id": "color-hollow",
   "metadata": {},
   "outputs": [],
   "source": [
    "# these variables are now useable in this Python instance (until you restart this notebook!)\n",
    "print(my_number1 + my_number2)\n",
    "print(shopping_list[0])  # will print out \"oranges\""
   ]
  },
  {
   "cell_type": "markdown",
   "id": "formed-transaction",
   "metadata": {},
   "source": [
    "-----------\n",
    "### Strings\n",
    "Here we will see how to:\n",
    "- assign a string\n",
    "- index a string (get a character in the string).\n",
    "   - NB: indexing in python starts at 0\n",
    "- slice a string (get a part of the string)"
   ]
  },
  {
   "cell_type": "code",
   "execution_count": null,
   "id": "fuzzy-apache",
   "metadata": {},
   "outputs": [],
   "source": [
    "message = \"hello world\"\n",
    "print(message)"
   ]
  },
  {
   "cell_type": "code",
   "execution_count": null,
   "id": "recreational-henry",
   "metadata": {},
   "outputs": [],
   "source": [
    "# each string has a length, notice that it returns a number!\n",
    "len(message)"
   ]
  },
  {
   "cell_type": "markdown",
   "id": "reserved-observation",
   "metadata": {},
   "source": [
    "Indexing the string - get a character in the string"
   ]
  },
  {
   "cell_type": "code",
   "execution_count": null,
   "id": "familiar-puppy",
   "metadata": {},
   "outputs": [],
   "source": [
    "# indexing: gives you the letter at that index. Indexing starts at 0\n",
    "print(message[0])\n",
    "print(message[1])\n",
    "print(message[2])"
   ]
  },
  {
   "cell_type": "code",
   "execution_count": null,
   "id": "gentle-surgery",
   "metadata": {},
   "outputs": [],
   "source": [
    "# negative indexing starts from the end of the string\n",
    "message[-1]"
   ]
  },
  {
   "cell_type": "code",
   "execution_count": null,
   "id": "stock-voluntary",
   "metadata": {},
   "outputs": [],
   "source": [
    "# assigning this indexed string to a new variable will be a string!\n",
    "message_indexed = message[0]\n",
    "print(message_indexed)"
   ]
  },
  {
   "cell_type": "markdown",
   "id": "adjustable-topic",
   "metadata": {},
   "source": [
    "Slicing the string - get a part of the string"
   ]
  },
  {
   "cell_type": "code",
   "execution_count": null,
   "id": "registered-dover",
   "metadata": {},
   "outputs": [],
   "source": [
    "# slicing: allows you to slice the string between two indexes\n",
    "# from first index up to second index (but not including the second index!)\n",
    "\n",
    "message[0:5]"
   ]
  },
  {
   "cell_type": "code",
   "execution_count": null,
   "id": "satellite-discovery",
   "metadata": {},
   "outputs": [],
   "source": [
    "# leaving one index empty just means the slice will go to the start/end of the string.\n",
    "\n",
    "print(message[:3])\n",
    "print(message[6:])"
   ]
  },
  {
   "cell_type": "code",
   "execution_count": null,
   "id": "stable-blake",
   "metadata": {},
   "outputs": [],
   "source": [
    "# negative indexes work here too\n",
    "\n",
    "message[-5:]"
   ]
  },
  {
   "cell_type": "markdown",
   "id": "outer-furniture",
   "metadata": {},
   "source": [
    "Let's look at an actual example. You want to get the experiment number from a filename."
   ]
  },
  {
   "cell_type": "code",
   "execution_count": 2,
   "id": "extra-credit",
   "metadata": {},
   "outputs": [
    {
     "name": "stdout",
     "output_type": "stream",
     "text": [
      "001\n"
     ]
    }
   ],
   "source": [
    "file_name = \"001_experiment.rtdc\"\n",
    "\n",
    "# you want to get the number of the filename\n",
    "file_number = file_name[:3]\n",
    "\n",
    "print(file_number)"
   ]
  },
  {
   "cell_type": "markdown",
   "id": "fc49213f",
   "metadata": {},
   "source": [
    "#### Self-sufficiency Excercise\n",
    "\n",
    "Rename a string variable by slicing.\n",
    "\n",
    "Rename \"001_experiment_ddmmyy.rtdc\" to \"001_experiment_070721.rtdc\""
   ]
  },
  {
   "cell_type": "code",
   "execution_count": 3,
   "id": "5f8333de",
   "metadata": {},
   "outputs": [],
   "source": [
    "filename = \"001_experiment_ddmmyy.rtdc\"\n",
    "\n"
   ]
  },
  {
   "cell_type": "markdown",
   "id": "aware-tablet",
   "metadata": {},
   "source": [
    "-----------\n",
    "### Numbers\n",
    "Here we will see how to:\n",
    "- assign a number (`int` and `float`)"
   ]
  },
  {
   "cell_type": "code",
   "execution_count": null,
   "id": "negative-hamburg",
   "metadata": {},
   "outputs": [],
   "source": [
    "# what about variables for numbers? They are the exact same!\n",
    "power_value = 6\n",
    "\n",
    "value_of_pi = 3.14\n",
    "\n",
    "print(value_of_pi)"
   ]
  },
  {
   "cell_type": "code",
   "execution_count": null,
   "id": "classified-cambridge",
   "metadata": {},
   "outputs": [],
   "source": [
    "# we can use these variables together\n",
    "value_of_pi ** power_value"
   ]
  },
  {
   "cell_type": "markdown",
   "id": "ce995f07",
   "metadata": {},
   "source": [
    "#### Self-sufficiency Excercise\n",
    "\n",
    "You have a number variable and want to print it out in the following sentence:\n",
    "\n",
    "answer = 42\n",
    "\n",
    "\"The answer to life, the universe and everything is: 42\"\n",
    "\n",
    "Find two ways to do this! (hint: use a search engine)"
   ]
  },
  {
   "cell_type": "code",
   "execution_count": 1,
   "id": "abd85820",
   "metadata": {},
   "outputs": [],
   "source": [
    "answer = 42\n",
    "\n"
   ]
  },
  {
   "cell_type": "markdown",
   "id": "burning-scope",
   "metadata": {},
   "source": [
    "-----------\n",
    "### Lists\n",
    "Here we will see how to:\n",
    "- assign a list\n",
    "- index a list (get an element from the list).\n",
    "   - NB: indexing in python starts at 0\n",
    "- slice a list (get one or more elements of the list)"
   ]
  },
  {
   "cell_type": "code",
   "execution_count": null,
   "id": "studied-concentration",
   "metadata": {},
   "outputs": [],
   "source": [
    "colour_list = [\"green\", \"blue\", \"red\", \"cyan\"]\n",
    "\n",
    "print(colour_list)"
   ]
  },
  {
   "cell_type": "markdown",
   "id": "ultimate-patient",
   "metadata": {},
   "source": [
    "We can index and slice lists too!"
   ]
  },
  {
   "cell_type": "code",
   "execution_count": null,
   "id": "indian-thermal",
   "metadata": {
    "scrolled": true
   },
   "outputs": [],
   "source": [
    "# indexing\n",
    "print(colour_list[0])\n",
    "print(colour_list[1])\n",
    "print(colour_list[2])"
   ]
  },
  {
   "cell_type": "code",
   "execution_count": null,
   "id": "miniature-prisoner",
   "metadata": {},
   "outputs": [],
   "source": [
    "colour1 = colour_list[1]\n",
    "\n",
    "print(colour1)"
   ]
  },
  {
   "cell_type": "code",
   "execution_count": null,
   "id": "imported-shepherd",
   "metadata": {},
   "outputs": [],
   "source": [
    "# slicing\n",
    "\n",
    "print(colour_list[1:3])"
   ]
  },
  {
   "cell_type": "code",
   "execution_count": null,
   "id": "forward-preference",
   "metadata": {},
   "outputs": [],
   "source": [
    "# notice how the sliced list returns a list!\n",
    "colour_slice1 = colour_list[:2]\n",
    "\n",
    "print(colour_slice1)"
   ]
  },
  {
   "cell_type": "markdown",
   "id": "fb27b63b",
   "metadata": {},
   "source": [
    "#### Self-sufficiency Excercise\n",
    "\n",
    "Replace an item in a list.\n",
    "\n",
    "Replace the string with a different string."
   ]
  },
  {
   "cell_type": "code",
   "execution_count": 4,
   "id": "45f8c862",
   "metadata": {},
   "outputs": [],
   "source": [
    "example_items = [\"replace me\", 55, 4.43, False]\n",
    "\n"
   ]
  },
  {
   "cell_type": "markdown",
   "id": "homeless-weapon",
   "metadata": {},
   "source": [
    "Let's look at an actual example, similar to the one above. You want to get the experiment number from several file names."
   ]
  },
  {
   "cell_type": "code",
   "execution_count": null,
   "id": "stuffed-trash",
   "metadata": {},
   "outputs": [],
   "source": [
    "file_names = [\"001_experiment.rtdc\",\n",
    "              \"002_experiment.rtdc\",\n",
    "              \"003_experiment.rtdc\",]\n",
    "\n",
    "# you can look at the first filename by indexing\n",
    "print(file_names[0])\n",
    "\n",
    "# you can look at several by slicing\n",
    "print(file_names[1:])"
   ]
  },
  {
   "cell_type": "code",
   "execution_count": null,
   "id": "laden-period",
   "metadata": {},
   "outputs": [],
   "source": [
    "# get the numbers from the filenames by using a simple loop. Check out the Loops tutorial!\n",
    "for name in file_names:\n",
    "    # name is now just a string\n",
    "    # when we slice it, we are slicing the string\n",
    "    print(name[:3])"
   ]
  },
  {
   "cell_type": "markdown",
   "id": "alone-queue",
   "metadata": {},
   "source": [
    "-----------\n",
    "### Dictionaries\n",
    "Here we will see how to:\n",
    "- assign a dict\n",
    "- index a dict (get an item from the dict).\n",
    "   - NB: indexing in python starts at 0\n",
    "- *not covered* iterate over a dictionary to access each key:value pair"
   ]
  },
  {
   "cell_type": "code",
   "execution_count": null,
   "id": "bright-annex",
   "metadata": {},
   "outputs": [],
   "source": [
    "my_dict = {\"key1\": 7,\n",
    "           \"key2\": 3.14,\n",
    "           \"key3\": \"message\"}\n",
    "\n",
    "print(my_dict)"
   ]
  },
  {
   "cell_type": "code",
   "execution_count": null,
   "id": "architectural-polyester",
   "metadata": {},
   "outputs": [],
   "source": [
    "# index the dict with the key\n",
    "\n",
    "my_dict[\"key1\"]"
   ]
  },
  {
   "cell_type": "code",
   "execution_count": null,
   "id": "ahead-rendering",
   "metadata": {},
   "outputs": [],
   "source": [
    "# index the dict with a number will not work!\n",
    "\n",
    "my_dict[0]"
   ]
  }
 ],
 "metadata": {
  "kernelspec": {
   "display_name": "Python 3",
   "language": "python",
   "name": "python3"
  },
  "language_info": {
   "codemirror_mode": {
    "name": "ipython",
    "version": 3
   },
   "file_extension": ".py",
   "mimetype": "text/x-python",
   "name": "python",
   "nbconvert_exporter": "python",
   "pygments_lexer": "ipython3",
   "version": "3.9.1"
  }
 },
 "nbformat": 4,
 "nbformat_minor": 5
}
