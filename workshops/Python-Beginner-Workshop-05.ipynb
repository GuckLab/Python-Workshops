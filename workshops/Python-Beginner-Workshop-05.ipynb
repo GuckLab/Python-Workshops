{
 "cells": [
  {
   "cell_type": "markdown",
   "id": "floating-terrorist",
   "metadata": {},
   "source": [
    "# Welcome to the Beginner Python Workshop \n",
    "\n",
    "**Topic: Scripting and plotting with a dataset**\n",
    "\n",
    "This notebook will give you a basic introduction to the Python world. Some of the topics mentioned below is also covered in the [tutorials and tutorial videos](https://github.com/GuckLab/Python-Workshops/tree/main/tutorials)\n",
    "\n",
    "Eoghan O'Connell, Guck Division, MPL, 2021"
   ]
  },
  {
   "cell_type": "code",
   "execution_count": null,
   "id": "young-conjunction",
   "metadata": {},
   "outputs": [],
   "source": [
    "# notebook metadata you can ignore!\n",
    "info = {\"workshop\": \"05\",\n",
    "        \"topic\": [\"scripting\", \"plotting\", \"pandas\",\n",
    "                  \"matplotlib\", \"csv\", \"iris\", \"data\",\n",
    "                  \"curve fitting\"],\n",
    "        \"version\" : \"0.0.1\"}"
   ]
  },
  {
   "cell_type": "markdown",
   "id": "enabling-madrid",
   "metadata": {},
   "source": [
    "### How to use this notebook\n",
    "\n",
    "- Click on a cell (each box is called a cell). Hit \"shift+enter\", this will run the cell!\n",
    "- You can run the cells in any order!\n",
    "- The output of runnable code is printed below the cell.\n",
    "- Check out this [Jupyter Notebook Tutorial video](https://www.youtube.com/watch?v=HW29067qVWk).\n",
    "\n",
    "See the help tab above for more information!\n"
   ]
  },
  {
   "cell_type": "markdown",
   "id": "ahead-adventure",
   "metadata": {},
   "source": [
    "# What is in this Workshop?\n",
    "In this notebook we cover:\n",
    "- How to open a `.csv` file (excel/csv/tsv spreadsheet) with pandas\n",
    "- How to work with pandas dataframes\n",
    "   - Looking at columns, rows, slicing, indexing, concat, changing cells\n",
    "   - How to convert between pandas dataframes and numpy arrays\n",
    "- How to plot with pandas and matplotlib\n",
    "   - Simple figures\n",
    "   - Subfigures, 3D plots\n",
    "- Curve fitting \n",
    "\n",
    "Check out the tutorial video series by Corey Schafer on pandas [here](https://www.youtube.com/watch?v=ZyhVh-qRZPA&list=PL-osiE80TeTsWmV9i9c58mdDCSskIFdDS)."
   ]
  },
  {
   "cell_type": "code",
   "execution_count": null,
   "id": "689ef71f",
   "metadata": {},
   "outputs": [],
   "source": [
    "# import necessary modules\n",
    "%matplotlib nbagg\n",
    "import matplotlib.pyplot as plt\n",
    "import pandas as pd\n",
    "import numpy as np\n",
    "from scipy.optimize import curve_fit"
   ]
  },
  {
   "cell_type": "markdown",
   "id": "5f9c3f70",
   "metadata": {},
   "source": [
    "### Opening a `.csv` file (excel) \n",
    "\n",
    "We will look at the iris dataset. This includes data on three species of the iris flower genus. For each of the species, the Petal width and length, and the Sepal width and length."
   ]
  },
  {
   "cell_type": "code",
   "execution_count": null,
   "id": "19ce6910",
   "metadata": {},
   "outputs": [],
   "source": [
    "df = pd.read_csv(r\"../data/iris.csv\")"
   ]
  },
  {
   "cell_type": "code",
   "execution_count": null,
   "id": "1c48ec3a",
   "metadata": {},
   "outputs": [],
   "source": [
    "# print out the first rows of the dataframe\n",
    "\n",
    "df.head()"
   ]
  },
  {
   "cell_type": "code",
   "execution_count": null,
   "id": "441a83d0",
   "metadata": {},
   "outputs": [],
   "source": [
    "# you can see the documentation for more parameter options:\n",
    "#  https://pandas.pydata.org/pandas-docs/stable/reference/api/pandas.read_csv.html\n",
    "\n",
    "# For example, we can only use some columns to create the DataFrame\n",
    "\n",
    "df = pd.read_csv(r\"../data/iris.csv\", usecols=[\"sepallength\", \"petallength\"])\n",
    "print(df.head())"
   ]
  },
  {
   "cell_type": "code",
   "execution_count": null,
   "id": "095e0fbb",
   "metadata": {},
   "outputs": [],
   "source": [
    "df = pd.read_csv(r\"../data/iris.csv\")"
   ]
  },
  {
   "cell_type": "markdown",
   "id": "5aa13d96",
   "metadata": {},
   "source": [
    "### How to work with pandas dataframes"
   ]
  },
  {
   "cell_type": "code",
   "execution_count": null,
   "id": "a9e7bbb9",
   "metadata": {},
   "outputs": [],
   "source": [
    "# the left column are the row numbers, accessible with df.index\n",
    "\n",
    "print(df.index)\n",
    "\n",
    "print(df.index[0])\n",
    "\n",
    "print(df.index[0:2])"
   ]
  },
  {
   "cell_type": "code",
   "execution_count": null,
   "id": "d6300529",
   "metadata": {},
   "outputs": [],
   "source": [
    "# columns can be accessed with df.columns\n",
    "\n",
    "print(df.columns)\n",
    "\n",
    "print(df.columns[0])\n",
    "\n",
    "print(df.columns[0:2])"
   ]
  },
  {
   "cell_type": "code",
   "execution_count": null,
   "id": "9e8ce811",
   "metadata": {},
   "outputs": [],
   "source": [
    "# we can access column data with df[\"column title\"]\n",
    "\n",
    "print(df[\"sepallength\"])\n",
    "print(\"\\n\")\n",
    "print(df[\"sepallength\"][0])\n",
    "print(\"\\n\")\n",
    "print(df[\"sepallength\"][0:2])"
   ]
  },
  {
   "cell_type": "code",
   "execution_count": null,
   "id": "834ccaf1",
   "metadata": {},
   "outputs": [],
   "source": [
    "# we can access multiple column data too by listing the column titles\n",
    "\n",
    "print(df[[\"sepallength\", \"petallength\"]])"
   ]
  },
  {
   "cell_type": "markdown",
   "id": "1a3361c6",
   "metadata": {},
   "source": [
    "#### Dataframe methods"
   ]
  },
  {
   "cell_type": "code",
   "execution_count": null,
   "id": "4ccda115",
   "metadata": {},
   "outputs": [],
   "source": [
    "# we can easily get column values that match other column values with the df.loc method\n",
    "\n",
    "petallength_setosa = df.loc[df[\"class\"] == \"Iris-setosa\", \"petallength\"]\n",
    "\n",
    "print(petallength_setosa[0:10])\n",
    "\n",
    "# lets break that up\n",
    "# df[\"class\"]\n",
    "# df[\"class\"] == \"Iris-setosa\""
   ]
  },
  {
   "cell_type": "code",
   "execution_count": null,
   "id": "6cfa7f1e",
   "metadata": {},
   "outputs": [],
   "source": [
    "# we can easily get statistics of our data\n",
    "\n",
    "df.mean(numeric_only=True)\n",
    "\n",
    "# df.std(numeric_only=True)\n",
    "# df.median(numeric_only=True)\n",
    "# df.mode(numeric_only=True)"
   ]
  },
  {
   "cell_type": "code",
   "execution_count": null,
   "id": "6b2d5ac0",
   "metadata": {},
   "outputs": [],
   "source": [
    "# let's add a new column that is the mean of all other columns\n",
    "\n",
    "df[\"mean along row\"] = df.mean(numeric_only=True, axis=1)\n",
    "\n",
    "df.head()"
   ]
  },
  {
   "cell_type": "code",
   "execution_count": null,
   "id": "af65a1ae",
   "metadata": {},
   "outputs": [],
   "source": [
    "# you can assign a new value to a specific cell with df.at\n",
    "\n",
    "print(df.at[0, \"mean along row\"])\n",
    "\n",
    "df.at[0, \"mean along row\"] = 42\n",
    "\n",
    "print(df.at[0, \"mean along row\"])"
   ]
  },
  {
   "cell_type": "code",
   "execution_count": null,
   "id": "0c6f724b",
   "metadata": {},
   "outputs": [],
   "source": [
    "# we can concatenate (join together) several dataframes with pd.concat\n",
    "\n",
    "df2 = pd.concat([df, df])\n",
    "\n",
    "print(len(df))\n",
    "print(len(df2))"
   ]
  },
  {
   "cell_type": "code",
   "execution_count": null,
   "id": "b06b3281",
   "metadata": {},
   "outputs": [],
   "source": [
    "# we can concatenate along columns too\n",
    "\n",
    "df3 = pd.concat([df, df], axis=1)\n",
    "\n",
    "print(len(df.columns))\n",
    "print(len(df3.columns))"
   ]
  },
  {
   "cell_type": "markdown",
   "id": "4ac18ed3",
   "metadata": {},
   "source": [
    "#### Dataframes and Arrays\n",
    "\n",
    "Sometimes we want to convert numeric data between dataframes and numpy arrays.\n",
    "Neither is \"better\", but each has its own strengths"
   ]
  },
  {
   "cell_type": "code",
   "execution_count": null,
   "id": "472e1c5d",
   "metadata": {},
   "outputs": [],
   "source": [
    "# converting numeric data\n",
    "\n",
    "print(type(df))\n",
    "print(type(df[\"petalwidth\"]))\n",
    "\n",
    "arr1 = np.array(df[\"petalwidth\"])\n",
    "\n",
    "print(type(arr1))"
   ]
  },
  {
   "cell_type": "code",
   "execution_count": null,
   "id": "f5e60b4d",
   "metadata": {},
   "outputs": [],
   "source": [
    "# let's compare the time to compute the mean\n",
    "# remember that you usually dn't have to worry about speed, only when you have very big datasets\n",
    "\n",
    "series1 = df[\"petalwidth\"]\n",
    "\n",
    "print(\"Time taken for pandas series:\")\n",
    "%timeit -r 3 -n 100 series1.mean()\n",
    "\n",
    "print(\"\\nTime taken for numpy array:\")\n",
    "%timeit -r 3 -n 100 arr1.mean()"
   ]
  },
  {
   "cell_type": "code",
   "execution_count": null,
   "id": "e273196d",
   "metadata": {},
   "outputs": [],
   "source": [
    "# numpy isn't really designed for strings! Use dataframes for strings and non-numeric data\n",
    "\n",
    "arr2 = np.array(df[\"class\"])\n",
    "print(arr2.dtype)\n",
    "print(arr2[45:55])"
   ]
  },
  {
   "cell_type": "markdown",
   "id": "e26a7617",
   "metadata": {},
   "source": [
    "### How to plot with pandas and matplotlib\n",
    "\n",
    "We will plot first with pandas, and see how it uses matplotlib in the background!"
   ]
  },
  {
   "cell_type": "markdown",
   "id": "2d85f0fc",
   "metadata": {},
   "source": [
    "#### Simple figures"
   ]
  },
  {
   "cell_type": "code",
   "execution_count": null,
   "id": "9716102d",
   "metadata": {},
   "outputs": [],
   "source": [
    "df = pd.read_csv(r\"../data/iris.csv\")\n",
    "\n",
    "# plotting with pandas is really easy!\n",
    "\n",
    "df.plot.scatter(x=\"petallength\", y=\"petalwidth\", alpha=0.6)"
   ]
  },
  {
   "cell_type": "code",
   "execution_count": null,
   "id": "15d4678a",
   "metadata": {
    "scrolled": true
   },
   "outputs": [],
   "source": [
    "# we can look at boxplots\n",
    "\n",
    "df.boxplot(by=\"class\")"
   ]
  },
  {
   "cell_type": "code",
   "execution_count": null,
   "id": "09ad43d3",
   "metadata": {
    "scrolled": false
   },
   "outputs": [],
   "source": [
    "# using matplotlib only, basic plot\n",
    "\n",
    "x = df[\"petallength\"]\n",
    "y = df[\"petalwidth\"]\n",
    "\n",
    "plt.figure()\n",
    "plt.plot(x, y, linestyle=\"\", marker=\"o\", alpha=0.6)\n",
    "plt.show()\n"
   ]
  },
  {
   "cell_type": "markdown",
   "id": "a54da36a",
   "metadata": {},
   "source": [
    "#### Advanced figures and subfigures"
   ]
  },
  {
   "cell_type": "code",
   "execution_count": null,
   "id": "d7a8354e",
   "metadata": {},
   "outputs": [],
   "source": [
    "# annotating a plot with some stats and info\n",
    "\n",
    "# first get the mean of setosa petalwidth and petallength\n",
    "\n",
    "setosa_petallength_mean = df[0:50][\"petallength\"].mean()\n",
    "setosa_petalwidth_mean = df[0:50][\"petalwidth\"].mean()\n",
    "\n",
    "fig, axs = plt.subplots(figsize=(6, 3))\n",
    "df[0:50].plot.scatter(x=\"petallength\", y=\"petalwidth\", ax=axs, alpha=0.6)\n",
    "axs.axvline(setosa_petallength_mean, color=\"black\", alpha=0.6)\n",
    "axs.axhline(setosa_petalwidth_mean, color=\"red\", alpha=0.6)\n",
    "\n",
    "axs.text(setosa_petallength_mean-0.03, 0.32, \"Mean Petal Length\", rotation=90)\n",
    "axs.text(0.97, setosa_petalwidth_mean+0.01, \"Mean Petal Width\", color=\"red\")\n",
    "axs.set_ylim((0, 0.9))\n",
    "\n",
    "axs.set_title(\"Setosa Petal Width vs. Length\")\n",
    "plt.tight_layout()\n",
    "plt.show()"
   ]
  },
  {
   "cell_type": "code",
   "execution_count": null,
   "id": "e1379798",
   "metadata": {},
   "outputs": [],
   "source": [
    "# we can use matplotlib to edit our figure\n",
    "\n",
    "fig, axs = plt.subplots(figsize=(6, 3))\n",
    "df[0:50].plot(ax=axs)\n",
    "axs.set_xlabel(\"Setosa Measurement\")\n",
    "axs.set_ylabel(\"Length (cm)\")\n",
    "\n",
    "axs.set_ylim((-0.5, 8))\n",
    "axs.legend(ncol=2, loc=\"upper right\")\n",
    "\n",
    "plt.tight_layout()\n",
    "plt.show()\n",
    "plt.savefig(r\"../data/Iris Setosa measurements.png\")"
   ]
  },
  {
   "cell_type": "code",
   "execution_count": null,
   "id": "bfa9da78",
   "metadata": {
    "scrolled": false
   },
   "outputs": [],
   "source": [
    "# fig, axs = plt.subplots(2, 2, figsize=(5, 5))\n",
    "# ax1, ax2, ax3, ax4 = axs.flatten()\n",
    "\n",
    "fig = plt.figure()\n",
    "ax1 = fig.add_subplot(211)\n",
    "ax2 = fig.add_subplot(234)\n",
    "ax3 = fig.add_subplot(235)\n",
    "ax4 = fig.add_subplot(236)\n",
    "\n",
    "linestyle = [\"-\", \"--\", \"-.\", \"-\"]\n",
    "\n",
    "df.plot(ax=ax1, style=linestyle)\n",
    "df[0:50].plot(ax=ax2, style=linestyle, legend=None)\n",
    "df[50:100].plot(ax=ax3, style=linestyle, legend=None)\n",
    "df[100:150].plot(ax=ax4, style=linestyle, legend=None)\n",
    "\n",
    "ax3.set_xlabel(\"Setosa Measurement\")\n",
    "ax1.set_ylabel(\"Length (cm)\")\n",
    "ax2.set_ylabel(\"Length (cm)\")\n",
    "\n",
    "ax1.set_ylim((-0.5, 10.5))\n",
    "ax1.legend(ncol=2, loc=\"upper left\")\n",
    "\n",
    "plt.tight_layout()\n",
    "plt.show()"
   ]
  },
  {
   "cell_type": "markdown",
   "id": "7db08f69",
   "metadata": {},
   "source": [
    "#### 3D plots"
   ]
  },
  {
   "cell_type": "code",
   "execution_count": null,
   "id": "8fbedd07",
   "metadata": {},
   "outputs": [],
   "source": [
    "# There is a third dimension???\n",
    "\n",
    "xlab = \"petallength\"\n",
    "ylab = \"petalwidth\"\n",
    "zlab = \"sepallength\"\n",
    "\n",
    "x = df[xlab]\n",
    "y = df[ylab]\n",
    "z = df[zlab]\n",
    "\n",
    "fig = plt.figure(figsize=(5, 5))\n",
    "ax = fig.add_subplot(projection='3d')\n",
    "\n",
    "for (start, stop), color in zip([(0, 50), (50, 100), (100, 150)], [\"k\", \"blue\", \"red\"]):\n",
    "    ax.plot(xs=x[start:stop], ys=y[start:stop], zs=z[start:stop], color=color, linestyle=\"\", marker=\"^\")\n",
    "\n",
    "ax.set_xlabel(xlab)\n",
    "ax.set_ylabel(ylab)\n",
    "ax.set_zlabel(zlab)\n",
    "ax.set_title(\"Wow, am I wearing 3D glasses?\")\n",
    "\n",
    "plt.tight_layout()\n",
    "plt.show()"
   ]
  },
  {
   "cell_type": "markdown",
   "id": "f4ffbab3",
   "metadata": {},
   "source": [
    "### Curve fitting\n",
    "\n",
    "We can do some curve fitting with scipy or other packages\n",
    "See the non-linear least-squares curve fitting documentation here: https://docs.scipy.org/doc/scipy/reference/generated/scipy.optimize.curve_fit.html"
   ]
  },
  {
   "cell_type": "code",
   "execution_count": null,
   "id": "9fd75d80",
   "metadata": {},
   "outputs": [],
   "source": [
    "# least-square fitting of 2D data\n",
    "\n",
    "# create a linear fitting function (n=1)\n",
    "def linear_fit(x, m, c):\n",
    "    y = (m * x) + c\n",
    "    return y"
   ]
  },
  {
   "cell_type": "code",
   "execution_count": null,
   "id": "72605be0",
   "metadata": {},
   "outputs": [],
   "source": [
    "# get some data from our dataframe\n",
    "\n",
    "xlab = \"petallength\"\n",
    "ylab = \"petalwidth\"\n",
    "\n",
    "x = df[xlab]\n",
    "y = df[ylab]\n",
    "\n",
    "popt, pcov = curve_fit(linear_fit, x, y)\n",
    "popt2, pcov2 = curve_fit(linear_fit, x[0:50], y[0:50])"
   ]
  },
  {
   "cell_type": "code",
   "execution_count": null,
   "id": "9499619f",
   "metadata": {},
   "outputs": [],
   "source": [
    "fig = plt.figure()\n",
    "ax1 = fig.add_subplot(111)\n",
    "ax1.plot(x, y, linestyle=\"\", marker=\"o\", alpha=0.6, label='Data')\n",
    "ax1.plot(x, linear_fit(x, *popt), 'k-', label='Our fit')\n",
    "ax1.plot(x[0:50], linear_fit(x[0:50], *popt2), 'r-', label='Our fit 2')\n",
    "\n",
    "ax1.set_xlabel(xlab)\n",
    "ax1.set_ylabel(ylab)\n",
    "ax1.set_title(\"Linear fit of Petal Width vs. Length\")\n",
    "ax1.legend()\n",
    "plt.show()"
   ]
  },
  {
   "cell_type": "code",
   "execution_count": null,
   "id": "e0a409e1",
   "metadata": {},
   "outputs": [],
   "source": [
    "# what about other polynomial degrees?\n",
    "\n",
    "def n2_fit(x, m, c, a):\n",
    "    y = (a * x**2) + (m*x) + c\n",
    "    return y\n",
    "\n",
    "def n3_fit(x, m, c, a, b):\n",
    "    y = (b * x**3) + (a * x**2) + (m*x) + c\n",
    "    return y\n",
    "\n",
    "xlab = \"sepallength\"\n",
    "ylab = \"petalwidth\"\n",
    "x = df[xlab]\n",
    "y = df[ylab]\n",
    "\n",
    "x2 = x[0:150]\n",
    "y2 = y[0:150]\n",
    "popt2, pcov = curve_fit(n2_fit, x2, y2)\n",
    "popt3, pcov = curve_fit(n3_fit, x2, y2)"
   ]
  },
  {
   "cell_type": "code",
   "execution_count": null,
   "id": "60648524",
   "metadata": {},
   "outputs": [],
   "source": [
    "fig = plt.figure()\n",
    "ax1 = fig.add_subplot(111)\n",
    "ax1.plot(x, y, linestyle=\"\", marker=\"o\", alpha=0.6, label='Data')\n",
    "# we have to arrange the data from lowest to highest so the line displays correctly\n",
    "x2_arranged = x2.sort_values()\n",
    "ax1.plot(x2_arranged, n2_fit(x2_arranged, *popt2), 'k-', label='Our fit n=2')\n",
    "ax1.plot(x2_arranged, n3_fit(x2_arranged, *popt3), 'r--', label='Our fit n=3')\n",
    "\n",
    "ax1.set_xlabel(xlab)\n",
    "ax1.set_ylabel(ylab)\n",
    "ax1.set_title(\"Poly. fit of Petal Width vs. Length\")\n",
    "ax1.legend()\n",
    "plt.show()"
   ]
  },
  {
   "cell_type": "code",
   "execution_count": null,
   "id": "2ba582b7",
   "metadata": {},
   "outputs": [],
   "source": [
    "# and some exponentials???\n",
    "\n",
    "xlab = \"sepallength\"\n",
    "ylab = \"petalwidth\"\n",
    "x = df[xlab]\n",
    "y = df[ylab]\n",
    "x2 = x[0:150]\n",
    "y2 = y[0:150]\n",
    "\n",
    "def exp_fit(x, a, b, c):\n",
    "    return a * np.exp(-b * x) + c\n",
    "\n",
    "popt, pcov = curve_fit(exp_fit, x2, y2)\n",
    "\n",
    "fig = plt.figure()\n",
    "ax1 = fig.add_subplot(111)\n",
    "ax1.plot(x, y, linestyle=\"\", marker=\"o\", alpha=0.6, label='Data')\n",
    "# we have to arrange the data from lowest to highest so the line displays correctly\n",
    "x2_arranged = x2.sort_values()\n",
    "ax1.plot(x2_arranged, exp_fit(x2_arranged, *popt), 'k-', label='Our fit Exp')\n",
    "\n",
    "ax1.set_xlabel(xlab)\n",
    "ax1.set_ylabel(ylab)\n",
    "ax1.set_title(\"Exp fit of Petal Width vs. Length\")\n",
    "ax1.legend()\n",
    "plt.show()"
   ]
  },
  {
   "cell_type": "markdown",
   "id": "27507179",
   "metadata": {},
   "source": [
    "### Excercises\n",
    "\n",
    "- Scripting\n",
    "  - You have a excel spreadsheet and want to fit your data with a polynomial curve\n",
    "  - You need to create a plot displaying this curve fit, along with the following\n",
    "     - Subfigures describing the data, axis labels, error bars\n",
    "     - Saved figure needs to be publication-ready resolution\n"
   ]
  },
  {
   "cell_type": "code",
   "execution_count": null,
   "id": "94202cc5",
   "metadata": {},
   "outputs": [],
   "source": []
  }
 ],
 "metadata": {
  "kernelspec": {
   "display_name": "Python 3 (ipykernel)",
   "language": "python",
   "name": "python3"
  },
  "language_info": {
   "codemirror_mode": {
    "name": "ipython",
    "version": 3
   },
   "file_extension": ".py",
   "mimetype": "text/x-python",
   "name": "python",
   "nbconvert_exporter": "python",
   "pygments_lexer": "ipython3",
   "version": "3.8.6"
  }
 },
 "nbformat": 4,
 "nbformat_minor": 5
}
