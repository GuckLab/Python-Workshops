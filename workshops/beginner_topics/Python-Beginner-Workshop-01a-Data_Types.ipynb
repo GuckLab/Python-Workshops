{
 "cells": [
  {
   "cell_type": "markdown",
   "id": "floating-terrorist",
   "metadata": {
    "pycharm": {
     "name": "#%% md\n"
    }
   },
   "source": [
    "# Welcome to the Beginner Python Workshop \n",
    "\n",
    "This notebooks will give you a basic introduction to the Python world. Each topic mentioned below is also covered in the [tutorials and tutorial videos](https://github.com/GuckLab/Python-Workshops/tree/main/tutorials)\n",
    "\n",
    "Eoghan O'Connell, Guck Division, MPL, 2021"
   ]
  },
  {
   "cell_type": "code",
   "execution_count": null,
   "id": "fe1dbadc",
   "metadata": {
    "pycharm": {
     "name": "#%%\n"
    }
   },
   "outputs": [],
   "source": [
    "# notebook metadata you can ignore!\n",
    "info = {\"workshop\": \"01\",\n",
    "        \"topic\": [\"comments\", \"data types\", \"strings\", \"numbers\", \"boolean\"\n",
    "                  \"containers\", \"lists\", \"dictionaries\"],\n",
    "        \"version\" : \"1.0.0\"}"
   ]
  },
  {
   "cell_type": "markdown",
   "id": "e5b6bb64",
   "metadata": {
    "pycharm": {
     "name": "#%% md\n"
    }
   },
   "source": [
    "### How to use this notebook\n",
    "\n",
    "- Click on a cell (each box is called a cell). Hit \"shift+enter\", this will run the cell!\n",
    "- You can run the cells in any order!\n",
    "- The output of runnable code is printed below the cell.\n",
    "- Check out this [Jupyter Notebook Tutorial video](https://www.youtube.com/watch?v=HW29067qVWk).\n",
    "\n",
    "See the help tab above for more information!\n"
   ]
  },
  {
   "cell_type": "markdown",
   "id": "6a874f97",
   "metadata": {
    "pycharm": {
     "name": "#%% md\n"
    }
   },
   "source": [
    "# What is in this Workshop?\n",
    "In this notebook we cover:\n",
    "- Comments in python\n",
    "- Basic Data Types\n",
    "   - Textual data (strings)\n",
    "   - Numbers (integers and floats)\n",
    "   - booleans (True and False)\n",
    "- Container data types\n",
    "   - Lists\n",
    "   - Dictionaries\n"
   ]
  },
  {
   "cell_type": "markdown",
   "id": "84836709",
   "metadata": {
    "pycharm": {
     "name": "#%% md\n"
    }
   },
   "source": [
    "-----------\n",
    "## Comments\n",
    "Comments are used to describe your code. They can really help you (future you) and other users of your code to understand what is going on!\n",
    "\n",
    "Anything following a '#' is a comment and is not runnable code."
   ]
  },
  {
   "cell_type": "code",
   "execution_count": null,
   "id": "4b6ac9ae",
   "metadata": {
    "pycharm": {
     "name": "#%%\n"
    }
   },
   "outputs": [],
   "source": [
    "# this is a comment"
   ]
  },
  {
   "cell_type": "code",
   "execution_count": null,
   "id": "f7591abd",
   "metadata": {
    "pycharm": {
     "name": "#%%\n"
    }
   },
   "outputs": [],
   "source": [
    "# this is a comment\n",
    "\n",
    "print(\"This is some code\")"
   ]
  },
  {
   "cell_type": "markdown",
   "id": "b545e811",
   "metadata": {
    "pycharm": {
     "name": "#%% raw\n"
    }
   },
   "source": [
    "You will also see comments on the same line as code like so:"
   ]
  },
  {
   "cell_type": "code",
   "execution_count": null,
   "id": "b0107af7",
   "metadata": {
    "pycharm": {
     "name": "#%%\n"
    }
   },
   "outputs": [],
   "source": [
    "1 + 2  # that was some code, but I am a comment!"
   ]
  },
  {
   "cell_type": "markdown",
   "id": "2bfc7655",
   "metadata": {
    "pycharm": {
     "name": "#%% md\n"
    }
   },
   "source": [
    "You can write multi-line comments with three double quotes (`\"\"\" the comment \"\"\"`) or three single quotes (`''' my comment '''`)"
   ]
  },
  {
   "cell_type": "code",
   "execution_count": null,
   "id": "adfef780",
   "metadata": {
    "pycharm": {
     "name": "#%%\n"
    }
   },
   "outputs": [],
   "source": [
    "\"\"\"\n",
    "This\n",
    "is a \n",
    "\n",
    "multi-line\n",
    "\n",
    "comment\n",
    "\"\"\""
   ]
  },
  {
   "cell_type": "markdown",
   "id": "de020d52",
   "metadata": {
    "pycharm": {
     "name": "#%% md\n"
    }
   },
   "source": [
    "-----------\n",
    "# Basic data types: strings, numbers, boolean"
   ]
  },
  {
   "cell_type": "markdown",
   "id": "c76f41fa",
   "metadata": {
    "pycharm": {
     "name": "#%% md\n"
    }
   },
   "source": [
    "### Strings (`str`)\n",
    "Strings are textual data. We use them to represent characters, words or any textual information."
   ]
  },
  {
   "cell_type": "markdown",
   "id": "e156aef0",
   "metadata": {
    "pycharm": {
     "name": "#%% md\n"
    }
   },
   "source": [
    "We can use single quotes or double quotes to make a string..."
   ]
  },
  {
   "cell_type": "code",
   "execution_count": null,
   "id": "f4276631",
   "metadata": {
    "pycharm": {
     "name": "#%%\n"
    }
   },
   "outputs": [],
   "source": [
    "# single quotes ''\n",
    "print('This is a string')\n",
    "\n",
    "# double quotes \"\"\n",
    "print(\"This is also a string\")"
   ]
  },
  {
   "cell_type": "markdown",
   "id": "6eabdbb3",
   "metadata": {
    "pycharm": {
     "name": "#%% md\n"
    }
   },
   "source": [
    "Knowing that you can use either single or double quotes is important in the following example...\n",
    "\n",
    "What if I want to put the following into a string:\n",
    "\n",
    "Jona's message\n",
    "\n",
    "Well, we will get an error if using single quotes..."
   ]
  },
  {
   "cell_type": "code",
   "execution_count": null,
   "id": "f358c108",
   "metadata": {
    "pycharm": {
     "name": "#%%\n"
    }
   },
   "outputs": [],
   "source": [
    "# this will create an error!\n",
    "\n",
    "'Jona's message'"
   ]
  },
  {
   "cell_type": "markdown",
   "id": "de97d61f",
   "metadata": {
    "pycharm": {
     "name": "#%% md\n"
    }
   },
   "source": [
    "Instead we use double quotes for the Python string, and the single quote as an apostrophe..."
   ]
  },
  {
   "cell_type": "code",
   "execution_count": null,
   "id": "0334909e",
   "metadata": {
    "pycharm": {
     "name": "#%%\n"
    }
   },
   "outputs": [],
   "source": [
    "\"Jona's message\""
   ]
  },
  {
   "cell_type": "markdown",
   "id": "af3e147f",
   "metadata": {},
   "source": [
    "Using the special escape character `'\\'` will also work, but isn't as clean looking, and I wouldn't recommend it for beginners"
   ]
  },
  {
   "cell_type": "code",
   "execution_count": null,
   "id": "815c692b",
   "metadata": {
    "pycharm": {
     "name": "#%%\n"
    }
   },
   "outputs": [],
   "source": [
    "'Jona\\'s message'"
   ]
  },
  {
   "cell_type": "markdown",
   "id": "34cc3018",
   "metadata": {},
   "source": [
    "You can also write multiline strings like so:"
   ]
  },
  {
   "cell_type": "code",
   "execution_count": null,
   "id": "670ace24",
   "metadata": {},
   "outputs": [],
   "source": [
    "print(\"This is a multiline \"\n",
    "      \"string\")"
   ]
  },
  {
   "cell_type": "markdown",
   "id": "af95c5b5",
   "metadata": {},
   "source": [
    "But what if you want the second line to be `print`ed on the second line? We use the newline syntax `\\n`..."
   ]
  },
  {
   "cell_type": "code",
   "execution_count": null,
   "id": "46abf292",
   "metadata": {},
   "outputs": [],
   "source": [
    "print(\"This is a multiline \\n\"  # << notice the \\n here, which will create a newline \n",
    "      \"string\")"
   ]
  },
  {
   "cell_type": "markdown",
   "id": "4f3c1553",
   "metadata": {},
   "source": [
    "There is also another cool backslash syntax we can use for printing (oftern strings) in Python. The carriage return `\\r`. It will overwite the current printed line..."
   ]
  },
  {
   "cell_type": "code",
   "execution_count": null,
   "id": "12b9e2b0",
   "metadata": {},
   "outputs": [],
   "source": [
    "print(\"This is a multiline \\r\"\n",
    "      \"We have overwritten the line printed first!\")"
   ]
  },
  {
   "cell_type": "markdown",
   "id": "e9a32f9e",
   "metadata": {},
   "source": [
    "Let's print at that again, but sloooow down..."
   ]
  },
  {
   "cell_type": "code",
   "execution_count": null,
   "id": "15e61e1d",
   "metadata": {},
   "outputs": [],
   "source": [
    "import time\n",
    "\n",
    "print(\"This is a multiline\", end='\\r')\n",
    "time.sleep(2)\n",
    "print(\"We have overwritten the line printed first!\")"
   ]
  },
  {
   "cell_type": "markdown",
   "id": "65c68e75",
   "metadata": {
    "pycharm": {
     "name": "#%% md\n"
    }
   },
   "source": [
    "-----------\n",
    "## Numbers (integer `int` and floating point `float`)\n",
    "Numbers are easy in Python!"
   ]
  },
  {
   "cell_type": "code",
   "execution_count": null,
   "id": "c3b02fda",
   "metadata": {
    "pycharm": {
     "name": "#%%\n"
    }
   },
   "outputs": [],
   "source": [
    "# this is an integer\n",
    "3"
   ]
  },
  {
   "cell_type": "code",
   "execution_count": null,
   "id": "8d02d221",
   "metadata": {
    "pycharm": {
     "name": "#%%\n"
    }
   },
   "outputs": [],
   "source": [
    "# now let's see a float\n",
    "3.14"
   ]
  },
  {
   "cell_type": "code",
   "execution_count": null,
   "id": "0546b9ab",
   "metadata": {
    "pycharm": {
     "name": "#%%\n"
    }
   },
   "outputs": [],
   "source": [
    "# let's add some numbers together\n",
    "3 + 3.14\n",
    "\n",
    "# notice how to output has many trailing zeros! It is called floating point for a reason..."
   ]
  },
  {
   "cell_type": "markdown",
   "id": "0cf3059c",
   "metadata": {
    "pycharm": {
     "name": "#%% md\n"
    }
   },
   "source": [
    "#### How to add, divide etc.?\n",
    "\n",
    "- \\+ addition\n",
    "- \\- subtraction (minus)\n",
    "- \\* multiplication\n",
    "- \\/ division\n",
    "- \\// division (but does not include the remainder - round to whole number)\n",
    "- \\% division (but returns the remainder)\n",
    "- \\** exponent/power"
   ]
  },
  {
   "cell_type": "code",
   "execution_count": null,
   "id": "f6e9b8bc",
   "metadata": {
    "pycharm": {
     "name": "#%%\n"
    }
   },
   "outputs": [],
   "source": [
    "print(9 + 3.1)\n",
    "print(9 - 3.1)\n",
    "print(9 * 3.1)"
   ]
  },
  {
   "cell_type": "code",
   "execution_count": null,
   "id": "bffc567c",
   "metadata": {
    "pycharm": {
     "name": "#%%\n"
    }
   },
   "outputs": [],
   "source": [
    "print(9 / 4)\n",
    "print(9 // 4)\n",
    "print(9 % 4)\n",
    "print(9 ** 4)"
   ]
  },
  {
   "cell_type": "markdown",
   "id": "484a329f",
   "metadata": {
    "pycharm": {
     "name": "#%% md\n"
    }
   },
   "source": [
    "-----------\n",
    "## Boolean (`bool`)\n",
    "Boolean values are rather ... polarising :)\n",
    "\n",
    "Boolean arrays are fast and work well with NumPy!\n",
    "\n",
    "They are written as `True` and `False` in Python. Notice that they are capitalised!"
   ]
  },
  {
   "cell_type": "code",
   "execution_count": null,
   "id": "b83d5029",
   "metadata": {
    "pycharm": {
     "name": "#%%\n"
    }
   },
   "outputs": [],
   "source": [
    "print(True, False)"
   ]
  },
  {
   "cell_type": "code",
   "execution_count": null,
   "id": "04652c0e",
   "metadata": {
    "pycharm": {
     "name": "#%%\n"
    }
   },
   "outputs": [],
   "source": [
    "# check what equals True or False in Python\n",
    "print(1 == True)\n",
    "print(0 == False)"
   ]
  },
  {
   "cell_type": "code",
   "execution_count": null,
   "id": "ca7645ca",
   "metadata": {
    "pycharm": {
     "name": "#%%\n"
    }
   },
   "outputs": [],
   "source": [
    "# what happens when we try True == False?\n",
    "True == False\n",
    "\n",
    "# it is indeed False!"
   ]
  },
  {
   "cell_type": "code",
   "execution_count": null,
   "id": "d72684d4",
   "metadata": {
    "pycharm": {
     "name": "#%%\n"
    }
   },
   "outputs": [],
   "source": [
    "# what about adding booleans and numbers together?\n",
    "print(True + True)\n",
    "print(True + 5)\n",
    "print(True + 5.45)"
   ]
  },
  {
   "cell_type": "markdown",
   "id": "8d55215c",
   "metadata": {
    "pycharm": {
     "name": "#%% md\n"
    }
   },
   "source": [
    "-----------\n",
    "# Built-in containers in Python\n",
    "\n",
    "#### What is a container?\n",
    "A container is just an object that holds other objects.\n",
    "\n",
    "Lists and dictionaries are two such objects. They can hold other data types such as strings, numbers, bool, and even other containers. So you can even have lists with lists in them!"
   ]
  },
  {
   "cell_type": "markdown",
   "id": "93ac7e49",
   "metadata": {
    "pycharm": {
     "name": "#%% md\n"
    }
   },
   "source": [
    "-------------------------\n",
    "## Lists (`list`)\n",
    "You can imagine a list as, well, a list of things. Just like a shopping list.\n",
    "\n",
    "*List syntax:*\n",
    "- A list is created with square brackets `[ ]`\n",
    "- Each item in the list is separated from the next with a comma `,`\n",
    "\n",
    "Let's start with a shopping list example..."
   ]
  },
  {
   "cell_type": "code",
   "execution_count": null,
   "id": "736c23ea",
   "metadata": {
    "pycharm": {
     "name": "#%%\n"
    }
   },
   "outputs": [],
   "source": [
    "[\"oranges\", \"bread\", \"spargel\"]"
   ]
  },
  {
   "cell_type": "markdown",
   "id": "b9d24c3f",
   "metadata": {
    "pycharm": {
     "name": "#%% md\n"
    }
   },
   "source": [
    "As you can see above, this list is a fake shopping list of food items. It is just made of three strings.\n",
    "\n",
    "What else can we put in a list?"
   ]
  },
  {
   "cell_type": "code",
   "execution_count": null,
   "id": "a93a14f8",
   "metadata": {
    "pycharm": {
     "name": "#%%\n"
    }
   },
   "outputs": [],
   "source": [
    "[\"bread\", 42, 3.14, True]"
   ]
  },
  {
   "cell_type": "markdown",
   "id": "e9bdacb0",
   "metadata": {},
   "source": [
    "As you can see, a list can hold all other data types!\n",
    "\n",
    "We can even put lists in lists..."
   ]
  },
  {
   "cell_type": "code",
   "execution_count": null,
   "id": "981b7e37",
   "metadata": {
    "pycharm": {
     "name": "#%%\n"
    }
   },
   "outputs": [],
   "source": [
    "[\"outer list\", [\"inner list\"]]"
   ]
  },
  {
   "cell_type": "markdown",
   "id": "feeca052",
   "metadata": {},
   "source": [
    "We can even put lists in lists in lists ... but this isn't so common and can get confusing!\n"
   ]
  },
  {
   "cell_type": "code",
   "execution_count": null,
   "id": "c4851343",
   "metadata": {
    "pycharm": {
     "name": "#%%\n"
    }
   },
   "outputs": [],
   "source": [
    "[\"outer list\", [\"inner list 1\", [\"inner list 2\", [\"inner list 3\"]]]]"
   ]
  },
  {
   "cell_type": "markdown",
   "id": "6f393858",
   "metadata": {
    "pycharm": {
     "name": "#%% md\n"
    }
   },
   "source": [
    "-----------\n",
    "## Dictionaries (`dict`)\n",
    "You can imagine a dict as an actual dictionary. Each word (key) in the dictionary has a corresponding description (value).\n",
    "\n",
    "*Dictionary syntax:*\n",
    "- Dictionaries are created with the curly brackets `{}`\n",
    "- Each item is separated with a comma `,`\n",
    "- Each key:value pair is separated with a colon `:`. Like this `key: value`\n",
    "\n",
    "\n",
    "Dictionaries contain keys and values. Each key has a value, just like in an actual dictionary. When starting out, it's best to keep the keys as strings, while the values can be anything."
   ]
  },
  {
   "cell_type": "markdown",
   "id": "cc8837c9",
   "metadata": {
    "pycharm": {
     "name": "#%% md\n"
    }
   },
   "source": [
    "Let's go back to our shopping list example from above. Perhaps we want to write down how many oranges we want.\n",
    "\n",
    "A dictionary would be good for this!"
   ]
  },
  {
   "cell_type": "code",
   "execution_count": null,
   "id": "fee7e39a",
   "metadata": {
    "pycharm": {
     "name": "#%%\n"
    }
   },
   "outputs": [],
   "source": [
    "# this was our (shopping) list:\n",
    "[\"oranges\", \"bread\", \"spargel\"]\n",
    "\n",
    "# this would be our dictionary, which would mean we want 4 oranges, 1 bread, and 2 spargel\n",
    "{\"oranges\": 4, \"bread\": 1, \"spargel\": 2}"
   ]
  },
  {
   "cell_type": "markdown",
   "id": "f85e4772",
   "metadata": {},
   "source": [
    "Let's make a more complicated dictionary, perhaps it will have a list of items for a recipe..."
   ]
  },
  {
   "cell_type": "code",
   "execution_count": null,
   "id": "8f575038",
   "metadata": {
    "pycharm": {
     "name": "#%%\n"
    }
   },
   "outputs": [],
   "source": [
    "# let's put a recipe in a list\n",
    "my_recipe = [\"coriander\", \"cumin\", \"black pepper\", \"garlic\", \"cinnamon\"]  # etc...\n",
    "\n",
    "# and let's put that recipe in a dictionary!\n",
    "{\"oranges\": 4, \"bread\": 1, \"spargel\": 2, \"recipe\": my_recipe}"
   ]
  },
  {
   "cell_type": "markdown",
   "id": "c5daa4e0",
   "metadata": {
    "pycharm": {
     "name": "#%% md\n"
    }
   },
   "source": [
    "Of course dictionary keys are not limited to what we've just done.\n",
    "\n",
    "The keys can be most data types, while the values can contain any other data type."
   ]
  },
  {
   "cell_type": "code",
   "execution_count": null,
   "id": "e9a8deed",
   "metadata": {
    "pycharm": {
     "name": "#%%\n"
    }
   },
   "outputs": [],
   "source": [
    "{42: \"the answer\", \"True?\": True, \"my list\": [\"this\", \"is\", \"a\", \"list\"]}"
   ]
  },
  {
   "cell_type": "markdown",
   "id": "aff60753",
   "metadata": {
    "pycharm": {
     "name": "#%% md\n"
    }
   },
   "source": [
    "Dictionaries can be written in a more readable way by making a new line after each comma..."
   ]
  },
  {
   "cell_type": "code",
   "execution_count": null,
   "id": "c5a3388e",
   "metadata": {
    "pycharm": {
     "name": "#%%\n"
    }
   },
   "outputs": [],
   "source": [
    "{42: \"the answer\",\n",
    " \"True?\": True,\n",
    " \"my list\": [\"this\", \"is\", \"a\", \"list\"]}"
   ]
  }
 ],
 "metadata": {
  "kernelspec": {
   "display_name": "Python 3 (ipykernel)",
   "language": "python",
   "name": "python3"
  },
  "language_info": {
   "codemirror_mode": {
    "name": "ipython",
    "version": 3
   },
   "file_extension": ".py",
   "mimetype": "text/x-python",
   "name": "python",
   "nbconvert_exporter": "python",
   "pygments_lexer": "ipython3",
   "version": "3.9.13"
  }
 },
 "nbformat": 4,
 "nbformat_minor": 5
}
