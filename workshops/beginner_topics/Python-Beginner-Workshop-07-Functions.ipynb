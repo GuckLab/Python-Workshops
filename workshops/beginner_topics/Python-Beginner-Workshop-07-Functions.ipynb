{
 "cells": [
  {
   "cell_type": "markdown",
   "id": "floating-terrorist",
   "metadata": {},
   "source": [
    "# Welcome to the Beginner Python Workshop \n",
    "\n",
    "### Topic: functions (`def`)\n",
    "\n",
    "This notebook will give you a basic introduction to the Python world. Some of the topics mentioned below is also covered in the [tutorials and tutorial videos](https://github.com/GuckLab/Python-Workshops/tree/main/tutorials)\n",
    "\n",
    "Eoghan O'Connell, Guck Division, MPL, 2021"
   ]
  },
  {
   "cell_type": "code",
   "execution_count": null,
   "id": "young-conjunction",
   "metadata": {},
   "outputs": [],
   "source": [
    "# notebook metadata you can ignore!\n",
    "info = {\"workshop\": \"07\",\n",
    "        \"topic\": [\"functions\"],\n",
    "        \"version\" : \"0.0.2\"}"
   ]
  },
  {
   "cell_type": "markdown",
   "id": "enabling-madrid",
   "metadata": {},
   "source": [
    "### How to use this notebook\n",
    "\n",
    "- Click on a cell (each box is called a cell). Hit \"shift+enter\", this will run the cell!\n",
    "- You can run the cells in any order!\n",
    "- The output of runnable code is printed below the cell.\n",
    "- Check out this [Jupyter Notebook Tutorial video](https://www.youtube.com/watch?v=HW29067qVWk).\n",
    "\n",
    "See the help tab above for more information!\n"
   ]
  },
  {
   "cell_type": "markdown",
   "id": "ahead-adventure",
   "metadata": {},
   "source": [
    "# What is in this Workshop?\n",
    "In this notebook we cover:\n",
    "- What are functions?\n",
    "- How to use functions in Python.\n",
    "- For more info, check out the related tutorial by Corey Schafer [here](https://www.youtube.com/watch?v=9Os0o3wzS_I)."
   ]
  },
  {
   "cell_type": "markdown",
   "id": "dcc2f1bd",
   "metadata": {},
   "source": [
    "## What is a function?\n",
    "\n",
    "A function is a piece of code that can be **reused many times**. It takes in some inputs (parameters or arguments) and returns output(s).\n",
    "\n",
    "**Have you ever found yourself repeating the same code several times? What happens if you want to change a small part of that code? You would have to change the code everywhere! Functions are perfect for this task.**\n",
    "\n",
    "You simply define a function with the same code, and call the function everytime you want to use that code.\n",
    "\n",
    "You have used functions a lot already! Matplotlib's `plt.plot()` is a function, as is Pandas `df.read_csv()`. Strictly speaking, they are methods, but that is for another day!\n"
   ]
  },
  {
   "cell_type": "markdown",
   "id": "b456ff92",
   "metadata": {},
   "source": [
    "#### This is the syntax of a function in Python:\n",
    "\n",
    "---------------\n",
    "\n",
    "```python\n",
    "def my_short_descriptive_function_name():\n",
    "    # do something\n",
    "\n",
    "# you can run the function like so:\n",
    "my_short_descriptive_function_name()\n",
    "```\n",
    "\n",
    "---------------\n",
    "\n",
    "- The above function takes no inputs and gives no outputs.\n",
    "\n",
    "\n",
    "Let's look at a more elaborate function with inputs and an output:\n",
    "\n",
    "---------------\n",
    "\n",
    "```python\n",
    "def elaborate_analysis(number1, number2):\n",
    "    answer = number1 + number2\n",
    "    return answer\n",
    "```\n",
    "\n",
    "---------------\n",
    "\n",
    "- The above function takes two inputs (called parameters) and returns the addition of them as an output.\n",
    "\n",
    "\n",
    "*Syntax notes*:\n",
    "\n",
    "- The `def` keyword is used to create a function. There must be a space between `def` and the function name.\n",
    "- All lines in the function (e.g. # do something) must be indented by a tab (4 spaces).\n",
    "   - As soon as your code is not indented, it is no longer part of the function.\n",
    "- There must be parentheses ( `()` ) after the function name.\n",
    "- There must be a colon ( `:` ) at the end of the function statement.\n",
    "- You can call (run) the function by writing the name and `()`.\n",
    "\n"
   ]
  },
  {
   "cell_type": "markdown",
   "id": "5f9c3f70",
   "metadata": {},
   "source": [
    "## How to use functions in Python."
   ]
  },
  {
   "cell_type": "markdown",
   "id": "7b95775b",
   "metadata": {},
   "source": [
    "### Basic examples"
   ]
  },
  {
   "cell_type": "code",
   "execution_count": null,
   "id": "8b9717ae",
   "metadata": {},
   "outputs": [],
   "source": [
    "# imagine you are using the following code many times in your script\n",
    "# you can imagine that there is a better way to do this...\n",
    "\n",
    "values = [3, 4, 5, 6]\n",
    "values = [v+1 for v in values]\n",
    "print(values)\n",
    "\n",
    "# some other code\n",
    "values = [3, 4, 5, 6]\n",
    "values = [v+1 for v in values]\n",
    "print(values)\n",
    "\n",
    "# some other code\n",
    "values = [3, 4, 5, 6]\n",
    "values = [v+1 for v in values]\n",
    "print(values)\n"
   ]
  },
  {
   "cell_type": "markdown",
   "id": "94c24ad9",
   "metadata": {},
   "source": [
    "#### function with no parameters"
   ]
  },
  {
   "cell_type": "code",
   "execution_count": null,
   "id": "e93294ca",
   "metadata": {},
   "outputs": [],
   "source": [
    "# here is the above code but in a function\n",
    "# notice that there are no parameters in the parentheses ()\n",
    "\n",
    "def increase_list_value():\n",
    "    values = [3, 4, 5, 6]\n",
    "    values = [v+1 for v in values]\n",
    "    print(values)\n",
    "    \n",
    "# this is great because now you just need to change the code in one place!\n",
    "\n",
    "# you can call (run) the function by simply writing it with ()!\n",
    "increase_list_value()\n"
   ]
  },
  {
   "cell_type": "markdown",
   "id": "4e49463f",
   "metadata": {},
   "source": [
    "#### function with default parameters"
   ]
  },
  {
   "cell_type": "code",
   "execution_count": null,
   "id": "a3e82a16",
   "metadata": {},
   "outputs": [],
   "source": [
    "# the above code isn't so great when you want to add 2 instead of 1 from now on...\n",
    "# so use a function with parameters!\n",
    "\n",
    "def increase_list_value(number=1):\n",
    "    values = [3, 4, 5, 6]\n",
    "    values = [v+number for v in values]\n",
    "    print(values)\n",
    "\n",
    "    \n",
    "increase_list_value()\n",
    "\n",
    "# we can change the number easily! "
   ]
  },
  {
   "cell_type": "code",
   "execution_count": null,
   "id": "0cec3dda",
   "metadata": {},
   "outputs": [],
   "source": [
    "# Change the number being added\n",
    "increase_list_value(6)"
   ]
  },
  {
   "cell_type": "markdown",
   "id": "c2045ec1",
   "metadata": {},
   "source": [
    "#### function with positional parameters/arguments"
   ]
  },
  {
   "cell_type": "code",
   "execution_count": null,
   "id": "b1b7ee40",
   "metadata": {},
   "outputs": [],
   "source": [
    "# what if we want to change the values list??\n",
    "# we need to just add another parameter\n",
    "\n",
    "def increase_list_value(values, number=1):\n",
    "    values = [v+number for v in values]\n",
    "    print(values)"
   ]
  },
  {
   "cell_type": "code",
   "execution_count": null,
   "id": "01eb98e4",
   "metadata": {},
   "outputs": [],
   "source": [
    "# you will notice that calling this directly will fail:\n",
    "increase_list_value()"
   ]
  },
  {
   "cell_type": "code",
   "execution_count": null,
   "id": "1baeeaa6",
   "metadata": {},
   "outputs": [],
   "source": [
    "# we need to give the list as a required positional argument (parameter)\n",
    "values = [3,4,5,6]\n",
    "increase_list_value(values)"
   ]
  },
  {
   "cell_type": "code",
   "execution_count": null,
   "id": "70e346cb",
   "metadata": {},
   "outputs": [],
   "source": [
    "# use both arguments\n",
    "values = [3,4,5,6]\n",
    "number = 5\n",
    "increase_list_value(values, number)"
   ]
  },
  {
   "cell_type": "markdown",
   "id": "ebbbdaf2",
   "metadata": {},
   "source": [
    "### The `return` keyword\n",
    "\n",
    "Above we just printed out the value of the list. What if we want to use the output later on?\n",
    "\n",
    "Then we use the `return` keyword"
   ]
  },
  {
   "cell_type": "code",
   "execution_count": null,
   "id": "c0b0689f",
   "metadata": {},
   "outputs": [],
   "source": [
    "# if you use the return keyword, then the function ends at that point!\n",
    "# the return keyword will give you the values it is returning\n",
    "\n",
    "def increase_list_value(values, number=1):\n",
    "    values = [v+number for v in values]\n",
    "    return values"
   ]
  },
  {
   "cell_type": "code",
   "execution_count": null,
   "id": "49c7aa99",
   "metadata": {},
   "outputs": [],
   "source": [
    "# call the above function:\n",
    "\n",
    "values = [3,4,5,6]\n",
    "number = 5\n",
    "new_values = increase_list_value(values, number)"
   ]
  },
  {
   "cell_type": "code",
   "execution_count": null,
   "id": "1f1adf40",
   "metadata": {},
   "outputs": [],
   "source": [
    "print(type(new_values))\n",
    "print(new_values)\n",
    "\n",
    "# do something else with this new data..."
   ]
  },
  {
   "cell_type": "markdown",
   "id": "41617683",
   "metadata": {},
   "source": [
    "-----------\n",
    "### So how to visualise a function?\n",
    "\n",
    "A function is simply a tool that takes inputs, does some calculations or checks, and returns outputs.\n",
    "\n",
    "It should be used when you have some code that is grouped nicely together or code that is reused often.\n",
    "\n",
    "-----------"
   ]
  },
  {
   "cell_type": "markdown",
   "id": "27507179",
   "metadata": {},
   "source": [
    "### Excercises\n",
    "\n",
    "(hint: use a search engine to look for answers)\n",
    "\n",
    "1. Choose some code from your mini-project and create a function out of it! Ideally this would be some code that is reused several times in your scripts."
   ]
  },
  {
   "cell_type": "code",
   "execution_count": null,
   "id": "94202cc5",
   "metadata": {},
   "outputs": [],
   "source": []
  }
 ],
 "metadata": {
  "kernelspec": {
   "display_name": "Python 3 (ipykernel)",
   "language": "python",
   "name": "python3"
  },
  "language_info": {
   "codemirror_mode": {
    "name": "ipython",
    "version": 3
   },
   "file_extension": ".py",
   "mimetype": "text/x-python",
   "name": "python",
   "nbconvert_exporter": "python",
   "pygments_lexer": "ipython3",
   "version": "3.9.13"
  }
 },
 "nbformat": 4,
 "nbformat_minor": 5
}
