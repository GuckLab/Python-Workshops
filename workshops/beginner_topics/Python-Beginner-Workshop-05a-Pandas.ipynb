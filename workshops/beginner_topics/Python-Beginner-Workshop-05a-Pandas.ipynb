{
 "cells": [
  {
   "cell_type": "markdown",
   "id": "floating-terrorist",
   "metadata": {
    "pycharm": {
     "name": "#%% md\n"
    }
   },
   "source": [
    "# Welcome to the Beginner Python Workshop \n",
    "\n",
    "**Topic: Using Pandas with a dataset**\n",
    "\n",
    "This notebook will give you a basic introduction to the Python world. Some of the topics mentioned below is also covered in the [tutorials and tutorial videos](https://github.com/GuckLab/Python-Workshops/tree/main/tutorials)\n",
    "\n",
    "Eoghan O'Connell, Guck Division, MPL, 2021"
   ]
  },
  {
   "cell_type": "code",
   "execution_count": 1,
   "id": "young-conjunction",
   "metadata": {
    "pycharm": {
     "name": "#%%\n"
    }
   },
   "outputs": [],
   "source": [
    "# notebook metadata you can ignore!\n",
    "info = {\"workshop\": \"05\",\n",
    "        \"topic\": [\"pandas\", \"scripting\",\n",
    "                  \"csv\", \"iris\", \"data\", \"dataframes vs. arrays\"],\n",
    "        \"version\" : \"1.0.0\"}"
   ]
  },
  {
   "cell_type": "markdown",
   "id": "enabling-madrid",
   "metadata": {
    "pycharm": {
     "name": "#%% md\n"
    }
   },
   "source": [
    "### How to use this notebook\n",
    "\n",
    "- Click on a cell (each box is called a cell). Hit \"shift+enter\", this will run the cell!\n",
    "- You can run the cells in any order!\n",
    "- The output of runnable code is printed below the cell.\n",
    "- Check out this [Jupyter Notebook Tutorial video](https://www.youtube.com/watch?v=HW29067qVWk).\n",
    "\n",
    "See the help tab above for more information!\n"
   ]
  },
  {
   "cell_type": "markdown",
   "id": "ahead-adventure",
   "metadata": {
    "pycharm": {
     "name": "#%% md\n"
    }
   },
   "source": [
    "# What is in this Workshop?\n",
    "In this notebook we cover:\n",
    "- How to open a `.csv` file (excel/csv/tsv spreadsheet) with the `pandas` package\n",
    "- How to work with pandas dataframes\n",
    "   - Looking at columns, rows, slicing, indexing, concat, changing cells\n",
    "   - How to convert between pandas dataframes and numpy arrays\n",
    "\n",
    "Check out the tutorial video series by Corey Schafer on pandas [here](https://www.youtube.com/watch?v=ZyhVh-qRZPA&list=PL-osiE80TeTsWmV9i9c58mdDCSskIFdDS)."
   ]
  },
  {
   "cell_type": "code",
   "execution_count": null,
   "id": "689ef71f",
   "metadata": {
    "pycharm": {
     "name": "#%%\n"
    }
   },
   "outputs": [],
   "source": [
    "# import necessary modules\n",
    "import pandas as pd\n",
    "import numpy as np"
   ]
  },
  {
   "cell_type": "markdown",
   "id": "5f9c3f70",
   "metadata": {
    "pycharm": {
     "name": "#%% md\n"
    }
   },
   "source": [
    "## Opening a `.csv` file\n",
    "\n",
    "We will look at the \"iris\" dataset. This is a famous but simple dataset and includes information on three species of the Iris flower genus. For each of the three species, there is information about the Petal and the Sepal (width and length).\n",
    "\n",
    "The `.csv` file is spreadsheet data, similar to what you might have seen in Microsoft Excel."
   ]
  },
  {
   "cell_type": "code",
   "execution_count": null,
   "id": "19ce6910",
   "metadata": {
    "pycharm": {
     "name": "#%%\n"
    }
   },
   "outputs": [],
   "source": [
    "df = pd.read_csv(r\"../../data/iris.csv\")"
   ]
  },
  {
   "cell_type": "code",
   "execution_count": null,
   "id": "1c48ec3a",
   "metadata": {
    "pycharm": {
     "name": "#%%\n"
    }
   },
   "outputs": [],
   "source": [
    "# print out the first rows of the dataframe\n",
    "\n",
    "df.head()"
   ]
  },
  {
   "cell_type": "code",
   "execution_count": null,
   "id": "a7b30fcf",
   "metadata": {
    "pycharm": {
     "name": "#%%\n"
    }
   },
   "outputs": [],
   "source": [
    "# print out the final rows of the dataframe\n",
    "\n",
    "df.tail()"
   ]
  },
  {
   "cell_type": "markdown",
   "id": "c36c2d0e",
   "metadata": {},
   "source": [
    "You can open the file with whatever parts of the data you like.\n",
    "\n",
    "You can see the documentation for more parameter options: https://pandas.pydata.org/pandas-docs/stable/reference/api/pandas.read_csv.html\n",
    "\n",
    "For example, let's load only some of the columns..."
   ]
  },
  {
   "cell_type": "code",
   "execution_count": null,
   "id": "441a83d0",
   "metadata": {
    "pycharm": {
     "name": "#%%\n"
    }
   },
   "outputs": [],
   "source": [
    "df = pd.read_csv(r\"../../data/iris.csv\", usecols=[\"sepallength\", \"petallength\"])\n",
    "\n",
    "# only the columns specified in the \"usecols\" parameter will be loaded\n",
    "print(df.head())"
   ]
  },
  {
   "cell_type": "markdown",
   "id": "1a5e320a",
   "metadata": {},
   "source": [
    "But for now, let's go back and reload the entire csv file..."
   ]
  },
  {
   "cell_type": "code",
   "execution_count": null,
   "id": "095e0fbb",
   "metadata": {
    "pycharm": {
     "name": "#%%\n"
    }
   },
   "outputs": [],
   "source": [
    "df = pd.read_csv(r\"../../data/iris.csv\")\n",
    "df.head()"
   ]
  },
  {
   "cell_type": "markdown",
   "id": "5aa13d96",
   "metadata": {
    "pycharm": {
     "name": "#%% md\n"
    }
   },
   "source": [
    "## How to work with pandas dataframes"
   ]
  },
  {
   "cell_type": "markdown",
   "id": "46e9e225",
   "metadata": {},
   "source": [
    "### Index (rows)"
   ]
  },
  {
   "cell_type": "markdown",
   "id": "1cbc855b",
   "metadata": {},
   "source": [
    "In the above visualised spreadsheet, the left column contains the row numbers.\n",
    "\n",
    "Row numbers are accessible with `df.index`..."
   ]
  },
  {
   "cell_type": "code",
   "execution_count": null,
   "id": "a9e7bbb9",
   "metadata": {
    "pycharm": {
     "name": "#%%\n"
    }
   },
   "outputs": [],
   "source": [
    "print(df.index)\n",
    "\n",
    "# will output a RangeIndex, which is like python's \"range\""
   ]
  },
  {
   "cell_type": "code",
   "execution_count": null,
   "id": "c1600adb",
   "metadata": {
    "pycharm": {
     "name": "#%%\n"
    }
   },
   "outputs": [],
   "source": [
    "print(df.index[0])"
   ]
  },
  {
   "cell_type": "code",
   "execution_count": null,
   "id": "d450ccce",
   "metadata": {
    "pycharm": {
     "name": "#%%\n"
    }
   },
   "outputs": [],
   "source": [
    "print(df.index[0:2])"
   ]
  },
  {
   "cell_type": "markdown",
   "id": "65bf7f22",
   "metadata": {},
   "source": [
    "### Columns"
   ]
  },
  {
   "cell_type": "markdown",
   "id": "90249d6c",
   "metadata": {},
   "source": [
    "Column names can be accessed with `df.columns`..."
   ]
  },
  {
   "cell_type": "code",
   "execution_count": null,
   "id": "d6300529",
   "metadata": {
    "pycharm": {
     "name": "#%%\n"
    }
   },
   "outputs": [],
   "source": [
    "print(df.columns)"
   ]
  },
  {
   "cell_type": "code",
   "execution_count": null,
   "id": "0f976de3",
   "metadata": {
    "pycharm": {
     "name": "#%%\n"
    }
   },
   "outputs": [],
   "source": [
    "print(df.columns[0])"
   ]
  },
  {
   "cell_type": "code",
   "execution_count": null,
   "id": "e7fd9b00",
   "metadata": {
    "pycharm": {
     "name": "#%%\n"
    }
   },
   "outputs": [],
   "source": [
    "print(df.columns[0:2])"
   ]
  },
  {
   "cell_type": "markdown",
   "id": "49b10206",
   "metadata": {},
   "source": [
    "We can access column data with `df[\"<column name>\"]`..."
   ]
  },
  {
   "cell_type": "code",
   "execution_count": null,
   "id": "9e8ce811",
   "metadata": {
    "pycharm": {
     "name": "#%%\n"
    }
   },
   "outputs": [],
   "source": [
    "print(df[\"sepallength\"])"
   ]
  },
  {
   "cell_type": "code",
   "execution_count": null,
   "id": "d1d87e4b",
   "metadata": {
    "pycharm": {
     "name": "#%%\n"
    }
   },
   "outputs": [],
   "source": [
    "print(df[\"sepallength\"][0])"
   ]
  },
  {
   "cell_type": "code",
   "execution_count": null,
   "id": "caa891f6",
   "metadata": {
    "pycharm": {
     "name": "#%%\n"
    }
   },
   "outputs": [],
   "source": [
    "print(df[\"sepallength\"][0:2])"
   ]
  },
  {
   "cell_type": "markdown",
   "id": "11a960aa",
   "metadata": {},
   "source": [
    "We can access multiple column data too by listing several column names.."
   ]
  },
  {
   "cell_type": "code",
   "execution_count": null,
   "id": "834ccaf1",
   "metadata": {
    "pycharm": {
     "name": "#%%\n"
    }
   },
   "outputs": [],
   "source": [
    "df[[\"sepallength\", \"petallength\"]]"
   ]
  },
  {
   "cell_type": "markdown",
   "id": "5f486e07",
   "metadata": {},
   "source": [
    "### pandas Series and pandas DataFrame"
   ]
  },
  {
   "cell_type": "markdown",
   "id": "b2d3a41e",
   "metadata": {},
   "source": [
    "We can check the type of everything with the built-in `type` function..."
   ]
  },
  {
   "cell_type": "code",
   "execution_count": null,
   "id": "5f57d6c2",
   "metadata": {
    "pycharm": {
     "name": "#%%\n"
    }
   },
   "outputs": [],
   "source": [
    "type(df[\"sepallength\"])"
   ]
  },
  {
   "cell_type": "code",
   "execution_count": null,
   "id": "ce559055",
   "metadata": {
    "scrolled": true
   },
   "outputs": [],
   "source": [
    "type(df[[\"sepallength\", \"petallength\"]])"
   ]
  },
  {
   "cell_type": "markdown",
   "id": "d7ecae84",
   "metadata": {},
   "source": [
    "Notice how one column gives us a `Series` and more than one column gives us a `DataFrame`.\n",
    "\n",
    "Find out the difference in this video from Corey Schafer: https://www.youtube.com/watch?v=zmdjNSmRXF4"
   ]
  },
  {
   "cell_type": "markdown",
   "id": "1a3361c6",
   "metadata": {
    "pycharm": {
     "name": "#%% md\n"
    }
   },
   "source": [
    "### Dataframe methods"
   ]
  },
  {
   "cell_type": "markdown",
   "id": "dcfb906d",
   "metadata": {},
   "source": [
    "#### Printing parts of the dataframe: `df.head` and `df.tail`"
   ]
  },
  {
   "cell_type": "code",
   "execution_count": null,
   "id": "485f51f4",
   "metadata": {
    "pycharm": {
     "name": "#%%\n"
    }
   },
   "outputs": [],
   "source": [
    "df.head(10)"
   ]
  },
  {
   "cell_type": "markdown",
   "id": "6309cf2a",
   "metadata": {},
   "source": [
    "We can easily get column values that match other column values with the `df.loc` method...\n"
   ]
  },
  {
   "cell_type": "markdown",
   "id": "c8c526ce",
   "metadata": {},
   "source": [
    "#### Accessing specific rows and columns: `df.loc`"
   ]
  },
  {
   "cell_type": "code",
   "execution_count": null,
   "id": "4ccda115",
   "metadata": {
    "pycharm": {
     "name": "#%%\n"
    }
   },
   "outputs": [],
   "source": [
    "petallength_setosa = df.loc[df[\"class\"] == \"Iris-setosa\", \"petallength\"]  # this is complicated!\n",
    "\n",
    "# print out the first few values\n",
    "petallength_setosa.head()"
   ]
  },
  {
   "cell_type": "markdown",
   "id": "fe39ad83",
   "metadata": {},
   "source": [
    "Let's break that up. First we selected the data relating to the \"class\" column..."
   ]
  },
  {
   "cell_type": "code",
   "execution_count": null,
   "id": "6cd93ccc",
   "metadata": {
    "scrolled": true
   },
   "outputs": [],
   "source": [
    "df[\"class\"]"
   ]
  },
  {
   "cell_type": "markdown",
   "id": "151e1fed",
   "metadata": {},
   "source": [
    "Then we checked the data from the column that matches with \"Iris-setosa\".\n",
    "\n",
    "which outputs a column boolean (True or False) values..."
   ]
  },
  {
   "cell_type": "code",
   "execution_count": null,
   "id": "6167f704",
   "metadata": {
    "scrolled": false
   },
   "outputs": [],
   "source": [
    "df[\"class\"] == \"Iris-setosa\""
   ]
  },
  {
   "cell_type": "markdown",
   "id": "9fcfe589",
   "metadata": {},
   "source": [
    "Finally, this boolean column is fed into the `df.loc` method, and the output is those \"petallength\" rows that match True."
   ]
  },
  {
   "cell_type": "code",
   "execution_count": null,
   "id": "55950c09",
   "metadata": {},
   "outputs": [],
   "source": [
    "petallength_setosa = df.loc[df[\"class\"] == \"Iris-setosa\", \"petallength\"]\n",
    "\n",
    "# can you guess the length of \"petallength_setosa\"?\n",
    "\n",
    "# print(len(petallength_setosa))"
   ]
  },
  {
   "cell_type": "markdown",
   "id": "2331c0b7",
   "metadata": {},
   "source": [
    "#### Statistics: `df.mean`, `df.std` etc"
   ]
  },
  {
   "cell_type": "markdown",
   "id": "8a43e00c",
   "metadata": {},
   "source": [
    "We can easily get statistics of our data with some pandas methods.\n",
    "\n",
    "HEre are some examples..."
   ]
  },
  {
   "cell_type": "code",
   "execution_count": null,
   "id": "6cfa7f1e",
   "metadata": {
    "pycharm": {
     "name": "#%%\n"
    }
   },
   "outputs": [],
   "source": [
    "print(df.mean(numeric_only=True))"
   ]
  },
  {
   "cell_type": "code",
   "execution_count": null,
   "id": "c337cff1",
   "metadata": {
    "pycharm": {
     "name": "#%%\n"
    }
   },
   "outputs": [],
   "source": [
    "print(df.std(numeric_only=True))"
   ]
  },
  {
   "cell_type": "code",
   "execution_count": null,
   "id": "6377d3d2",
   "metadata": {
    "pycharm": {
     "name": "#%%\n"
    }
   },
   "outputs": [],
   "source": [
    "print(df.median(numeric_only=True))"
   ]
  },
  {
   "cell_type": "markdown",
   "id": "6c8bf607",
   "metadata": {},
   "source": [
    "#### Adding a new column"
   ]
  },
  {
   "cell_type": "markdown",
   "id": "7d9431eb",
   "metadata": {},
   "source": [
    "Let's add a new column that is the mean of all other columns..."
   ]
  },
  {
   "cell_type": "code",
   "execution_count": null,
   "id": "6b2d5ac0",
   "metadata": {
    "pycharm": {
     "name": "#%%\n"
    }
   },
   "outputs": [],
   "source": [
    "df[\"mean along row\"] = df.mean(numeric_only=True, axis=1)\n",
    "\n",
    "df.head()"
   ]
  },
  {
   "cell_type": "markdown",
   "id": "0886a290",
   "metadata": {},
   "source": [
    "#### Assigning new value to a cell: `df.at`\n",
    "\n",
    "You can assign a new value to a specific cell with df.at..."
   ]
  },
  {
   "cell_type": "code",
   "execution_count": null,
   "id": "af65a1ae",
   "metadata": {
    "pycharm": {
     "name": "#%%\n"
    }
   },
   "outputs": [],
   "source": [
    "print(df.at[0, \"mean along row\"])\n",
    "\n",
    "df.at[0, \"mean along row\"] = 42\n",
    "\n",
    "print(df.at[0, \"mean along row\"])"
   ]
  },
  {
   "cell_type": "code",
   "execution_count": null,
   "id": "0b0a423b",
   "metadata": {
    "pycharm": {
     "name": "#%%\n"
    }
   },
   "outputs": [],
   "source": [
    "# notice how the first value is now 42!\n",
    "df.head()"
   ]
  },
  {
   "cell_type": "markdown",
   "id": "69d33422",
   "metadata": {},
   "source": [
    "#### Join (Concatenate) several dataframes: `pd.concat`"
   ]
  },
  {
   "cell_type": "code",
   "execution_count": null,
   "id": "0c6f724b",
   "metadata": {
    "pycharm": {
     "name": "#%%\n"
    }
   },
   "outputs": [],
   "source": [
    "df2 = pd.concat([df, df])\n",
    "\n",
    "print(len(df))\n",
    "print(len(df2))"
   ]
  },
  {
   "cell_type": "code",
   "execution_count": null,
   "id": "4c339219",
   "metadata": {
    "pycharm": {
     "name": "#%%\n"
    }
   },
   "outputs": [],
   "source": [
    "df2"
   ]
  },
  {
   "cell_type": "markdown",
   "id": "dee60ee2",
   "metadata": {},
   "source": [
    "Hmmm, why does it say 300 rows, but in the printed dataframe the rows only go to 149???\n",
    "\n",
    "This is because we just concatenated two dataframes together and didn't recompute the `df.index`.\n",
    "\n",
    "Often, you want to have an index that represents the new numbers of rows. Use the `ignore_index` parameter..."
   ]
  },
  {
   "cell_type": "code",
   "execution_count": null,
   "id": "7a54621c",
   "metadata": {
    "pycharm": {
     "name": "#%%\n"
    }
   },
   "outputs": [],
   "source": [
    "df2 = pd.concat([df, df], ignore_index=True)\n",
    "df2"
   ]
  },
  {
   "cell_type": "markdown",
   "id": "6fe85354",
   "metadata": {},
   "source": [
    "We can concatenate along columns too..."
   ]
  },
  {
   "cell_type": "code",
   "execution_count": null,
   "id": "b06b3281",
   "metadata": {
    "pycharm": {
     "name": "#%%\n"
    }
   },
   "outputs": [],
   "source": [
    "df3 = pd.concat([df, df], axis=1)\n",
    "\n",
    "print(len(df.columns))\n",
    "print(len(df3.columns))"
   ]
  },
  {
   "cell_type": "code",
   "execution_count": null,
   "id": "f8ad348b",
   "metadata": {
    "pycharm": {
     "name": "#%%\n"
    }
   },
   "outputs": [],
   "source": [
    "df3"
   ]
  },
  {
   "cell_type": "markdown",
   "id": "4ac18ed3",
   "metadata": {
    "pycharm": {
     "name": "#%% md\n"
    }
   },
   "source": [
    "## DataFrames and Arrays\n",
    "\n",
    "Sometimes we want to convert numeric data between dataframes and numpy arrays.\n",
    "Neither is \"better\", but each has its own strengths"
   ]
  },
  {
   "cell_type": "code",
   "execution_count": null,
   "id": "472e1c5d",
   "metadata": {
    "pycharm": {
     "name": "#%%\n"
    }
   },
   "outputs": [],
   "source": [
    "# converting numeric data\n",
    "\n",
    "print(type(df))\n",
    "print(type(df[\"petalwidth\"]))\n",
    "\n",
    "arr1 = np.array(df[\"petalwidth\"])\n",
    "\n",
    "print(type(arr1))"
   ]
  },
  {
   "cell_type": "markdown",
   "id": "8825d192",
   "metadata": {},
   "source": [
    "Let's compare the time to compute the mean..."
   ]
  },
  {
   "cell_type": "code",
   "execution_count": null,
   "id": "f5e60b4d",
   "metadata": {
    "pycharm": {
     "name": "#%%\n"
    }
   },
   "outputs": [],
   "source": [
    "series1 = df[\"petalwidth\"]\n",
    "\n",
    "print(\"Time taken for pandas series:\")\n",
    "%timeit -r 3 -n 100 series1.mean()\n",
    "\n",
    "print(\"\\nTime taken for numpy array:\")\n",
    "%timeit -r 3 -n 100 arr1.mean()"
   ]
  },
  {
   "cell_type": "markdown",
   "id": "d50e6873",
   "metadata": {},
   "source": [
    "Wow, numpy seems much faster! But remember that you usually don't have to worry about speed, only when you have very big datasets/arrays!"
   ]
  },
  {
   "cell_type": "markdown",
   "id": "01a37659",
   "metadata": {},
   "source": [
    "numpy isn't really designed for strings!\n",
    "\n",
    "Use `pandas` dataframes for strings and non-numeric data!"
   ]
  },
  {
   "cell_type": "code",
   "execution_count": null,
   "id": "e273196d",
   "metadata": {
    "pycharm": {
     "name": "#%%\n"
    }
   },
   "outputs": [],
   "source": [
    "# numpy arrays aren't so suitable for string data!\n",
    "\n",
    "arr2 = np.array(df[\"class\"])\n",
    "print(arr2.dtype)\n",
    "print(arr2[45:55])"
   ]
  },
  {
   "cell_type": "code",
   "execution_count": null,
   "id": "3f74d785",
   "metadata": {
    "pycharm": {
     "name": "#%%\n"
    },
    "scrolled": true
   },
   "outputs": [],
   "source": [
    "# pandas is great for working with string data, such as our \"class\" column!\n",
    "\n",
    "df.head()"
   ]
  },
  {
   "cell_type": "markdown",
   "id": "e26a7617",
   "metadata": {
    "pycharm": {
     "name": "#%% md\n"
    }
   },
   "source": [
    "### Next notebook: Plotting with pandas and matplotlib\n",
    "\n",
    "In the next workshop notebook, we will plot first with pandas, and see how it uses matplotlib in the background!"
   ]
  }
 ],
 "metadata": {
  "kernelspec": {
   "display_name": "Python 3 (ipykernel)",
   "language": "python",
   "name": "python3"
  },
  "language_info": {
   "codemirror_mode": {
    "name": "ipython",
    "version": 3
   },
   "file_extension": ".py",
   "mimetype": "text/x-python",
   "name": "python",
   "nbconvert_exporter": "python",
   "pygments_lexer": "ipython3",
   "version": "3.9.13"
  }
 },
 "nbformat": 4,
 "nbformat_minor": 5
}
