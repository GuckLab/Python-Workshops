{
 "cells": [
  {
   "cell_type": "markdown",
   "id": "floating-terrorist",
   "metadata": {},
   "source": [
    "# Welcome to the Beginner Python Workshop \n",
    "\n",
    "### Topic: For Loops\n",
    "\n",
    "This notebook will give you a basic introduction to the Python world. Each topic mentioned below is also covered in the [tutorials and tutorial videos](https://github.com/GuckLab/Python-Workshops/tree/main/tutorials)\n",
    "\n",
    "Eoghan O'Connell, Guck Division, MPL, 2021"
   ]
  },
  {
   "cell_type": "code",
   "execution_count": null,
   "id": "young-conjunction",
   "metadata": {},
   "outputs": [],
   "source": [
    "# notebook metadata you can ignore!\n",
    "info = {\"workshop\": \"03\",\n",
    "        \"topic\": [\"for loops\"],\n",
    "        \"version\" : \"0.0.3\"}"
   ]
  },
  {
   "cell_type": "markdown",
   "id": "enabling-madrid",
   "metadata": {},
   "source": [
    "### How to use this notebook\n",
    "\n",
    "- Click on a cell (each box is called a cell). Hit \"shift+enter\", this will run the cell!\n",
    "- You can run the cells in any order!\n",
    "- The output of runnable code is printed below the cell.\n",
    "- Check out this [Jupyter Notebook Tutorial video](https://www.youtube.com/watch?v=HW29067qVWk).\n",
    "\n",
    "See the help tab above for more information!\n"
   ]
  },
  {
   "cell_type": "markdown",
   "id": "ahead-adventure",
   "metadata": {},
   "source": [
    "# What is in this Workshop?\n",
    "In this notebook we cover:\n",
    "- How to use `for` loops in Python"
   ]
  },
  {
   "cell_type": "markdown",
   "id": "b456ff92",
   "metadata": {},
   "source": [
    "## How to use `for` loops in Python\n",
    "\n",
    "A `for` loop is an iteration tool in Python. It allows us to iterate over an iterable object.\n",
    "\n",
    "This is the `for` loop syntax:\n",
    "\n",
    "```python\n",
    "for item in iterable:\n",
    "    # do something to the item\n",
    "```\n",
    "\n",
    "- which can be read in your head as \"for each item in this iterable object, do something to the item\".\n",
    "- An iterable is just something that can be looped over in Python (e.g. `list`, `dict.keys()` `np.ndarray`, `str` etc).\n",
    "\n",
    "*Syntax notes*:\n",
    "\n",
    "- The second line (# do something ...) must be indented by a tab (4 spaces).\n",
    "   - As soon as your code is not indented, it is no longer part of the `for` loop.\n",
    "- There must be a colon ( `:` ) at the end of the `for item in iterable:` statement.\n",
    "\n"
   ]
  },
  {
   "cell_type": "markdown",
   "id": "5f9c3f70",
   "metadata": {},
   "source": [
    "#### Some basic examples"
   ]
  },
  {
   "cell_type": "code",
   "execution_count": null,
   "id": "8b9717ae",
   "metadata": {},
   "outputs": [],
   "source": [
    "# here is a for loop example\n",
    "\n",
    "list_of_colours = [\"green\", \"blue\", \"red\"]\n",
    "\n",
    "# we create a variable below called \"colour\".\n",
    "# This can be any name but keep it descriptive.\n",
    "\n",
    "for colour in list_of_colours:\n",
    "    print(colour)\n",
    "\n",
    "# the above can be read as \"for each colour in\n",
    "#  my list of colours, print out the colour\""
   ]
  },
  {
   "cell_type": "code",
   "execution_count": null,
   "id": "48455433",
   "metadata": {
    "scrolled": true
   },
   "outputs": [],
   "source": [
    "# here is another for loop example\n",
    "\n",
    "list_of_numbers = [3, 4, 5, 6, 7]\n",
    "\n",
    "for number in list_of_numbers:\n",
    "    print(f\"{number} squared is {number**2}\")\n"
   ]
  },
  {
   "cell_type": "markdown",
   "id": "bb316eac",
   "metadata": {},
   "source": [
    "#### Using the `enumerate` function"
   ]
  },
  {
   "cell_type": "markdown",
   "id": "b876cea7",
   "metadata": {},
   "source": [
    "You can also get the index of the iterable using `enumerate`. We often want to know the index because we care about the order of items in a list, for example."
   ]
  },
  {
   "cell_type": "code",
   "execution_count": null,
   "id": "3371bea0",
   "metadata": {},
   "outputs": [],
   "source": [
    "# for loop an example with enumerate\n",
    "\n",
    "list_of_numbers = [3, 4, 5, 6, 7]\n",
    "\n",
    "for index, number in enumerate(list_of_numbers):\n",
    "    print(f\"Index {index} is: {number}\")\n",
    "\n",
    "# you can see that the enumerate function magically gave\n",
    "#  us the index"
   ]
  },
  {
   "cell_type": "code",
   "execution_count": null,
   "id": "451f8b05",
   "metadata": {},
   "outputs": [],
   "source": [
    "\n",
    "list_of_numbers = [3, 4, 5, 6, 7]\n",
    "\n",
    "i = 0\n",
    "for number in list_of_numbers:\n",
    "    index = i \n",
    "    print(f\"Index {index} is: {number}\")\n",
    "    i = i + 1\n",
    "    "
   ]
  },
  {
   "cell_type": "markdown",
   "id": "58625453",
   "metadata": {},
   "source": [
    "#### Using the `range` function"
   ]
  },
  {
   "cell_type": "markdown",
   "id": "bd85a22d",
   "metadata": {},
   "source": [
    "We can create an iterable using the built-in `range` function. This is very useful, because we often want to loop *n* times."
   ]
  },
  {
   "cell_type": "code",
   "execution_count": null,
   "id": "5e79460d",
   "metadata": {},
   "outputs": [],
   "source": [
    "# for loop example using range\n",
    "\n",
    "for ii in range(5):\n",
    "    print(ii)"
   ]
  },
  {
   "cell_type": "markdown",
   "id": "5689a9f8",
   "metadata": {},
   "source": [
    "The `range` function is limited to integeters (`int`). So if you need to use decimal points (`float`), use `np.arange` ..."
   ]
  },
  {
   "cell_type": "code",
   "execution_count": null,
   "id": "ad6bd263",
   "metadata": {},
   "outputs": [],
   "source": [
    "import numpy as np\n",
    "\n",
    "np.arange(5)\n",
    "\n",
    "for ii in np.arange(0, 5, 0.5):\n",
    "    print(ii)"
   ]
  },
  {
   "cell_type": "markdown",
   "id": "2501d8db",
   "metadata": {},
   "source": [
    "#### Looping over a `dict`"
   ]
  },
  {
   "cell_type": "markdown",
   "id": "a1d7086f",
   "metadata": {},
   "source": [
    "To loop using `dict`, we need to loop over the keys in the `dict`. Looping over dictionaries is quite fast and also very common."
   ]
  },
  {
   "cell_type": "code",
   "execution_count": null,
   "id": "e857a1d7",
   "metadata": {},
   "outputs": [],
   "source": [
    "# for loop example with dict\n",
    "\n",
    "info = {\"answer\": 42,\n",
    "        \"pi\": 3.14,\n",
    "        \"rain\": \"wet\"}\n",
    "\n",
    "# the key variable can be named anything!\n",
    "# notice how we use \"info.keys()\" to create an iterable.\n",
    "# we are indexing the dict itself in the loop. This has no\n",
    "#  extra effect on the dictionary. \n",
    "\n",
    "for key in info.keys():\n",
    "    print(f\"{key} is {info[key]}\")\n"
   ]
  },
  {
   "cell_type": "markdown",
   "id": "27507179",
   "metadata": {},
   "source": [
    "### Excercises\n",
    "\n",
    "(hint: use a search engine to look for answers)\n",
    "\n",
    "1. Create a `list` with different data types (e.g. `list`, `int` etc). Use a `for` loop and print out the data type for each item."
   ]
  },
  {
   "cell_type": "code",
   "execution_count": null,
   "id": "94202cc5",
   "metadata": {},
   "outputs": [],
   "source": []
  },
  {
   "cell_type": "markdown",
   "id": "be1a8bcb",
   "metadata": {},
   "source": [
    "2. Create a `dict` with strings as keys and numbers as values. Use a `for` loop to mulitply each value by 5.\n",
    "\n",
    "Hint: look at the previous `for` loop example which uses a `dict`."
   ]
  },
  {
   "cell_type": "code",
   "execution_count": null,
   "id": "70ad59c8",
   "metadata": {},
   "outputs": [],
   "source": []
  },
  {
   "cell_type": "markdown",
   "id": "4a710fbc",
   "metadata": {},
   "source": [
    "3. Implement a `for` loop with the `np.arange` function. What is the difference between `range` and `np.arange`?\n",
    "\n",
    "Hint: it has something to do with number data types..."
   ]
  },
  {
   "cell_type": "code",
   "execution_count": null,
   "id": "7ccd1c6e",
   "metadata": {},
   "outputs": [],
   "source": [
    "import numpy as np\n",
    "\n"
   ]
  }
 ],
 "metadata": {
  "kernelspec": {
   "display_name": "Python 3 (ipykernel)",
   "language": "python",
   "name": "python3"
  },
  "language_info": {
   "codemirror_mode": {
    "name": "ipython",
    "version": 3
   },
   "file_extension": ".py",
   "mimetype": "text/x-python",
   "name": "python",
   "nbconvert_exporter": "python",
   "pygments_lexer": "ipython3",
   "version": "3.9.13"
  }
 },
 "nbformat": 4,
 "nbformat_minor": 5
}
