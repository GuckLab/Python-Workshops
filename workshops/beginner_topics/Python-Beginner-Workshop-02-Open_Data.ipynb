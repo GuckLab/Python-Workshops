{
 "cells": [
  {
   "cell_type": "markdown",
   "id": "floating-terrorist",
   "metadata": {
    "pycharm": {
     "name": "#%% md\n"
    }
   },
   "source": [
    "# Welcome to the Beginner Python Workshop \n",
    "\n",
    "This notebooks will give you a basic introduction to the Python world. Each topic mentioned below is also covered in the [tutorials and tutorial videos](https://github.com/GuckLab/Python-Workshops/tree/main/tutorials)\n",
    "\n",
    "Eoghan O'Connell, Guck Division, MPL, 2021"
   ]
  },
  {
   "cell_type": "code",
   "execution_count": null,
   "id": "94b2a061",
   "metadata": {
    "pycharm": {
     "name": "#%%\n"
    }
   },
   "outputs": [],
   "source": [
    "# notebook metadata you can ignore!\n",
    "info = {\"workshop\": \"02\",\n",
    "        \"topic\": [\"opening file formats\", \"opening data\",\n",
    "                  \"pip\"],\n",
    "        \"version\" : \"0.0.3\"}"
   ]
  },
  {
   "cell_type": "markdown",
   "id": "626c8acc",
   "metadata": {
    "pycharm": {
     "name": "#%% md\n"
    }
   },
   "source": [
    "### How to use this notebook\n",
    "\n",
    "- Click on a cell (each box is called a cell). Hit \"shift+enter\", this will run the cell!\n",
    "- You can run the cells in any order!\n",
    "- The output of runnable code is printed below the cell.\n",
    "- Check out this [Jupyter Notebook Tutorial video](https://www.youtube.com/watch?v=HW29067qVWk).\n",
    "\n",
    "See the help tab above for more information!\n"
   ]
  },
  {
   "cell_type": "markdown",
   "id": "6e96411b",
   "metadata": {
    "pycharm": {
     "name": "#%% md\n"
    }
   },
   "source": [
    "# What is in this Workshop?\n",
    "In this notebook we cover:\n",
    "- How to open different file formats\n",
    "   - Image files (.png, .tiff)\n",
    "   - RTDC files (.rtdc)\n",
    "   - Excel/Spreadsheet files (.csv, .tsv)\n",
    "- How to install the packages needed to open the above files with `pip`."
   ]
  },
  {
   "cell_type": "markdown",
   "id": "44fdc208",
   "metadata": {
    "pycharm": {
     "name": "#%% md\n"
    }
   },
   "source": [
    "## How to open different file formats\n",
    "\n",
    "Different files have different data formats. For example, image data is different to the data in a Microscoft Word document. Excel data is different again!\n",
    "\n",
    "Therefore, we need to have different file formats to store different data. Sometimes these file formats are open-source, such as .hdf5 files. This means we know how the data is stored in the file. In other formats, such as those made by private companies, we might not know how the data is stored in the file exactly.\n",
    "\n",
    "Below we will learn how to open three common file formats in our field:\n",
    "- Image files (.png, .tiff)\n",
    "- RTDC files (.rtdc)\n",
    "- Excel/Spreadsheet files (.csv, .tsv files)\n",
    "\n",
    "and how to use different Python packages to open each file format.\n",
    "\n",
    "*If you are not sure how to open a file format, just search for \"how do I open (file format) in python?\"*"
   ]
  },
  {
   "cell_type": "code",
   "execution_count": null,
   "id": "049dc381",
   "metadata": {
    "pycharm": {
     "name": "#%%\n"
    }
   },
   "outputs": [],
   "source": [
    "# import some packages we need\n",
    "import numpy as np\n",
    "import matplotlib.pyplot as plt"
   ]
  },
  {
   "cell_type": "markdown",
   "id": "1cdb5513",
   "metadata": {
    "pycharm": {
     "name": "#%% md\n"
    }
   },
   "source": [
    "----------------------\n",
    "\n",
    "### Image files (.png, .tiff)\n",
    "\n",
    "There are many good packages for opening image files. We will use the `opencv` package. Another option is the `Pillow` library.\n",
    "\n",
    "- `opencv-python`\n",
    "    - To install `opencv`, go to your terminal and run `pip install opencv-python`.\n",
    "    - To import `opencv` and use it when coding, use `import cv2`\n",
    "\n",
    "- `Pillow`\n",
    "    - To install `Pillow`, go to your terminal and run `pip install Pillow`.\n",
    "    - To import `Pillow` and use it when coding, use `from PIL import Image`"
   ]
  },
  {
   "cell_type": "markdown",
   "id": "e9d8a397",
   "metadata": {
    "pycharm": {
     "name": "#%% md\n"
    }
   },
   "source": [
    "#### Try-out the `openv-python` package\n",
    "(currently doesn't work on Binder)"
   ]
  },
  {
   "cell_type": "code",
   "execution_count": null,
   "id": "716b6bd0",
   "metadata": {
    "pycharm": {
     "name": "#%%\n"
    }
   },
   "outputs": [],
   "source": [
    "# import the `opencv-python` package\n",
    "import cv2"
   ]
  },
  {
   "cell_type": "code",
   "execution_count": null,
   "id": "b37e1c31",
   "metadata": {
    "pycharm": {
     "name": "#%%\n"
    }
   },
   "outputs": [],
   "source": [
    "# open an example image of an RTDC channel\n",
    "\n",
    "im = cv2.imread(\"../data/channel_example.png\", cv2.IMREAD_GRAYSCALE)"
   ]
  },
  {
   "cell_type": "code",
   "execution_count": null,
   "id": "a2a91c56",
   "metadata": {
    "pycharm": {
     "name": "#%%\n"
    }
   },
   "outputs": [],
   "source": [
    "# im stands for image\n",
    "im"
   ]
  },
  {
   "cell_type": "code",
   "execution_count": null,
   "id": "28346757",
   "metadata": {
    "pycharm": {
     "name": "#%%\n"
    }
   },
   "outputs": [],
   "source": [
    "# what does it look like?\n",
    "# How to I plot it?\n",
    "plt.figure(figsize=(16,9))\n",
    "plt.imshow(im, cmap=\"gray\")\n",
    "# plt.colorbar()\n",
    "plt.show()"
   ]
  },
  {
   "cell_type": "code",
   "execution_count": null,
   "id": "a06f77d0",
   "metadata": {
    "pycharm": {
     "name": "#%%\n"
    }
   },
   "outputs": [],
   "source": [
    "# but what is this \"im\"?\n",
    "type(im)"
   ]
  },
  {
   "cell_type": "code",
   "execution_count": null,
   "id": "ad93e3b8",
   "metadata": {
    "pycharm": {
     "name": "#%%\n"
    }
   },
   "outputs": [],
   "source": [
    "# how many dimensions is the image array?\n",
    "im.ndim"
   ]
  },
  {
   "cell_type": "code",
   "execution_count": null,
   "id": "bdb9e832",
   "metadata": {
    "pycharm": {
     "name": "#%%\n"
    }
   },
   "outputs": [],
   "source": [
    "# what shape is it (in pixels)?\n",
    "im.shape"
   ]
  },
  {
   "cell_type": "markdown",
   "id": "9b882d1d",
   "metadata": {
    "pycharm": {
     "name": "#%% md\n"
    }
   },
   "source": [
    "#### Alternatively: Try-out the `Pillow` package"
   ]
  },
  {
   "cell_type": "code",
   "execution_count": null,
   "id": "7dd24829",
   "metadata": {
    "pycharm": {
     "name": "#%%\n"
    }
   },
   "outputs": [],
   "source": [
    "# import the `Pillow` package\n",
    "from PIL import Image"
   ]
  },
  {
   "cell_type": "code",
   "execution_count": null,
   "id": "5072f6a0",
   "metadata": {
    "pycharm": {
     "name": "#%%\n"
    }
   },
   "outputs": [],
   "source": [
    "# open an example image of an RTDC channel\n",
    "im = Image.open(\"../data/channel_example.png\")"
   ]
  },
  {
   "cell_type": "code",
   "execution_count": null,
   "id": "3d3dd607",
   "metadata": {
    "pycharm": {
     "name": "#%%\n"
    }
   },
   "outputs": [],
   "source": [
    "# im stands for image\n",
    "im"
   ]
  },
  {
   "cell_type": "code",
   "execution_count": null,
   "id": "f6268b66",
   "metadata": {
    "pycharm": {
     "name": "#%%\n"
    }
   },
   "outputs": [],
   "source": [
    "# what does it look like?\n",
    "# How to I plot it?\n",
    "plt.figure(figsize=(16,9))\n",
    "plt.imshow(im)\n",
    "# plt.colorbar()\n",
    "plt.show()"
   ]
  },
  {
   "cell_type": "code",
   "execution_count": null,
   "id": "f9d0c1bb",
   "metadata": {
    "pycharm": {
     "name": "#%%\n"
    }
   },
   "outputs": [],
   "source": [
    "# but what is this \"im\"?\n",
    "type(im)"
   ]
  },
  {
   "cell_type": "code",
   "execution_count": null,
   "id": "dbf269a8",
   "metadata": {
    "pycharm": {
     "name": "#%%\n"
    }
   },
   "outputs": [],
   "source": [
    "# convert it to a numpy array\n",
    "im_arr = np.array(im)\n",
    "im_arr"
   ]
  },
  {
   "cell_type": "code",
   "execution_count": null,
   "id": "ac4ae913",
   "metadata": {
    "pycharm": {
     "name": "#%%\n"
    }
   },
   "outputs": [],
   "source": [
    "# how many dimensions is the image array?\n",
    "im_arr.ndim"
   ]
  },
  {
   "cell_type": "code",
   "execution_count": null,
   "id": "49fdb65a",
   "metadata": {
    "pycharm": {
     "name": "#%%\n"
    }
   },
   "outputs": [],
   "source": [
    "# what shape is it (in pixels)?\n",
    "im_arr.shape"
   ]
  },
  {
   "cell_type": "markdown",
   "id": "a6bd4e77",
   "metadata": {
    "pycharm": {
     "name": "#%% md\n"
    }
   },
   "source": [
    "**If you need to use image files, check out this `opencv` tutorial: https://www.geeksforgeeks.org/reading-image-opencv-using-python/ or the Pillow documentation: https://pillow.readthedocs.io/en/stable/handbook/index.html**\n",
    "\n",
    "\n",
    "---------"
   ]
  },
  {
   "cell_type": "markdown",
   "id": "7084c655",
   "metadata": {
    "pycharm": {
     "name": "#%% md\n"
    }
   },
   "source": [
    "----------------------\n",
    "\n",
    "### RTDC files (.rtdc)\n",
    "\n",
    "Paul Muller has created the .rtdc format in the `dclab` package.\n",
    "**If you need to use RTDC files, check out the `dclab` documentation: https://dclab.readthedocs.io/en/stable/**\n",
    "\n",
    "- To install `dclab`, go to your terminal and run `pip install dclab`.\n",
    "\n",
    "- To import `dclab` and use it when coding, use `import dclab`"
   ]
  },
  {
   "cell_type": "code",
   "execution_count": null,
   "id": "969ad169",
   "metadata": {
    "pycharm": {
     "name": "#%%\n"
    }
   },
   "outputs": [],
   "source": [
    "# import the `dclab` package\n",
    "import dclab"
   ]
  },
  {
   "cell_type": "code",
   "execution_count": null,
   "id": "eb122f30",
   "metadata": {
    "pycharm": {
     "name": "#%%\n"
    }
   },
   "outputs": [],
   "source": [
    "# open an example rtdc file\n",
    "ds = dclab.new_dataset(\"..\\data\\calibration_beads_47.rtdc\")\n",
    "\n",
    "# ignore the warnings!"
   ]
  },
  {
   "cell_type": "code",
   "execution_count": null,
   "id": "a3722fc8",
   "metadata": {
    "pycharm": {
     "name": "#%%\n"
    }
   },
   "outputs": [],
   "source": [
    "# ds stands for dataset\n",
    "ds"
   ]
  },
  {
   "cell_type": "code",
   "execution_count": null,
   "id": "483e4c5e",
   "metadata": {
    "pycharm": {
     "name": "#%%\n"
    }
   },
   "outputs": [],
   "source": [
    "# You can see the number of events by:\n",
    "print(len(ds))"
   ]
  },
  {
   "cell_type": "code",
   "execution_count": null,
   "id": "aaf0c635",
   "metadata": {
    "pycharm": {
     "name": "#%%\n"
    }
   },
   "outputs": [],
   "source": [
    "# how do I look at the images?\n",
    "# index the ds object just like a dict\n",
    "print(ds[\"image\"])"
   ]
  },
  {
   "cell_type": "code",
   "execution_count": null,
   "id": "07bc0708",
   "metadata": {
    "pycharm": {
     "name": "#%%\n"
    }
   },
   "outputs": [],
   "source": [
    "# get the first image\n",
    "ds[\"image\"][0]"
   ]
  },
  {
   "cell_type": "code",
   "execution_count": null,
   "id": "b848ec0c",
   "metadata": {
    "pycharm": {
     "name": "#%%\n"
    }
   },
   "outputs": [],
   "source": [
    "# what shape is the image feature?\n",
    "ds[\"image\"].shape"
   ]
  },
  {
   "cell_type": "code",
   "execution_count": null,
   "id": "3d16a86e",
   "metadata": {
    "pycharm": {
     "name": "#%%\n"
    }
   },
   "outputs": [],
   "source": [
    "# what does it look like?\n",
    "# How to I plot it?\n",
    "plt.figure()\n",
    "plt.imshow(ds[\"image\"][0])\n",
    "plt.show()"
   ]
  },
  {
   "cell_type": "code",
   "execution_count": null,
   "id": "51c02d32",
   "metadata": {
    "pycharm": {
     "name": "#%%\n"
    }
   },
   "outputs": [],
   "source": [
    "# but what is this \"ds\"?\n",
    "type(ds)"
   ]
  },
  {
   "cell_type": "code",
   "execution_count": null,
   "id": "103d3634",
   "metadata": {
    "pycharm": {
     "name": "#%%\n"
    }
   },
   "outputs": [],
   "source": [
    "# what features does it have?\n",
    "ds.features"
   ]
  },
  {
   "cell_type": "code",
   "execution_count": null,
   "id": "68eff4e6",
   "metadata": {
    "pycharm": {
     "name": "#%%\n"
    }
   },
   "outputs": [],
   "source": [
    "# look at some other features...\n",
    "ds[\"area_um\"][0]"
   ]
  },
  {
   "cell_type": "code",
   "execution_count": null,
   "id": "5520379e",
   "metadata": {
    "pycharm": {
     "name": "#%%\n"
    }
   },
   "outputs": [],
   "source": [
    "# look at some other features...\n",
    "ds[\"deform\"][0]"
   ]
  },
  {
   "cell_type": "code",
   "execution_count": null,
   "id": "8147fd46",
   "metadata": {
    "pycharm": {
     "name": "#%%\n"
    }
   },
   "outputs": [],
   "source": [
    "# what happens when you index a number higher that the number of values in the dataset?\n",
    "ds[\"deform\"][50]"
   ]
  },
  {
   "cell_type": "markdown",
   "id": "eda6525f",
   "metadata": {
    "pycharm": {
     "name": "#%% md\n"
    }
   },
   "source": [
    "**If you need to use RTDC files, check out the `dclab` documentation: https://dclab.readthedocs.io/en/stable/**\n",
    "\n",
    "\n",
    "---------"
   ]
  },
  {
   "cell_type": "markdown",
   "id": "1277ab9a",
   "metadata": {
    "pycharm": {
     "name": "#%% md\n"
    }
   },
   "source": [
    "----------------------\n",
    "\n",
    "### Excel/spreadsheet files (.csv, .tsv)\n",
    "\n",
    "The `pandas` package is very popular way of opening .csv or .tsv files.\n",
    "\n",
    "- To install `pandas`, go to your terminal and run `pip install pandas`.\n",
    "\n",
    "- To import `pandas` and use it when coding, use `import pandas as pd`"
   ]
  },
  {
   "cell_type": "code",
   "execution_count": null,
   "id": "09dd5092",
   "metadata": {
    "pycharm": {
     "name": "#%%\n"
    }
   },
   "outputs": [],
   "source": [
    "# import the `pandas` package\n",
    "import pandas as pd"
   ]
  },
  {
   "cell_type": "code",
   "execution_count": null,
   "id": "affece33",
   "metadata": {
    "pycharm": {
     "name": "#%%\n"
    }
   },
   "outputs": [],
   "source": [
    "# open an example .csv file\n",
    "# this data on the Titanic can be downloaded from here: https://osf.io/aupb4/#!\n",
    "df = pd.read_csv(\"../data/titanic.csv\")"
   ]
  },
  {
   "cell_type": "code",
   "execution_count": null,
   "id": "7334c079",
   "metadata": {
    "pycharm": {
     "name": "#%%\n"
    }
   },
   "outputs": [],
   "source": [
    "# df stands for dataframe\n",
    "df"
   ]
  },
  {
   "cell_type": "code",
   "execution_count": null,
   "id": "1b19656a",
   "metadata": {
    "pycharm": {
     "name": "#%%\n"
    }
   },
   "outputs": [],
   "source": [
    "# what is \"df\"?\n",
    "type(df)"
   ]
  },
  {
   "cell_type": "code",
   "execution_count": null,
   "id": "abd84884",
   "metadata": {
    "pycharm": {
     "name": "#%%\n"
    }
   },
   "outputs": [],
   "source": [
    "# how to view the first 10 rows?\n",
    "df.head(10)"
   ]
  },
  {
   "cell_type": "code",
   "execution_count": null,
   "id": "1632c4fa",
   "metadata": {
    "pycharm": {
     "name": "#%%\n"
    }
   },
   "outputs": [],
   "source": [
    "# how about the last 8 rows?\n",
    "df.tail(8)"
   ]
  },
  {
   "cell_type": "markdown",
   "id": "80caa094",
   "metadata": {
    "pycharm": {
     "name": "#%% md\n"
    }
   },
   "source": [
    "**If you need to use spreadsheets, check out the `pandas` documentation: https://pandas.pydata.org/pandas-docs/stable/**\n",
    "\n",
    "\n",
    "\n",
    "---------"
   ]
  },
  {
   "cell_type": "markdown",
   "id": "4fe90405",
   "metadata": {
    "pycharm": {
     "name": "#%% md\n"
    }
   },
   "source": [
    "### Excercises\n",
    "\n",
    "(hint: use a search engine to look for answers)\n",
    "\n",
    "1. Open a simple text file (.txt)\n",
    "2. Open a simple text file using the `with` context manager.\n",
    "\n",
    "The path to the file is given below. [Have fun](https://www.youtube.com/watch?v=Rnpy3cC673o)."
   ]
  },
  {
   "cell_type": "code",
   "execution_count": null,
   "id": "3ea7bbda",
   "metadata": {
    "pycharm": {
     "name": "#%%\n"
    }
   },
   "outputs": [],
   "source": [
    "file_path = \"../data/example_text_file.txt\"\n",
    "\n"
   ]
  },
  {
   "cell_type": "markdown",
   "id": "be1a8bcb",
   "metadata": {
    "pycharm": {
     "name": "#%% md\n"
    }
   },
   "source": [
    "2. Verify the value of the aspect ratio for the .rtdc file.\n",
    "\n",
    "Look at the [`dclab` documentation](https://dclab.readthedocs.io/en/stable/sec_av_notation.html#scalar-features) to find the definition of aspect ratio!\n",
    "- Hint: `aspect = size_x / size_y`"
   ]
  },
  {
   "cell_type": "code",
   "execution_count": null,
   "id": "70ad59c8",
   "metadata": {
    "pycharm": {
     "name": "#%%\n"
    }
   },
   "outputs": [],
   "source": [
    "ds = dclab.new_dataset(\"../data/calibration_beads_47.rtdc\")\n",
    "\n",
    "# verify the aspect ratio...\n"
   ]
  },
  {
   "cell_type": "markdown",
   "id": "4a710fbc",
   "metadata": {
    "pycharm": {
     "name": "#%% md\n"
    }
   },
   "source": [
    "3. Apply a Gaussian filter to the image file.\n",
    "\n",
    "Hint: try to use the `gaussian_filter` function from the `scikit-image` package. You will need to install `scikit-image` first!"
   ]
  },
  {
   "cell_type": "code",
   "execution_count": null,
   "id": "7ccd1c6e",
   "metadata": {
    "pycharm": {
     "name": "#%%\n"
    }
   },
   "outputs": [],
   "source": [
    "im = cv2.imread(\"../data/channel_example.png\", cv2.IMREAD_GRAYSCALE)\n",
    "\n",
    "# filter the image with a Gaussian\n"
   ]
  }
 ],
 "metadata": {
  "kernelspec": {
   "display_name": "Python 3 (ipykernel)",
   "language": "python",
   "name": "python3"
  },
  "language_info": {
   "codemirror_mode": {
    "name": "ipython",
    "version": 3
   },
   "file_extension": ".py",
   "mimetype": "text/x-python",
   "name": "python",
   "nbconvert_exporter": "python",
   "pygments_lexer": "ipython3",
   "version": "3.9.13"
  }
 },
 "nbformat": 4,
 "nbformat_minor": 5
}
