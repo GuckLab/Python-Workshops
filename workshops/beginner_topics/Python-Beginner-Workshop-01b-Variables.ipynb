{
 "cells": [
  {
   "cell_type": "markdown",
   "id": "floating-terrorist",
   "metadata": {
    "pycharm": {
     "name": "#%% md\n"
    }
   },
   "source": [
    "# Welcome to the Beginner Python Workshop \n",
    "\n",
    "This notebooks will give you a basic introduction to the Python world. Each topic mentioned below is also covered in the [tutorials and tutorial videos](https://github.com/GuckLab/Python-Workshops/tree/main/tutorials)\n",
    "\n",
    "Eoghan O'Connell, Guck Division, MPL, 2021"
   ]
  },
  {
   "cell_type": "code",
   "execution_count": null,
   "id": "fe1dbadc",
   "metadata": {
    "pycharm": {
     "name": "#%%\n"
    }
   },
   "outputs": [],
   "source": [
    "# notebook metadata you can ignore!\n",
    "info = {\"workshop\": \"01\",\n",
    "        \"topic\": [\"variables\"],\n",
    "        \"version\" : \"1.0.0\"}"
   ]
  },
  {
   "cell_type": "markdown",
   "id": "e5b6bb64",
   "metadata": {
    "pycharm": {
     "name": "#%% md\n"
    }
   },
   "source": [
    "### How to use this notebook\n",
    "\n",
    "- Click on a cell (each box is called a cell). Hit \"shift+enter\", this will run the cell!\n",
    "- You can run the cells in any order!\n",
    "- The output of runnable code is printed below the cell.\n",
    "- Check out this [Jupyter Notebook Tutorial video](https://www.youtube.com/watch?v=HW29067qVWk).\n",
    "\n",
    "See the help tab above for more information!\n"
   ]
  },
  {
   "cell_type": "markdown",
   "id": "6a874f97",
   "metadata": {
    "pycharm": {
     "name": "#%% md\n"
    }
   },
   "source": [
    "# What is in this Workshop?\n",
    "In this notebook we cover:\n",
    "- Variables\n",
    "   - Using variables for different types (str, int, list etc.)\n",
    "   - Excercises"
   ]
  },
  {
   "cell_type": "markdown",
   "id": "44a6d9a1",
   "metadata": {
    "pycharm": {
     "name": "#%% md\n"
    }
   },
   "source": [
    "----------\n",
    "# Variables in Python\n"
   ]
  },
  {
   "cell_type": "markdown",
   "id": "70d728e7",
   "metadata": {
    "pycharm": {
     "name": "#%% md\n"
    }
   },
   "source": [
    "#### What is a variable?\n",
    "\n",
    "A variable is a place to store data (temporarily), such as a number, a string, a list, a function, a class, a module etc.\n",
    "\n",
    "They can be reused, which makes life a lot easier for us!\n",
    "\n",
    "*Syntax*\n",
    "- We assign a value/object to a variable with the equals sign `=`\n",
    "\n",
    "Let's look at some simple examples..."
   ]
  },
  {
   "cell_type": "markdown",
   "id": "6de5a87b",
   "metadata": {},
   "source": [
    "Imagine we want to create a calculation that reuses an input value many times.\n",
    "\n",
    "We define this value at the start and assign it to a variable with the equals sign `=`"
   ]
  },
  {
   "cell_type": "code",
   "execution_count": null,
   "id": "0cb58fd8",
   "metadata": {
    "pycharm": {
     "name": "#%%\n"
    }
   },
   "outputs": [],
   "source": [
    "value = 42"
   ]
  },
  {
   "cell_type": "markdown",
   "id": "45a603ae",
   "metadata": {},
   "source": [
    "We then define our \"complicated\" calculation that uses this value.\n",
    "\n",
    "The result of this calculation is assigned to the variable \"answer\""
   ]
  },
  {
   "cell_type": "code",
   "execution_count": null,
   "id": "81fab03b",
   "metadata": {
    "pycharm": {
     "name": "#%%\n"
    }
   },
   "outputs": [],
   "source": [
    "answer = (42/value ** value) + (value + (value * 23))  # some random maths\n",
    "\n",
    "# print out the answer to see it!\n",
    "print(answer)"
   ]
  },
  {
   "cell_type": "markdown",
   "id": "6538750d",
   "metadata": {
    "pycharm": {
     "name": "#%% md\n"
    }
   },
   "source": [
    "Now imagine you want to change the input value. This is easy, we just change the `value` above to some other number! Try it out.\n",
    "\n",
    "If we had not set this variable, this process would become tedious. You would have to change the number 5 below so many times..."
   ]
  },
  {
   "cell_type": "code",
   "execution_count": null,
   "id": "300ffe93",
   "metadata": {
    "pycharm": {
     "name": "#%%\n"
    }
   },
   "outputs": [],
   "source": [
    "# example without using a variable for the input value\n",
    "\n",
    "answer = (42/42 ** 42) + (42 + (42 * 23))\n",
    "print(answer)"
   ]
  },
  {
   "cell_type": "markdown",
   "id": "38afa75b",
   "metadata": {},
   "source": [
    "#### Variable names\n",
    "\n",
    "Variables must use only the following characters:\n",
    "\n",
    "- alpha-numeric characters: `a-z`, `A-Z`, `0-9`,\n",
    "- underscores `_`\n",
    "\n",
    "lowercase and UPPERCASE variable names are different!\n",
    "\n",
    "Let's briefly see an example of this..."
   ]
  },
  {
   "cell_type": "code",
   "execution_count": null,
   "id": "6f96914b",
   "metadata": {},
   "outputs": [],
   "source": [
    "num1 = 6\n",
    "Num1 = 54\n",
    "\n",
    "print(num1)\n",
    "print(Num1)"
   ]
  },
  {
   "cell_type": "markdown",
   "id": "9683fef7",
   "metadata": {},
   "source": [
    "Of course, this isn't a very good naming scheme, but if is important to know that `num1` and `Num1` are different variables!"
   ]
  },
  {
   "cell_type": "markdown",
   "id": "220b03ed",
   "metadata": {
    "pycharm": {
     "name": "#%% md\n"
    }
   },
   "source": [
    "### What about other data types?\n",
    "\n",
    "It's the same! You just use the equals `=` sign to assign any data/data type to the variable.\n",
    "\n",
    "Here are some examples for different data types:"
   ]
  },
  {
   "cell_type": "code",
   "execution_count": null,
   "id": "11a1b3b4",
   "metadata": {
    "pycharm": {
     "name": "#%%\n"
    }
   },
   "outputs": [],
   "source": [
    "message = \"this is a string\"\n",
    "my_number1 = 42\n",
    "my_number2 = 3.14\n",
    "shopping_list = [\"oranges\", \"bread\", \"spargel\"]\n",
    "shopping_dict = {\"oranges\": 4, \"bread\": 1, \"spargel\": 2}"
   ]
  },
  {
   "cell_type": "markdown",
   "id": "6f04ce27",
   "metadata": {},
   "source": [
    "And these variables are now reuseable in this Python instance (until you restart this notebook!)..."
   ]
  },
  {
   "cell_type": "code",
   "execution_count": null,
   "id": "d5be4007",
   "metadata": {
    "pycharm": {
     "name": "#%%\n"
    }
   },
   "outputs": [],
   "source": [
    "print(my_number1 + my_number2)\n",
    "print(shopping_list[0])  # will print out \"oranges\""
   ]
  },
  {
   "cell_type": "markdown",
   "id": "47b87e6f",
   "metadata": {
    "pycharm": {
     "name": "#%% md\n"
    }
   },
   "source": [
    "-----------\n",
    "### Using Variables with Strings\n",
    "Here we will see how to:\n",
    "- assign a string to a variable\n",
    "- index a string (get a character in the string).\n",
    "   - NB: indexing in python starts at 0\n",
    "- slice a string (get a part of the string)"
   ]
  },
  {
   "cell_type": "code",
   "execution_count": null,
   "id": "1f493f0a",
   "metadata": {
    "pycharm": {
     "name": "#%%\n"
    }
   },
   "outputs": [],
   "source": [
    "message = \"hello world\"\n",
    "\n",
    "print(message)"
   ]
  },
  {
   "cell_type": "markdown",
   "id": "20b48653",
   "metadata": {},
   "source": [
    "Each string has a length `len`, notice that it returns a number!"
   ]
  },
  {
   "cell_type": "code",
   "execution_count": null,
   "id": "45cdd670",
   "metadata": {
    "pycharm": {
     "name": "#%%\n"
    }
   },
   "outputs": [],
   "source": [
    "len(message)"
   ]
  },
  {
   "cell_type": "markdown",
   "id": "5dea840d",
   "metadata": {
    "pycharm": {
     "name": "#%% md\n"
    }
   },
   "source": [
    "How do we get a certain character in the string?\n",
    "\n",
    "We \"index\" the string with the following *syntax*:\n",
    "\n",
    "- `variable[index]`"
   ]
  },
  {
   "cell_type": "code",
   "execution_count": null,
   "id": "4bb6303e",
   "metadata": {
    "pycharm": {
     "name": "#%%\n"
    }
   },
   "outputs": [],
   "source": [
    "# indexing: gives you the letter at that index. Indexing starts at 0\n",
    "print(message[0])\n",
    "print(message[1])\n",
    "print(message[2])\n",
    "print(message[3])\n",
    "print(message[4])"
   ]
  },
  {
   "cell_type": "code",
   "execution_count": null,
   "id": "53c7ff94",
   "metadata": {
    "pycharm": {
     "name": "#%%\n"
    }
   },
   "outputs": [],
   "source": [
    "# negative indexing starts from the end of the string\n",
    "\n",
    "print(message[-5])\n",
    "print(message[-4])\n",
    "print(message[-3])\n",
    "print(message[-2])\n",
    "print(message[-1])"
   ]
  },
  {
   "cell_type": "markdown",
   "id": "ea6845e9",
   "metadata": {},
   "source": [
    "What if we wanted to create a new variable from this indexed string?\n",
    "\n",
    "We can, just assign this indexed string to a new variable. It will also be a string!\n"
   ]
  },
  {
   "cell_type": "code",
   "execution_count": null,
   "id": "2337bdf1",
   "metadata": {
    "pycharm": {
     "name": "#%%\n"
    }
   },
   "outputs": [],
   "source": [
    "message_indexed = message[0]\n",
    "\n",
    "print(message_indexed)\n",
    "\n",
    "# the original variable doesn't change here:\n",
    "print(message)"
   ]
  },
  {
   "cell_type": "markdown",
   "id": "71408102",
   "metadata": {
    "pycharm": {
     "name": "#%% md\n"
    }
   },
   "source": [
    "How do you get a section of the string?\n",
    "\n",
    "We can do that by \"slicing\" the string by using the following *syntax*:\n",
    "\n",
    "- `variable[index_start:index_end]`"
   ]
  },
  {
   "cell_type": "code",
   "execution_count": null,
   "id": "f43e3a7d",
   "metadata": {
    "pycharm": {
     "name": "#%%\n"
    }
   },
   "outputs": [],
   "source": [
    "# from index_start up to index_end (but not including the index_end!)\n",
    "\n",
    "message[0:5]"
   ]
  },
  {
   "cell_type": "markdown",
   "id": "0437f16c",
   "metadata": {},
   "source": [
    "But maybe I want to start at the start of the string, or end at the end. Do that with the following *syntax*:\n",
    "\n",
    "Slice from the start to `index_end`:\n",
    "- `variable[:index_end]`\n",
    "\n",
    "Slice from the `index_start` to the end of the string:\n",
    "- `variable[index_start:]`"
   ]
  },
  {
   "cell_type": "code",
   "execution_count": null,
   "id": "3420db78",
   "metadata": {
    "pycharm": {
     "name": "#%%\n"
    }
   },
   "outputs": [],
   "source": [
    "# start of string to index_end\n",
    "print(message[:3])\n",
    "\n",
    "# index_start to end of string\n",
    "print(message[6:])"
   ]
  },
  {
   "cell_type": "code",
   "execution_count": null,
   "id": "15adbe91",
   "metadata": {
    "pycharm": {
     "name": "#%%\n"
    }
   },
   "outputs": [],
   "source": [
    "# negative indexes work here too\n",
    "\n",
    "message[-5:]"
   ]
  },
  {
   "cell_type": "code",
   "execution_count": null,
   "id": "26aeb8b8",
   "metadata": {},
   "outputs": [],
   "source": [
    "# and having [:] will just give you the entire string\n",
    "\n",
    "message[:]"
   ]
  },
  {
   "cell_type": "markdown",
   "id": "f563798b",
   "metadata": {
    "pycharm": {
     "name": "#%% md\n"
    }
   },
   "source": [
    "**Let's look at an actual example.**\n",
    "\n",
    "You have done an experiment which outputs a file called `\"001_experiment.rtdc\"`.\n",
    "\n",
    "You want to get the experiment number (\"001\") from this filename."
   ]
  },
  {
   "cell_type": "code",
   "execution_count": null,
   "id": "50a305f5",
   "metadata": {
    "pycharm": {
     "name": "#%%\n"
    }
   },
   "outputs": [],
   "source": [
    "file_name = \"001_experiment.rtdc\"\n",
    "\n",
    "# you want to get the number of the filename\n",
    "file_number = file_name[:3]\n",
    "\n",
    "print(file_number)"
   ]
  },
  {
   "cell_type": "markdown",
   "id": "6af5d156",
   "metadata": {
    "pycharm": {
     "name": "#%% md\n"
    }
   },
   "source": [
    "-----------\n",
    "### Using Variables with Numbers\n",
    "\n",
    "Here we will see how to:\n",
    "\n",
    "- assign a number to a variable"
   ]
  },
  {
   "cell_type": "code",
   "execution_count": null,
   "id": "295466b2",
   "metadata": {
    "pycharm": {
     "name": "#%%\n"
    }
   },
   "outputs": [],
   "source": [
    "# what about variables for numbers? They are the exact same!\n",
    "\n",
    "power_value = 8  # int\n",
    "value_of_pi = 3.14  # float\n",
    "\n",
    "print(power_value)\n",
    "print(value_of_pi)"
   ]
  },
  {
   "cell_type": "code",
   "execution_count": null,
   "id": "f5af91dc",
   "metadata": {
    "pycharm": {
     "name": "#%%\n"
    }
   },
   "outputs": [],
   "source": [
    "# we can use these variables together\n",
    "\n",
    "value_of_pi ** power_value"
   ]
  },
  {
   "cell_type": "markdown",
   "id": "bd5624cb",
   "metadata": {},
   "source": [
    "We can create a new variable from the calculation..."
   ]
  },
  {
   "cell_type": "code",
   "execution_count": null,
   "id": "ab161d4f",
   "metadata": {
    "pycharm": {
     "name": "#%%\n"
    }
   },
   "outputs": [],
   "source": [
    "result = value_of_pi ** power_value\n",
    "\n",
    "print(result // 42)"
   ]
  },
  {
   "cell_type": "markdown",
   "id": "bfbc00f6",
   "metadata": {
    "pycharm": {
     "name": "#%% md\n"
    }
   },
   "source": [
    "-----------\n",
    "### Using Variables with Lists\n",
    "Here we will see how to:\n",
    "- assign a list as a variable\n",
    "- index a list (get an element from the list).\n",
    "   - NB: indexing in python starts at 0\n",
    "- slice a list (get one or more elements of the list)"
   ]
  },
  {
   "cell_type": "code",
   "execution_count": null,
   "id": "b007dfc4",
   "metadata": {
    "pycharm": {
     "name": "#%%\n"
    }
   },
   "outputs": [],
   "source": [
    "magic_colour_list = [\"sub-red\", \"red\", \"orange\", \"yellow\", \"green\", \"blue\", \"ultraviolet\"]\n",
    "\n",
    "print(magic_colour_list)"
   ]
  },
  {
   "cell_type": "markdown",
   "id": "81bbe1fd",
   "metadata": {
    "pycharm": {
     "name": "#%% md\n"
    }
   },
   "source": [
    "We can index and slice lists too!"
   ]
  },
  {
   "cell_type": "code",
   "execution_count": null,
   "id": "4b3a9985",
   "metadata": {
    "pycharm": {
     "name": "#%%\n"
    }
   },
   "outputs": [],
   "source": [
    "# indexing\n",
    "\n",
    "print(magic_colour_list[1])\n",
    "print(magic_colour_list[2])\n",
    "print(magic_colour_list[3])"
   ]
  },
  {
   "cell_type": "markdown",
   "id": "31d222ad",
   "metadata": {},
   "source": [
    "We can create a new variable from the index..."
   ]
  },
  {
   "cell_type": "code",
   "execution_count": null,
   "id": "6a731778",
   "metadata": {
    "pycharm": {
     "name": "#%%\n"
    }
   },
   "outputs": [],
   "source": [
    "colour1 = magic_colour_list[1]\n",
    "\n",
    "print(colour1)"
   ]
  },
  {
   "cell_type": "markdown",
   "id": "dbf82809",
   "metadata": {},
   "source": [
    "What is the type of this new variable?"
   ]
  },
  {
   "cell_type": "code",
   "execution_count": null,
   "id": "37d0ca0b",
   "metadata": {
    "pycharm": {
     "name": "#%%\n"
    }
   },
   "outputs": [],
   "source": [
    "type(colour1)"
   ]
  },
  {
   "cell_type": "markdown",
   "id": "7a2df750",
   "metadata": {},
   "source": [
    "What happens if you slice the list? What type is it?"
   ]
  },
  {
   "cell_type": "code",
   "execution_count": null,
   "id": "6eab18c3",
   "metadata": {
    "pycharm": {
     "name": "#%%\n"
    }
   },
   "outputs": [],
   "source": [
    "# slicing\n",
    "\n",
    "print(magic_colour_list[1:4])"
   ]
  },
  {
   "cell_type": "code",
   "execution_count": null,
   "id": "8e7a1532",
   "metadata": {
    "pycharm": {
     "name": "#%%\n"
    }
   },
   "outputs": [],
   "source": [
    "# notice how the sliced list returns a list!\n",
    "\n",
    "colour_slice1 = magic_colour_list[:2]\n",
    "\n",
    "print(colour_slice1)"
   ]
  },
  {
   "cell_type": "markdown",
   "id": "799a0193",
   "metadata": {
    "pycharm": {
     "name": "#%% md\n"
    }
   },
   "source": [
    "**Let's look at an actual example**, similar to the one above when we looked at strings.\n",
    "\n",
    "You want to get the experiment number from several experiment file names."
   ]
  },
  {
   "cell_type": "code",
   "execution_count": null,
   "id": "519d54b5",
   "metadata": {
    "pycharm": {
     "name": "#%%\n"
    }
   },
   "outputs": [],
   "source": [
    "# our example experiment file names\n",
    "file_names = [\"001_experiment.rtdc\",\n",
    "              \"002_experiment.rtdc\",\n",
    "              \"003_experiment.rtdc\",]\n",
    "\n",
    "# you can look at the first filename by indexing\n",
    "print(file_names[0])\n",
    "\n",
    "# you can look at several by slicing\n",
    "print(file_names[1:])"
   ]
  },
  {
   "cell_type": "markdown",
   "id": "cf5e9c1f",
   "metadata": {},
   "source": [
    "Get the numbers from the filenames by using a simple loop. Check out the Loops tutorial!"
   ]
  },
  {
   "cell_type": "code",
   "execution_count": null,
   "id": "aa279ad7",
   "metadata": {
    "pycharm": {
     "name": "#%%\n"
    }
   },
   "outputs": [],
   "source": [
    "for name in file_names:\n",
    "    # name is now just a string, you can check by using type(name)\n",
    "    # when we slice it, we are slicing the string\n",
    "    print(name[:3])"
   ]
  },
  {
   "cell_type": "markdown",
   "id": "fec30c82",
   "metadata": {
    "pycharm": {
     "name": "#%% md\n"
    }
   },
   "source": [
    "-----------\n",
    "### Using Variables with Dictionaries\n",
    "Here we will see how to:\n",
    "- assign a dict as a variable\n",
    "- index a dict (get an item from the dict).\n",
    "\n",
    "<!-- - *not covered* iterate over a dictionary to access each key:value pair -->"
   ]
  },
  {
   "cell_type": "code",
   "execution_count": null,
   "id": "09ba2f62",
   "metadata": {
    "pycharm": {
     "name": "#%%\n"
    }
   },
   "outputs": [],
   "source": [
    "my_dict = {\"key1\": 7,\n",
    "           \"key2\": 3.14,\n",
    "           \"key3\": \"message\"}\n",
    "\n",
    "print(my_dict)"
   ]
  },
  {
   "cell_type": "code",
   "execution_count": null,
   "id": "9a3a2b71",
   "metadata": {
    "pycharm": {
     "name": "#%%\n"
    }
   },
   "outputs": [],
   "source": [
    "# index the dict with the key\n",
    "\n",
    "my_dict[\"key3\"]"
   ]
  },
  {
   "cell_type": "code",
   "execution_count": null,
   "id": "a9afdaab",
   "metadata": {
    "pycharm": {
     "name": "#%%\n"
    }
   },
   "outputs": [],
   "source": [
    "# index the dict with a number will not work!\n",
    "\n",
    "my_dict[0]"
   ]
  },
  {
   "cell_type": "markdown",
   "id": "e492410e",
   "metadata": {
    "pycharm": {
     "name": "#%% md\n"
    }
   },
   "source": [
    "### Excercises - Workshop-01\n",
    "\n",
    "The answers are in the \"Workshop-Solutions.ipynb\" notebook!\n",
    "\n",
    "(hint: use a search engine to look for answers)\n",
    "\n",
    "**1. Rename a string variable by slicing.**\n",
    "\n",
    "Rename `\"001_experiment_ddmmyy.rtdc\"` to `\"001_experiment_070721.rtdc\"`.\n",
    "\n",
    "In other words, (hint-hint) **replace** `ddmmyy` with `070721`"
   ]
  },
  {
   "cell_type": "code",
   "execution_count": null,
   "id": "1f732488",
   "metadata": {
    "pycharm": {
     "name": "#%%\n"
    }
   },
   "outputs": [],
   "source": [
    "filename = \"001_experiment_ddmmyy.rtdc\"\n",
    "\n"
   ]
  },
  {
   "cell_type": "markdown",
   "id": "1333dc03",
   "metadata": {
    "pycharm": {
     "name": "#%% md\n"
    }
   },
   "source": [
    "**2. You have a number variable and want to print it out in the following sentence:**\n",
    "\n",
    "\"The answer to life, the universe and everything is: 42\"\n",
    "\n",
    "Find two ways to do this!"
   ]
  },
  {
   "cell_type": "code",
   "execution_count": null,
   "id": "c8cc7961",
   "metadata": {
    "pycharm": {
     "name": "#%%\n"
    }
   },
   "outputs": [],
   "source": [
    "answer = 42\n",
    "\n"
   ]
  },
  {
   "cell_type": "markdown",
   "id": "17c23ab2",
   "metadata": {
    "pycharm": {
     "name": "#%% md\n"
    }
   },
   "source": [
    "**3. Replace an item in a list.**\n",
    "\n",
    "Replace the first item in the list with a different string."
   ]
  },
  {
   "cell_type": "code",
   "execution_count": null,
   "id": "7ccd1c6e",
   "metadata": {
    "pycharm": {
     "name": "#%%\n"
    }
   },
   "outputs": [],
   "source": [
    "example_items = [\"replace me\", 55, 4.43, False]\n",
    "\n"
   ]
  }
 ],
 "metadata": {
  "kernelspec": {
   "display_name": "Python 3 (ipykernel)",
   "language": "python",
   "name": "python3"
  },
  "language_info": {
   "codemirror_mode": {
    "name": "ipython",
    "version": 3
   },
   "file_extension": ".py",
   "mimetype": "text/x-python",
   "name": "python",
   "nbconvert_exporter": "python",
   "pygments_lexer": "ipython3",
   "version": "3.9.13"
  }
 },
 "nbformat": 4,
 "nbformat_minor": 5
}
