{
 "cells": [
  {
   "cell_type": "markdown",
   "id": "floating-terrorist",
   "metadata": {},
   "source": [
    "# Welcome to the Beginner Python Workshop \n",
    "\n",
    "**Topic: conditionals (if statements)**\n",
    "\n",
    "This notebook will give you a basic introduction to the Python world. Some of the topics mentioned below is also covered in the [tutorials and tutorial videos](https://github.com/GuckLab/Python-Workshops/tree/main/tutorials)\n",
    "\n",
    "Eoghan O'Connell, Guck Division, MPL, 2021"
   ]
  },
  {
   "cell_type": "code",
   "execution_count": null,
   "id": "young-conjunction",
   "metadata": {},
   "outputs": [],
   "source": [
    "# notebook metadata you can ignore!\n",
    "info = {\"workshop\": \"04\",\n",
    "        \"topic\": [\"if statements\"],\n",
    "        \"version\" : \"0.0.1\"}"
   ]
  },
  {
   "cell_type": "markdown",
   "id": "enabling-madrid",
   "metadata": {},
   "source": [
    "### How to use this notebook\n",
    "\n",
    "- Click on a cell (each box is called a cell). Hit \"shift+enter\", this will run the cell!\n",
    "- You can run the cells in any order!\n",
    "- The output of runnable code is printed below the cell.\n",
    "- Check out this [Jupyter Notebook Tutorial video](https://www.youtube.com/watch?v=HW29067qVWk).\n",
    "\n",
    "See the help tab above for more information!\n"
   ]
  },
  {
   "cell_type": "markdown",
   "id": "ahead-adventure",
   "metadata": {},
   "source": [
    "# What is in this Workshop?\n",
    "In this notebook we cover:\n",
    "- How to use \"conditionals\" like `if`, `else` and `elif` statements in Python\n",
    "- For more info, check out the related tutorial by Corey Schafer [here](https://www.youtube.com/watch?v=DZwmZ8Usvnk)."
   ]
  },
  {
   "cell_type": "markdown",
   "id": "b456ff92",
   "metadata": {},
   "source": [
    "## What is a conditional in Python\n",
    "\n",
    "A conditional is something that will evaluate to True or False (Boolean). We can check if something is True or False by using an `if` statement.\n",
    "\n",
    "This is the `if` statement syntax:\n",
    "\n",
    "```python\n",
    "if conditional:\n",
    "    # do something (if the above conditional was True)\n",
    "```\n",
    "\n",
    "- The \"conditional\" above must evaluate to True or False (or something that is Truthy or Falsy).\n",
    "- The indented block of code after the `if` statement will only be executed if the conditional is True.\n",
    "\n",
    "*Syntax notes*:\n",
    "\n",
    "- The second line (# do something ...) must be indented by a tab (4 spaces).\n",
    "   - As soon as your code is not indented, it is no longer part of the `if` statement.\n",
    "- There must be a colon ( `:` ) at the end of the `if conditional:` statement.\n",
    "- The double equals sign `==` is used to check for equality.\n",
    "\n"
   ]
  },
  {
   "cell_type": "markdown",
   "id": "aee2f675",
   "metadata": {},
   "source": [
    "Comparisons that can be used:\n",
    "\n",
    "    \n",
    "| Description      | Syntax |\n",
    ":--- | :--- \n",
    "| Equal            | ==     |\n",
    "| Not equal        | !=     |\n",
    "| Greater than     | >      |\n",
    "| Less than        | <      |\n",
    "| Greater or equal | >=     |\n",
    "| Less or equal    | <=     |\n",
    "| Object identity  | is     |\n",
    "| Data type        | isinstance(object, datatype) |\n",
    "| other comparisons| and, or, not |"
   ]
  },
  {
   "cell_type": "code",
   "execution_count": null,
   "id": "689ef71f",
   "metadata": {},
   "outputs": [],
   "source": [
    "# import necessary modules\n",
    "import numpy as np"
   ]
  },
  {
   "cell_type": "markdown",
   "id": "5f9c3f70",
   "metadata": {},
   "source": [
    "#### Some basic examples"
   ]
  },
  {
   "cell_type": "code",
   "execution_count": null,
   "id": "8b9717ae",
   "metadata": {},
   "outputs": [],
   "source": [
    "# here is an if statement example\n",
    "\n",
    "name = True\n",
    "\n",
    "if name:\n",
    "    print(\"name is True!\")\n"
   ]
  },
  {
   "cell_type": "code",
   "execution_count": null,
   "id": "b1b7ee40",
   "metadata": {},
   "outputs": [],
   "source": [
    "# we can use slightly different syntax to do (almost) the same thing\n",
    "\n",
    "if name is True:\n",
    "    print(\"name is True!\")\n",
    "\n",
    "if name == True:\n",
    "    print(\"name is True!\")\n"
   ]
  },
  {
   "cell_type": "code",
   "execution_count": null,
   "id": "c0b0689f",
   "metadata": {},
   "outputs": [],
   "source": [
    "# what if I want to check if it is False?\n",
    "\n",
    "name = False\n",
    "\n",
    "# just use the \"not\" keyword\n",
    "if not name:\n",
    "    print(\"name is False!\")\n",
    "\n",
    "if name is False:\n",
    "    print(\"name is False!\")\n",
    "    \n",
    "if name is not True:\n",
    "    print(\"name is False!\")\n",
    "\n",
    "if name != True:\n",
    "    print(\"name is False!\")\n"
   ]
  },
  {
   "cell_type": "markdown",
   "id": "8e8fc1be",
   "metadata": {},
   "source": [
    "#### Checking different conditionals"
   ]
  },
  {
   "cell_type": "code",
   "execution_count": null,
   "id": "0a3ec950",
   "metadata": {},
   "outputs": [],
   "source": [
    "# we are not just limited to checking Boolean values!\n",
    "# we can check lots of different conditionals\n",
    "\n",
    "filename = \"M001_010921.rtdc\"\n",
    "\n",
    "# check if the string name is equal to something\n",
    "if filename == \"M001_010921.rtdc\":\n",
    "    print(\"Yes, the names match.\")\n",
    "\n",
    "# check if a string contains some characters\n",
    "if \"010921\" in filename:\n",
    "    print(f\"Date is correct, processing {filename} ...\")\n"
   ]
  },
  {
   "cell_type": "code",
   "execution_count": null,
   "id": "437a9063",
   "metadata": {},
   "outputs": [],
   "source": [
    "# check if filename variable is a string\n",
    "\n",
    "if isinstance(filename, str):\n",
    "    print(\"The 'filename' variable is a string.\")\n",
    "\n",
    "# there are other ways to do this\n",
    "if type(filename) == str:\n",
    "    print(\"The 'filename' variable is a string.\")"
   ]
  },
  {
   "cell_type": "code",
   "execution_count": null,
   "id": "b576b937",
   "metadata": {},
   "outputs": [],
   "source": [
    "# check if a list is a certain length\n",
    "\n",
    "values = [2, 5, 7, 2]\n",
    "\n",
    "if len(values) == 4:\n",
    "    print(\"There are four items in the list.\")\n"
   ]
  },
  {
   "cell_type": "code",
   "execution_count": null,
   "id": "0c28ae41",
   "metadata": {},
   "outputs": [],
   "source": [
    "# check if an array is a certain dimensionality\n",
    "\n",
    "arr = np.array(values)\n",
    "\n",
    "if arr.ndim == 1:\n",
    "    print(\"The arr has only one dimension.\")"
   ]
  },
  {
   "cell_type": "markdown",
   "id": "5447d1a0",
   "metadata": {},
   "source": [
    "#### Using the `and`, `or` keywords"
   ]
  },
  {
   "cell_type": "code",
   "execution_count": null,
   "id": "3b7a864b",
   "metadata": {},
   "outputs": [],
   "source": [
    "name = \"Frodo\"\n",
    "cool_name = True\n",
    "\n",
    "if name == \"Frodo\" and cool_name:\n",
    "    print(f\"{name} is a cool name.\")\n"
   ]
  },
  {
   "cell_type": "code",
   "execution_count": null,
   "id": "b7e9db1d",
   "metadata": {},
   "outputs": [],
   "source": [
    "values = [2, 5, 7, 2]\n",
    "\n",
    "if len(values) == 3 or len(values) == 4:\n",
    "    print(\"These are the length we want!\")\n"
   ]
  },
  {
   "cell_type": "markdown",
   "id": "518609dd",
   "metadata": {},
   "source": [
    "#### Using the `else` statement\n",
    "\n",
    "Syntax:\n",
    "\n",
    "```python\n",
    "if conditional:\n",
    "    # do something (if the above conditional was True)\n",
    "else:\n",
    "    # do something else (if the above conditional was False) \n",
    "```\n",
    "\n",
    "*Syntax notes*:\n",
    "- The keyword `else` is used followed by a colon ( `:` )\n",
    "- The indented block after the `else` statement will be executed if the previous conditionals were False. "
   ]
  },
  {
   "cell_type": "code",
   "execution_count": null,
   "id": "14d4ebed",
   "metadata": {},
   "outputs": [],
   "source": [
    "# here is an else statement in action\n",
    "# we will use the same variables as above\n",
    "\n",
    "values = [2, 5, 7, 2]\n",
    "\n",
    "if len(values) == 4:\n",
    "    print(\"There are four items in the list.\")\n",
    "else:\n",
    "    print(\"This list is strange and should have four items!\")\n"
   ]
  },
  {
   "cell_type": "code",
   "execution_count": null,
   "id": "b1c25334",
   "metadata": {},
   "outputs": [],
   "source": [
    "arr = np.array(values)\n",
    "print(arr)\n",
    "\n",
    "if arr.ndim == 1:\n",
    "    print(\"The arr has only one dimension.\")\n",
    "else:\n",
    "    print(\"I wanted an array with one dimension!\")"
   ]
  },
  {
   "cell_type": "markdown",
   "id": "eb59957a",
   "metadata": {},
   "source": [
    "#### Using the `elif` statement\n",
    "\n",
    "The `elif` statement stands for \"else if\"\n",
    "\n",
    "Syntax:\n",
    "\n",
    "```python\n",
    "if conditional:\n",
    "    # do something (if the above conditional was True)\n",
    "elif different conditional:\n",
    "    # do something (if the above elif conditional was True and all previous conditions were False)\n",
    "else:\n",
    "    # do something else (if the above conditionals are all False) \n",
    "```\n",
    "\n",
    "*Syntax notes*:\n",
    "- The keyword `elif` is used followed by a conditional and a colon ( `:` )\n",
    "- The indented block after the `elif` statement will be executed if the conditional is True. "
   ]
  },
  {
   "cell_type": "code",
   "execution_count": null,
   "id": "bb3065bd",
   "metadata": {},
   "outputs": [],
   "source": [
    "# here is an elif statement in action\n",
    "# we will use the same variables as above\n",
    "\n",
    "values = [2, 5, 7, 2]\n",
    "\n",
    "if len(values) == 5:\n",
    "    print(\"There are five items in the list.\")\n",
    "elif len(values) == 4:\n",
    "    print(\"Aha, a list with a length of four!\")\n"
   ]
  },
  {
   "cell_type": "code",
   "execution_count": null,
   "id": "9a588da2",
   "metadata": {},
   "outputs": [],
   "source": [
    "# we can use if, elif, and else together with many elif\n",
    "\n",
    "values = [2, 5, 7, 2]\n",
    "\n",
    "if len(values) == 2:\n",
    "    print(\"There are five items in the list.\")\n",
    "elif len(values) == 1:\n",
    "    print(\"Aha, a list with a length of four!\")\n",
    "elif len(values) == 0:\n",
    "    print(\"This list is empty!\")\n",
    "else:\n",
    "    print(\"None of the above conditionals were True.\")\n"
   ]
  },
  {
   "cell_type": "markdown",
   "id": "034f4a40",
   "metadata": {},
   "source": [
    "#### Difference between `==` and `is`"
   ]
  },
  {
   "cell_type": "code",
   "execution_count": null,
   "id": "750f4f85",
   "metadata": {},
   "outputs": [],
   "source": [
    "a = [1, 2, 3]\n",
    "b = [1, 2, 3]\n",
    "\n",
    "print(a == b)\n",
    "\n",
    "# print(a is b)\n",
    "# print(id(a))\n",
    "# print(id(b))"
   ]
  },
  {
   "cell_type": "markdown",
   "id": "80294ab2",
   "metadata": {},
   "source": [
    "#### What is `False` in Python?\n",
    "\n",
    "The following evaluates to `False` in Python:\n",
    "- `False`\n",
    "- `None`\n",
    "- Zero of any numeric type (0, 0.0)\n",
    "- Any empty sequence such as `''`, `[]`, `()`\n",
    "- Any empty mapping (`dict`) such as `{}`\n"
   ]
  },
  {
   "cell_type": "markdown",
   "id": "27507179",
   "metadata": {},
   "source": [
    "### Excercises\n",
    "\n",
    "(hint: use a search engine to look for answers)\n",
    "\n",
    "1. Create a loop that checks if a numpy array has one or two dimensions. In either case, change the array to a one dimensional array."
   ]
  },
  {
   "cell_type": "code",
   "execution_count": null,
   "id": "94202cc5",
   "metadata": {},
   "outputs": [],
   "source": []
  },
  {
   "cell_type": "markdown",
   "id": "be1a8bcb",
   "metadata": {},
   "source": [
    "2. Create an empty list. Check if the list is empty is the simplest way you can."
   ]
  },
  {
   "cell_type": "code",
   "execution_count": null,
   "id": "bd2ca7c1",
   "metadata": {},
   "outputs": [],
   "source": []
  },
  {
   "cell_type": "markdown",
   "id": "2493b91f",
   "metadata": {},
   "source": [
    "3. Create a list of strings, check if certains strings are in the list. Do this without and with a `for` loop."
   ]
  },
  {
   "cell_type": "code",
   "execution_count": null,
   "id": "8f8a9950",
   "metadata": {},
   "outputs": [],
   "source": []
  }
 ],
 "metadata": {
  "kernelspec": {
   "display_name": "Python 3 (ipykernel)",
   "language": "python",
   "name": "python3"
  },
  "language_info": {
   "codemirror_mode": {
    "name": "ipython",
    "version": 3
   },
   "file_extension": ".py",
   "mimetype": "text/x-python",
   "name": "python",
   "nbconvert_exporter": "python",
   "pygments_lexer": "ipython3",
   "version": "3.8.6"
  }
 },
 "nbformat": 4,
 "nbformat_minor": 5
}
