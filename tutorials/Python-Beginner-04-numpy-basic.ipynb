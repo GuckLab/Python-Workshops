{
 "cells": [
  {
   "cell_type": "markdown",
   "id": "invisible-enlargement",
   "metadata": {},
   "source": [
    "# Welcome to the Python course for beginners\n",
    "\n",
    "These notebooks should give you a basic introduction to the Python world, and should help you understand why people keep talking about snakes and pandas.\n",
    "\n",
    "Eoghan O'Connell, Guck Division, MPL, 2021"
   ]
  },
  {
   "cell_type": "code",
   "execution_count": 23,
   "id": "opposite-moldova",
   "metadata": {},
   "outputs": [],
   "source": [
    "# notebook metadata you can ignore!\n",
    "info = {\"tutorial\": \"basic-numpy\",\n",
    "        \"version\" : \"0.0.1\"}"
   ]
  },
  {
   "cell_type": "markdown",
   "id": "technological-lesson",
   "metadata": {},
   "source": [
    "### How to use this notebook\n",
    "\n",
    "- Click on a cell (each box is called a cell). hit \"shift+enter\"\n",
    "- You can run the cells in any order!\n",
    "- The output of runnable code is printed below the cell.\n",
    "- Check out the Jupyter Notebook Tutorial video in the repo.\n",
    "\n",
    "See the help tab above for more information!\n"
   ]
  },
  {
   "cell_type": "markdown",
   "id": "thousand-proportion",
   "metadata": {},
   "source": [
    "-------------\n",
    "# NumPy arrays introduction\n",
    "#### What is in this notebook?\n",
    "In this tutorial we cover:\n",
    "- What is NumPy\n",
    "- What is a NumPy array\n",
    "- How to index and slice numpy arrays\n",
    "- When to use numpy arrays"
   ]
  },
  {
   "cell_type": "markdown",
   "id": "immediate-spanish",
   "metadata": {},
   "source": [
    "-------\n",
    "## What is NumPy\n",
    "\n",
    "- NumPy stands for Numerical Python.\n",
    "- It is a core scientific package and you will probably use it a lot.\n",
    "- It's easy and fast.\n",
    "- We will use numpy arrays for images, storing numbers etc.\n",
    "- It is not internal to python, so we have to import it!"
   ]
  },
  {
   "cell_type": "code",
   "execution_count": 1,
   "id": "distributed-stack",
   "metadata": {},
   "outputs": [
    {
     "name": "stdout",
     "output_type": "stream",
     "text": [
      "<module 'numpy' from 'c:\\\\users\\\\eoconne\\\\miniconda3\\\\lib\\\\site-packages\\\\numpy\\\\__init__.py'>\n"
     ]
    }
   ],
   "source": [
    "import numpy as np\n",
    "\n",
    "# now we can use all the functions of numpy by calling `np`\n",
    "\n",
    "print(np)\n",
    "\n",
    "# look, it's just in a folder in the computer! All of the python pckages will be in a \"site-packages\" folder"
   ]
  },
  {
   "cell_type": "markdown",
   "id": "exciting-contrary",
   "metadata": {},
   "source": [
    "-------\n",
    "## Numpy arrays\n",
    "Let's make a basic numpy array"
   ]
  },
  {
   "cell_type": "code",
   "execution_count": 3,
   "id": "administrative-transsexual",
   "metadata": {},
   "outputs": [
    {
     "data": {
      "text/plain": [
       "array([0., 0., 0.])"
      ]
     },
     "execution_count": 3,
     "metadata": {},
     "output_type": "execute_result"
    }
   ],
   "source": [
    "# np.zeros will give you an array of zeros of the shape given\n",
    "np.zeros(3)\n",
    "\n",
    "# you can see that the output looks like a list"
   ]
  },
  {
   "cell_type": "code",
   "execution_count": 5,
   "id": "mobile-estate",
   "metadata": {},
   "outputs": [
    {
     "data": {
      "text/plain": [
       "array([1., 1., 1.])"
      ]
     },
     "execution_count": 5,
     "metadata": {},
     "output_type": "execute_result"
    }
   ],
   "source": [
    "# np.ones gives you ones instead\n",
    "\n",
    "np.ones(3)"
   ]
  },
  {
   "cell_type": "markdown",
   "id": "introductory-wrist",
   "metadata": {},
   "source": [
    "What if we want a 2-dimensional array? Just change the shape.\n",
    "\n",
    "The x axis is always the last axis in numpy"
   ]
  },
  {
   "cell_type": "code",
   "execution_count": 7,
   "id": "collaborative-usage",
   "metadata": {},
   "outputs": [
    {
     "data": {
      "text/plain": [
       "array([[0., 0., 0.],\n",
       "       [0., 0., 0.]])"
      ]
     },
     "execution_count": 7,
     "metadata": {},
     "output_type": "execute_result"
    }
   ],
   "source": [
    "np.zeros((2, 3))\n",
    "\n",
    "# this ouputs a 2 * 3 array (y*x)"
   ]
  },
  {
   "cell_type": "markdown",
   "id": "indonesian-affect",
   "metadata": {},
   "source": [
    "What if we want a 3- or 4-dimensional array? Just change the shape!"
   ]
  },
  {
   "cell_type": "code",
   "execution_count": 8,
   "id": "western-criticism",
   "metadata": {},
   "outputs": [
    {
     "data": {
      "text/plain": [
       "array([[[0., 0., 0.],\n",
       "        [0., 0., 0.]],\n",
       "\n",
       "       [[0., 0., 0.],\n",
       "        [0., 0., 0.]]])"
      ]
     },
     "execution_count": 8,
     "metadata": {},
     "output_type": "execute_result"
    }
   ],
   "source": [
    "np.zeros((2, 2, 3))"
   ]
  },
  {
   "cell_type": "code",
   "execution_count": 9,
   "id": "thrown-antenna",
   "metadata": {},
   "outputs": [
    {
     "data": {
      "text/plain": [
       "array([[[[0., 0., 0.],\n",
       "         [0., 0., 0.]],\n",
       "\n",
       "        [[0., 0., 0.],\n",
       "         [0., 0., 0.]]],\n",
       "\n",
       "\n",
       "       [[[0., 0., 0.],\n",
       "         [0., 0., 0.]],\n",
       "\n",
       "        [[0., 0., 0.],\n",
       "         [0., 0., 0.]]],\n",
       "\n",
       "\n",
       "       [[[0., 0., 0.],\n",
       "         [0., 0., 0.]],\n",
       "\n",
       "        [[0., 0., 0.],\n",
       "         [0., 0., 0.]]]])"
      ]
     },
     "execution_count": 9,
     "metadata": {},
     "output_type": "execute_result"
    }
   ],
   "source": [
    "# 4 dimensions:\n",
    "\n",
    "np.zeros((3, 2, 2, 3))"
   ]
  },
  {
   "cell_type": "markdown",
   "id": "headed-procedure",
   "metadata": {},
   "source": [
    "#### We can make numpy arrays from other python objects like lists and numbers"
   ]
  },
  {
   "cell_type": "code",
   "execution_count": 17,
   "id": "polar-furniture",
   "metadata": {
    "scrolled": true
   },
   "outputs": [
    {
     "name": "stdout",
     "output_type": "stream",
     "text": [
      "[ 2  3  4  8 10]\n"
     ]
    }
   ],
   "source": [
    "list_of_numbers = [2, 3, 4, 8, 10] \n",
    "arr1 = np.array(list_of_numbers)  # just turns list into an array just like that!\n",
    "\n",
    "print(arr1)"
   ]
  },
  {
   "cell_type": "code",
   "execution_count": 18,
   "id": "downtown-reservation",
   "metadata": {},
   "outputs": [
    {
     "data": {
      "text/plain": [
       "2"
      ]
     },
     "execution_count": 18,
     "metadata": {},
     "output_type": "execute_result"
    }
   ],
   "source": [
    "#indexing\n",
    "\n",
    "arr1[0]"
   ]
  },
  {
   "cell_type": "code",
   "execution_count": 19,
   "id": "entertaining-vegetarian",
   "metadata": {},
   "outputs": [
    {
     "data": {
      "text/plain": [
       "array([2, 3, 4])"
      ]
     },
     "execution_count": 19,
     "metadata": {},
     "output_type": "execute_result"
    }
   ],
   "source": [
    "# slicing\n",
    "\n",
    "arr1[0:3]"
   ]
  },
  {
   "cell_type": "markdown",
   "id": "instructional-chosen",
   "metadata": {},
   "source": [
    "It looks similar to a list, but can do lots of extra cool stuff very quickly"
   ]
  },
  {
   "cell_type": "code",
   "execution_count": 20,
   "id": "relevant-extent",
   "metadata": {},
   "outputs": [
    {
     "ename": "TypeError",
     "evalue": "can't multiply sequence by non-int of type 'list'",
     "output_type": "error",
     "traceback": [
      "\u001b[1;31m---------------------------------------------------------------------------\u001b[0m",
      "\u001b[1;31mTypeError\u001b[0m                                 Traceback (most recent call last)",
      "\u001b[1;32m<ipython-input-20-d11e999e7da2>\u001b[0m in \u001b[0;36m<module>\u001b[1;34m\u001b[0m\n\u001b[0;32m      1\u001b[0m \u001b[1;31m# multiplying lists (fails)\u001b[0m\u001b[1;33m\u001b[0m\u001b[1;33m\u001b[0m\u001b[1;33m\u001b[0m\u001b[0m\n\u001b[1;32m----> 2\u001b[1;33m \u001b[0mlist_of_numbers\u001b[0m \u001b[1;33m*\u001b[0m \u001b[0mlist_of_numbers\u001b[0m\u001b[1;33m\u001b[0m\u001b[1;33m\u001b[0m\u001b[0m\n\u001b[0m",
      "\u001b[1;31mTypeError\u001b[0m: can't multiply sequence by non-int of type 'list'"
     ]
    }
   ],
   "source": [
    "# multiplying lists (fails)\n",
    "list_of_numbers * list_of_numbers"
   ]
  },
  {
   "cell_type": "code",
   "execution_count": 21,
   "id": "sound-inflation",
   "metadata": {},
   "outputs": [
    {
     "data": {
      "text/plain": [
       "array([  4,   9,  16,  64, 100])"
      ]
     },
     "execution_count": 21,
     "metadata": {},
     "output_type": "execute_result"
    }
   ],
   "source": [
    "# multiplying arrays is no problem\n",
    "arr1 * arr1"
   ]
  },
  {
   "cell_type": "code",
   "execution_count": 22,
   "id": "bizarre-movement",
   "metadata": {},
   "outputs": [
    {
     "data": {
      "text/plain": [
       "array([  4,   9,  16,  64, 100])"
      ]
     },
     "execution_count": 22,
     "metadata": {},
     "output_type": "execute_result"
    }
   ],
   "source": [
    "# multiplying a list with an array works\n",
    "arr1 * list_of_numbers"
   ]
  },
  {
   "cell_type": "code",
   "execution_count": 27,
   "id": "olive-accident",
   "metadata": {},
   "outputs": [
    {
     "data": {
      "text/plain": [
       "array([16.66, 24.99, 33.32, 66.64, 83.3 ])"
      ]
     },
     "execution_count": 27,
     "metadata": {},
     "output_type": "execute_result"
    }
   ],
   "source": [
    "# what about with single numbers?\n",
    "arr1 * 8.33"
   ]
  },
  {
   "cell_type": "code",
   "execution_count": 28,
   "id": "timely-threshold",
   "metadata": {},
   "outputs": [
    {
     "data": {
      "text/plain": [
       "array([0, 0, 0, 0, 0])"
      ]
     },
     "execution_count": 28,
     "metadata": {},
     "output_type": "execute_result"
    }
   ],
   "source": [
    "# using boolean\n",
    "arr1 * False\n",
    "\n",
    "# numpy is excellent at working with boolean masks. Check out \"np.where\""
   ]
  },
  {
   "cell_type": "markdown",
   "id": "excessive-friendly",
   "metadata": {},
   "source": [
    "----------\n",
    "## Fancy indexing\n",
    "Numpy has a fancy indexing notation for slicing and indexing nulti-dimensional arrays.\n",
    "\n",
    "Let's make a 2D numpy array and start slicing:"
   ]
  },
  {
   "cell_type": "code",
   "execution_count": 33,
   "id": "black-spain",
   "metadata": {},
   "outputs": [
    {
     "name": "stdout",
     "output_type": "stream",
     "text": [
      "[[2 3 4 5]\n",
      " [9 5 1 2]\n",
      " [3 4 7 1]]\n"
     ]
    }
   ],
   "source": [
    "arr2 = np.array([[2, 3, 4, 5],\n",
    "                 [9, 5, 1, 2],\n",
    "                 [3, 4, 7, 1]])\n",
    "print(arr2)"
   ]
  },
  {
   "cell_type": "code",
   "execution_count": 34,
   "id": "entire-constraint",
   "metadata": {},
   "outputs": [
    {
     "data": {
      "text/plain": [
       "array([[3, 4],\n",
       "       [5, 1]])"
      ]
     },
     "execution_count": 34,
     "metadata": {},
     "output_type": "execute_result"
    }
   ],
   "source": [
    "arr2[0:2, 1:3]\n",
    "\n",
    "# here we grab the y axis values from the 0th to 2nd index, and the x axis values from 1st to 3rd index\n",
    "# we are basically just cropping the array by grabbing a 2D slice"
   ]
  },
  {
   "cell_type": "markdown",
   "id": "sophisticated-carry",
   "metadata": {},
   "source": [
    "## When to use each data type\n",
    "\n",
    "- lists (`list`): use when you want to gather objects together. Use it for strings, numbers, lists, dicts etc.\n",
    "- (numpy) arrays (`np.array`): use when you are dealing with numbers/boolean values, want speed, looking at image data"
   ]
  }
 ],
 "metadata": {
  "kernelspec": {
   "display_name": "Python 3",
   "language": "python",
   "name": "python3"
  },
  "language_info": {
   "codemirror_mode": {
    "name": "ipython",
    "version": 3
   },
   "file_extension": ".py",
   "mimetype": "text/x-python",
   "name": "python",
   "nbconvert_exporter": "python",
   "pygments_lexer": "ipython3",
   "version": "3.8.5"
  }
 },
 "nbformat": 4,
 "nbformat_minor": 5
}
