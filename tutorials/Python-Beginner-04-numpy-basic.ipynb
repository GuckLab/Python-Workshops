{
 "cells": [
  {
   "cell_type": "markdown",
   "id": "invisible-enlargement",
   "metadata": {},
   "source": [
    "# Welcome to the Python course for beginners\n",
    "\n",
    "These notebooks should give you a basic introduction to the Python world, and should help you understand why people keep talking about snakes and pandas.\n",
    "\n",
    "Eoghan O'Connell, Guck Division, MPL, 2021"
   ]
  },
  {
   "cell_type": "code",
   "execution_count": null,
   "id": "opposite-moldova",
   "metadata": {},
   "outputs": [],
   "source": [
    "# notebook metadata you can ignore!\n",
    "info = {\"tutorial\": \"basic-numpy\",\n",
    "        \"version\" : \"0.0.1\"}"
   ]
  },
  {
   "cell_type": "markdown",
   "id": "technological-lesson",
   "metadata": {},
   "source": [
    "### How to use this notebook\n",
    "\n",
    "- Click on a cell (each box is called a cell). Hit \"shift+enter\", this will run the cell!\n",
    "- You can run the cells in any order!\n",
    "- The output of runnable code is printed below the cell.\n",
    "- Check out this [Jupyter Notebook Tutorial video](https://www.youtube.com/watch?v=HW29067qVWk).\n",
    "\n",
    "See the help tab above for more information!\n"
   ]
  },
  {
   "cell_type": "markdown",
   "id": "thousand-proportion",
   "metadata": {},
   "source": [
    "-------------\n",
    "# NumPy arrays introduction\n",
    "#### What is in this notebook?\n",
    "In this tutorial we cover:\n",
    "- What is NumPy\n",
    "- What is a NumPy array\n",
    "- How to index and slice numpy arrays\n",
    "- When to use numpy arrays"
   ]
  },
  {
   "cell_type": "markdown",
   "id": "immediate-spanish",
   "metadata": {},
   "source": [
    "-------\n",
    "## What is NumPy\n",
    "\n",
    "- NumPy stands for Numerical Python.\n",
    "- It is a core scientific package and you will probably use it a lot.\n",
    "- It's easy and fast.\n",
    "- We will use numpy arrays for images, storing numbers etc.\n",
    "- It is not internal to python, so we have to import it!"
   ]
  },
  {
   "cell_type": "code",
   "execution_count": null,
   "id": "distributed-stack",
   "metadata": {},
   "outputs": [],
   "source": [
    "import numpy as np\n",
    "\n",
    "# now we can use all the functions of numpy by calling `np`\n",
    "\n",
    "print(np)\n",
    "\n",
    "# look, it's just in a folder in the computer! All of the python pckages will be in a \"site-packages\" folder"
   ]
  },
  {
   "cell_type": "markdown",
   "id": "exciting-contrary",
   "metadata": {},
   "source": [
    "-------\n",
    "## Numpy arrays\n",
    "Let's make a basic numpy array"
   ]
  },
  {
   "cell_type": "code",
   "execution_count": null,
   "id": "administrative-transsexual",
   "metadata": {},
   "outputs": [],
   "source": [
    "# np.zeros will give you an array of zeros of the shape given\n",
    "np.zeros(3)\n",
    "\n",
    "# you can see that the output looks like a list"
   ]
  },
  {
   "cell_type": "code",
   "execution_count": null,
   "id": "mobile-estate",
   "metadata": {},
   "outputs": [],
   "source": [
    "# np.ones gives you ones instead\n",
    "\n",
    "np.ones(3)"
   ]
  },
  {
   "cell_type": "markdown",
   "id": "introductory-wrist",
   "metadata": {},
   "source": [
    "What if we want a 2-dimensional array? Just change the shape.\n",
    "\n",
    "The x axis is always the last axis in numpy"
   ]
  },
  {
   "cell_type": "code",
   "execution_count": null,
   "id": "collaborative-usage",
   "metadata": {},
   "outputs": [],
   "source": [
    "np.zeros((2, 3))\n",
    "\n",
    "# this ouputs a 2 * 3 array (y*x)"
   ]
  },
  {
   "cell_type": "markdown",
   "id": "indonesian-affect",
   "metadata": {},
   "source": [
    "What if we want a 3- or 4-dimensional array? Just change the shape!"
   ]
  },
  {
   "cell_type": "code",
   "execution_count": null,
   "id": "western-criticism",
   "metadata": {},
   "outputs": [],
   "source": [
    "np.zeros((2, 2, 3))"
   ]
  },
  {
   "cell_type": "code",
   "execution_count": null,
   "id": "thrown-antenna",
   "metadata": {},
   "outputs": [],
   "source": [
    "# 4 dimensions:\n",
    "\n",
    "np.zeros((3, 2, 2, 3, 6, 7))"
   ]
  },
  {
   "cell_type": "markdown",
   "id": "headed-procedure",
   "metadata": {},
   "source": [
    "#### We can make numpy arrays from other python objects like lists and numbers"
   ]
  },
  {
   "cell_type": "code",
   "execution_count": null,
   "id": "polar-furniture",
   "metadata": {
    "scrolled": true
   },
   "outputs": [],
   "source": [
    "list_of_numbers = [2, 3, 4, 8, 10] \n",
    "arr1 = np.array(list_of_numbers)  # just turns list into an array just like that!\n",
    "\n",
    "print(arr1)"
   ]
  },
  {
   "cell_type": "code",
   "execution_count": null,
   "id": "downtown-reservation",
   "metadata": {},
   "outputs": [],
   "source": [
    "#indexing\n",
    "\n",
    "arr1[0]"
   ]
  },
  {
   "cell_type": "code",
   "execution_count": null,
   "id": "entertaining-vegetarian",
   "metadata": {},
   "outputs": [],
   "source": [
    "# slicing\n",
    "\n",
    "arr1[0:3]"
   ]
  },
  {
   "cell_type": "markdown",
   "id": "instructional-chosen",
   "metadata": {},
   "source": [
    "It looks similar to a list, but can do lots of extra cool stuff very quickly"
   ]
  },
  {
   "cell_type": "code",
   "execution_count": null,
   "id": "relevant-extent",
   "metadata": {},
   "outputs": [],
   "source": [
    "# multiplying lists (fails)\n",
    "list_of_numbers * list_of_numbers"
   ]
  },
  {
   "cell_type": "code",
   "execution_count": null,
   "id": "sound-inflation",
   "metadata": {},
   "outputs": [],
   "source": [
    "# multiplying arrays is no problem\n",
    "arr1 * arr1"
   ]
  },
  {
   "cell_type": "code",
   "execution_count": null,
   "id": "bizarre-movement",
   "metadata": {},
   "outputs": [],
   "source": [
    "# multiplying a list with an array works\n",
    "arr1 * list_of_numbers"
   ]
  },
  {
   "cell_type": "code",
   "execution_count": null,
   "id": "olive-accident",
   "metadata": {},
   "outputs": [],
   "source": [
    "# what about with single numbers?\n",
    "arr1 * 8.33"
   ]
  },
  {
   "cell_type": "code",
   "execution_count": null,
   "id": "timely-threshold",
   "metadata": {},
   "outputs": [],
   "source": [
    "# using boolean\n",
    "arr1 * False\n",
    "\n",
    "# numpy is excellent at working with boolean masks. Check out \"np.where\""
   ]
  },
  {
   "cell_type": "markdown",
   "id": "excessive-friendly",
   "metadata": {},
   "source": [
    "----------\n",
    "## Fancy indexing\n",
    "Numpy has a fancy indexing notation for slicing and indexing nulti-dimensional arrays.\n",
    "\n",
    "Let's make a 2D numpy array and start slicing:"
   ]
  },
  {
   "cell_type": "code",
   "execution_count": null,
   "id": "black-spain",
   "metadata": {},
   "outputs": [],
   "source": [
    "arr2 = np.array([[2, 3, 4, 5],\n",
    "                 [9, 5, 1, 2],\n",
    "                 [3, 4, 7, 1]])\n",
    "print(arr2)"
   ]
  },
  {
   "cell_type": "code",
   "execution_count": null,
   "id": "entire-constraint",
   "metadata": {},
   "outputs": [],
   "source": [
    "arr2[0:2, 1:3]\n",
    "\n",
    "# here we grab the y axis values from the 0th to 2nd index, and the x axis values from 1st to 3rd index\n",
    "# we are basically just cropping the array by grabbing a 2D slice"
   ]
  },
  {
   "cell_type": "markdown",
   "id": "sophisticated-carry",
   "metadata": {},
   "source": [
    "## When to use each data type\n",
    "\n",
    "- lists (`list`): use when you want to gather objects together. Use it for strings, numbers, lists, dicts etc.\n",
    "- (numpy) arrays (`np.array`): use when you are dealing with numbers/boolean values, want speed, looking at image data"
   ]
  }
 ],
 "metadata": {
  "kernelspec": {
   "display_name": "Python 3",
   "language": "python",
   "name": "python3"
  },
  "language_info": {
   "codemirror_mode": {
    "name": "ipython",
    "version": 3
   },
   "file_extension": ".py",
   "mimetype": "text/x-python",
   "name": "python",
   "nbconvert_exporter": "python",
   "pygments_lexer": "ipython3",
   "version": "3.9.1"
  }
 },
 "nbformat": 4,
 "nbformat_minor": 5
}
