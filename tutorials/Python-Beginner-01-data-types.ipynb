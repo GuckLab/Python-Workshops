{
 "cells": [
  {
   "cell_type": "markdown",
   "id": "floating-terrorist",
   "metadata": {},
   "source": [
    "# Welcome to the Python course for beginners\n",
    "\n",
    "These notebooks should give you a basic introduction to the Python world, and should help you understand why people keep talking about snakes and pandas.\n",
    "\n",
    "Eoghan O'Connell, Guck Division, MPL, 2021"
   ]
  },
  {
   "cell_type": "code",
   "execution_count": null,
   "id": "young-conjunction",
   "metadata": {},
   "outputs": [],
   "source": [
    "# notebook metadata you can ignore!\n",
    "info = {\"tutorial\": \"basic-data-types\",\n",
    "        \"version\" : \"0.0.2\"}"
   ]
  },
  {
   "cell_type": "markdown",
   "id": "enabling-madrid",
   "metadata": {},
   "source": [
    "### How to use this notebook\n",
    "\n",
    "- Click on a cell (each box is called a cell). Hit \"shift+enter\", this will run the cell!\n",
    "- You can run the cells in any order!\n",
    "- The output of runnable code is printed below the cell.\n",
    "- Check out this [Jupyter Notebook Tutorial video](https://www.youtube.com/watch?v=HW29067qVWk).\n",
    "\n",
    "See the help tab above for more information!\n"
   ]
  },
  {
   "cell_type": "markdown",
   "id": "ahead-adventure",
   "metadata": {},
   "source": [
    "# Basic Data Types in Python\n",
    "#### What is in this notebook?\n",
    "In this tutorial we cover:\n",
    "- Comments in python\n",
    "- Basic Data Types\n",
    "   - Textual data (strings)\n",
    "   - Numbers (integers and floats)\n",
    "   - booleans (True and False)"
   ]
  },
  {
   "cell_type": "markdown",
   "id": "funded-workshop",
   "metadata": {},
   "source": [
    "-----------\n",
    "## Comments\n",
    "Comments are used to describe your code.\n",
    "\n",
    "Anything following a '#' is a comment and is not runnable code."
   ]
  },
  {
   "cell_type": "code",
   "execution_count": null,
   "id": "enclosed-wrapping",
   "metadata": {},
   "outputs": [],
   "source": [
    "# this is a comment"
   ]
  },
  {
   "cell_type": "raw",
   "id": "395367a0",
   "metadata": {},
   "source": [
    "You will also see comments on the same line as code like so:"
   ]
  },
  {
   "cell_type": "code",
   "execution_count": null,
   "id": "cb56ec5c",
   "metadata": {},
   "outputs": [],
   "source": [
    "1 + 2  # that was some code, but I am a comment!"
   ]
  },
  {
   "cell_type": "markdown",
   "id": "narrative-premises",
   "metadata": {},
   "source": [
    "You can write multi-line comments with three double quotes (\"\"\" the comment \"\"\") or three single quotes (''' my comment ''')"
   ]
  },
  {
   "cell_type": "code",
   "execution_count": null,
   "id": "thick-browse",
   "metadata": {},
   "outputs": [],
   "source": [
    "\"\"\"\n",
    "This\n",
    "is a \n",
    "\n",
    "multi-line\n",
    "\n",
    "comment\n",
    "\"\"\""
   ]
  },
  {
   "cell_type": "markdown",
   "id": "velvet-dallas",
   "metadata": {},
   "source": [
    "-----------\n",
    "## Basic data types: strings, numbers, boolean"
   ]
  },
  {
   "cell_type": "markdown",
   "id": "specialized-dream",
   "metadata": {},
   "source": [
    "### Strings (`str`)\n",
    "Strings are textual data. We use them to represent words or any textual information."
   ]
  },
  {
   "cell_type": "markdown",
   "id": "raised-paraguay",
   "metadata": {},
   "source": [
    "We can use single quotes or double quotes to make a string"
   ]
  },
  {
   "cell_type": "code",
   "execution_count": null,
   "id": "proprietary-communications",
   "metadata": {},
   "outputs": [],
   "source": [
    "print(\"This is a string\")\n",
    "print('This is also a string')"
   ]
  },
  {
   "cell_type": "markdown",
   "id": "cordless-optimization",
   "metadata": {},
   "source": [
    "What if I want to put the following into a string: Jona's message"
   ]
  },
  {
   "cell_type": "code",
   "execution_count": null,
   "id": "forbidden-receipt",
   "metadata": {},
   "outputs": [],
   "source": [
    "# this will create an error!\n",
    "\n",
    "'Jona's message'"
   ]
  },
  {
   "cell_type": "markdown",
   "id": "structural-alaska",
   "metadata": {},
   "source": [
    "Instead we use single quotes and double quotes together"
   ]
  },
  {
   "cell_type": "code",
   "execution_count": null,
   "id": "opponent-dragon",
   "metadata": {},
   "outputs": [],
   "source": [
    "\"Jona's message\""
   ]
  },
  {
   "cell_type": "code",
   "execution_count": null,
   "id": "compressed-history",
   "metadata": {},
   "outputs": [],
   "source": [
    "# using the special escape character '\\' will also work, but isn't as clean looking\n",
    "'Jona\\'s message'"
   ]
  },
  {
   "cell_type": "markdown",
   "id": "conventional-password",
   "metadata": {},
   "source": [
    "-----------\n",
    "## Numbers (integer `int` and floating point `float`)\n",
    "Numbers are easy in Python!"
   ]
  },
  {
   "cell_type": "code",
   "execution_count": null,
   "id": "oriental-corrections",
   "metadata": {},
   "outputs": [],
   "source": [
    "# this is an integer\n",
    "3"
   ]
  },
  {
   "cell_type": "code",
   "execution_count": null,
   "id": "built-interpretation",
   "metadata": {},
   "outputs": [],
   "source": [
    "# now let's see a float\n",
    "3.14"
   ]
  },
  {
   "cell_type": "code",
   "execution_count": null,
   "id": "impaired-experiment",
   "metadata": {},
   "outputs": [],
   "source": [
    "# let's add some numbers together\n",
    "3 + 3.14\n",
    "\n",
    "# notice how to output has many trailing zeros! It is called floating point for a reason..."
   ]
  },
  {
   "cell_type": "markdown",
   "id": "deluxe-accordance",
   "metadata": {},
   "source": [
    "#### How to add, divide etc.?\n",
    "\n",
    "- \\+ addition\n",
    "- \\- subtraction (minus)\n",
    "- \\* multiplication\n",
    "- \\/ division\n",
    "- \\// division (but does not include the remainder - round to whole number)\n",
    "- \\% division (but returns the remainder)\n",
    "- \\** exponent/power"
   ]
  },
  {
   "cell_type": "code",
   "execution_count": null,
   "id": "designed-foster",
   "metadata": {},
   "outputs": [],
   "source": [
    "print(9 + 3.1)\n",
    "print(9 - 3.1)\n",
    "print(9 * 3.1)"
   ]
  },
  {
   "cell_type": "code",
   "execution_count": null,
   "id": "sophisticated-crawford",
   "metadata": {
    "scrolled": true
   },
   "outputs": [],
   "source": [
    "print(9 / 4)\n",
    "print(9 // 4)\n",
    "print(9 % 4)\n",
    "print(9 ** 4)"
   ]
  },
  {
   "cell_type": "markdown",
   "id": "consolidated-edgar",
   "metadata": {},
   "source": [
    "-----------\n",
    "## Boolean (`bool`)\n",
    "Boolean values are rather ... polarising :). Boolean arrays are fast and work well with NumPy!\n",
    "\n",
    "They are written as `True` and `False` in Python."
   ]
  },
  {
   "cell_type": "code",
   "execution_count": null,
   "id": "everyday-scott",
   "metadata": {},
   "outputs": [],
   "source": [
    "print(True, False)"
   ]
  },
  {
   "cell_type": "code",
   "execution_count": null,
   "id": "continent-attendance",
   "metadata": {},
   "outputs": [],
   "source": [
    "# check what equals True or False in Python\n",
    "print(1 == True)\n",
    "print(0 == False)"
   ]
  },
  {
   "cell_type": "code",
   "execution_count": null,
   "id": "novel-newark",
   "metadata": {},
   "outputs": [],
   "source": [
    "# what happens when we try True == False?\n",
    "True == False\n",
    "\n",
    "# it is indeed False!"
   ]
  },
  {
   "cell_type": "code",
   "execution_count": null,
   "id": "intended-stewart",
   "metadata": {},
   "outputs": [],
   "source": [
    "# what about adding booleans together?\n",
    "print(True + True)\n",
    "print(True + 5)\n",
    "print(True + 5.45)"
   ]
  },
  {
   "cell_type": "markdown",
   "id": "associate-reality",
   "metadata": {},
   "source": [
    "## When to use each data type\n",
    "\n",
    "Basic data types:\n",
    "- strings (`str`): use when you want to use a word or a sentence\n",
    "- integers (`int`) and floats (`float`): use when you want to use a number\n",
    "- Boolean (`bool`): if your data just has values of `True` or `False`!"
   ]
  }
 ],
 "metadata": {
  "kernelspec": {
   "display_name": "Python 3",
   "language": "python",
   "name": "python3"
  },
  "language_info": {
   "codemirror_mode": {
    "name": "ipython",
    "version": 3
   },
   "file_extension": ".py",
   "mimetype": "text/x-python",
   "name": "python",
   "nbconvert_exporter": "python",
   "pygments_lexer": "ipython3",
   "version": "3.9.1"
  }
 },
 "nbformat": 4,
 "nbformat_minor": 5
}
