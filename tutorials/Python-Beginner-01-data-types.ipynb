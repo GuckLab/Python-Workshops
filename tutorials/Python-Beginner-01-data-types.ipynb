{
 "cells": [
  {
   "cell_type": "markdown",
   "id": "floating-terrorist",
   "metadata": {},
   "source": [
    "# Welcome to the Python course for beginners\n",
    "\n",
    "These notebooks should give you a basic introduction to the Python world, and should help you understand why people keep talking about snakes and pandas.\n",
    "\n",
    "Eoghan O'Connell, Guck Division, MPL, 2021"
   ]
  },
  {
   "cell_type": "code",
   "execution_count": 1,
   "id": "young-conjunction",
   "metadata": {},
   "outputs": [],
   "source": [
    "# notebook metadata you can ignore!\n",
    "info = {\"tutorial\": \"basic-data-types\",\n",
    "        \"version\" : \"0.0.1\"}"
   ]
  },
  {
   "cell_type": "markdown",
   "id": "enabling-madrid",
   "metadata": {},
   "source": [
    "### How to use this notebook\n",
    "\n",
    "- Click on a cell (each box is called a cell). Hit \"shift+enter\", this will run the cell!\n",
    "- You can run the cells in any order!\n",
    "- The output of runnable code is printed below the cell.\n",
    "- Check out the Jupyter Notebook Tutorial video in the repo.\n",
    "\n",
    "See the help tab above for more information!\n"
   ]
  },
  {
   "cell_type": "markdown",
   "id": "ahead-adventure",
   "metadata": {},
   "source": [
    "# Basic Data Types in Python\n",
    "#### What is in this notebook?\n",
    "In this tutorial we cover:\n",
    "- Comments in python\n",
    "- Basic Data Types\n",
    "   - Textual data (strings)\n",
    "   - Numbers (integers and floats)\n",
    "   - booleans (True and False)"
   ]
  },
  {
   "cell_type": "markdown",
   "id": "funded-workshop",
   "metadata": {},
   "source": [
    "-----------\n",
    "## Comments\n",
    "Anything following a '#' is a comment and is not runnable code."
   ]
  },
  {
   "cell_type": "code",
   "execution_count": 4,
   "id": "enclosed-wrapping",
   "metadata": {},
   "outputs": [
    {
     "data": {
      "text/plain": [
       "3"
      ]
     },
     "execution_count": 4,
     "metadata": {},
     "output_type": "execute_result"
    }
   ],
   "source": [
    "# this is a comment\n",
    "# you will also see comments on the same line as code like so:\n",
    "1 + 2  # that was some code, but I am a comment!"
   ]
  },
  {
   "cell_type": "markdown",
   "id": "narrative-premises",
   "metadata": {},
   "source": [
    "You can write multi-line comments with triple quotes (\"\"\" the comment \"\"\") or triple apostrophe (''' my comment ''')"
   ]
  },
  {
   "cell_type": "code",
   "execution_count": 5,
   "id": "thick-browse",
   "metadata": {},
   "outputs": [
    {
     "data": {
      "text/plain": [
       "'\\nThis\\nis a \\n\\nmulti-line\\n\\ncomment\\n'"
      ]
     },
     "execution_count": 5,
     "metadata": {},
     "output_type": "execute_result"
    }
   ],
   "source": [
    "\"\"\"\n",
    "This\n",
    "is a \n",
    "\n",
    "multi-line\n",
    "\n",
    "comment\n",
    "\"\"\""
   ]
  },
  {
   "cell_type": "markdown",
   "id": "velvet-dallas",
   "metadata": {},
   "source": [
    "-----------\n",
    "## Basic data types: strings, numbers, boolean"
   ]
  },
  {
   "cell_type": "markdown",
   "id": "specialized-dream",
   "metadata": {},
   "source": [
    "### Strings (`str`)\n",
    "Strings are textual data. We use them to represent words or any textual information."
   ]
  },
  {
   "cell_type": "markdown",
   "id": "raised-paraguay",
   "metadata": {},
   "source": [
    "We can use single quotes or apostrophes to make a string"
   ]
  },
  {
   "cell_type": "code",
   "execution_count": 6,
   "id": "proprietary-communications",
   "metadata": {},
   "outputs": [
    {
     "data": {
      "text/plain": [
       "'This is a string'"
      ]
     },
     "execution_count": 6,
     "metadata": {},
     "output_type": "execute_result"
    }
   ],
   "source": [
    "\"This is a string\"\n",
    "'This is a string'"
   ]
  },
  {
   "cell_type": "markdown",
   "id": "cordless-optimization",
   "metadata": {},
   "source": [
    "What if I want to put the following into a string: Jona's message"
   ]
  },
  {
   "cell_type": "code",
   "execution_count": 7,
   "id": "forbidden-receipt",
   "metadata": {},
   "outputs": [
    {
     "ename": "SyntaxError",
     "evalue": "invalid syntax (<ipython-input-7-477dc71bc9bd>, line 3)",
     "output_type": "error",
     "traceback": [
      "\u001b[1;36m  File \u001b[1;32m\"<ipython-input-7-477dc71bc9bd>\"\u001b[1;36m, line \u001b[1;32m3\u001b[0m\n\u001b[1;33m    'Jona's message'\u001b[0m\n\u001b[1;37m          ^\u001b[0m\n\u001b[1;31mSyntaxError\u001b[0m\u001b[1;31m:\u001b[0m invalid syntax\n"
     ]
    }
   ],
   "source": [
    "# this will create an error!\n",
    "\n",
    "'Jona's message'"
   ]
  },
  {
   "cell_type": "markdown",
   "id": "structural-alaska",
   "metadata": {},
   "source": [
    "Instead we use quotes and apostrophes together"
   ]
  },
  {
   "cell_type": "code",
   "execution_count": 10,
   "id": "opponent-dragon",
   "metadata": {},
   "outputs": [
    {
     "data": {
      "text/plain": [
       "\"Jona's message\""
      ]
     },
     "execution_count": 10,
     "metadata": {},
     "output_type": "execute_result"
    }
   ],
   "source": [
    "\"Jona's message\""
   ]
  },
  {
   "cell_type": "code",
   "execution_count": 11,
   "id": "compressed-history",
   "metadata": {},
   "outputs": [
    {
     "data": {
      "text/plain": [
       "\"Jona's message\""
      ]
     },
     "execution_count": 11,
     "metadata": {},
     "output_type": "execute_result"
    }
   ],
   "source": [
    "# using the special escape character '\\' will also work, but isn't as clean looking\n",
    "'Jona\\'s message'"
   ]
  },
  {
   "cell_type": "markdown",
   "id": "conventional-password",
   "metadata": {},
   "source": [
    "-----------\n",
    "## Numbers (integer `int` and floating point `float`)\n",
    "Numbers are easy in Python!"
   ]
  },
  {
   "cell_type": "code",
   "execution_count": 12,
   "id": "oriental-corrections",
   "metadata": {},
   "outputs": [
    {
     "data": {
      "text/plain": [
       "3"
      ]
     },
     "execution_count": 12,
     "metadata": {},
     "output_type": "execute_result"
    }
   ],
   "source": [
    "# this is an integer\n",
    "3"
   ]
  },
  {
   "cell_type": "code",
   "execution_count": 13,
   "id": "built-interpretation",
   "metadata": {},
   "outputs": [
    {
     "data": {
      "text/plain": [
       "3.14"
      ]
     },
     "execution_count": 13,
     "metadata": {},
     "output_type": "execute_result"
    }
   ],
   "source": [
    "# now let's see a float\n",
    "3.14"
   ]
  },
  {
   "cell_type": "code",
   "execution_count": 14,
   "id": "impaired-experiment",
   "metadata": {},
   "outputs": [
    {
     "data": {
      "text/plain": [
       "6.140000000000001"
      ]
     },
     "execution_count": 14,
     "metadata": {},
     "output_type": "execute_result"
    }
   ],
   "source": [
    "# let's add some numbers together\n",
    "3 + 3.14\n",
    "\n",
    "# notice how to output has many trailing zeros! It is called floating point for a number..."
   ]
  },
  {
   "cell_type": "markdown",
   "id": "deluxe-accordance",
   "metadata": {},
   "source": [
    "#### How to add, divide etc.?\n",
    "\n",
    "- \\+ addition\n",
    "- \\- subtraction (minus)\n",
    "- \\* multiplication\n",
    "- \\/ division\n",
    "- \\// division (but does not include the remainder - round to whole number)\n",
    "- \\% division (but returns the remainder)\n",
    "- \\** exponent/power"
   ]
  },
  {
   "cell_type": "code",
   "execution_count": 15,
   "id": "designed-foster",
   "metadata": {},
   "outputs": [
    {
     "name": "stdout",
     "output_type": "stream",
     "text": [
      "12.1\n",
      "5.9\n",
      "27.900000000000002\n"
     ]
    }
   ],
   "source": [
    "print(9 + 3.1)\n",
    "print(9 - 3.1)\n",
    "print(9 * 3.1)"
   ]
  },
  {
   "cell_type": "code",
   "execution_count": 19,
   "id": "sophisticated-crawford",
   "metadata": {
    "scrolled": true
   },
   "outputs": [
    {
     "name": "stdout",
     "output_type": "stream",
     "text": [
      "2.903225806451613\n",
      "2.0\n",
      "2.8\n",
      "908.1378549797123\n"
     ]
    }
   ],
   "source": [
    "print(9 / 3.1)\n",
    "print(9 // 3.1)\n",
    "print(9 % 3.1)\n",
    "print(9 ** 3.1)"
   ]
  },
  {
   "cell_type": "markdown",
   "id": "consolidated-edgar",
   "metadata": {},
   "source": [
    "-----------\n",
    "## Boolean (`bool`)\n",
    "Boolean values are rather ... polarising :). Boolean arrays are fast and work well with NumPy!\n",
    "\n",
    "They are written as `True` and `False` in Python."
   ]
  },
  {
   "cell_type": "code",
   "execution_count": 20,
   "id": "everyday-scott",
   "metadata": {},
   "outputs": [
    {
     "name": "stdout",
     "output_type": "stream",
     "text": [
      "True False\n"
     ]
    }
   ],
   "source": [
    "print(True, False)"
   ]
  },
  {
   "cell_type": "code",
   "execution_count": 21,
   "id": "continent-attendance",
   "metadata": {},
   "outputs": [
    {
     "name": "stdout",
     "output_type": "stream",
     "text": [
      "True\n",
      "True\n"
     ]
    }
   ],
   "source": [
    "# check what equals True or False in Python\n",
    "print(1 == True)\n",
    "print(0 == False)"
   ]
  },
  {
   "cell_type": "code",
   "execution_count": 22,
   "id": "novel-newark",
   "metadata": {},
   "outputs": [
    {
     "data": {
      "text/plain": [
       "False"
      ]
     },
     "execution_count": 22,
     "metadata": {},
     "output_type": "execute_result"
    }
   ],
   "source": [
    "# what happens when we try True == False?\n",
    "True == False\n",
    "\n",
    "# it is indeed False!"
   ]
  },
  {
   "cell_type": "code",
   "execution_count": 25,
   "id": "intended-stewart",
   "metadata": {},
   "outputs": [
    {
     "name": "stdout",
     "output_type": "stream",
     "text": [
      "2\n",
      "6\n",
      "6.45\n"
     ]
    }
   ],
   "source": [
    "# what about adding booleans together?\n",
    "print(True + True)\n",
    "print(True + 5)\n",
    "print(True + 5.45)"
   ]
  },
  {
   "cell_type": "markdown",
   "id": "associate-reality",
   "metadata": {},
   "source": [
    "## When to use each data type\n",
    "\n",
    "Basic data types:\n",
    "- strings (`str`): use when you want to use a word or a sentence\n",
    "- integers (`int`) and floats (`float`): use when you want to use a number\n",
    "- Boolean (`bool`): if your data just has values of `True` or `False`!"
   ]
  },
  {
   "cell_type": "code",
   "execution_count": null,
   "id": "stable-sampling",
   "metadata": {},
   "outputs": [],
   "source": [
    "int(3.14)"
   ]
  }
 ],
 "metadata": {
  "kernelspec": {
   "display_name": "Python 3",
   "language": "python",
   "name": "python3"
  },
  "language_info": {
   "codemirror_mode": {
    "name": "ipython",
    "version": 3
   },
   "file_extension": ".py",
   "mimetype": "text/x-python",
   "name": "python",
   "nbconvert_exporter": "python",
   "pygments_lexer": "ipython3",
   "version": "3.8.5"
  }
 },
 "nbformat": 4,
 "nbformat_minor": 5
}
