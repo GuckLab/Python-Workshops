{
 "cells": [
  {
   "cell_type": "markdown",
   "id": "hungarian-senate",
   "metadata": {},
   "source": [
    "# Welcome to the Python course for beginners\n",
    "\n",
    "These notebooks should give you a basic introduction to the Python world, and should help you understand why people keep talking about snakes and pandas.\n",
    "\n",
    "Eoghan O'Connell, Guck Division, MPL, 2021"
   ]
  },
  {
   "cell_type": "code",
   "execution_count": 31,
   "id": "governmental-mustang",
   "metadata": {},
   "outputs": [],
   "source": [
    "# notebook metadata you can ignore!\n",
    "info = {\"tutorial\": \"basic-containers\",\n",
    "        \"version\" : \"0.0.1\"}"
   ]
  },
  {
   "cell_type": "markdown",
   "id": "recognized-prize",
   "metadata": {},
   "source": [
    "### How to use this notebook\n",
    "\n",
    "- Click on a cell (each box is called a cell). hit \"shift+enter\"\n",
    "- You can run the cells in any order!\n",
    "- The output of runnable code is printed below the cell.\n",
    "- Check out the Jupyter Notebook Tutorial video in the repo.\n",
    "\n",
    "See the help tab above for more information!\n"
   ]
  },
  {
   "cell_type": "markdown",
   "id": "documented-ultimate",
   "metadata": {},
   "source": [
    "# Built-in containers in Python\n",
    "#### What is in this notebook?\n",
    "In this tutorial we cover:\n",
    "- Lists\n",
    "- Dictionaries\n",
    "\n",
    "Other built-in containers that we don't cover:\n",
    "- Tuples (similar to lists but use () brackets)\n",
    "- Sets (similar to lists but allows no duplicates)\n",
    "\n",
    "#### What is a container?\n",
    "A container is just an object that holds other objects. Lists and dictionaries are two such objects. They can hold other data types such as strings, numbers, bool, and even other containers. So you can have lists with lists in them!"
   ]
  },
  {
   "cell_type": "markdown",
   "id": "approved-affiliation",
   "metadata": {},
   "source": [
    "-------------------------\n",
    "## Lists (`list`)\n",
    "You can imagine a list as, well, a list of things (like a shopping list)! Let's start with that example.\n",
    "- A list is created with square brackets '[]'\n",
    "- Each item in the list is separated from the next with a comma ','"
   ]
  },
  {
   "cell_type": "code",
   "execution_count": 32,
   "id": "bizarre-wealth",
   "metadata": {},
   "outputs": [
    {
     "data": {
      "text/plain": [
       "['oranges', 'bread', 'spargel']"
      ]
     },
     "execution_count": 32,
     "metadata": {},
     "output_type": "execute_result"
    }
   ],
   "source": [
    "[\"oranges\", \"bread\", \"spargel\"]"
   ]
  },
  {
   "cell_type": "markdown",
   "id": "cardiac-potter",
   "metadata": {},
   "source": [
    "As you can see above, this list is a fake shopping list of food items. It is just made of three strings.\n",
    "\n",
    "A list can hold any other data type(s):"
   ]
  },
  {
   "cell_type": "code",
   "execution_count": 1,
   "id": "initial-purpose",
   "metadata": {},
   "outputs": [
    {
     "data": {
      "text/plain": [
       "['bread', 42, 3.14, True]"
      ]
     },
     "execution_count": 1,
     "metadata": {},
     "output_type": "execute_result"
    }
   ],
   "source": [
    "[\"bread\", 42, 3.14, True]"
   ]
  },
  {
   "cell_type": "markdown",
   "id": "devoted-sacramento",
   "metadata": {},
   "source": [
    "We can put lists in lists..."
   ]
  },
  {
   "cell_type": "code",
   "execution_count": 2,
   "id": "driving-stock",
   "metadata": {},
   "outputs": [
    {
     "data": {
      "text/plain": [
       "['outer list', ['inner list']]"
      ]
     },
     "execution_count": 2,
     "metadata": {},
     "output_type": "execute_result"
    }
   ],
   "source": [
    "[\"outer list\", [\"inner list\"]]"
   ]
  },
  {
   "cell_type": "code",
   "execution_count": 3,
   "id": "hollywood-divorce",
   "metadata": {},
   "outputs": [
    {
     "data": {
      "text/plain": [
       "['outer list', ['inner list 1', ['inner list 2', ['inner list 3']]]]"
      ]
     },
     "execution_count": 3,
     "metadata": {},
     "output_type": "execute_result"
    }
   ],
   "source": [
    "# we can even put lists in lists in lists ... but this isn't so common and can get confusing.\n",
    "[\"outer list\", [\"inner list 1\", [\"inner list 2\", [\"inner list 3\"]]]]"
   ]
  },
  {
   "cell_type": "markdown",
   "id": "mental-hardware",
   "metadata": {},
   "source": [
    "-----------\n",
    "## Dictionaries (`dict`)\n",
    "You can imagine a dict as an actual dictionary. Each word (key) in the dictionary has a corresponding description (value).\n",
    "- Dictionaries are created with the curly brackets '{}'\n",
    "- Each item is separated with a comma ','\n",
    "- each key:value pair is separated with a colon ':'\n",
    "- Dictionaries contain keys and values. Each key has a value, just like in an actual dictionary. When starting out, it's best to keep the keys as strings, while the values can be anything."
   ]
  },
  {
   "cell_type": "markdown",
   "id": "driven-identifier",
   "metadata": {},
   "source": [
    "We want to show how many of each shopping item we need. Dictionaries would be good for this!"
   ]
  },
  {
   "cell_type": "code",
   "execution_count": 4,
   "id": "offensive-match",
   "metadata": {},
   "outputs": [
    {
     "data": {
      "text/plain": [
       "{'oranges': 4, 'bread': 1, 'spargel': 2}"
      ]
     },
     "execution_count": 4,
     "metadata": {},
     "output_type": "execute_result"
    }
   ],
   "source": [
    "# this was our (shoping) list:\n",
    "[\"oranges\", \"bread\", \"spargel\"]\n",
    "\n",
    "# this would be our dictionary:\n",
    "{\"oranges\": 4, \"bread\": 1, \"spargel\": 2}\n",
    "\n",
    "# we want 4 oranges, 1 bread, and 2 spargel"
   ]
  },
  {
   "cell_type": "markdown",
   "id": "compatible-daughter",
   "metadata": {},
   "source": [
    "Of course dictionaries are not limited to strings and integers! The keys can be most data types, while the values can contain any other data type."
   ]
  },
  {
   "cell_type": "code",
   "execution_count": 6,
   "id": "important-majority",
   "metadata": {},
   "outputs": [
    {
     "data": {
      "text/plain": [
       "{42: 'the answer', 'True?': True, 'my list': ['this', 'is', 'a', 'list']}"
      ]
     },
     "execution_count": 6,
     "metadata": {},
     "output_type": "execute_result"
    }
   ],
   "source": [
    "{42: \"the answer\", \"True?\": True, \"my list\": [\"this\", \"is\", \"a\", \"list\"]}"
   ]
  },
  {
   "cell_type": "markdown",
   "id": "loving-montana",
   "metadata": {},
   "source": [
    "Dictionaries can be written in a more readable way like so:"
   ]
  },
  {
   "cell_type": "code",
   "execution_count": 7,
   "id": "intermediate-roulette",
   "metadata": {},
   "outputs": [
    {
     "data": {
      "text/plain": [
       "{'number1': 12, 'number2': 56, 'number3': 3.14, 'number4': 18}"
      ]
     },
     "execution_count": 7,
     "metadata": {},
     "output_type": "execute_result"
    }
   ],
   "source": [
    "{\"number1\": 12,\n",
    " \"number2\": 56,\n",
    " \"number3\": 3.14,\n",
    " \"number4\": 18,}"
   ]
  },
  {
   "cell_type": "markdown",
   "id": "complete-virginia",
   "metadata": {},
   "source": [
    "## When to use each data type\n",
    "\n",
    "Containers\n",
    "- lists (`list`): use when you want to gather objects together\n",
    "- dictionaries (`dict`): use when each key(word) has a value or several values.\n",
    "\n",
    "- *not covered*: tuples (`tuple`): use when you want a list but the data shouldn't be changeable in-place\n",
    "- *not covered*: sets (`set`): use when you want a list but do not want duplicates (useful for removing duplicates from lists!)\n"
   ]
  },
  {
   "cell_type": "code",
   "execution_count": null,
   "id": "indian-surprise",
   "metadata": {},
   "outputs": [],
   "source": []
  }
 ],
 "metadata": {
  "kernelspec": {
   "display_name": "Python 3",
   "language": "python",
   "name": "python3"
  },
  "language_info": {
   "codemirror_mode": {
    "name": "ipython",
    "version": 3
   },
   "file_extension": ".py",
   "mimetype": "text/x-python",
   "name": "python",
   "nbconvert_exporter": "python",
   "pygments_lexer": "ipython3",
   "version": "3.8.5"
  }
 },
 "nbformat": 4,
 "nbformat_minor": 5
}
