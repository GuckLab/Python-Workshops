{
 "cells": [
  {
   "cell_type": "markdown",
   "id": "stretch-designation",
   "metadata": {},
   "source": [
    "# Welcome to the Python course for beginners\n",
    "\n",
    "These notebooks should give you a basic introduction to the Python world, and should help you understand why people keep talking about snakes and pandas.\n",
    "\n",
    "Eoghan O'Connell, Guck Division, MPL, 2021"
   ]
  },
  {
   "cell_type": "code",
   "execution_count": 95,
   "id": "abandoned-confirmation",
   "metadata": {},
   "outputs": [],
   "source": [
    "# notebook metadata you can ignore!\n",
    "info = {\"tutorial\": \"basic-variables\",\n",
    "        \"version\" : \"0.0.1\"}"
   ]
  },
  {
   "cell_type": "markdown",
   "id": "skilled-kentucky",
   "metadata": {},
   "source": [
    "### How to use this notebook\n",
    "\n",
    "- Click on a cell (each box is called a cell). hit \"shift+enter\"\n",
    "- You can run the cells in any order!\n",
    "- The output of runnable code is printed below the cell.\n",
    "- Check out the Jupyter Notebook Tutorial video in the repo.\n",
    "\n",
    "See the help tab above for more information!\n"
   ]
  },
  {
   "cell_type": "markdown",
   "id": "collect-explorer",
   "metadata": {},
   "source": [
    "-------------\n",
    "# Variables in Python\n",
    "#### What is in this notebook?\n",
    "In this tutorial we cover:\n",
    "- What is a variable?\n",
    "- Using variables for different data types\n",
    "   - indexing and slicing strings and lists\n",
    "- Good and bad variable names"
   ]
  },
  {
   "cell_type": "markdown",
   "id": "necessary-stationery",
   "metadata": {},
   "source": [
    "#### What is a variable?\n",
    "A variable is a place to store data, such as a number, a string, a list, a function, a class, a module etc.\n",
    "\n",
    "They can be reused, which makes life a lot easier for us!\n",
    "\n",
    "Let's look at a simple example..."
   ]
  },
  {
   "cell_type": "code",
   "execution_count": 96,
   "id": "forward-lingerie",
   "metadata": {},
   "outputs": [
    {
     "name": "stdout",
     "output_type": "stream",
     "text": [
      "120.01344\n"
     ]
    }
   ],
   "source": [
    "# imagine we want to create a calculation that reuses an input value many times.\n",
    "# We define this value at the start and assign it to a variable with the equals sign: '='\n",
    "value = 5\n",
    "\n",
    "# we then define our complicated calculation that uses this value:\n",
    "# the result of this calculation is assigned to the variable \"answer\":\n",
    "answer = (42/value ** value) + (value + (value * 23))\n",
    "\n",
    "# print out the answer to see it!\n",
    "print(answer)"
   ]
  },
  {
   "cell_type": "markdown",
   "id": "fleet-director",
   "metadata": {},
   "source": [
    "Now imagine you want to change the input value. This is easy, we just change the 5 above to some other number! Try it out.\n",
    "\n",
    "If we had not set this variable, this process would become tedious. You would have to change the number 5 below so many times."
   ]
  },
  {
   "cell_type": "code",
   "execution_count": 97,
   "id": "photographic-smith",
   "metadata": {},
   "outputs": [],
   "source": [
    "# example without using a variable for the input value\n",
    "\n",
    "answer = (42/5 ** 5) + (5 + (5 * 23))"
   ]
  },
  {
   "cell_type": "markdown",
   "id": "wicked-forwarding",
   "metadata": {},
   "source": [
    "## Using variables for different data types\n",
    "Python makes this easy. You just use the equals '=' sign to assign any data/data type to the variable.\n",
    "\n",
    "Here are some examples for different data types:"
   ]
  },
  {
   "cell_type": "code",
   "execution_count": 98,
   "id": "taken-brunswick",
   "metadata": {},
   "outputs": [],
   "source": [
    "message = \"this is a string\"\n",
    "my_number1 = 42\n",
    "my_number2 = 3.14\n",
    "shopping_list = [\"oranges\", \"bread\", \"spargel\"]\n",
    "shopping_dict = {\"oranges\": 4, \"bread\": 1, \"spargel\": 2}"
   ]
  },
  {
   "cell_type": "code",
   "execution_count": 99,
   "id": "color-hollow",
   "metadata": {},
   "outputs": [
    {
     "name": "stdout",
     "output_type": "stream",
     "text": [
      "45.14\n",
      "oranges\n"
     ]
    }
   ],
   "source": [
    "# these variables are now useable in this Python instance (until you restart this notebook!)\n",
    "print(my_number1 + my_number2)\n",
    "print(shopping_list[0])  # will print out \"oranges\""
   ]
  },
  {
   "cell_type": "markdown",
   "id": "formed-transaction",
   "metadata": {},
   "source": [
    "-----------\n",
    "### Strings\n",
    "Here we will see how to:\n",
    "- assign a string\n",
    "- index a string (get a character in the string).\n",
    "   - NB: indexing in python starts at 0\n",
    "- slice a string (get a part of the string)"
   ]
  },
  {
   "cell_type": "code",
   "execution_count": 100,
   "id": "fuzzy-apache",
   "metadata": {},
   "outputs": [
    {
     "name": "stdout",
     "output_type": "stream",
     "text": [
      "hello world\n"
     ]
    }
   ],
   "source": [
    "message = \"hello world\"\n",
    "print(message)"
   ]
  },
  {
   "cell_type": "code",
   "execution_count": 101,
   "id": "recreational-henry",
   "metadata": {},
   "outputs": [
    {
     "data": {
      "text/plain": [
       "11"
      ]
     },
     "execution_count": 101,
     "metadata": {},
     "output_type": "execute_result"
    }
   ],
   "source": [
    "# each string has a length, notice that it returns a number!\n",
    "len(message)"
   ]
  },
  {
   "cell_type": "markdown",
   "id": "reserved-observation",
   "metadata": {},
   "source": [
    "Indexing the string - get a character in the string"
   ]
  },
  {
   "cell_type": "code",
   "execution_count": 102,
   "id": "familiar-puppy",
   "metadata": {},
   "outputs": [
    {
     "name": "stdout",
     "output_type": "stream",
     "text": [
      "h\n",
      "e\n",
      "l\n"
     ]
    }
   ],
   "source": [
    "# indexing: gives you the letter at that index. Indexing starts at 0\n",
    "print(message[0])\n",
    "print(message[1])\n",
    "print(message[2])"
   ]
  },
  {
   "cell_type": "code",
   "execution_count": 103,
   "id": "gentle-surgery",
   "metadata": {},
   "outputs": [
    {
     "data": {
      "text/plain": [
       "'d'"
      ]
     },
     "execution_count": 103,
     "metadata": {},
     "output_type": "execute_result"
    }
   ],
   "source": [
    "# negative indexing starts from the end of the string\n",
    "message[-1]"
   ]
  },
  {
   "cell_type": "code",
   "execution_count": 104,
   "id": "stock-voluntary",
   "metadata": {},
   "outputs": [
    {
     "name": "stdout",
     "output_type": "stream",
     "text": [
      "h\n"
     ]
    }
   ],
   "source": [
    "# assigning this indexed string to a new variable will be a string!\n",
    "message_indexed = message[0]\n",
    "print(message_indexed)"
   ]
  },
  {
   "cell_type": "markdown",
   "id": "adjustable-topic",
   "metadata": {},
   "source": [
    "Slicing the string - get a part of the string"
   ]
  },
  {
   "cell_type": "code",
   "execution_count": 105,
   "id": "registered-dover",
   "metadata": {},
   "outputs": [
    {
     "data": {
      "text/plain": [
       "'hello'"
      ]
     },
     "execution_count": 105,
     "metadata": {},
     "output_type": "execute_result"
    }
   ],
   "source": [
    "# slicing: allows you to slice the string between two indexes\n",
    "# from first index up to second index (but not including the second index!)\n",
    "\n",
    "message[0:5]"
   ]
  },
  {
   "cell_type": "code",
   "execution_count": 106,
   "id": "satellite-discovery",
   "metadata": {},
   "outputs": [
    {
     "name": "stdout",
     "output_type": "stream",
     "text": [
      "hel\n",
      "world\n"
     ]
    }
   ],
   "source": [
    "# leaving one index empty just means the slice will go to the start/end of the string.\n",
    "\n",
    "print(message[:3])\n",
    "print(message[6:])"
   ]
  },
  {
   "cell_type": "code",
   "execution_count": 107,
   "id": "stable-blake",
   "metadata": {},
   "outputs": [
    {
     "data": {
      "text/plain": [
       "'world'"
      ]
     },
     "execution_count": 107,
     "metadata": {},
     "output_type": "execute_result"
    }
   ],
   "source": [
    "# negative indexes work here too\n",
    "\n",
    "message[-5:]"
   ]
  },
  {
   "cell_type": "markdown",
   "id": "outer-furniture",
   "metadata": {},
   "source": [
    "Let's look at an actual example. You want to get the experiment number from a filename."
   ]
  },
  {
   "cell_type": "code",
   "execution_count": 108,
   "id": "extra-credit",
   "metadata": {},
   "outputs": [
    {
     "name": "stdout",
     "output_type": "stream",
     "text": [
      "001\n"
     ]
    }
   ],
   "source": [
    "file_name = \"001_experiment.rtdc\"\n",
    "\n",
    "# you want to get the number of the filename\n",
    "file_number = file_name[:3]\n",
    "\n",
    "print(file_number)"
   ]
  },
  {
   "cell_type": "markdown",
   "id": "aware-tablet",
   "metadata": {},
   "source": [
    "-----------\n",
    "### Numbers\n",
    "Here we will see how to:\n",
    "- assign a number (`int` and `float`)"
   ]
  },
  {
   "cell_type": "code",
   "execution_count": 109,
   "id": "negative-hamburg",
   "metadata": {},
   "outputs": [
    {
     "name": "stdout",
     "output_type": "stream",
     "text": [
      "3.14\n"
     ]
    }
   ],
   "source": [
    "# what about variables for numbers? They are the exact same!\n",
    "power_value = 4\n",
    "\n",
    "value_of_pi = 3.14\n",
    "\n",
    "print(value_of_pi)"
   ]
  },
  {
   "cell_type": "code",
   "execution_count": 110,
   "id": "classified-cambridge",
   "metadata": {},
   "outputs": [
    {
     "data": {
      "text/plain": [
       "97.21171216000002"
      ]
     },
     "execution_count": 110,
     "metadata": {},
     "output_type": "execute_result"
    }
   ],
   "source": [
    "# we can use these variables together\n",
    "value_of_pi ** power_value"
   ]
  },
  {
   "cell_type": "markdown",
   "id": "burning-scope",
   "metadata": {},
   "source": [
    "-----------\n",
    "### Lists\n",
    "Here we will see how to:\n",
    "- assign a list\n",
    "- index a list (get an element from the list).\n",
    "   - NB: indexing in python starts at 0\n",
    "- slice a list (get one or more elements of the list)"
   ]
  },
  {
   "cell_type": "code",
   "execution_count": 111,
   "id": "studied-concentration",
   "metadata": {},
   "outputs": [
    {
     "name": "stdout",
     "output_type": "stream",
     "text": [
      "['green', 'blue', 'red', 'cyan']\n"
     ]
    }
   ],
   "source": [
    "colour_list = [\"green\", \"blue\", \"red\", \"cyan\"]\n",
    "\n",
    "print(colour_list)"
   ]
  },
  {
   "cell_type": "markdown",
   "id": "ultimate-patient",
   "metadata": {},
   "source": [
    "We can index and slice lists too!"
   ]
  },
  {
   "cell_type": "code",
   "execution_count": 112,
   "id": "indian-thermal",
   "metadata": {
    "scrolled": true
   },
   "outputs": [
    {
     "name": "stdout",
     "output_type": "stream",
     "text": [
      "green\n",
      "blue\n",
      "red\n"
     ]
    }
   ],
   "source": [
    "# indexing\n",
    "print(colour_list[0])\n",
    "print(colour_list[1])\n",
    "print(colour_list[2])"
   ]
  },
  {
   "cell_type": "code",
   "execution_count": 113,
   "id": "miniature-prisoner",
   "metadata": {},
   "outputs": [
    {
     "name": "stdout",
     "output_type": "stream",
     "text": [
      "blue\n"
     ]
    }
   ],
   "source": [
    "colour1 = colour_list[1]\n",
    "\n",
    "print(colour1)"
   ]
  },
  {
   "cell_type": "code",
   "execution_count": 114,
   "id": "imported-shepherd",
   "metadata": {},
   "outputs": [
    {
     "name": "stdout",
     "output_type": "stream",
     "text": [
      "['blue', 'red']\n"
     ]
    }
   ],
   "source": [
    "# slicing\n",
    "\n",
    "print(colour_list[1:3])"
   ]
  },
  {
   "cell_type": "code",
   "execution_count": 115,
   "id": "forward-preference",
   "metadata": {},
   "outputs": [
    {
     "name": "stdout",
     "output_type": "stream",
     "text": [
      "['green', 'blue']\n"
     ]
    }
   ],
   "source": [
    "# notice how the sliced list returns a list!\n",
    "colour_slice1 = colour_list[:2]\n",
    "\n",
    "print(colour_slice1)"
   ]
  },
  {
   "cell_type": "markdown",
   "id": "homeless-weapon",
   "metadata": {},
   "source": [
    "Let's look at an actual example, similar to the one above. You want to get the experiment number from several file names."
   ]
  },
  {
   "cell_type": "code",
   "execution_count": 116,
   "id": "stuffed-trash",
   "metadata": {},
   "outputs": [
    {
     "name": "stdout",
     "output_type": "stream",
     "text": [
      "001_experiment.rtdc\n",
      "['002_experiment.rtdc', '003_experiment.rtdc']\n"
     ]
    }
   ],
   "source": [
    "file_names = [\"001_experiment.rtdc\",\n",
    "             \"002_experiment.rtdc\",\n",
    "             \"003_experiment.rtdc\",]\n",
    "\n",
    "# you can look at the first filename by indexing\n",
    "print(file_names[0])\n",
    "\n",
    "# you can look at several by slicing\n",
    "print(file_names[1:])"
   ]
  },
  {
   "cell_type": "code",
   "execution_count": 117,
   "id": "laden-period",
   "metadata": {},
   "outputs": [
    {
     "name": "stdout",
     "output_type": "stream",
     "text": [
      "001\n",
      "002\n",
      "003\n"
     ]
    }
   ],
   "source": [
    "# get the numbers from the filenames by using a simple loop. Check out the Loops tutorial!\n",
    "for name in file_names:\n",
    "    # name is now just a string\n",
    "    # when we slice it, we are slicing the string\n",
    "    print(name[:3])"
   ]
  },
  {
   "cell_type": "markdown",
   "id": "alone-queue",
   "metadata": {},
   "source": [
    "-----------\n",
    "### Dictionaries\n",
    "Here we will see how to:\n",
    "- assign a dict\n",
    "- index a dict (get an item from the dict).\n",
    "   - NB: indexing in python starts at 0\n",
    "- *not covered* iterate over a dictionary to access each key:value pair"
   ]
  },
  {
   "cell_type": "code",
   "execution_count": 118,
   "id": "bright-annex",
   "metadata": {},
   "outputs": [
    {
     "name": "stdout",
     "output_type": "stream",
     "text": [
      "{'key1': 7, 'key2': 3.14, 'key3': 'message'}\n"
     ]
    }
   ],
   "source": [
    "my_dict = {\"key1\": 7,\n",
    "           \"key2\": 3.14,\n",
    "           \"key3\": \"message\"}\n",
    "\n",
    "print(my_dict)"
   ]
  },
  {
   "cell_type": "code",
   "execution_count": 119,
   "id": "architectural-polyester",
   "metadata": {},
   "outputs": [
    {
     "data": {
      "text/plain": [
       "7"
      ]
     },
     "execution_count": 119,
     "metadata": {},
     "output_type": "execute_result"
    }
   ],
   "source": [
    "# index the dict with the key\n",
    "\n",
    "my_dict[\"key1\"]"
   ]
  },
  {
   "cell_type": "code",
   "execution_count": 120,
   "id": "ahead-rendering",
   "metadata": {},
   "outputs": [
    {
     "ename": "KeyError",
     "evalue": "0",
     "output_type": "error",
     "traceback": [
      "\u001b[1;31m---------------------------------------------------------------------------\u001b[0m",
      "\u001b[1;31mKeyError\u001b[0m                                  Traceback (most recent call last)",
      "\u001b[1;32m<ipython-input-120-bb94f4759ee9>\u001b[0m in \u001b[0;36m<module>\u001b[1;34m\u001b[0m\n\u001b[0;32m      1\u001b[0m \u001b[1;31m# index the dict with a number will not work!\u001b[0m\u001b[1;33m\u001b[0m\u001b[1;33m\u001b[0m\u001b[1;33m\u001b[0m\u001b[0m\n\u001b[0;32m      2\u001b[0m \u001b[1;33m\u001b[0m\u001b[0m\n\u001b[1;32m----> 3\u001b[1;33m \u001b[0mmy_dict\u001b[0m\u001b[1;33m[\u001b[0m\u001b[1;36m0\u001b[0m\u001b[1;33m]\u001b[0m\u001b[1;33m\u001b[0m\u001b[1;33m\u001b[0m\u001b[0m\n\u001b[0m",
      "\u001b[1;31mKeyError\u001b[0m: 0"
     ]
    }
   ],
   "source": [
    "# index the dict with a number will not work!\n",
    "\n",
    "my_dict[0]"
   ]
  },
  {
   "cell_type": "markdown",
   "id": "medical-shoulder",
   "metadata": {},
   "source": [
    "------\n",
    "### Good and Bad Variable names\n",
    "\n",
    "There are good and bad variable names. You will learn what is good or bad over time, but here is an introduction:"
   ]
  },
  {
   "cell_type": "markdown",
   "id": "confused-amber",
   "metadata": {},
   "source": [
    "Some variable names **should not be used**:\n",
    "- Do not use keywords that are already used by python: float, int, str, dict, list, array etc.\n",
    "\n",
    "Some variable names are ambiguous:\n",
    "- Try not to use \"string\" for a string.\n",
    "\n",
    "Always try to name variables so that they make sense to someone else reading your code. You can use comments, but most of the time you shouldn't need to describe why you named a variable! "
   ]
  }
 ],
 "metadata": {
  "kernelspec": {
   "display_name": "Python 3",
   "language": "python",
   "name": "python3"
  },
  "language_info": {
   "codemirror_mode": {
    "name": "ipython",
    "version": 3
   },
   "file_extension": ".py",
   "mimetype": "text/x-python",
   "name": "python",
   "nbconvert_exporter": "python",
   "pygments_lexer": "ipython3",
   "version": "3.8.5"
  }
 },
 "nbformat": 4,
 "nbformat_minor": 5
}
